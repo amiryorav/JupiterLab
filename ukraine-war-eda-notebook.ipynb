{
 "cells": [
  {
   "cell_type": "markdown",
   "id": "ad55189b",
   "metadata": {
    "papermill": {
     "duration": 0.005351,
     "end_time": "2022-11-06T14:47:22.714437",
     "exception": false,
     "start_time": "2022-11-06T14:47:22.709086",
     "status": "completed"
    },
    "tags": []
   },
   "source": [
    "# Ukraine War Losses of Russian Army"
   ]
  },
  {
   "cell_type": "markdown",
   "id": "b18b8db5",
   "metadata": {
    "papermill": {
     "duration": 0.00395,
     "end_time": "2022-11-06T14:47:22.722813",
     "exception": false,
     "start_time": "2022-11-06T14:47:22.718863",
     "status": "completed"
    },
    "tags": []
   },
   "source": [
    "In this notebook I have analized Russian losses in this war. I am against this war and I condem everything Russians do. I was also affected by it and I saw the shelling of Kharkiv with my own eyes. Support Ukraine army and Ukraine volunteers, together we are stronger. SLAVA UKRAINI (glory to Ukraine). "
   ]
  },
  {
   "cell_type": "code",
   "execution_count": 1,
   "id": "e1ca77b0",
   "metadata": {
    "_cell_guid": "b1076dfc-b9ad-4769-8c92-a6c4dae69d19",
    "_uuid": "8f2839f25d086af736a60e9eeb907d3b93b6e0e5",
    "papermill": {
     "duration": 57.253196,
     "end_time": "2022-11-06T14:48:19.980245",
     "exception": false,
     "start_time": "2022-11-06T14:47:22.727049",
     "status": "completed"
    },
    "tags": []
   },
   "outputs": [
    {
     "name": "stderr",
     "output_type": "stream",
     "text": [
      "\n",
      "Usage:   \n",
      "  pip install [options] <requirement specifier> [package-index-options] ...\n",
      "  pip install [options] -r <requirements file> [package-index-options] ...\n",
      "  pip install [options] [-e] <vcs project url> ...\n",
      "  pip install [options] [-e] <local project path> ...\n",
      "  pip install [options] <archive url/path> ...\n",
      "\n",
      "no such option: --root-user-action\n"
     ]
    }
   ],
   "source": [
    "!pip install plotly --upgrade --quiet --root-user-action=ignore\n",
    "import numpy as np\n",
    "import pandas as pd\n",
    "import matplotlib.pyplot as plt\n",
    "import plotly.express as px\n",
    "import plotly.io as pio\n",
    "from plotly.subplots import make_subplots\n",
    "import plotly.graph_objects as go\n",
    "pio.templates.default = 'plotly_dark'\n",
    "color_theme = px.colors.qualitative.Antique\n",
    "pd.options.mode.chained_assignment = None "
   ]
  },
  {
   "cell_type": "code",
   "execution_count": 2,
   "id": "ae00c2fc",
   "metadata": {
    "papermill": {
     "duration": 0.04506,
     "end_time": "2022-11-06T14:48:20.030827",
     "exception": false,
     "start_time": "2022-11-06T14:48:19.985767",
     "status": "completed"
    },
    "tags": []
   },
   "outputs": [
    {
     "ename": "FileNotFoundError",
     "evalue": "[Errno 2] No such file or directory: '../input/2022-ukraine-russian-war/russia_losses_personnel.csv'",
     "output_type": "error",
     "traceback": [
      "\u001b[1;31m---------------------------------------------------------------------------\u001b[0m",
      "\u001b[1;31mFileNotFoundError\u001b[0m                         Traceback (most recent call last)",
      "Input \u001b[1;32mIn [2]\u001b[0m, in \u001b[0;36m<cell line: 1>\u001b[1;34m()\u001b[0m\n\u001b[1;32m----> 1\u001b[0m personel_df \u001b[38;5;241m=\u001b[39m \u001b[43mpd\u001b[49m\u001b[38;5;241;43m.\u001b[39;49m\u001b[43mread_csv\u001b[49m\u001b[43m(\u001b[49m\u001b[38;5;124;43m'\u001b[39;49m\u001b[38;5;124;43m../input/2022-ukraine-russian-war/russia_losses_personnel.csv\u001b[39;49m\u001b[38;5;124;43m'\u001b[39;49m\u001b[43m)\u001b[49m\n\u001b[0;32m      2\u001b[0m equipment_df \u001b[38;5;241m=\u001b[39m pd\u001b[38;5;241m.\u001b[39mread_csv(\u001b[38;5;124m'\u001b[39m\u001b[38;5;124m../input/2022-ukraine-russian-war/russia_losses_equipment.csv\u001b[39m\u001b[38;5;124m'\u001b[39m)\n",
      "File \u001b[1;32m~\\Anaconda3\\lib\\site-packages\\pandas\\util\\_decorators.py:311\u001b[0m, in \u001b[0;36mdeprecate_nonkeyword_arguments.<locals>.decorate.<locals>.wrapper\u001b[1;34m(*args, **kwargs)\u001b[0m\n\u001b[0;32m    305\u001b[0m \u001b[38;5;28;01mif\u001b[39;00m \u001b[38;5;28mlen\u001b[39m(args) \u001b[38;5;241m>\u001b[39m num_allow_args:\n\u001b[0;32m    306\u001b[0m     warnings\u001b[38;5;241m.\u001b[39mwarn(\n\u001b[0;32m    307\u001b[0m         msg\u001b[38;5;241m.\u001b[39mformat(arguments\u001b[38;5;241m=\u001b[39marguments),\n\u001b[0;32m    308\u001b[0m         \u001b[38;5;167;01mFutureWarning\u001b[39;00m,\n\u001b[0;32m    309\u001b[0m         stacklevel\u001b[38;5;241m=\u001b[39mstacklevel,\n\u001b[0;32m    310\u001b[0m     )\n\u001b[1;32m--> 311\u001b[0m \u001b[38;5;28;01mreturn\u001b[39;00m func(\u001b[38;5;241m*\u001b[39margs, \u001b[38;5;241m*\u001b[39m\u001b[38;5;241m*\u001b[39mkwargs)\n",
      "File \u001b[1;32m~\\Anaconda3\\lib\\site-packages\\pandas\\io\\parsers\\readers.py:680\u001b[0m, in \u001b[0;36mread_csv\u001b[1;34m(filepath_or_buffer, sep, delimiter, header, names, index_col, usecols, squeeze, prefix, mangle_dupe_cols, dtype, engine, converters, true_values, false_values, skipinitialspace, skiprows, skipfooter, nrows, na_values, keep_default_na, na_filter, verbose, skip_blank_lines, parse_dates, infer_datetime_format, keep_date_col, date_parser, dayfirst, cache_dates, iterator, chunksize, compression, thousands, decimal, lineterminator, quotechar, quoting, doublequote, escapechar, comment, encoding, encoding_errors, dialect, error_bad_lines, warn_bad_lines, on_bad_lines, delim_whitespace, low_memory, memory_map, float_precision, storage_options)\u001b[0m\n\u001b[0;32m    665\u001b[0m kwds_defaults \u001b[38;5;241m=\u001b[39m _refine_defaults_read(\n\u001b[0;32m    666\u001b[0m     dialect,\n\u001b[0;32m    667\u001b[0m     delimiter,\n\u001b[1;32m   (...)\u001b[0m\n\u001b[0;32m    676\u001b[0m     defaults\u001b[38;5;241m=\u001b[39m{\u001b[38;5;124m\"\u001b[39m\u001b[38;5;124mdelimiter\u001b[39m\u001b[38;5;124m\"\u001b[39m: \u001b[38;5;124m\"\u001b[39m\u001b[38;5;124m,\u001b[39m\u001b[38;5;124m\"\u001b[39m},\n\u001b[0;32m    677\u001b[0m )\n\u001b[0;32m    678\u001b[0m kwds\u001b[38;5;241m.\u001b[39mupdate(kwds_defaults)\n\u001b[1;32m--> 680\u001b[0m \u001b[38;5;28;01mreturn\u001b[39;00m \u001b[43m_read\u001b[49m\u001b[43m(\u001b[49m\u001b[43mfilepath_or_buffer\u001b[49m\u001b[43m,\u001b[49m\u001b[43m \u001b[49m\u001b[43mkwds\u001b[49m\u001b[43m)\u001b[49m\n",
      "File \u001b[1;32m~\\Anaconda3\\lib\\site-packages\\pandas\\io\\parsers\\readers.py:575\u001b[0m, in \u001b[0;36m_read\u001b[1;34m(filepath_or_buffer, kwds)\u001b[0m\n\u001b[0;32m    572\u001b[0m _validate_names(kwds\u001b[38;5;241m.\u001b[39mget(\u001b[38;5;124m\"\u001b[39m\u001b[38;5;124mnames\u001b[39m\u001b[38;5;124m\"\u001b[39m, \u001b[38;5;28;01mNone\u001b[39;00m))\n\u001b[0;32m    574\u001b[0m \u001b[38;5;66;03m# Create the parser.\u001b[39;00m\n\u001b[1;32m--> 575\u001b[0m parser \u001b[38;5;241m=\u001b[39m TextFileReader(filepath_or_buffer, \u001b[38;5;241m*\u001b[39m\u001b[38;5;241m*\u001b[39mkwds)\n\u001b[0;32m    577\u001b[0m \u001b[38;5;28;01mif\u001b[39;00m chunksize \u001b[38;5;129;01mor\u001b[39;00m iterator:\n\u001b[0;32m    578\u001b[0m     \u001b[38;5;28;01mreturn\u001b[39;00m parser\n",
      "File \u001b[1;32m~\\Anaconda3\\lib\\site-packages\\pandas\\io\\parsers\\readers.py:933\u001b[0m, in \u001b[0;36mTextFileReader.__init__\u001b[1;34m(self, f, engine, **kwds)\u001b[0m\n\u001b[0;32m    930\u001b[0m     \u001b[38;5;28mself\u001b[39m\u001b[38;5;241m.\u001b[39moptions[\u001b[38;5;124m\"\u001b[39m\u001b[38;5;124mhas_index_names\u001b[39m\u001b[38;5;124m\"\u001b[39m] \u001b[38;5;241m=\u001b[39m kwds[\u001b[38;5;124m\"\u001b[39m\u001b[38;5;124mhas_index_names\u001b[39m\u001b[38;5;124m\"\u001b[39m]\n\u001b[0;32m    932\u001b[0m \u001b[38;5;28mself\u001b[39m\u001b[38;5;241m.\u001b[39mhandles: IOHandles \u001b[38;5;241m|\u001b[39m \u001b[38;5;28;01mNone\u001b[39;00m \u001b[38;5;241m=\u001b[39m \u001b[38;5;28;01mNone\u001b[39;00m\n\u001b[1;32m--> 933\u001b[0m \u001b[38;5;28mself\u001b[39m\u001b[38;5;241m.\u001b[39m_engine \u001b[38;5;241m=\u001b[39m \u001b[38;5;28;43mself\u001b[39;49m\u001b[38;5;241;43m.\u001b[39;49m\u001b[43m_make_engine\u001b[49m\u001b[43m(\u001b[49m\u001b[43mf\u001b[49m\u001b[43m,\u001b[49m\u001b[43m \u001b[49m\u001b[38;5;28;43mself\u001b[39;49m\u001b[38;5;241;43m.\u001b[39;49m\u001b[43mengine\u001b[49m\u001b[43m)\u001b[49m\n",
      "File \u001b[1;32m~\\Anaconda3\\lib\\site-packages\\pandas\\io\\parsers\\readers.py:1217\u001b[0m, in \u001b[0;36mTextFileReader._make_engine\u001b[1;34m(self, f, engine)\u001b[0m\n\u001b[0;32m   1213\u001b[0m     mode \u001b[38;5;241m=\u001b[39m \u001b[38;5;124m\"\u001b[39m\u001b[38;5;124mrb\u001b[39m\u001b[38;5;124m\"\u001b[39m\n\u001b[0;32m   1214\u001b[0m \u001b[38;5;66;03m# error: No overload variant of \"get_handle\" matches argument types\u001b[39;00m\n\u001b[0;32m   1215\u001b[0m \u001b[38;5;66;03m# \"Union[str, PathLike[str], ReadCsvBuffer[bytes], ReadCsvBuffer[str]]\"\u001b[39;00m\n\u001b[0;32m   1216\u001b[0m \u001b[38;5;66;03m# , \"str\", \"bool\", \"Any\", \"Any\", \"Any\", \"Any\", \"Any\"\u001b[39;00m\n\u001b[1;32m-> 1217\u001b[0m \u001b[38;5;28mself\u001b[39m\u001b[38;5;241m.\u001b[39mhandles \u001b[38;5;241m=\u001b[39m \u001b[43mget_handle\u001b[49m\u001b[43m(\u001b[49m\u001b[43m  \u001b[49m\u001b[38;5;66;43;03m# type: ignore[call-overload]\u001b[39;49;00m\n\u001b[0;32m   1218\u001b[0m \u001b[43m    \u001b[49m\u001b[43mf\u001b[49m\u001b[43m,\u001b[49m\n\u001b[0;32m   1219\u001b[0m \u001b[43m    \u001b[49m\u001b[43mmode\u001b[49m\u001b[43m,\u001b[49m\n\u001b[0;32m   1220\u001b[0m \u001b[43m    \u001b[49m\u001b[43mencoding\u001b[49m\u001b[38;5;241;43m=\u001b[39;49m\u001b[38;5;28;43mself\u001b[39;49m\u001b[38;5;241;43m.\u001b[39;49m\u001b[43moptions\u001b[49m\u001b[38;5;241;43m.\u001b[39;49m\u001b[43mget\u001b[49m\u001b[43m(\u001b[49m\u001b[38;5;124;43m\"\u001b[39;49m\u001b[38;5;124;43mencoding\u001b[39;49m\u001b[38;5;124;43m\"\u001b[39;49m\u001b[43m,\u001b[49m\u001b[43m \u001b[49m\u001b[38;5;28;43;01mNone\u001b[39;49;00m\u001b[43m)\u001b[49m\u001b[43m,\u001b[49m\n\u001b[0;32m   1221\u001b[0m \u001b[43m    \u001b[49m\u001b[43mcompression\u001b[49m\u001b[38;5;241;43m=\u001b[39;49m\u001b[38;5;28;43mself\u001b[39;49m\u001b[38;5;241;43m.\u001b[39;49m\u001b[43moptions\u001b[49m\u001b[38;5;241;43m.\u001b[39;49m\u001b[43mget\u001b[49m\u001b[43m(\u001b[49m\u001b[38;5;124;43m\"\u001b[39;49m\u001b[38;5;124;43mcompression\u001b[39;49m\u001b[38;5;124;43m\"\u001b[39;49m\u001b[43m,\u001b[49m\u001b[43m \u001b[49m\u001b[38;5;28;43;01mNone\u001b[39;49;00m\u001b[43m)\u001b[49m\u001b[43m,\u001b[49m\n\u001b[0;32m   1222\u001b[0m \u001b[43m    \u001b[49m\u001b[43mmemory_map\u001b[49m\u001b[38;5;241;43m=\u001b[39;49m\u001b[38;5;28;43mself\u001b[39;49m\u001b[38;5;241;43m.\u001b[39;49m\u001b[43moptions\u001b[49m\u001b[38;5;241;43m.\u001b[39;49m\u001b[43mget\u001b[49m\u001b[43m(\u001b[49m\u001b[38;5;124;43m\"\u001b[39;49m\u001b[38;5;124;43mmemory_map\u001b[39;49m\u001b[38;5;124;43m\"\u001b[39;49m\u001b[43m,\u001b[49m\u001b[43m \u001b[49m\u001b[38;5;28;43;01mFalse\u001b[39;49;00m\u001b[43m)\u001b[49m\u001b[43m,\u001b[49m\n\u001b[0;32m   1223\u001b[0m \u001b[43m    \u001b[49m\u001b[43mis_text\u001b[49m\u001b[38;5;241;43m=\u001b[39;49m\u001b[43mis_text\u001b[49m\u001b[43m,\u001b[49m\n\u001b[0;32m   1224\u001b[0m \u001b[43m    \u001b[49m\u001b[43merrors\u001b[49m\u001b[38;5;241;43m=\u001b[39;49m\u001b[38;5;28;43mself\u001b[39;49m\u001b[38;5;241;43m.\u001b[39;49m\u001b[43moptions\u001b[49m\u001b[38;5;241;43m.\u001b[39;49m\u001b[43mget\u001b[49m\u001b[43m(\u001b[49m\u001b[38;5;124;43m\"\u001b[39;49m\u001b[38;5;124;43mencoding_errors\u001b[39;49m\u001b[38;5;124;43m\"\u001b[39;49m\u001b[43m,\u001b[49m\u001b[43m \u001b[49m\u001b[38;5;124;43m\"\u001b[39;49m\u001b[38;5;124;43mstrict\u001b[39;49m\u001b[38;5;124;43m\"\u001b[39;49m\u001b[43m)\u001b[49m\u001b[43m,\u001b[49m\n\u001b[0;32m   1225\u001b[0m \u001b[43m    \u001b[49m\u001b[43mstorage_options\u001b[49m\u001b[38;5;241;43m=\u001b[39;49m\u001b[38;5;28;43mself\u001b[39;49m\u001b[38;5;241;43m.\u001b[39;49m\u001b[43moptions\u001b[49m\u001b[38;5;241;43m.\u001b[39;49m\u001b[43mget\u001b[49m\u001b[43m(\u001b[49m\u001b[38;5;124;43m\"\u001b[39;49m\u001b[38;5;124;43mstorage_options\u001b[39;49m\u001b[38;5;124;43m\"\u001b[39;49m\u001b[43m,\u001b[49m\u001b[43m \u001b[49m\u001b[38;5;28;43;01mNone\u001b[39;49;00m\u001b[43m)\u001b[49m\u001b[43m,\u001b[49m\n\u001b[0;32m   1226\u001b[0m \u001b[43m\u001b[49m\u001b[43m)\u001b[49m\n\u001b[0;32m   1227\u001b[0m \u001b[38;5;28;01massert\u001b[39;00m \u001b[38;5;28mself\u001b[39m\u001b[38;5;241m.\u001b[39mhandles \u001b[38;5;129;01mis\u001b[39;00m \u001b[38;5;129;01mnot\u001b[39;00m \u001b[38;5;28;01mNone\u001b[39;00m\n\u001b[0;32m   1228\u001b[0m f \u001b[38;5;241m=\u001b[39m \u001b[38;5;28mself\u001b[39m\u001b[38;5;241m.\u001b[39mhandles\u001b[38;5;241m.\u001b[39mhandle\n",
      "File \u001b[1;32m~\\Anaconda3\\lib\\site-packages\\pandas\\io\\common.py:789\u001b[0m, in \u001b[0;36mget_handle\u001b[1;34m(path_or_buf, mode, encoding, compression, memory_map, is_text, errors, storage_options)\u001b[0m\n\u001b[0;32m    784\u001b[0m \u001b[38;5;28;01melif\u001b[39;00m \u001b[38;5;28misinstance\u001b[39m(handle, \u001b[38;5;28mstr\u001b[39m):\n\u001b[0;32m    785\u001b[0m     \u001b[38;5;66;03m# Check whether the filename is to be opened in binary mode.\u001b[39;00m\n\u001b[0;32m    786\u001b[0m     \u001b[38;5;66;03m# Binary mode does not support 'encoding' and 'newline'.\u001b[39;00m\n\u001b[0;32m    787\u001b[0m     \u001b[38;5;28;01mif\u001b[39;00m ioargs\u001b[38;5;241m.\u001b[39mencoding \u001b[38;5;129;01mand\u001b[39;00m \u001b[38;5;124m\"\u001b[39m\u001b[38;5;124mb\u001b[39m\u001b[38;5;124m\"\u001b[39m \u001b[38;5;129;01mnot\u001b[39;00m \u001b[38;5;129;01min\u001b[39;00m ioargs\u001b[38;5;241m.\u001b[39mmode:\n\u001b[0;32m    788\u001b[0m         \u001b[38;5;66;03m# Encoding\u001b[39;00m\n\u001b[1;32m--> 789\u001b[0m         handle \u001b[38;5;241m=\u001b[39m \u001b[38;5;28;43mopen\u001b[39;49m\u001b[43m(\u001b[49m\n\u001b[0;32m    790\u001b[0m \u001b[43m            \u001b[49m\u001b[43mhandle\u001b[49m\u001b[43m,\u001b[49m\n\u001b[0;32m    791\u001b[0m \u001b[43m            \u001b[49m\u001b[43mioargs\u001b[49m\u001b[38;5;241;43m.\u001b[39;49m\u001b[43mmode\u001b[49m\u001b[43m,\u001b[49m\n\u001b[0;32m    792\u001b[0m \u001b[43m            \u001b[49m\u001b[43mencoding\u001b[49m\u001b[38;5;241;43m=\u001b[39;49m\u001b[43mioargs\u001b[49m\u001b[38;5;241;43m.\u001b[39;49m\u001b[43mencoding\u001b[49m\u001b[43m,\u001b[49m\n\u001b[0;32m    793\u001b[0m \u001b[43m            \u001b[49m\u001b[43merrors\u001b[49m\u001b[38;5;241;43m=\u001b[39;49m\u001b[43merrors\u001b[49m\u001b[43m,\u001b[49m\n\u001b[0;32m    794\u001b[0m \u001b[43m            \u001b[49m\u001b[43mnewline\u001b[49m\u001b[38;5;241;43m=\u001b[39;49m\u001b[38;5;124;43m\"\u001b[39;49m\u001b[38;5;124;43m\"\u001b[39;49m\u001b[43m,\u001b[49m\n\u001b[0;32m    795\u001b[0m \u001b[43m        \u001b[49m\u001b[43m)\u001b[49m\n\u001b[0;32m    796\u001b[0m     \u001b[38;5;28;01melse\u001b[39;00m:\n\u001b[0;32m    797\u001b[0m         \u001b[38;5;66;03m# Binary mode\u001b[39;00m\n\u001b[0;32m    798\u001b[0m         handle \u001b[38;5;241m=\u001b[39m \u001b[38;5;28mopen\u001b[39m(handle, ioargs\u001b[38;5;241m.\u001b[39mmode)\n",
      "\u001b[1;31mFileNotFoundError\u001b[0m: [Errno 2] No such file or directory: '../input/2022-ukraine-russian-war/russia_losses_personnel.csv'"
     ]
    }
   ],
   "source": [
    "personel_df = pd.read_csv('russia_losses_personnel.csv')\n",
    "equipment_df = pd.read_csv('../input/2022-ukraine-russian-war/russia_losses_equipment.csv')"
   ]
  },
  {
   "cell_type": "code",
   "execution_count": null,
   "id": "84089122",
   "metadata": {
    "papermill": {
     "duration": 0.056357,
     "end_time": "2022-11-06T14:48:20.093735",
     "exception": false,
     "start_time": "2022-11-06T14:48:20.037378",
     "status": "completed"
    },
    "tags": []
   },
   "outputs": [],
   "source": [
    "equipment_df.head()"
   ]
  },
  {
   "cell_type": "code",
   "execution_count": null,
   "id": "6a12b979",
   "metadata": {
    "papermill": {
     "duration": 0.03768,
     "end_time": "2022-11-06T14:48:20.136198",
     "exception": false,
     "start_time": "2022-11-06T14:48:20.098518",
     "status": "completed"
    },
    "tags": []
   },
   "outputs": [],
   "source": [
    "equipment_df.loc[:64, 'vehicles and fuel tanks'] = equipment_df.loc[:64, 'fuel tank'] + equipment_df.loc[:64, 'military auto']\n",
    "equipment_df.loc[:64, 'cruise missiles'] = equipment_df.loc[:64, 'mobile SRBM system']\n",
    "equipment_df.drop(columns=['mobile SRBM system', 'military auto', 'fuel tank'], inplace=True)\n",
    "equipment_df.tail()"
   ]
  },
  {
   "cell_type": "code",
   "execution_count": null,
   "id": "18199931",
   "metadata": {
    "papermill": {
     "duration": 0.014472,
     "end_time": "2022-11-06T14:48:20.155528",
     "exception": false,
     "start_time": "2022-11-06T14:48:20.141056",
     "status": "completed"
    },
    "tags": []
   },
   "outputs": [],
   "source": [
    "def style():\n",
    "    fig.update_xaxes(showgrid=False)\n",
    "    fig.update_yaxes(showgrid=False)\n",
    "    fig.update_layout(font_color = '#9EDEC6')\n",
    "    fig.show()"
   ]
  },
  {
   "cell_type": "code",
   "execution_count": null,
   "id": "90258469",
   "metadata": {
    "papermill": {
     "duration": 0.188556,
     "end_time": "2022-11-06T14:48:20.349069",
     "exception": false,
     "start_time": "2022-11-06T14:48:20.160513",
     "status": "completed"
    },
    "tags": []
   },
   "outputs": [],
   "source": [
    "greatest_losses_direction = equipment_df['greatest losses direction'].value_counts().reset_index().rename(columns={'index': 'Direction', 'greatest losses direction': 'Count'})\n",
    "fig = px.bar(greatest_losses_direction[:10], x='Direction', y='Count', color='Direction', text='Count', title='Top 10 Greatest Loss Directions', color_discrete_sequence=color_theme)\n",
    "style()"
   ]
  },
  {
   "cell_type": "markdown",
   "id": "d5e41e87",
   "metadata": {
    "papermill": {
     "duration": 0.00545,
     "end_time": "2022-11-06T14:48:20.360025",
     "exception": false,
     "start_time": "2022-11-06T14:48:20.354575",
     "status": "completed"
    },
    "tags": []
   },
   "source": [
    "In this graph, you can get to know some of the most terrifying and brutal directions of war. As seen, Donetsk, Bakhmut, Kramatorsk, Kharkiv, Avdiivka, Izyum and Sloviansk are directions in which Russian army loses most of its army equipment and troops"
   ]
  },
  {
   "cell_type": "code",
   "execution_count": null,
   "id": "ce046614",
   "metadata": {
    "papermill": {
     "duration": 0.082026,
     "end_time": "2022-11-06T14:48:20.447555",
     "exception": false,
     "start_time": "2022-11-06T14:48:20.365529",
     "status": "completed"
    },
    "tags": []
   },
   "outputs": [],
   "source": [
    "fig = px.line(personel_df, x='date', y='personnel', title='Troop losses', markers=True)\n",
    "fig.update_traces(marker=dict(size=3))\n",
    "fig.update_layout(\n",
    "    xaxis_title=\"Date\",\n",
    "    yaxis_title=\"Count\")\n",
    "style()"
   ]
  },
  {
   "cell_type": "code",
   "execution_count": null,
   "id": "aa8e4f70",
   "metadata": {
    "papermill": {
     "duration": 0.077273,
     "end_time": "2022-11-06T14:48:20.530680",
     "exception": false,
     "start_time": "2022-11-06T14:48:20.453407",
     "status": "completed"
    },
    "tags": []
   },
   "outputs": [],
   "source": [
    "personel_df['Count'] = personel_df['personnel'] - personel_df['personnel'].shift(1)\n",
    "fig = px.histogram(personel_df, x='day', y='Count', title='Per Day Troop Losses', nbins=max(personel_df['day']))\n",
    "style()"
   ]
  },
  {
   "cell_type": "markdown",
   "id": "3f5e163e",
   "metadata": {
    "papermill": {
     "duration": 0.006081,
     "end_time": "2022-11-06T14:48:20.542968",
     "exception": false,
     "start_time": "2022-11-06T14:48:20.536887",
     "status": "completed"
    },
    "tags": []
   },
   "source": [
    "Graphs above show how much troops died in Ukraine. Also, you can see how much troops died in a specific day. Please note, that first ~30 days were not measured precisely. People just had other stuff to take care of :/"
   ]
  },
  {
   "cell_type": "code",
   "execution_count": null,
   "id": "07dad3f2",
   "metadata": {
    "papermill": {
     "duration": 0.017021,
     "end_time": "2022-11-06T14:48:20.566446",
     "exception": false,
     "start_time": "2022-11-06T14:48:20.549425",
     "status": "completed"
    },
    "tags": []
   },
   "outputs": [],
   "source": [
    "#moving 'great losses direction' column to the start of dataframe\n",
    "columns = list(equipment_df.columns)\n",
    "columns.remove('greatest losses direction')\n",
    "columns = ['greatest losses direction'] + columns\n",
    "equipment_df = equipment_df[columns]"
   ]
  },
  {
   "cell_type": "code",
   "execution_count": null,
   "id": "e8668eb9",
   "metadata": {
    "papermill": {
     "duration": 0.220512,
     "end_time": "2022-11-06T14:48:20.794333",
     "exception": false,
     "start_time": "2022-11-06T14:48:20.573821",
     "status": "completed"
    },
    "tags": []
   },
   "outputs": [],
   "source": [
    "fig=go.Figure()\n",
    "titles = []\n",
    "for i in list(equipment_df.columns[3:]):\n",
    "    title = i\n",
    "    if i[0].isupper() == False:\n",
    "        title = i.title()\n",
    "    titles += [title]\n",
    "fig=make_subplots(rows=4, cols=3, subplot_titles=titles)\n",
    "for i in range(4):\n",
    "    for j in range(3):\n",
    "        fig.add_trace(go.Scatter(x=equipment_df['date'], name=titles[j+i*3], y=equipment_df.iloc[:, 3+(j+i*3)]), row=i+1, col=j+1)\n",
    "        \n",
    "fig.update_layout(title='Equipment Losses', showlegend=False, height = 850, width = 750)\n",
    "style()"
   ]
  },
  {
   "cell_type": "markdown",
   "id": "cf6a67fc",
   "metadata": {
    "papermill": {
     "duration": 0.006695,
     "end_time": "2022-11-06T14:48:20.808536",
     "exception": false,
     "start_time": "2022-11-06T14:48:20.801841",
     "status": "completed"
    },
    "tags": []
   },
   "source": [
    "In that graph its shown how much equipment have Russia lost. It would be very interesting to calculate the total cost, but unfortunately, I do not have data to do so. Maybe in the future. Just think for a second how much money is wasted. It could have served for the people of Russia by building new hospitals, schools, universities, roads, etc."
   ]
  },
  {
   "cell_type": "code",
   "execution_count": null,
   "id": "b2cafcfd",
   "metadata": {
    "jupyter": {
     "source_hidden": true
    },
    "papermill": {
     "duration": 0.024148,
     "end_time": "2022-11-06T14:48:20.839651",
     "exception": false,
     "start_time": "2022-11-06T14:48:20.815503",
     "status": "completed"
    },
    "tags": []
   },
   "outputs": [],
   "source": [
    "#animation_df created for animation of equipment losses\n",
    "max_day = equipment_df['day'].max()\n",
    "min_day = equipment_df['day'].min()\n",
    "temp_arr = []\n",
    "for i in list(equipment_df.columns[3:]):\n",
    "        temp_arr += [i]*(max_day+1-min_day)\n",
    "\n",
    "temp_dictionary = {'Equipment': temp_arr}\n",
    "temp_arr=[]\n",
    "for j in range(len(list(equipment_df.columns[3:]))):\n",
    "    for i in range(min_day, max_day+1):\n",
    "        temp_arr += [i]\n",
    "\n",
    "temp_dictionary['Day'] = temp_arr\n",
    "temp_arr = []\n",
    "for j in list(equipment_df.columns[3:]):\n",
    "    for i in equipment_df[j]:\n",
    "        temp_arr+=[i]\n",
    "\n",
    "temp_dictionary['Count'] = temp_arr\n",
    "\n",
    "\n",
    "animation_df = pd.DataFrame(temp_dictionary)"
   ]
  },
  {
   "cell_type": "code",
   "execution_count": null,
   "id": "0203a3fc",
   "metadata": {
    "papermill": {
     "duration": 13.374557,
     "end_time": "2022-11-06T14:48:34.221435",
     "exception": false,
     "start_time": "2022-11-06T14:48:20.846878",
     "status": "completed"
    },
    "tags": []
   },
   "outputs": [],
   "source": [
    "fig = px.bar(animation_df, x='Equipment', title='Equipment Losses', y='Count', color='Equipment', animation_frame='Day', range_y=[0, max(animation_df['Count'])], color_discrete_sequence=color_theme)\n",
    "fig.update_layout(showlegend=False, height = 500, width = 700)\n",
    "style()"
   ]
  },
  {
   "cell_type": "code",
   "execution_count": null,
   "id": "682f1f56",
   "metadata": {
    "papermill": {
     "duration": 0.121457,
     "end_time": "2022-11-06T14:48:34.364703",
     "exception": false,
     "start_time": "2022-11-06T14:48:34.243246",
     "status": "completed"
    },
    "tags": []
   },
   "outputs": [],
   "source": [
    "sunburst_df = animation_df.loc[animation_df['Day'] == max_day]\n",
    "sunburst_df['Equipment Type'] = sunburst_df['Equipment'].map({'aircraft': 'Air', 'helicopter': 'Air', 'drone': 'Air', 'vehicles and fuel tanks': 'Fuel', 'tank': 'Armored', 'APC': 'Armored', 'field artillery': 'Artillery', 'MRL': 'Artillery', 'naval ship': 'Other', 'anti-aircraft warfare': 'Other', 'special equipment': 'Other', 'cruise missiles': 'Artillery'})\n",
    "fig = px.sunburst(sunburst_df, title = 'Equipment Losses Chart',path=['Equipment Type', 'Equipment'], values='Count', color_discrete_sequence=color_theme)\n",
    "style()"
   ]
  },
  {
   "cell_type": "markdown",
   "id": "07c9385e",
   "metadata": {
    "papermill": {
     "duration": 0.020681,
     "end_time": "2022-11-06T14:48:34.407166",
     "exception": false,
     "start_time": "2022-11-06T14:48:34.386485",
     "status": "completed"
    },
    "tags": []
   },
   "source": [
    "Conclusion. Thank you all for sticking to the notebook. Todays war is a real tragedy in Europe and I hope it ends soon. In that notebook you have seen overall Russian army losses. Please note, that in wartime it might be hard to calculate exact numbers, so those numbers were taken approximately. As seen, Russia have lost more than 65 thousand troops in Ukraine. It have also lost huge numbers of its equipment, such as APCs, vehicles and fuel tanks, tanks, field artilery, drones etc. Hope you enjoyed the notebook. Support Ukraine and have a nice day :)"
   ]
  }
 ],
 "metadata": {
  "kernelspec": {
   "display_name": "Python 3 (ipykernel)",
   "language": "python",
   "name": "python3"
  },
  "language_info": {
   "codemirror_mode": {
    "name": "ipython",
    "version": 3
   },
   "file_extension": ".py",
   "mimetype": "text/x-python",
   "name": "python",
   "nbconvert_exporter": "python",
   "pygments_lexer": "ipython3",
   "version": "3.9.12"
  },
  "papermill": {
   "default_parameters": {},
   "duration": 81.735886,
   "end_time": "2022-11-06T14:48:35.453563",
   "environment_variables": {},
   "exception": null,
   "input_path": "__notebook__.ipynb",
   "output_path": "__notebook__.ipynb",
   "parameters": {},
   "start_time": "2022-11-06T14:47:13.717677",
   "version": "2.3.4"
  }
 },
 "nbformat": 4,
 "nbformat_minor": 5
}
