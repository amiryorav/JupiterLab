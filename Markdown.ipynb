{
 "cells": [
  {
   "cell_type": "markdown",
   "id": "65c78f5f-bd0d-46a0-a699-493887ca0ded",
   "metadata": {},
   "source": [
    "[this is where you want to go!](#My-Great-Heading)"
   ]
  },
  {
   "cell_type": "markdown",
   "id": "8bed2a5a-0d4b-4bc2-aebc-e976d109203d",
   "metadata": {},
   "source": [
    "<table>\n",
    "<tr><td style='text-align:center'>Mon</td><td style='text-align:center'>Tue</td><td style='text-align:center'>Wed</td><td style='text-align:center'>Thu</td><td style='text-align:center'>Fri</td><td style='text-align:center'>Sat</td><td style='text-align:center'>Sun</td></tr>\n",
    "<tr style='font-size:32px'><td>&#9729;</td><td>&#9730;</td><td>&#9728;</td><td>&#9728;</td><td>&#9728;</td><td>&#9729;</td><td>&#128659;</td></tr>\n",
    "</table>"
   ]
  },
  {
   "cell_type": "markdown",
   "id": "df724cfd-4a95-4b23-a5a2-a4f55a776b9b",
   "metadata": {},
   "source": [
    "<img src=\"https://www.python.org/static/community_logos/python-logo-master-v3-TM.png\" title=\"Python Logo\"/>"
   ]
  },
  {
   "cell_type": "markdown",
   "id": "02710ac2-a788-47f6-bcb8-7abc23aecbd6",
   "metadata": {},
   "source": [
    "[click me](https://en.wikipedia.org)"
   ]
  },
  {
   "cell_type": "markdown",
   "id": "23d2eddb-aa7b-46ff-ba5c-6611a6deefb8",
   "metadata": {},
   "source": [
    "This is <a href=\"https://en.wikipedia.org\" title=\"Wikipedia\">a reference</a>"
   ]
  },
  {
   "cell_type": "markdown",
   "id": "bce65799-6d34-4694-af52-cb59382d335c",
   "metadata": {},
   "source": [
    "# My-Great-Heading"
   ]
  },
  {
   "cell_type": "markdown",
   "id": "f445adcc-ef28-4896-817d-70b33a6e7e2c",
   "metadata": {},
   "source": [
    "- [x] Some task\n",
    "- [ ] Some more task"
   ]
  },
  {
   "cell_type": "markdown",
   "id": "2dab47a8-6050-44a2-85c9-f9a7f6fb3938",
   "metadata": {},
   "source": [
    "```python\n",
    "s = 'some string'\n",
    "l = s.len()\n",
    "print l\n",
    "```"
   ]
  },
  {
   "cell_type": "markdown",
   "id": "926f809e-d47e-45d9-94ad-bc05209213da",
   "metadata": {},
   "source": [
    "<table>\n",
    "<thead>\n",
    "<tr><th>Header</th><th>Header</th><th>Header</th></tr>\n",
    "</thead>\n",
    "<tbody>\n",
    "<tr><td>A</td><td>B</td><td>C</td></tr>\n",
    "<tr><td>X</td><td>Y</td><td>Z</td></tr>\n",
    "</tbody>\n",
    "</table>"
   ]
  },
  {
   "cell_type": "markdown",
   "id": "4212f957-c404-4e6c-871d-ab806321e2ae",
   "metadata": {},
   "source": [
    "<div class=\"alert alert-block alert-info\">\n",
    "<b>Tip:</b> Use blue boxes (alert-info) for tips and notes.</div>"
   ]
  },
  {
   "cell_type": "markdown",
   "id": "1a9f75e1-cd8f-442a-bbc5-e86960e9717a",
   "metadata": {},
   "source": [
    "<div class=\"alert alert-block alert-success\">\n",
    "<b>Success:</b> This alert box indicates a successful or positive action.\n",
    "</div>"
   ]
  },
  {
   "cell_type": "markdown",
   "id": "2e14d2b3-8952-482f-a2fb-565506f2b893",
   "metadata": {
    "tags": []
   },
   "source": [
    "<div class=\"alert alert-block alert-warning\">\n",
    "<b>Example:</b> Use yellow boxes for examples that are not inside code cells, or use for mathematical formulas if needed. Typically also used to display warning messages.\n",
    "</div>"
   ]
  },
  {
   "cell_type": "markdown",
   "id": "88011d98-06c9-474c-bc5b-d24d21956ac7",
   "metadata": {},
   "source": [
    "Do not forget to buy <mark>milk</mark> today."
   ]
  },
  {
   "cell_type": "markdown",
   "id": "4c488024-7053-46c8-a121-0608816eb86c",
   "metadata": {},
   "source": [
    "<nav>\n",
    "<a href=”https://www.google.com\">LinkedIn</a> |\n",
    "<a href=”/css/”>Github</a> |\n",
    "<a href=”/js/”>Medium</a> |\n",
    "</nav>"
   ]
  },
  {
   "cell_type": "markdown",
   "id": "e53b6eb7-e02e-4a33-8d5a-4cb308b75835",
   "metadata": {},
   "source": [
    "| Id | Name     | Marks |\n",
    "|--- |----------| ------|\n",
    "| 01 | Samreena | 200   |\n",
    "| 02 | Asif     | 300   |\n",
    "| 03 | Mirha    | 150   |"
   ]
  },
  {
   "cell_type": "code",
   "execution_count": null,
   "id": "4e1bb36f-121c-4d33-bf0f-bce468fa0551",
   "metadata": {},
   "outputs": [],
   "source": []
  }
 ],
 "metadata": {
  "kernelspec": {
   "display_name": "Python 3 (ipykernel)",
   "language": "python",
   "name": "python3"
  },
  "language_info": {
   "codemirror_mode": {
    "name": "ipython",
    "version": 3
   },
   "file_extension": ".py",
   "mimetype": "text/x-python",
   "name": "python",
   "nbconvert_exporter": "python",
   "pygments_lexer": "ipython3",
   "version": "3.9.12"
  }
 },
 "nbformat": 4,
 "nbformat_minor": 5
}
