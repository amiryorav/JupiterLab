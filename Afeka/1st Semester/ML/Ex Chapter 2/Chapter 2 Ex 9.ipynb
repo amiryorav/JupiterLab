{
 "cells": [
  {
   "cell_type": "markdown",
   "id": "3f7f38eb-e06b-4450-aa64-738160425a63",
   "metadata": {},
   "source": [
    "#### Load in the Auto  dataset: "
   ]
  },
  {
   "cell_type": "code",
   "execution_count": 1,
   "id": "e9ae02a7-fc23-4ae7-bbd4-d2a185795753",
   "metadata": {},
   "outputs": [],
   "source": [
    "import pandas as pd\n",
    "Auto_df = pd.read_csv(\"Auto.csv\")"
   ]
  },
  {
   "cell_type": "markdown",
   "id": "319af763-8253-481a-acc9-16f67077c8ab",
   "metadata": {},
   "source": [
    "#### Output the first five rows of your DataFrame:"
   ]
  },
  {
   "cell_type": "code",
   "execution_count": 2,
   "id": "3509f995-20a8-4a9b-b931-7cbb0fb3a3aa",
   "metadata": {},
   "outputs": [
    {
     "data": {
      "text/html": [
       "<div>\n",
       "<style scoped>\n",
       "    .dataframe tbody tr th:only-of-type {\n",
       "        vertical-align: middle;\n",
       "    }\n",
       "\n",
       "    .dataframe tbody tr th {\n",
       "        vertical-align: top;\n",
       "    }\n",
       "\n",
       "    .dataframe thead th {\n",
       "        text-align: right;\n",
       "    }\n",
       "</style>\n",
       "<table border=\"1\" class=\"dataframe\">\n",
       "  <thead>\n",
       "    <tr style=\"text-align: right;\">\n",
       "      <th></th>\n",
       "      <th>mpg</th>\n",
       "      <th>cylinders</th>\n",
       "      <th>displacement</th>\n",
       "      <th>horsepower</th>\n",
       "      <th>weight</th>\n",
       "      <th>acceleration</th>\n",
       "      <th>year</th>\n",
       "      <th>origin</th>\n",
       "      <th>name</th>\n",
       "    </tr>\n",
       "  </thead>\n",
       "  <tbody>\n",
       "    <tr>\n",
       "      <th>0</th>\n",
       "      <td>18.0</td>\n",
       "      <td>8</td>\n",
       "      <td>307.0</td>\n",
       "      <td>130</td>\n",
       "      <td>3504</td>\n",
       "      <td>12.0</td>\n",
       "      <td>70</td>\n",
       "      <td>1</td>\n",
       "      <td>chevrolet chevelle malibu</td>\n",
       "    </tr>\n",
       "    <tr>\n",
       "      <th>1</th>\n",
       "      <td>15.0</td>\n",
       "      <td>8</td>\n",
       "      <td>350.0</td>\n",
       "      <td>165</td>\n",
       "      <td>3693</td>\n",
       "      <td>11.5</td>\n",
       "      <td>70</td>\n",
       "      <td>1</td>\n",
       "      <td>buick skylark 320</td>\n",
       "    </tr>\n",
       "    <tr>\n",
       "      <th>2</th>\n",
       "      <td>18.0</td>\n",
       "      <td>8</td>\n",
       "      <td>318.0</td>\n",
       "      <td>150</td>\n",
       "      <td>3436</td>\n",
       "      <td>11.0</td>\n",
       "      <td>70</td>\n",
       "      <td>1</td>\n",
       "      <td>plymouth satellite</td>\n",
       "    </tr>\n",
       "    <tr>\n",
       "      <th>3</th>\n",
       "      <td>16.0</td>\n",
       "      <td>8</td>\n",
       "      <td>304.0</td>\n",
       "      <td>150</td>\n",
       "      <td>3433</td>\n",
       "      <td>12.0</td>\n",
       "      <td>70</td>\n",
       "      <td>1</td>\n",
       "      <td>amc rebel sst</td>\n",
       "    </tr>\n",
       "    <tr>\n",
       "      <th>4</th>\n",
       "      <td>17.0</td>\n",
       "      <td>8</td>\n",
       "      <td>302.0</td>\n",
       "      <td>140</td>\n",
       "      <td>3449</td>\n",
       "      <td>10.5</td>\n",
       "      <td>70</td>\n",
       "      <td>1</td>\n",
       "      <td>ford torino</td>\n",
       "    </tr>\n",
       "  </tbody>\n",
       "</table>\n",
       "</div>"
      ],
      "text/plain": [
       "    mpg  cylinders  displacement  horsepower  weight  acceleration  year  \\\n",
       "0  18.0          8         307.0         130    3504          12.0    70   \n",
       "1  15.0          8         350.0         165    3693          11.5    70   \n",
       "2  18.0          8         318.0         150    3436          11.0    70   \n",
       "3  16.0          8         304.0         150    3433          12.0    70   \n",
       "4  17.0          8         302.0         140    3449          10.5    70   \n",
       "\n",
       "   origin                       name  \n",
       "0       1  chevrolet chevelle malibu  \n",
       "1       1          buick skylark 320  \n",
       "2       1         plymouth satellite  \n",
       "3       1              amc rebel sst  \n",
       "4       1                ford torino  "
      ]
     },
     "execution_count": 2,
     "metadata": {},
     "output_type": "execute_result"
    }
   ],
   "source": [
    "Auto_df.head()"
   ]
  },
  {
   "cell_type": "markdown",
   "id": "461a1046-48bf-4c3e-b386-7aa2c7ec30ce",
   "metadata": {},
   "source": [
    "Which of the predictors are quantitative, and which are qualitative?"
   ]
  },
  {
   "cell_type": "markdown",
   "id": "f1b7355b-6779-48b6-9293-6270b7f33821",
   "metadata": {},
   "source": [
    "Quantitative: mpg, cylinders, displacement, horsepower, weight, acceleration, year\n",
    "Qualitative: origin, name"
   ]
  },
  {
   "cell_type": "markdown",
   "id": "f7449686-a6cb-4bbd-add0-6961dcb9db57",
   "metadata": {},
   "source": [
    "What is the range of each quantitative predictor?"
   ]
  },
  {
   "cell_type": "code",
   "execution_count": 3,
   "id": "7995b1f5-9a53-4cfa-9510-fb5e86a94143",
   "metadata": {},
   "outputs": [
    {
     "name": "stdout",
     "output_type": "stream",
     "text": [
      "<class 'pandas.core.frame.DataFrame'>\n",
      "RangeIndex: 392 entries, 0 to 391\n",
      "Data columns (total 9 columns):\n",
      " #   Column        Non-Null Count  Dtype  \n",
      "---  ------        --------------  -----  \n",
      " 0   mpg           392 non-null    float64\n",
      " 1   cylinders     392 non-null    int64  \n",
      " 2   displacement  392 non-null    float64\n",
      " 3   horsepower    392 non-null    int64  \n",
      " 4   weight        392 non-null    int64  \n",
      " 5   acceleration  392 non-null    float64\n",
      " 6   year          392 non-null    int64  \n",
      " 7   origin        392 non-null    int64  \n",
      " 8   name          392 non-null    object \n",
      "dtypes: float64(3), int64(5), object(1)\n",
      "memory usage: 27.7+ KB\n"
     ]
    }
   ],
   "source": [
    "Auto_df.info()"
   ]
  },
  {
   "cell_type": "code",
   "execution_count": 4,
   "id": "3c6845b0-b314-4ced-8f01-16aa7d7c8dda",
   "metadata": {},
   "outputs": [
    {
     "data": {
      "text/plain": [
       "(392, 9)"
      ]
     },
     "execution_count": 4,
     "metadata": {},
     "output_type": "execute_result"
    }
   ],
   "source": [
    "Auto_df.shape"
   ]
  },
  {
   "cell_type": "code",
   "execution_count": 5,
   "id": "5023219e-baa3-4af7-847a-9cd14705455c",
   "metadata": {},
   "outputs": [
    {
     "data": {
      "text/plain": [
       "Index(['mpg', 'cylinders', 'displacement', 'horsepower', 'weight',\n",
       "       'acceleration', 'year', 'origin', 'name'],\n",
       "      dtype='object')"
      ]
     },
     "execution_count": 5,
     "metadata": {},
     "output_type": "execute_result"
    }
   ],
   "source": [
    "Auto_df.columns"
   ]
  },
  {
   "cell_type": "markdown",
   "id": "b8ffae21-d51a-49ad-9436-7afd4f187e50",
   "metadata": {},
   "source": [
    "### Range of the quantitatives:"
   ]
  },
  {
   "cell_type": "code",
   "execution_count": 6,
   "id": "888eaf39-1325-45f8-9780-645654a332b8",
   "metadata": {},
   "outputs": [],
   "source": [
    "from statistics import mean, median, stdev\n",
    "def stats(df):\n",
    "    min_value = min(df)\n",
    "    max_value = max(df)\n",
    "    mean_value = mean(df)\n",
    "    stdev_value = stdev(df)\n",
    "    \n",
    "    Result_Text = \"min_val= {min_val:.2f}\\nmax_val= {max_val:.2f}\\nRange = {Range:.2f}\\nmean_val= {mean_val:.2f}\\nstdev_val = {stdev_val:.2f}\"\n",
    "        \n",
    "    return Result_Text.format(min_val = min_value, max_val = max_value,Range = max_value - min_value,mean_val = mean_value,stdev_val = stdev_value)"
   ]
  },
  {
   "cell_type": "code",
   "execution_count": 7,
   "id": "58f06beb-852e-4abd-adf7-c612e45bb3f2",
   "metadata": {},
   "outputs": [
    {
     "data": {
      "text/html": [
       "<div>\n",
       "<style scoped>\n",
       "    .dataframe tbody tr th:only-of-type {\n",
       "        vertical-align: middle;\n",
       "    }\n",
       "\n",
       "    .dataframe tbody tr th {\n",
       "        vertical-align: top;\n",
       "    }\n",
       "\n",
       "    .dataframe thead th {\n",
       "        text-align: right;\n",
       "    }\n",
       "</style>\n",
       "<table border=\"1\" class=\"dataframe\">\n",
       "  <thead>\n",
       "    <tr style=\"text-align: right;\">\n",
       "      <th></th>\n",
       "      <th>mpg</th>\n",
       "      <th>cylinders</th>\n",
       "      <th>displacement</th>\n",
       "      <th>horsepower</th>\n",
       "      <th>weight</th>\n",
       "      <th>acceleration</th>\n",
       "      <th>year</th>\n",
       "    </tr>\n",
       "  </thead>\n",
       "  <tbody>\n",
       "    <tr>\n",
       "      <th>0</th>\n",
       "      <td>18.0</td>\n",
       "      <td>8</td>\n",
       "      <td>307.0</td>\n",
       "      <td>130</td>\n",
       "      <td>3504</td>\n",
       "      <td>12.0</td>\n",
       "      <td>70</td>\n",
       "    </tr>\n",
       "    <tr>\n",
       "      <th>1</th>\n",
       "      <td>15.0</td>\n",
       "      <td>8</td>\n",
       "      <td>350.0</td>\n",
       "      <td>165</td>\n",
       "      <td>3693</td>\n",
       "      <td>11.5</td>\n",
       "      <td>70</td>\n",
       "    </tr>\n",
       "    <tr>\n",
       "      <th>2</th>\n",
       "      <td>18.0</td>\n",
       "      <td>8</td>\n",
       "      <td>318.0</td>\n",
       "      <td>150</td>\n",
       "      <td>3436</td>\n",
       "      <td>11.0</td>\n",
       "      <td>70</td>\n",
       "    </tr>\n",
       "    <tr>\n",
       "      <th>3</th>\n",
       "      <td>16.0</td>\n",
       "      <td>8</td>\n",
       "      <td>304.0</td>\n",
       "      <td>150</td>\n",
       "      <td>3433</td>\n",
       "      <td>12.0</td>\n",
       "      <td>70</td>\n",
       "    </tr>\n",
       "    <tr>\n",
       "      <th>4</th>\n",
       "      <td>17.0</td>\n",
       "      <td>8</td>\n",
       "      <td>302.0</td>\n",
       "      <td>140</td>\n",
       "      <td>3449</td>\n",
       "      <td>10.5</td>\n",
       "      <td>70</td>\n",
       "    </tr>\n",
       "    <tr>\n",
       "      <th>...</th>\n",
       "      <td>...</td>\n",
       "      <td>...</td>\n",
       "      <td>...</td>\n",
       "      <td>...</td>\n",
       "      <td>...</td>\n",
       "      <td>...</td>\n",
       "      <td>...</td>\n",
       "    </tr>\n",
       "    <tr>\n",
       "      <th>387</th>\n",
       "      <td>27.0</td>\n",
       "      <td>4</td>\n",
       "      <td>140.0</td>\n",
       "      <td>86</td>\n",
       "      <td>2790</td>\n",
       "      <td>15.6</td>\n",
       "      <td>82</td>\n",
       "    </tr>\n",
       "    <tr>\n",
       "      <th>388</th>\n",
       "      <td>44.0</td>\n",
       "      <td>4</td>\n",
       "      <td>97.0</td>\n",
       "      <td>52</td>\n",
       "      <td>2130</td>\n",
       "      <td>24.6</td>\n",
       "      <td>82</td>\n",
       "    </tr>\n",
       "    <tr>\n",
       "      <th>389</th>\n",
       "      <td>32.0</td>\n",
       "      <td>4</td>\n",
       "      <td>135.0</td>\n",
       "      <td>84</td>\n",
       "      <td>2295</td>\n",
       "      <td>11.6</td>\n",
       "      <td>82</td>\n",
       "    </tr>\n",
       "    <tr>\n",
       "      <th>390</th>\n",
       "      <td>28.0</td>\n",
       "      <td>4</td>\n",
       "      <td>120.0</td>\n",
       "      <td>79</td>\n",
       "      <td>2625</td>\n",
       "      <td>18.6</td>\n",
       "      <td>82</td>\n",
       "    </tr>\n",
       "    <tr>\n",
       "      <th>391</th>\n",
       "      <td>31.0</td>\n",
       "      <td>4</td>\n",
       "      <td>119.0</td>\n",
       "      <td>82</td>\n",
       "      <td>2720</td>\n",
       "      <td>19.4</td>\n",
       "      <td>82</td>\n",
       "    </tr>\n",
       "  </tbody>\n",
       "</table>\n",
       "<p>392 rows × 7 columns</p>\n",
       "</div>"
      ],
      "text/plain": [
       "      mpg  cylinders  displacement  horsepower  weight  acceleration  year\n",
       "0    18.0          8         307.0         130    3504          12.0    70\n",
       "1    15.0          8         350.0         165    3693          11.5    70\n",
       "2    18.0          8         318.0         150    3436          11.0    70\n",
       "3    16.0          8         304.0         150    3433          12.0    70\n",
       "4    17.0          8         302.0         140    3449          10.5    70\n",
       "..    ...        ...           ...         ...     ...           ...   ...\n",
       "387  27.0          4         140.0          86    2790          15.6    82\n",
       "388  44.0          4          97.0          52    2130          24.6    82\n",
       "389  32.0          4         135.0          84    2295          11.6    82\n",
       "390  28.0          4         120.0          79    2625          18.6    82\n",
       "391  31.0          4         119.0          82    2720          19.4    82\n",
       "\n",
       "[392 rows x 7 columns]"
      ]
     },
     "execution_count": 7,
     "metadata": {},
     "output_type": "execute_result"
    }
   ],
   "source": [
    "# Subset of the quantitatives\n",
    "Auto_df_Subset = Auto_df[['mpg','cylinders','displacement','horsepower','weight','acceleration','year']]\n",
    "Auto_df_Subset"
   ]
  },
  {
   "cell_type": "code",
   "execution_count": 8,
   "id": "e35031e7-7cee-4606-a0f9-c7eee2863d7b",
   "metadata": {},
   "outputs": [
    {
     "name": "stdout",
     "output_type": "stream",
     "text": [
      "mpg\n",
      "---------\n",
      "min_val= 9.00\n",
      "max_val= 46.60\n",
      "Range = 37.60\n",
      "mean_val= 23.45\n",
      "stdev_val = 7.81\n",
      "\n",
      "\n",
      "cylinders\n",
      "---------\n",
      "min_val= 3.00\n",
      "max_val= 8.00\n",
      "Range = 5.00\n",
      "mean_val= 5.47\n",
      "stdev_val = 1.71\n",
      "\n",
      "\n",
      "displacement\n",
      "---------\n",
      "min_val= 68.00\n",
      "max_val= 455.00\n",
      "Range = 387.00\n",
      "mean_val= 194.41\n",
      "stdev_val = 104.64\n",
      "\n",
      "\n",
      "horsepower\n",
      "---------\n",
      "min_val= 46.00\n",
      "max_val= 230.00\n",
      "Range = 184.00\n",
      "mean_val= 104.47\n",
      "stdev_val = 38.49\n",
      "\n",
      "\n",
      "weight\n",
      "---------\n",
      "min_val= 1613.00\n",
      "max_val= 5140.00\n",
      "Range = 3527.00\n",
      "mean_val= 2977.58\n",
      "stdev_val = 849.40\n",
      "\n",
      "\n",
      "acceleration\n",
      "---------\n",
      "min_val= 8.00\n",
      "max_val= 24.80\n",
      "Range = 16.80\n",
      "mean_val= 15.54\n",
      "stdev_val = 2.76\n",
      "\n",
      "\n",
      "year\n",
      "---------\n",
      "min_val= 70.00\n",
      "max_val= 82.00\n",
      "Range = 12.00\n",
      "mean_val= 75.98\n",
      "stdev_val = 3.68\n",
      "\n",
      "\n"
     ]
    }
   ],
   "source": [
    "for column in Auto_df_Subset:\n",
    "    print (column + '\\n' + '---------')\n",
    "    print (stats(Auto_df_Subset[column]))\n",
    "    print ('\\n')"
   ]
  },
  {
   "cell_type": "code",
   "execution_count": 9,
   "id": "879b1d7a-685b-4f0d-aec3-d1ed6e9fab49",
   "metadata": {},
   "outputs": [],
   "source": [
    "less_rows=Auto_df_Subset.drop(Auto_df_Subset.index[11:86])"
   ]
  },
  {
   "cell_type": "code",
   "execution_count": 10,
   "id": "e9507884-76e6-45f4-a5a8-60ea358fd984",
   "metadata": {},
   "outputs": [
    {
     "name": "stdout",
     "output_type": "stream",
     "text": [
      "mpg\n",
      "---------\n",
      "min_val= 11.00\n",
      "max_val= 46.60\n",
      "Range = 35.60\n",
      "mean_val= 24.38\n",
      "stdev_val = 7.87\n",
      "\n",
      "\n",
      "cylinders\n",
      "---------\n",
      "min_val= 3.00\n",
      "max_val= 8.00\n",
      "Range = 5.00\n",
      "mean_val= 5.38\n",
      "stdev_val = 1.66\n",
      "\n",
      "\n",
      "displacement\n",
      "---------\n",
      "min_val= 68.00\n",
      "max_val= 455.00\n",
      "Range = 387.00\n",
      "mean_val= 188.13\n",
      "stdev_val = 100.56\n",
      "\n",
      "\n",
      "horsepower\n",
      "---------\n",
      "min_val= 46.00\n",
      "max_val= 230.00\n",
      "Range = 184.00\n",
      "mean_val= 101.07\n",
      "stdev_val = 36.11\n",
      "\n",
      "\n",
      "weight\n",
      "---------\n",
      "min_val= 1649.00\n",
      "max_val= 4997.00\n",
      "Range = 3348.00\n",
      "mean_val= 2938.51\n",
      "stdev_val = 811.35\n",
      "\n",
      "\n",
      "acceleration\n",
      "---------\n",
      "min_val= 8.50\n",
      "max_val= 24.80\n",
      "Range = 16.30\n",
      "mean_val= 15.70\n",
      "stdev_val = 2.73\n",
      "\n",
      "\n",
      "year\n",
      "---------\n",
      "min_val= 70.00\n",
      "max_val= 82.00\n",
      "Range = 12.00\n",
      "mean_val= 77.11\n",
      "stdev_val = 3.14\n",
      "\n",
      "\n"
     ]
    }
   ],
   "source": [
    "for column in less_rows:\n",
    "    print (column + '\\n' + '---------')\n",
    "    print (stats(less_rows[column]))\n",
    "    print ('\\n')"
   ]
  },
  {
   "cell_type": "code",
   "execution_count": 11,
   "id": "8094d9e9-8b1c-4594-9112-6ef10aaad673",
   "metadata": {},
   "outputs": [],
   "source": [
    "import matplotlib as mpl\n",
    "import matplotlib.pyplot as plt\n",
    "%matplotlib widget\n",
    "%matplotlib inline"
   ]
  },
  {
   "cell_type": "code",
   "execution_count": 17,
   "id": "9bf2dc54-c313-455f-9291-e7bdc8b4ccb1",
   "metadata": {},
   "outputs": [
    {
     "data": {
      "image/png": "[encoded data removed]",
      "text/plain": [
       "<Figure size 432x288 with 1 Axes>"
      ]
     },
     "metadata": {
      "needs_background": "light"
     },
     "output_type": "display_data"
    }
   ],
   "source": [
    "fig = plt.figure()\n",
    "ax = fig.add_subplot(111)\n",
    "#'mpg','cylinders','displacement','horsepower','weight','acceleration','year'\n",
    "y= Auto_df['horsepower']\n",
    "x= Auto_df['mpg']\n",
    "#ax.plot(x, y, color='blue', label=\"y_original\", marker = 'o', ms = 2)\n",
    "ax.scatter(x,y,color='red',marker='*', label=\"mpg\")\n",
    "ax.set(title='mpg vs horsepower', ylabel='mpg', xlabel='horsepower')\n",
    "ax.legend(loc='best')\n",
    "plt.grid()\n",
    "plt.show()"
   ]
  },
  {
   "cell_type": "markdown",
   "id": "b23f9550-26eb-42b7-9d2b-0091a76ff657",
   "metadata": {},
   "source": [
    "#### as HP raises, the mpg falls.."
   ]
  },
  {
   "cell_type": "code",
   "execution_count": 18,
   "id": "cd641109-7174-4ab9-a781-47973e15e6e3",
   "metadata": {},
   "outputs": [
    {
     "data": {
      "image/png": "[encoded data removed]",
      "text/plain": [
       "<Figure size 432x288 with 1 Axes>"
      ]
     },
     "metadata": {
      "needs_background": "light"
     },
     "output_type": "display_data"
    }
   ],
   "source": [
    "fig = plt.figure()\n",
    "ax = fig.add_subplot(111)\n",
    "#'mpg','cylinders','displacement','horsepower','weight','acceleration','year'\n",
    "y= Auto_df['weight']\n",
    "x= Auto_df['mpg']\n",
    "#ax.plot(x, y, color='blue', label=\"y_original\", marker = 'o', ms = 2)\n",
    "ax.scatter(x,y,color='red',marker='*', label=\"mpg\")\n",
    "ax.set(title='mpg vs weight', ylabel='mpg', xlabel='weight')\n",
    "ax.legend(loc='best')\n",
    "plt.grid()\n",
    "plt.show()"
   ]
  },
  {
   "cell_type": "code",
   "execution_count": 21,
   "id": "36b9400c-7e1d-4d8c-816d-0c6635728818",
   "metadata": {},
   "outputs": [
    {
     "data": {
      "image/png": "[encoded data removed]",
      "text/plain": [
       "<Figure size 432x288 with 1 Axes>"
      ]
     },
     "metadata": {
      "needs_background": "light"
     },
     "output_type": "display_data"
    }
   ],
   "source": [
    "fig = plt.figure()\n",
    "ax = fig.add_subplot(111)\n",
    "#'mpg','cylinders','displacement','horsepower','weight','acceleration','year'\n",
    "y= Auto_df['acceleration']\n",
    "x= Auto_df['mpg']\n",
    "#ax.plot(x, y, color='blue', label=\"y_original\", marker = 'o', ms = 2)\n",
    "ax.scatter(x,y,color='red',marker='*', label=\"mpg\")\n",
    "ax.set(title='mpg vs acceleration', ylabel='mpg', xlabel='acceleration')\n",
    "ax.legend(loc='best')\n",
    "plt.grid()\n",
    "plt.show()"
   ]
  },
  {
   "cell_type": "code",
   "execution_count": null,
   "id": "c21d5d91-c7b5-48e6-af46-8d26affb9f27",
   "metadata": {},
   "outputs": [],
   "source": []
  }
 ],
 "metadata": {
  "kernelspec": {
   "display_name": "Python 3 (ipykernel)",
   "language": "python",
   "name": "python3"
  },
  "language_info": {
   "codemirror_mode": {
    "name": "ipython",
    "version": 3
   },
   "file_extension": ".py",
   "mimetype": "text/x-python",
   "name": "python",
   "nbconvert_exporter": "python",
   "pygments_lexer": "ipython3",
   "version": "3.9.12"
  }
 },
 "nbformat": 4,
 "nbformat_minor": 5
}
