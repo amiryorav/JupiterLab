{
 "cells": [
  {
   "cell_type": "code",
   "execution_count": 45,
   "id": "e735cd8e-8e42-4f66-82be-63448d60151d",
   "metadata": {},
   "outputs": [],
   "source": [
    "from scipy.stats import binom\n",
    "import matplotlib.pyplot as plt\n",
    "import numpy as np\n",
    "import pandas as pd"
   ]
  },
  {
   "cell_type": "code",
   "execution_count": 51,
   "id": "4f95f381-6479-4fda-8395-5f399f12ff5d",
   "metadata": {},
   "outputs": [],
   "source": [
    "n = 2\n",
    "groups = ['Team A', 'Team b', 'Teko']\n",
    "probs = [0.5, 0.3, 0.2]\n",
    "\n",
    "cols_n = range(0,3)\n",
    "cols = [str(int(x))+' Games' for x in cols_n]\n",
    "rows = groups\n",
    "\n",
    "probs_df = pd.DataFrame(columns = cols, index = rows)\n",
    "\n",
    "stats_df = pd.DataFrame(data = [], columns = ['mean', 'var'])\n",
    "df = pd.concat([probs_df, stats_df], axis=1)"
   ]
  },
  {
   "cell_type": "code",
   "execution_count": 53,
   "id": "23e78f4a-de16-45ba-ab1f-0b7da84fb8db",
   "metadata": {},
   "outputs": [],
   "source": [
    "i=0\n",
    "for group in groups:\n",
    "    r_values = list(range(n + 1))\n",
    "    dist = [binom.pmf(r, n, probs[i]) for r in r_values]\n",
    "    mean, var = binom.stats(n, probs[i])\n",
    "    df.loc[[group]] = np.append (dist, [mean, var])\n",
    "    i+=1"
   ]
  },
  {
   "cell_type": "code",
   "execution_count": 54,
   "id": "2bfdd111-e343-4f86-830a-7f56b74477d9",
   "metadata": {},
   "outputs": [
    {
     "data": {
      "text/html": [
       "<div>\n",
       "<style scoped>\n",
       "    .dataframe tbody tr th:only-of-type {\n",
       "        vertical-align: middle;\n",
       "    }\n",
       "\n",
       "    .dataframe tbody tr th {\n",
       "        vertical-align: top;\n",
       "    }\n",
       "\n",
       "    .dataframe thead th {\n",
       "        text-align: right;\n",
       "    }\n",
       "</style>\n",
       "<table border=\"1\" class=\"dataframe\">\n",
       "  <thead>\n",
       "    <tr style=\"text-align: right;\">\n",
       "      <th></th>\n",
       "      <th>0 Games</th>\n",
       "      <th>1 Games</th>\n",
       "      <th>2 Games</th>\n",
       "      <th>mean</th>\n",
       "      <th>var</th>\n",
       "    </tr>\n",
       "  </thead>\n",
       "  <tbody>\n",
       "    <tr>\n",
       "      <th>Team A</th>\n",
       "      <td>0.25</td>\n",
       "      <td>0.5</td>\n",
       "      <td>0.25</td>\n",
       "      <td>1.0</td>\n",
       "      <td>0.5</td>\n",
       "    </tr>\n",
       "    <tr>\n",
       "      <th>Team b</th>\n",
       "      <td>0.49</td>\n",
       "      <td>0.42</td>\n",
       "      <td>0.09</td>\n",
       "      <td>0.6</td>\n",
       "      <td>0.42</td>\n",
       "    </tr>\n",
       "    <tr>\n",
       "      <th>Teko</th>\n",
       "      <td>0.64</td>\n",
       "      <td>0.32</td>\n",
       "      <td>0.04</td>\n",
       "      <td>0.4</td>\n",
       "      <td>0.32</td>\n",
       "    </tr>\n",
       "  </tbody>\n",
       "</table>\n",
       "</div>"
      ],
      "text/plain": [
       "       0 Games 1 Games 2 Games mean   var\n",
       "Team A    0.25     0.5    0.25  1.0   0.5\n",
       "Team b    0.49    0.42    0.09  0.6  0.42\n",
       "Teko      0.64    0.32    0.04  0.4  0.32"
      ]
     },
     "execution_count": 54,
     "metadata": {},
     "output_type": "execute_result"
    }
   ],
   "source": [
    "df"
   ]
  },
  {
   "cell_type": "code",
   "execution_count": 55,
   "id": "373bfd56-6568-4231-b5da-b017f64a4919",
   "metadata": {},
   "outputs": [
    {
     "data": {
      "image/png": "[encoded data removed]",
      "text/plain": [
       "<Figure size 432x288 with 1 Axes>"
      ]
     },
     "metadata": {
      "needs_background": "light"
     },
     "output_type": "display_data"
    }
   ],
   "source": [
    "plt.bar(r_values, dist)\n",
    "plt.show()"
   ]
  },
  {
   "cell_type": "code",
   "execution_count": null,
   "id": "9185d2b2-bdbb-4a13-8fab-255fa00eef37",
   "metadata": {},
   "outputs": [],
   "source": []
  }
 ],
 "metadata": {
  "kernelspec": {
   "display_name": "Python 3 (ipykernel)",
   "language": "python",
   "name": "python3"
  },
  "language_info": {
   "codemirror_mode": {
    "name": "ipython",
    "version": 3
   },
   "file_extension": ".py",
   "mimetype": "text/x-python",
   "name": "python",
   "nbconvert_exporter": "python",
   "pygments_lexer": "ipython3",
   "version": "3.9.12"
  }
 },
 "nbformat": 4,
 "nbformat_minor": 5
}
