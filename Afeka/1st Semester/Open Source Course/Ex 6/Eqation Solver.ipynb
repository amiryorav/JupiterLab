{
 "cells": [
  {
   "cell_type": "code",
   "execution_count": 92,
   "id": "c81ea61d-203c-4109-9cdf-8e389d74e601",
   "metadata": {},
   "outputs": [],
   "source": [
    "import numpy as np\n",
    "from sympy import *\n",
    "from IPython.display import display, Math, Latex\n",
    "\n",
    "x, y, m = symbols('x y m')\n",
    "\n",
    "fx = y*x**2\n",
    "st = x**2+y**2-3\n",
    "\n",
    "Lagrangian = fx + m*st"
   ]
  },
  {
   "cell_type": "code",
   "execution_count": 85,
   "id": "18bc55d5-ac5a-4b71-8bcb-61a0da689a40",
   "metadata": {},
   "outputs": [
    {
     "data": {
      "text/latex": [
       "$\\displaystyle x^{2} y$"
      ],
      "text/plain": [
       "x**2*y"
      ]
     },
     "execution_count": 85,
     "metadata": {},
     "output_type": "execute_result"
    }
   ],
   "source": [
    "fx"
   ]
  },
  {
   "cell_type": "code",
   "execution_count": 134,
   "id": "e4999d05-7485-4437-ac27-d692737c5104",
   "metadata": {},
   "outputs": [
    {
     "data": {
      "text/latex": [
       "$\\displaystyle x^{2} + y^{2} - 3\\mathtt{\\text{ = 0}}$"
      ],
      "text/plain": [
       "<IPython.core.display.Math object>"
      ]
     },
     "metadata": {},
     "output_type": "display_data"
    }
   ],
   "source": [
    "display(Math(latex(st) + latex(' = 0')))"
   ]
  },
  {
   "cell_type": "code",
   "execution_count": 144,
   "id": "5023cf12-eed5-48b4-9b3b-9134e5a75088",
   "metadata": {},
   "outputs": [
    {
     "data": {
      "text/latex": [
       "$\\displaystyle m \\left(x^{2} + y^{2} - 3\\right) + x^{2} y$"
      ],
      "text/plain": [
       "m*(x**2 + y**2 - 3) + x**2*y"
      ]
     },
     "execution_count": 144,
     "metadata": {},
     "output_type": "execute_result"
    }
   ],
   "source": [
    "Lagrangian"
   ]
  },
  {
   "cell_type": "code",
   "execution_count": 145,
   "id": "49eb20d8-3383-42df-a71b-ef6cbe92dba8",
   "metadata": {},
   "outputs": [],
   "source": [
    "res = solve([Eq(Lagrangian.diff(x),0),Eq(Lagrangian.diff(y),0),Eq(st,0)])"
   ]
  },
  {
   "cell_type": "code",
   "execution_count": 146,
   "id": "260f96d5-6f0b-4f9b-bc10-e6d06f1fff26",
   "metadata": {},
   "outputs": [
    {
     "data": {
      "text/plain": [
       "[{m: -1, x: -sqrt(2), y: 1},\n",
       " {m: -1, x: sqrt(2), y: 1},\n",
       " {m: 0, x: 0, y: -sqrt(3)},\n",
       " {m: 0, x: 0, y: sqrt(3)},\n",
       " {m: 1, x: -sqrt(2), y: -1},\n",
       " {m: 1, x: sqrt(2), y: -1}]"
      ]
     },
     "execution_count": 146,
     "metadata": {},
     "output_type": "execute_result"
    }
   ],
   "source": [
    "res"
   ]
  },
  {
   "cell_type": "code",
   "execution_count": 98,
   "id": "0691f397-ec2a-42d3-9094-a0be08d905f5",
   "metadata": {},
   "outputs": [
    {
     "data": {
      "text/plain": [
       "array([ 2.,  2.,  0.,  0., -2., -2.])"
      ]
     },
     "execution_count": 98,
     "metadata": {},
     "output_type": "execute_result"
    }
   ],
   "source": [
    "values = np.zeros(len(res))\n",
    "for i, r in enumerate(res):\n",
    "    values[i] = fx.subs([(x, r[x]), (y, r[y])])"
   ]
  },
  {
   "cell_type": "code",
   "execution_count": 100,
   "id": "98706bc9-92b2-47de-9083-a461ad84c64d",
   "metadata": {},
   "outputs": [],
   "source": [
    "max_value = max(values)\n",
    "max_i = [i for i, j in enumerate(values) if j == max_value]"
   ]
  },
  {
   "cell_type": "code",
   "execution_count": 154,
   "id": "a2cf08fb-628f-4020-935a-ec4018f8ec08",
   "metadata": {},
   "outputs": [
    {
     "name": "stdout",
     "output_type": "stream",
     "text": [
      "f ( -sqrt(2) , 1 ) =  2.0\n",
      "f ( sqrt(2) , 1 ) =  2.0\n"
     ]
    }
   ],
   "source": [
    "for i in max_i:\n",
    "    print('f','(',res[i][x],',',res[i][y],') = ',values[i])"
   ]
  },
  {
   "cell_type": "code",
   "execution_count": 158,
   "id": "16833ae5-c1b9-4068-b298-15e3e5a18ced",
   "metadata": {},
   "outputs": [
    {
     "data": {
      "text/latex": [
       "$\\displaystyle (10 \\mathbf{{x}_{R}} \\mathbf{{z}_{R}})\\mathbf{\\hat{i}_{R}} + (5 \\mathbf{{x}_{R}}^{2})\\mathbf{\\hat{k}_{R}}$"
      ],
      "text/plain": [
       "10*R.x*R.z*R.i + 5*R.x**2*R.k"
      ]
     },
     "execution_count": 158,
     "metadata": {},
     "output_type": "execute_result"
    }
   ],
   "source": [
    "from sympy.vector import CoordSys3D, gradient\n",
    "R = CoordSys3D('R')\n",
    "s1 = R.x*R.y*R.z\n",
    "#gradient(s1)\n",
    "s2 = 5*R.x**2*R.z\n",
    "gradient(s2)"
   ]
  },
  {
   "cell_type": "code",
   "execution_count": null,
   "id": "4df0f7ab-31f8-4207-b1f9-da05a642922e",
   "metadata": {},
   "outputs": [],
   "source": []
  }
 ],
 "metadata": {
  "kernelspec": {
   "display_name": "Python 3 (ipykernel)",
   "language": "python",
   "name": "python3"
  },
  "language_info": {
   "codemirror_mode": {
    "name": "ipython",
    "version": 3
   },
   "file_extension": ".py",
   "mimetype": "text/x-python",
   "name": "python",
   "nbconvert_exporter": "python",
   "pygments_lexer": "ipython3",
   "version": "3.9.12"
  }
 },
 "nbformat": 4,
 "nbformat_minor": 5
}
