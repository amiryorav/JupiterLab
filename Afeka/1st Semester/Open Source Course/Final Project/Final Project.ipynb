{
 "cells": [
  {
   "cell_type": "markdown",
   "id": "a5c55e60-b7d5-4c37-bac7-ef14b1a5c948",
   "metadata": {},
   "source": [
    "<div class=\"alert alert-block alert-success\">\n",
    "<b>to do:</b>\n",
    "    <BR> &#9730; Data description as appendix?\n",
    "    <BR> &#9730; something with sunburst?\n",
    "    <BR> &#9730; Add explenations for every step\n",
    "    <BR> &#9730; Add theoretical background on every model \n",
    "</div>"
   ]
  },
  {
   "cell_type": "markdown",
   "id": "70a01876-c109-4200-ad43-c2d82c6a8a36",
   "metadata": {},
   "source": [
    "<div id=header class=\"alert alert-block alert-info\">\n",
    "<b>Final Project For Course 236502001 - כלים טכנולוגיות קוד פתוח למערכות תבוניות </b>\n",
    "        <BR>Presented By:\n",
    "        <BR>&emsp;1. Tali Presaizen 123456789\n",
    "        <BR>&emsp;2. Mor Atiya 123456789\n",
    "        <BR>&emsp;3. Amir Yorav 123456789\n",
    "    <BR>Kaggle user: <a href=”https://www.google.com\">KKK</a></div>"
   ]
  },
  {
   "cell_type": "markdown",
   "id": "fef5b985-89fd-4b0d-a9b8-c0e8f7b2d7f2",
   "metadata": {},
   "source": [
    " # Table of Contents  \n",
    "1. [Introduction](#Introduction)   \n",
    "    1. [Data Set Description](#Data-Set-Description)  \n",
    "    1. [Variable Description](#Variable-Description) \n",
    "1. [Imports](#-Imports) \n",
    "1. [Exploring The Data](#Exploring-The-Data) \n",
    "    1. [Loading](#Loading) \n",
    "    1. [Missing Values](#Missing-Values)\n",
    "    1. [Variable Correlations](#Variable-Correlations)\n",
    "    1. [Target Variable](#Target-Variable)\n",
    "    1. [Outliers](#Outliers)\n",
    "1. [Prepering Data for models](#Prepering-Data-for-models)     \n",
    "    1. [Encoding](#Encoding)\n",
    "    1. [Splitting the Data](#Splitting-the-Data)   \n",
    "    1. [Feature Scaling](#Feature-Scaling) \n",
    "1. [Feature Selection](#-Feature-Selection)\n",
    "    1. [Ridge-Lasso-Elasticnet](#Ridge-Lasso-Elasticnet) \n",
    "    1. [Trees](#Trees) \n",
    "    1. [PCA](#PCA)\n",
    "1. [SGD Model](#SGD-Model)     \n",
    "    1. [Tune Hyper Parameters](#SGD---Tune-Hyper-Parameters)\n",
    "    1. [Evaluating on Validation set](#SGD---Evaluating-on-Validation-set)\n",
    "    1. [Model Submission](#SGD---Model-Submission)     \n",
    "1. [Random Forest Model](#Random-Forest-Model)     \n",
    "    1. [Tune Hyper Parameters](#RF---Tune-Hyper-Parameters)\n",
    "    1. [Evaluating on Validation set](#RF---Evaluating-on-Validation-set)     \n",
    "    1. [Model Submission](#RF-Model-Submission) \n",
    "1. [Model TTT](#Model-TTT)     \n",
    "    1. [Tune Hyper Parameters](#TM---Tune-Hyper-Parameters)   \n",
    "    1. [Evaluating on Validation set](#TM---Evaluating-on-Validation-set)     \n",
    "    1. [Submission](#TM---Submission) \n",
    "1. [Ensemble of the Models](#Ensemble-of-the-Models)     \n",
    "    1. [Create Ensemble](#Create-Ensemble)    \n",
    "    1. [Evaluating on Validation set](#Evaluating-on-Validation-set)     \n",
    "1. [Final Submission](#Conclusions) \n",
    "1. [Conclusions](#Conclusions) \n",
    "1. [References](#References)    "
   ]
  },
  {
   "cell_type": "markdown",
   "id": "5775ed3c-5707-460a-846a-469e363f96dc",
   "metadata": {
    "tags": []
   },
   "source": [
    "<table id=Introduction style=\"width:100%\">\n",
    "<tr><td><h1>Introduction</h1></td><td><a href=\"#header\"><img src=\"https://30percentclub.org/wp-content/uploads/2021/07/back-to-top-icon-01.svg\" width=\"70\" height=\"70\" align=\"right\"></a></td></tr>\n",
    "</table>"
   ]
  },
  {
   "cell_type": "markdown",
   "id": "dcb6fff0-d330-4ec8-b46d-4e1611f1adc6",
   "metadata": {
    "tags": []
   },
   "source": [
    "### Data Set Description"
   ]
  },
  {
   "cell_type": "markdown",
   "id": "1a4939f1-281a-45dd-944d-dee3f18c2230",
   "metadata": {
    "jp-MarkdownHeadingCollapsed": true,
    "tags": []
   },
   "source": [
    "### Variable Description"
   ]
  },
  {
   "cell_type": "markdown",
   "id": "2af15b8e-2882-447f-bf2e-7eafb1a74bb7",
   "metadata": {
    "tags": []
   },
   "source": [
    "<table id=-Imports style=\"width:100%\">\n",
    "<tr><td><h1>Imports</h1></td><td><a href=\"#header\"><img src=\"https://30percentclub.org/wp-content/uploads/2021/07/back-to-top-icon-01.svg\" width=\"70\" height=\"70\" align=\"right\"></a></td></tr>\n",
    "</table> "
   ]
  },
  {
   "cell_type": "code",
   "execution_count": 85,
   "id": "f3cc421e-2af3-4afa-8c42-421c4733b103",
   "metadata": {
    "tags": []
   },
   "outputs": [],
   "source": [
    "# import numpy, matplotlib, etc.\n",
    "import numpy as np\n",
    "import pandas as pd\n",
    "import seaborn as sns\n",
    "import plotly.express as px\n",
    "import matplotlib.pyplot as plt\n",
    "import plotly.graph_objects as go\n",
    "\n",
    "# define plt settings\n",
    "plt.rcParams[\"font.size\"] = 8\n",
    "plt.rcParams[\"axes.labelsize\"] = 8\n",
    "plt.rcParams[\"xtick.labelsize\"] = 8\n",
    "plt.rcParams[\"ytick.labelsize\"] = 8\n",
    "plt.rcParams[\"legend.fontsize\"] = 8\n",
    "plt.rcParams[\"figure.figsize\"] = (5,5)\n",
    "\n",
    "\n",
    "# sklearn imports\n",
    "from sklearn import metrics\n",
    "from sklearn import pipeline\n",
    "from sklearn import linear_model\n",
    "from sklearn import preprocessing\n",
    "from sklearn import neural_network\n",
    "from sklearn import model_selection\n",
    "from sklearn.pipeline import Pipeline\n",
    "from sklearn.model_selection import KFold\n",
    "from sklearn.pipeline import make_pipeline\n",
    "from sklearn.model_selection import LeavePOut\n",
    "from sklearn.linear_model import SGDRegressor\n",
    "from sklearn.linear_model import SGDClassifier\n",
    "from sklearn.metrics import mean_squared_error\n",
    "from sklearn.preprocessing import OneHotEncoder\n",
    "from sklearn.preprocessing import OrdinalEncoder\n",
    "from sklearn.preprocessing import StandardScaler\n",
    "from sklearn.linear_model import LinearRegression\n",
    "from sklearn.preprocessing import PolynomialFeatures\n",
    "from sklearn.model_selection import train_test_split\n",
    "from sklearn.model_selection import cross_val_score\n",
    "from sklearn.linear_model import Lasso, Ridge, ElasticNet\n",
    "from sklearn.metrics import make_scorer, accuracy_score\n",
    "from sklearn.metrics import mean_squared_error\n",
    "from sklearn.metrics import r2_score\n",
    "from sklearn.ensemble import ExtraTreesRegressor\n",
    "from sklearn.model_selection import GridSearchCV\n",
    "from sklearn.model_selection import RandomizedSearchCV\n",
    "from sklearn.feature_selection import VarianceThreshold\n",
    "from sklearn.preprocessing import LabelEncoder\n",
    "from sklearn.decomposition import PCA\n",
    "from sklearn.preprocessing import RobustScaler\n",
    "from sklearn.svm import SVR\n",
    "\n",
    "#for some statistics\n",
    "from scipy.stats import uniform\n",
    "from scipy import stats\n",
    "from scipy.stats import norm, skew \n",
    "from statistics import mean \n",
    "\n",
    "# plotly imports\n",
    "import plotly.express as px\n",
    "import plotly.io as pio\n",
    "from plotly.subplots import make_subplots\n",
    "import plotly.graph_objects as go\n",
    "\n",
    "from pandasql import sqldf\n",
    "pysqldf = lambda q: sqldf(q, globals())"
   ]
  },
  {
   "cell_type": "markdown",
   "id": "5f3188de-43f5-4034-809f-7b68fe8fd6e2",
   "metadata": {
    "tags": []
   },
   "source": [
    "<table id=Exploring-The-Data style=\"width:100%\">\n",
    "<tr><td><h1>Exploring The Data</h1></td><td><a href=\"#header\"><img src=\"https://30percentclub.org/wp-content/uploads/2021/07/back-to-top-icon-01.svg\" width=\"70\" height=\"70\" align=\"right\"></a></td></tr>\n",
    "</table>"
   ]
  },
  {
   "cell_type": "markdown",
   "id": "0fa25743-50cf-4acd-921b-d3378a461774",
   "metadata": {
    "tags": []
   },
   "source": [
    "### Loading"
   ]
  },
  {
   "cell_type": "code",
   "execution_count": 11,
   "id": "b4d30f87-6ee3-4a31-9c35-6f5df3c71d72",
   "metadata": {},
   "outputs": [],
   "source": [
    "train_data = pd.read_csv(\"Data/train.csv\")\n",
    "test_data = pd.read_csv(\"Data/test.csv\")"
   ]
  },
  {
   "cell_type": "code",
   "execution_count": 12,
   "id": "65399f08-0b9f-4278-b25d-94b70c17834d",
   "metadata": {
    "tags": []
   },
   "outputs": [
    {
     "data": {
      "text/html": [
       "<div>\n",
       "<style scoped>\n",
       "    .dataframe tbody tr th:only-of-type {\n",
       "        vertical-align: middle;\n",
       "    }\n",
       "\n",
       "    .dataframe tbody tr th {\n",
       "        vertical-align: top;\n",
       "    }\n",
       "\n",
       "    .dataframe thead th {\n",
       "        text-align: right;\n",
       "    }\n",
       "</style>\n",
       "<table border=\"1\" class=\"dataframe\">\n",
       "  <thead>\n",
       "    <tr style=\"text-align: right;\">\n",
       "      <th></th>\n",
       "      <th>Id</th>\n",
       "      <th>MSSubClass</th>\n",
       "      <th>MSZoning</th>\n",
       "      <th>LotFrontage</th>\n",
       "      <th>LotArea</th>\n",
       "      <th>Street</th>\n",
       "      <th>Alley</th>\n",
       "      <th>LotShape</th>\n",
       "      <th>LandContour</th>\n",
       "      <th>Utilities</th>\n",
       "      <th>...</th>\n",
       "      <th>PoolArea</th>\n",
       "      <th>PoolQC</th>\n",
       "      <th>Fence</th>\n",
       "      <th>MiscFeature</th>\n",
       "      <th>MiscVal</th>\n",
       "      <th>MoSold</th>\n",
       "      <th>YrSold</th>\n",
       "      <th>SaleType</th>\n",
       "      <th>SaleCondition</th>\n",
       "      <th>SalePrice</th>\n",
       "    </tr>\n",
       "  </thead>\n",
       "  <tbody>\n",
       "    <tr>\n",
       "      <th>0</th>\n",
       "      <td>1</td>\n",
       "      <td>60</td>\n",
       "      <td>RL</td>\n",
       "      <td>65.0</td>\n",
       "      <td>8450</td>\n",
       "      <td>Pave</td>\n",
       "      <td>NaN</td>\n",
       "      <td>Reg</td>\n",
       "      <td>Lvl</td>\n",
       "      <td>AllPub</td>\n",
       "      <td>...</td>\n",
       "      <td>0</td>\n",
       "      <td>NaN</td>\n",
       "      <td>NaN</td>\n",
       "      <td>NaN</td>\n",
       "      <td>0</td>\n",
       "      <td>2</td>\n",
       "      <td>2008</td>\n",
       "      <td>WD</td>\n",
       "      <td>Normal</td>\n",
       "      <td>208500</td>\n",
       "    </tr>\n",
       "    <tr>\n",
       "      <th>1</th>\n",
       "      <td>2</td>\n",
       "      <td>20</td>\n",
       "      <td>RL</td>\n",
       "      <td>80.0</td>\n",
       "      <td>9600</td>\n",
       "      <td>Pave</td>\n",
       "      <td>NaN</td>\n",
       "      <td>Reg</td>\n",
       "      <td>Lvl</td>\n",
       "      <td>AllPub</td>\n",
       "      <td>...</td>\n",
       "      <td>0</td>\n",
       "      <td>NaN</td>\n",
       "      <td>NaN</td>\n",
       "      <td>NaN</td>\n",
       "      <td>0</td>\n",
       "      <td>5</td>\n",
       "      <td>2007</td>\n",
       "      <td>WD</td>\n",
       "      <td>Normal</td>\n",
       "      <td>181500</td>\n",
       "    </tr>\n",
       "    <tr>\n",
       "      <th>2</th>\n",
       "      <td>3</td>\n",
       "      <td>60</td>\n",
       "      <td>RL</td>\n",
       "      <td>68.0</td>\n",
       "      <td>11250</td>\n",
       "      <td>Pave</td>\n",
       "      <td>NaN</td>\n",
       "      <td>IR1</td>\n",
       "      <td>Lvl</td>\n",
       "      <td>AllPub</td>\n",
       "      <td>...</td>\n",
       "      <td>0</td>\n",
       "      <td>NaN</td>\n",
       "      <td>NaN</td>\n",
       "      <td>NaN</td>\n",
       "      <td>0</td>\n",
       "      <td>9</td>\n",
       "      <td>2008</td>\n",
       "      <td>WD</td>\n",
       "      <td>Normal</td>\n",
       "      <td>223500</td>\n",
       "    </tr>\n",
       "    <tr>\n",
       "      <th>3</th>\n",
       "      <td>4</td>\n",
       "      <td>70</td>\n",
       "      <td>RL</td>\n",
       "      <td>60.0</td>\n",
       "      <td>9550</td>\n",
       "      <td>Pave</td>\n",
       "      <td>NaN</td>\n",
       "      <td>IR1</td>\n",
       "      <td>Lvl</td>\n",
       "      <td>AllPub</td>\n",
       "      <td>...</td>\n",
       "      <td>0</td>\n",
       "      <td>NaN</td>\n",
       "      <td>NaN</td>\n",
       "      <td>NaN</td>\n",
       "      <td>0</td>\n",
       "      <td>2</td>\n",
       "      <td>2006</td>\n",
       "      <td>WD</td>\n",
       "      <td>Abnorml</td>\n",
       "      <td>140000</td>\n",
       "    </tr>\n",
       "    <tr>\n",
       "      <th>4</th>\n",
       "      <td>5</td>\n",
       "      <td>60</td>\n",
       "      <td>RL</td>\n",
       "      <td>84.0</td>\n",
       "      <td>14260</td>\n",
       "      <td>Pave</td>\n",
       "      <td>NaN</td>\n",
       "      <td>IR1</td>\n",
       "      <td>Lvl</td>\n",
       "      <td>AllPub</td>\n",
       "      <td>...</td>\n",
       "      <td>0</td>\n",
       "      <td>NaN</td>\n",
       "      <td>NaN</td>\n",
       "      <td>NaN</td>\n",
       "      <td>0</td>\n",
       "      <td>12</td>\n",
       "      <td>2008</td>\n",
       "      <td>WD</td>\n",
       "      <td>Normal</td>\n",
       "      <td>250000</td>\n",
       "    </tr>\n",
       "    <tr>\n",
       "      <th>...</th>\n",
       "      <td>...</td>\n",
       "      <td>...</td>\n",
       "      <td>...</td>\n",
       "      <td>...</td>\n",
       "      <td>...</td>\n",
       "      <td>...</td>\n",
       "      <td>...</td>\n",
       "      <td>...</td>\n",
       "      <td>...</td>\n",
       "      <td>...</td>\n",
       "      <td>...</td>\n",
       "      <td>...</td>\n",
       "      <td>...</td>\n",
       "      <td>...</td>\n",
       "      <td>...</td>\n",
       "      <td>...</td>\n",
       "      <td>...</td>\n",
       "      <td>...</td>\n",
       "      <td>...</td>\n",
       "      <td>...</td>\n",
       "      <td>...</td>\n",
       "    </tr>\n",
       "    <tr>\n",
       "      <th>1455</th>\n",
       "      <td>1456</td>\n",
       "      <td>60</td>\n",
       "      <td>RL</td>\n",
       "      <td>62.0</td>\n",
       "      <td>7917</td>\n",
       "      <td>Pave</td>\n",
       "      <td>NaN</td>\n",
       "      <td>Reg</td>\n",
       "      <td>Lvl</td>\n",
       "      <td>AllPub</td>\n",
       "      <td>...</td>\n",
       "      <td>0</td>\n",
       "      <td>NaN</td>\n",
       "      <td>NaN</td>\n",
       "      <td>NaN</td>\n",
       "      <td>0</td>\n",
       "      <td>8</td>\n",
       "      <td>2007</td>\n",
       "      <td>WD</td>\n",
       "      <td>Normal</td>\n",
       "      <td>175000</td>\n",
       "    </tr>\n",
       "    <tr>\n",
       "      <th>1456</th>\n",
       "      <td>1457</td>\n",
       "      <td>20</td>\n",
       "      <td>RL</td>\n",
       "      <td>85.0</td>\n",
       "      <td>13175</td>\n",
       "      <td>Pave</td>\n",
       "      <td>NaN</td>\n",
       "      <td>Reg</td>\n",
       "      <td>Lvl</td>\n",
       "      <td>AllPub</td>\n",
       "      <td>...</td>\n",
       "      <td>0</td>\n",
       "      <td>NaN</td>\n",
       "      <td>MnPrv</td>\n",
       "      <td>NaN</td>\n",
       "      <td>0</td>\n",
       "      <td>2</td>\n",
       "      <td>2010</td>\n",
       "      <td>WD</td>\n",
       "      <td>Normal</td>\n",
       "      <td>210000</td>\n",
       "    </tr>\n",
       "    <tr>\n",
       "      <th>1457</th>\n",
       "      <td>1458</td>\n",
       "      <td>70</td>\n",
       "      <td>RL</td>\n",
       "      <td>66.0</td>\n",
       "      <td>9042</td>\n",
       "      <td>Pave</td>\n",
       "      <td>NaN</td>\n",
       "      <td>Reg</td>\n",
       "      <td>Lvl</td>\n",
       "      <td>AllPub</td>\n",
       "      <td>...</td>\n",
       "      <td>0</td>\n",
       "      <td>NaN</td>\n",
       "      <td>GdPrv</td>\n",
       "      <td>Shed</td>\n",
       "      <td>2500</td>\n",
       "      <td>5</td>\n",
       "      <td>2010</td>\n",
       "      <td>WD</td>\n",
       "      <td>Normal</td>\n",
       "      <td>266500</td>\n",
       "    </tr>\n",
       "    <tr>\n",
       "      <th>1458</th>\n",
       "      <td>1459</td>\n",
       "      <td>20</td>\n",
       "      <td>RL</td>\n",
       "      <td>68.0</td>\n",
       "      <td>9717</td>\n",
       "      <td>Pave</td>\n",
       "      <td>NaN</td>\n",
       "      <td>Reg</td>\n",
       "      <td>Lvl</td>\n",
       "      <td>AllPub</td>\n",
       "      <td>...</td>\n",
       "      <td>0</td>\n",
       "      <td>NaN</td>\n",
       "      <td>NaN</td>\n",
       "      <td>NaN</td>\n",
       "      <td>0</td>\n",
       "      <td>4</td>\n",
       "      <td>2010</td>\n",
       "      <td>WD</td>\n",
       "      <td>Normal</td>\n",
       "      <td>142125</td>\n",
       "    </tr>\n",
       "    <tr>\n",
       "      <th>1459</th>\n",
       "      <td>1460</td>\n",
       "      <td>20</td>\n",
       "      <td>RL</td>\n",
       "      <td>75.0</td>\n",
       "      <td>9937</td>\n",
       "      <td>Pave</td>\n",
       "      <td>NaN</td>\n",
       "      <td>Reg</td>\n",
       "      <td>Lvl</td>\n",
       "      <td>AllPub</td>\n",
       "      <td>...</td>\n",
       "      <td>0</td>\n",
       "      <td>NaN</td>\n",
       "      <td>NaN</td>\n",
       "      <td>NaN</td>\n",
       "      <td>0</td>\n",
       "      <td>6</td>\n",
       "      <td>2008</td>\n",
       "      <td>WD</td>\n",
       "      <td>Normal</td>\n",
       "      <td>147500</td>\n",
       "    </tr>\n",
       "  </tbody>\n",
       "</table>\n",
       "<p>1460 rows × 81 columns</p>\n",
       "</div>"
      ],
      "text/plain": [
       "        Id  MSSubClass MSZoning  LotFrontage  LotArea Street Alley LotShape  \\\n",
       "0        1          60       RL         65.0     8450   Pave   NaN      Reg   \n",
       "1        2          20       RL         80.0     9600   Pave   NaN      Reg   \n",
       "2        3          60       RL         68.0    11250   Pave   NaN      IR1   \n",
       "3        4          70       RL         60.0     9550   Pave   NaN      IR1   \n",
       "4        5          60       RL         84.0    14260   Pave   NaN      IR1   \n",
       "...    ...         ...      ...          ...      ...    ...   ...      ...   \n",
       "1455  1456          60       RL         62.0     7917   Pave   NaN      Reg   \n",
       "1456  1457          20       RL         85.0    13175   Pave   NaN      Reg   \n",
       "1457  1458          70       RL         66.0     9042   Pave   NaN      Reg   \n",
       "1458  1459          20       RL         68.0     9717   Pave   NaN      Reg   \n",
       "1459  1460          20       RL         75.0     9937   Pave   NaN      Reg   \n",
       "\n",
       "     LandContour Utilities  ... PoolArea PoolQC  Fence MiscFeature MiscVal  \\\n",
       "0            Lvl    AllPub  ...        0    NaN    NaN         NaN       0   \n",
       "1            Lvl    AllPub  ...        0    NaN    NaN         NaN       0   \n",
       "2            Lvl    AllPub  ...        0    NaN    NaN         NaN       0   \n",
       "3            Lvl    AllPub  ...        0    NaN    NaN         NaN       0   \n",
       "4            Lvl    AllPub  ...        0    NaN    NaN         NaN       0   \n",
       "...          ...       ...  ...      ...    ...    ...         ...     ...   \n",
       "1455         Lvl    AllPub  ...        0    NaN    NaN         NaN       0   \n",
       "1456         Lvl    AllPub  ...        0    NaN  MnPrv         NaN       0   \n",
       "1457         Lvl    AllPub  ...        0    NaN  GdPrv        Shed    2500   \n",
       "1458         Lvl    AllPub  ...        0    NaN    NaN         NaN       0   \n",
       "1459         Lvl    AllPub  ...        0    NaN    NaN         NaN       0   \n",
       "\n",
       "     MoSold YrSold  SaleType  SaleCondition  SalePrice  \n",
       "0         2   2008        WD         Normal     208500  \n",
       "1         5   2007        WD         Normal     181500  \n",
       "2         9   2008        WD         Normal     223500  \n",
       "3         2   2006        WD        Abnorml     140000  \n",
       "4        12   2008        WD         Normal     250000  \n",
       "...     ...    ...       ...            ...        ...  \n",
       "1455      8   2007        WD         Normal     175000  \n",
       "1456      2   2010        WD         Normal     210000  \n",
       "1457      5   2010        WD         Normal     266500  \n",
       "1458      4   2010        WD         Normal     142125  \n",
       "1459      6   2008        WD         Normal     147500  \n",
       "\n",
       "[1460 rows x 81 columns]"
      ]
     },
     "execution_count": 12,
     "metadata": {},
     "output_type": "execute_result"
    }
   ],
   "source": [
    "train_data"
   ]
  },
  {
   "cell_type": "code",
   "execution_count": 13,
   "id": "35151545-f74b-485b-95c3-830966061166",
   "metadata": {},
   "outputs": [
    {
     "data": {
      "text/plain": [
       "(1460, 81)"
      ]
     },
     "execution_count": 13,
     "metadata": {},
     "output_type": "execute_result"
    }
   ],
   "source": [
    "train_data.shape"
   ]
  },
  {
   "cell_type": "code",
   "execution_count": 14,
   "id": "92c2ddcc-2967-45a5-8109-5d2cae2f6a11",
   "metadata": {},
   "outputs": [
    {
     "data": {
      "text/html": [
       "<div>\n",
       "<style scoped>\n",
       "    .dataframe tbody tr th:only-of-type {\n",
       "        vertical-align: middle;\n",
       "    }\n",
       "\n",
       "    .dataframe tbody tr th {\n",
       "        vertical-align: top;\n",
       "    }\n",
       "\n",
       "    .dataframe thead th {\n",
       "        text-align: right;\n",
       "    }\n",
       "</style>\n",
       "<table border=\"1\" class=\"dataframe\">\n",
       "  <thead>\n",
       "    <tr style=\"text-align: right;\">\n",
       "      <th></th>\n",
       "      <th>Id</th>\n",
       "      <th>MSSubClass</th>\n",
       "      <th>MSZoning</th>\n",
       "      <th>LotFrontage</th>\n",
       "      <th>LotArea</th>\n",
       "      <th>Street</th>\n",
       "      <th>Alley</th>\n",
       "      <th>LotShape</th>\n",
       "      <th>LandContour</th>\n",
       "      <th>Utilities</th>\n",
       "      <th>...</th>\n",
       "      <th>ScreenPorch</th>\n",
       "      <th>PoolArea</th>\n",
       "      <th>PoolQC</th>\n",
       "      <th>Fence</th>\n",
       "      <th>MiscFeature</th>\n",
       "      <th>MiscVal</th>\n",
       "      <th>MoSold</th>\n",
       "      <th>YrSold</th>\n",
       "      <th>SaleType</th>\n",
       "      <th>SaleCondition</th>\n",
       "    </tr>\n",
       "  </thead>\n",
       "  <tbody>\n",
       "    <tr>\n",
       "      <th>0</th>\n",
       "      <td>1461</td>\n",
       "      <td>20</td>\n",
       "      <td>RH</td>\n",
       "      <td>80.0</td>\n",
       "      <td>11622</td>\n",
       "      <td>Pave</td>\n",
       "      <td>NaN</td>\n",
       "      <td>Reg</td>\n",
       "      <td>Lvl</td>\n",
       "      <td>AllPub</td>\n",
       "      <td>...</td>\n",
       "      <td>120</td>\n",
       "      <td>0</td>\n",
       "      <td>NaN</td>\n",
       "      <td>MnPrv</td>\n",
       "      <td>NaN</td>\n",
       "      <td>0</td>\n",
       "      <td>6</td>\n",
       "      <td>2010</td>\n",
       "      <td>WD</td>\n",
       "      <td>Normal</td>\n",
       "    </tr>\n",
       "    <tr>\n",
       "      <th>1</th>\n",
       "      <td>1462</td>\n",
       "      <td>20</td>\n",
       "      <td>RL</td>\n",
       "      <td>81.0</td>\n",
       "      <td>14267</td>\n",
       "      <td>Pave</td>\n",
       "      <td>NaN</td>\n",
       "      <td>IR1</td>\n",
       "      <td>Lvl</td>\n",
       "      <td>AllPub</td>\n",
       "      <td>...</td>\n",
       "      <td>0</td>\n",
       "      <td>0</td>\n",
       "      <td>NaN</td>\n",
       "      <td>NaN</td>\n",
       "      <td>Gar2</td>\n",
       "      <td>12500</td>\n",
       "      <td>6</td>\n",
       "      <td>2010</td>\n",
       "      <td>WD</td>\n",
       "      <td>Normal</td>\n",
       "    </tr>\n",
       "    <tr>\n",
       "      <th>2</th>\n",
       "      <td>1463</td>\n",
       "      <td>60</td>\n",
       "      <td>RL</td>\n",
       "      <td>74.0</td>\n",
       "      <td>13830</td>\n",
       "      <td>Pave</td>\n",
       "      <td>NaN</td>\n",
       "      <td>IR1</td>\n",
       "      <td>Lvl</td>\n",
       "      <td>AllPub</td>\n",
       "      <td>...</td>\n",
       "      <td>0</td>\n",
       "      <td>0</td>\n",
       "      <td>NaN</td>\n",
       "      <td>MnPrv</td>\n",
       "      <td>NaN</td>\n",
       "      <td>0</td>\n",
       "      <td>3</td>\n",
       "      <td>2010</td>\n",
       "      <td>WD</td>\n",
       "      <td>Normal</td>\n",
       "    </tr>\n",
       "    <tr>\n",
       "      <th>3</th>\n",
       "      <td>1464</td>\n",
       "      <td>60</td>\n",
       "      <td>RL</td>\n",
       "      <td>78.0</td>\n",
       "      <td>9978</td>\n",
       "      <td>Pave</td>\n",
       "      <td>NaN</td>\n",
       "      <td>IR1</td>\n",
       "      <td>Lvl</td>\n",
       "      <td>AllPub</td>\n",
       "      <td>...</td>\n",
       "      <td>0</td>\n",
       "      <td>0</td>\n",
       "      <td>NaN</td>\n",
       "      <td>NaN</td>\n",
       "      <td>NaN</td>\n",
       "      <td>0</td>\n",
       "      <td>6</td>\n",
       "      <td>2010</td>\n",
       "      <td>WD</td>\n",
       "      <td>Normal</td>\n",
       "    </tr>\n",
       "    <tr>\n",
       "      <th>4</th>\n",
       "      <td>1465</td>\n",
       "      <td>120</td>\n",
       "      <td>RL</td>\n",
       "      <td>43.0</td>\n",
       "      <td>5005</td>\n",
       "      <td>Pave</td>\n",
       "      <td>NaN</td>\n",
       "      <td>IR1</td>\n",
       "      <td>HLS</td>\n",
       "      <td>AllPub</td>\n",
       "      <td>...</td>\n",
       "      <td>144</td>\n",
       "      <td>0</td>\n",
       "      <td>NaN</td>\n",
       "      <td>NaN</td>\n",
       "      <td>NaN</td>\n",
       "      <td>0</td>\n",
       "      <td>1</td>\n",
       "      <td>2010</td>\n",
       "      <td>WD</td>\n",
       "      <td>Normal</td>\n",
       "    </tr>\n",
       "    <tr>\n",
       "      <th>...</th>\n",
       "      <td>...</td>\n",
       "      <td>...</td>\n",
       "      <td>...</td>\n",
       "      <td>...</td>\n",
       "      <td>...</td>\n",
       "      <td>...</td>\n",
       "      <td>...</td>\n",
       "      <td>...</td>\n",
       "      <td>...</td>\n",
       "      <td>...</td>\n",
       "      <td>...</td>\n",
       "      <td>...</td>\n",
       "      <td>...</td>\n",
       "      <td>...</td>\n",
       "      <td>...</td>\n",
       "      <td>...</td>\n",
       "      <td>...</td>\n",
       "      <td>...</td>\n",
       "      <td>...</td>\n",
       "      <td>...</td>\n",
       "      <td>...</td>\n",
       "    </tr>\n",
       "    <tr>\n",
       "      <th>1454</th>\n",
       "      <td>2915</td>\n",
       "      <td>160</td>\n",
       "      <td>RM</td>\n",
       "      <td>21.0</td>\n",
       "      <td>1936</td>\n",
       "      <td>Pave</td>\n",
       "      <td>NaN</td>\n",
       "      <td>Reg</td>\n",
       "      <td>Lvl</td>\n",
       "      <td>AllPub</td>\n",
       "      <td>...</td>\n",
       "      <td>0</td>\n",
       "      <td>0</td>\n",
       "      <td>NaN</td>\n",
       "      <td>NaN</td>\n",
       "      <td>NaN</td>\n",
       "      <td>0</td>\n",
       "      <td>6</td>\n",
       "      <td>2006</td>\n",
       "      <td>WD</td>\n",
       "      <td>Normal</td>\n",
       "    </tr>\n",
       "    <tr>\n",
       "      <th>1455</th>\n",
       "      <td>2916</td>\n",
       "      <td>160</td>\n",
       "      <td>RM</td>\n",
       "      <td>21.0</td>\n",
       "      <td>1894</td>\n",
       "      <td>Pave</td>\n",
       "      <td>NaN</td>\n",
       "      <td>Reg</td>\n",
       "      <td>Lvl</td>\n",
       "      <td>AllPub</td>\n",
       "      <td>...</td>\n",
       "      <td>0</td>\n",
       "      <td>0</td>\n",
       "      <td>NaN</td>\n",
       "      <td>NaN</td>\n",
       "      <td>NaN</td>\n",
       "      <td>0</td>\n",
       "      <td>4</td>\n",
       "      <td>2006</td>\n",
       "      <td>WD</td>\n",
       "      <td>Abnorml</td>\n",
       "    </tr>\n",
       "    <tr>\n",
       "      <th>1456</th>\n",
       "      <td>2917</td>\n",
       "      <td>20</td>\n",
       "      <td>RL</td>\n",
       "      <td>160.0</td>\n",
       "      <td>20000</td>\n",
       "      <td>Pave</td>\n",
       "      <td>NaN</td>\n",
       "      <td>Reg</td>\n",
       "      <td>Lvl</td>\n",
       "      <td>AllPub</td>\n",
       "      <td>...</td>\n",
       "      <td>0</td>\n",
       "      <td>0</td>\n",
       "      <td>NaN</td>\n",
       "      <td>NaN</td>\n",
       "      <td>NaN</td>\n",
       "      <td>0</td>\n",
       "      <td>9</td>\n",
       "      <td>2006</td>\n",
       "      <td>WD</td>\n",
       "      <td>Abnorml</td>\n",
       "    </tr>\n",
       "    <tr>\n",
       "      <th>1457</th>\n",
       "      <td>2918</td>\n",
       "      <td>85</td>\n",
       "      <td>RL</td>\n",
       "      <td>62.0</td>\n",
       "      <td>10441</td>\n",
       "      <td>Pave</td>\n",
       "      <td>NaN</td>\n",
       "      <td>Reg</td>\n",
       "      <td>Lvl</td>\n",
       "      <td>AllPub</td>\n",
       "      <td>...</td>\n",
       "      <td>0</td>\n",
       "      <td>0</td>\n",
       "      <td>NaN</td>\n",
       "      <td>MnPrv</td>\n",
       "      <td>Shed</td>\n",
       "      <td>700</td>\n",
       "      <td>7</td>\n",
       "      <td>2006</td>\n",
       "      <td>WD</td>\n",
       "      <td>Normal</td>\n",
       "    </tr>\n",
       "    <tr>\n",
       "      <th>1458</th>\n",
       "      <td>2919</td>\n",
       "      <td>60</td>\n",
       "      <td>RL</td>\n",
       "      <td>74.0</td>\n",
       "      <td>9627</td>\n",
       "      <td>Pave</td>\n",
       "      <td>NaN</td>\n",
       "      <td>Reg</td>\n",
       "      <td>Lvl</td>\n",
       "      <td>AllPub</td>\n",
       "      <td>...</td>\n",
       "      <td>0</td>\n",
       "      <td>0</td>\n",
       "      <td>NaN</td>\n",
       "      <td>NaN</td>\n",
       "      <td>NaN</td>\n",
       "      <td>0</td>\n",
       "      <td>11</td>\n",
       "      <td>2006</td>\n",
       "      <td>WD</td>\n",
       "      <td>Normal</td>\n",
       "    </tr>\n",
       "  </tbody>\n",
       "</table>\n",
       "<p>1459 rows × 80 columns</p>\n",
       "</div>"
      ],
      "text/plain": [
       "        Id  MSSubClass MSZoning  LotFrontage  LotArea Street Alley LotShape  \\\n",
       "0     1461          20       RH         80.0    11622   Pave   NaN      Reg   \n",
       "1     1462          20       RL         81.0    14267   Pave   NaN      IR1   \n",
       "2     1463          60       RL         74.0    13830   Pave   NaN      IR1   \n",
       "3     1464          60       RL         78.0     9978   Pave   NaN      IR1   \n",
       "4     1465         120       RL         43.0     5005   Pave   NaN      IR1   \n",
       "...    ...         ...      ...          ...      ...    ...   ...      ...   \n",
       "1454  2915         160       RM         21.0     1936   Pave   NaN      Reg   \n",
       "1455  2916         160       RM         21.0     1894   Pave   NaN      Reg   \n",
       "1456  2917          20       RL        160.0    20000   Pave   NaN      Reg   \n",
       "1457  2918          85       RL         62.0    10441   Pave   NaN      Reg   \n",
       "1458  2919          60       RL         74.0     9627   Pave   NaN      Reg   \n",
       "\n",
       "     LandContour Utilities  ... ScreenPorch PoolArea PoolQC  Fence  \\\n",
       "0            Lvl    AllPub  ...         120        0    NaN  MnPrv   \n",
       "1            Lvl    AllPub  ...           0        0    NaN    NaN   \n",
       "2            Lvl    AllPub  ...           0        0    NaN  MnPrv   \n",
       "3            Lvl    AllPub  ...           0        0    NaN    NaN   \n",
       "4            HLS    AllPub  ...         144        0    NaN    NaN   \n",
       "...          ...       ...  ...         ...      ...    ...    ...   \n",
       "1454         Lvl    AllPub  ...           0        0    NaN    NaN   \n",
       "1455         Lvl    AllPub  ...           0        0    NaN    NaN   \n",
       "1456         Lvl    AllPub  ...           0        0    NaN    NaN   \n",
       "1457         Lvl    AllPub  ...           0        0    NaN  MnPrv   \n",
       "1458         Lvl    AllPub  ...           0        0    NaN    NaN   \n",
       "\n",
       "     MiscFeature MiscVal MoSold  YrSold  SaleType  SaleCondition  \n",
       "0            NaN       0      6    2010        WD         Normal  \n",
       "1           Gar2   12500      6    2010        WD         Normal  \n",
       "2            NaN       0      3    2010        WD         Normal  \n",
       "3            NaN       0      6    2010        WD         Normal  \n",
       "4            NaN       0      1    2010        WD         Normal  \n",
       "...          ...     ...    ...     ...       ...            ...  \n",
       "1454         NaN       0      6    2006        WD         Normal  \n",
       "1455         NaN       0      4    2006        WD        Abnorml  \n",
       "1456         NaN       0      9    2006        WD        Abnorml  \n",
       "1457        Shed     700      7    2006        WD         Normal  \n",
       "1458         NaN       0     11    2006        WD         Normal  \n",
       "\n",
       "[1459 rows x 80 columns]"
      ]
     },
     "execution_count": 14,
     "metadata": {},
     "output_type": "execute_result"
    }
   ],
   "source": [
    "test_data"
   ]
  },
  {
   "cell_type": "markdown",
   "id": "055a194f-1e56-4b21-a2e6-5efd4a4adde2",
   "metadata": {},
   "source": [
    "<div class=\"alert alert-block alert-success\">\n",
    "We see that <strong>test</strong> have all the columns except the <strong>'SalePrice'</strong> which is our target\n",
    "</div>"
   ]
  },
  {
   "cell_type": "code",
   "execution_count": 15,
   "id": "c0a5be1e-fc5b-4467-b229-056bb7730339",
   "metadata": {},
   "outputs": [],
   "source": [
    "# concat all data so we can make all the preprocessing on all\n",
    "target = train_data['SalePrice']\n",
    "all_data = pd.concat([train_data.drop('SalePrice',axis=1), test_data])"
   ]
  },
  {
   "cell_type": "code",
   "execution_count": 16,
   "id": "5b25a4ef-d580-4296-a17a-6459459a1768",
   "metadata": {},
   "outputs": [
    {
     "data": {
      "text/plain": [
       "(2919, 80)"
      ]
     },
     "execution_count": 16,
     "metadata": {},
     "output_type": "execute_result"
    }
   ],
   "source": [
    "all_data.shape"
   ]
  },
  {
   "cell_type": "markdown",
   "id": "ee72cdf1-34cb-4b02-befe-dce709385b33",
   "metadata": {},
   "source": [
    "---"
   ]
  },
  {
   "cell_type": "markdown",
   "id": "1f33158b-1f0f-4df1-b30a-43cba8dca272",
   "metadata": {
    "tags": []
   },
   "source": [
    " #### visual reports"
   ]
  },
  {
   "cell_type": "code",
   "execution_count": 17,
   "id": "a9689a16-0e90-485e-a0af-90909484144b",
   "metadata": {
    "tags": []
   },
   "outputs": [
    {
     "name": "stdout",
     "output_type": "stream",
     "text": [
      "Shape of your Data Set loaded: (1460, 81)\n",
      "#######################################################################################\n",
      "######################## C L A S S I F Y I N G  V A R I A B L E S  ####################\n",
      "#######################################################################################\n",
      "Classifying variables in data set...\n",
      "Data cleaning improvement suggestions. Complete them before proceeding to ML modeling.\n"
     ]
    },
    {
     "data": {
      "text/html": [
       "<style type=\"text/css\">\n",
       "#T_6a262_row0_col0, #T_6a262_row0_col4, #T_6a262_row70_col2, #T_6a262_row70_col3, #T_6a262_row75_col5 {\n",
       "  background-color: #67000d;\n",
       "  color: #f1f1f1;\n",
       "  font-family: Segoe UI;\n",
       "}\n",
       "#T_6a262_row0_col1, #T_6a262_row0_col6, #T_6a262_row1_col1, #T_6a262_row1_col6, #T_6a262_row2_col1, #T_6a262_row2_col6, #T_6a262_row3_col1, #T_6a262_row3_col6, #T_6a262_row4_col1, #T_6a262_row4_col6, #T_6a262_row5_col1, #T_6a262_row5_col6, #T_6a262_row6_col1, #T_6a262_row6_col6, #T_6a262_row7_col1, #T_6a262_row7_col6, #T_6a262_row8_col1, #T_6a262_row8_col6, #T_6a262_row9_col1, #T_6a262_row9_col6, #T_6a262_row10_col1, #T_6a262_row10_col6, #T_6a262_row11_col1, #T_6a262_row11_col6, #T_6a262_row12_col1, #T_6a262_row12_col6, #T_6a262_row13_col1, #T_6a262_row13_col6, #T_6a262_row14_col1, #T_6a262_row14_col6, #T_6a262_row15_col1, #T_6a262_row15_col6, #T_6a262_row16_col1, #T_6a262_row16_col6, #T_6a262_row17_col1, #T_6a262_row17_col6, #T_6a262_row18_col1, #T_6a262_row18_col6, #T_6a262_row19_col1, #T_6a262_row19_col6, #T_6a262_row20_col1, #T_6a262_row20_col6, #T_6a262_row21_col1, #T_6a262_row21_col6, #T_6a262_row22_col1, #T_6a262_row22_col6, #T_6a262_row23_col1, #T_6a262_row23_col6, #T_6a262_row24_col1, #T_6a262_row24_col6, #T_6a262_row25_col1, #T_6a262_row25_col6, #T_6a262_row26_col1, #T_6a262_row26_col6, #T_6a262_row27_col1, #T_6a262_row27_col6, #T_6a262_row28_col1, #T_6a262_row28_col6, #T_6a262_row29_col1, #T_6a262_row29_col6, #T_6a262_row30_col1, #T_6a262_row30_col6, #T_6a262_row31_col1, #T_6a262_row31_col6, #T_6a262_row32_col1, #T_6a262_row32_col6, #T_6a262_row33_col1, #T_6a262_row33_col6, #T_6a262_row34_col1, #T_6a262_row34_col6, #T_6a262_row35_col1, #T_6a262_row35_col6, #T_6a262_row36_col1, #T_6a262_row36_col6, #T_6a262_row37_col1, #T_6a262_row37_col6, #T_6a262_row38_col1, #T_6a262_row38_col6, #T_6a262_row39_col1, #T_6a262_row39_col6, #T_6a262_row40_col1, #T_6a262_row40_col6, #T_6a262_row41_col1, #T_6a262_row41_col6, #T_6a262_row42_col1, #T_6a262_row42_col6, #T_6a262_row43_col1, #T_6a262_row43_col6, #T_6a262_row44_col1, #T_6a262_row44_col6, #T_6a262_row45_col1, #T_6a262_row45_col6, #T_6a262_row46_col1, #T_6a262_row46_col6, #T_6a262_row47_col1, #T_6a262_row47_col6, #T_6a262_row48_col1, #T_6a262_row48_col6, #T_6a262_row49_col1, #T_6a262_row49_col6, #T_6a262_row50_col1, #T_6a262_row50_col6, #T_6a262_row51_col1, #T_6a262_row51_col6, #T_6a262_row52_col1, #T_6a262_row52_col6, #T_6a262_row53_col1, #T_6a262_row53_col6, #T_6a262_row54_col1, #T_6a262_row54_col6, #T_6a262_row55_col1, #T_6a262_row55_col6, #T_6a262_row56_col1, #T_6a262_row56_col6, #T_6a262_row57_col1, #T_6a262_row57_col6, #T_6a262_row58_col1, #T_6a262_row58_col6, #T_6a262_row59_col1, #T_6a262_row59_col6, #T_6a262_row60_col1, #T_6a262_row60_col6, #T_6a262_row61_col1, #T_6a262_row61_col6, #T_6a262_row62_col1, #T_6a262_row62_col6, #T_6a262_row63_col1, #T_6a262_row63_col6, #T_6a262_row64_col1, #T_6a262_row64_col6, #T_6a262_row65_col1, #T_6a262_row65_col6, #T_6a262_row66_col1, #T_6a262_row66_col6, #T_6a262_row67_col1, #T_6a262_row67_col6, #T_6a262_row68_col1, #T_6a262_row68_col6, #T_6a262_row69_col1, #T_6a262_row69_col6, #T_6a262_row70_col1, #T_6a262_row70_col6, #T_6a262_row71_col1, #T_6a262_row71_col6, #T_6a262_row72_col1, #T_6a262_row72_col6, #T_6a262_row73_col1, #T_6a262_row73_col6, #T_6a262_row74_col1, #T_6a262_row74_col6, #T_6a262_row75_col1, #T_6a262_row75_col6, #T_6a262_row76_col1, #T_6a262_row76_col6, #T_6a262_row77_col1, #T_6a262_row77_col6, #T_6a262_row78_col1, #T_6a262_row78_col6, #T_6a262_row79_col1, #T_6a262_row79_col6 {\n",
       "  font-family: Segoe UI;\n",
       "}\n",
       "#T_6a262_row0_col2, #T_6a262_row0_col3, #T_6a262_row0_col5, #T_6a262_row1_col2, #T_6a262_row1_col3, #T_6a262_row1_col5, #T_6a262_row2_col2, #T_6a262_row2_col3, #T_6a262_row2_col5, #T_6a262_row3_col2, #T_6a262_row3_col3, #T_6a262_row3_col5, #T_6a262_row4_col2, #T_6a262_row4_col3, #T_6a262_row4_col5, #T_6a262_row5_col2, #T_6a262_row5_col3, #T_6a262_row5_col5, #T_6a262_row6_col2, #T_6a262_row6_col3, #T_6a262_row6_col5, #T_6a262_row7_col2, #T_6a262_row7_col3, #T_6a262_row7_col5, #T_6a262_row8_col2, #T_6a262_row8_col3, #T_6a262_row8_col5, #T_6a262_row9_col5, #T_6a262_row10_col2, #T_6a262_row10_col3, #T_6a262_row10_col5, #T_6a262_row11_col2, #T_6a262_row11_col3, #T_6a262_row11_col5, #T_6a262_row12_col2, #T_6a262_row12_col3, #T_6a262_row12_col5, #T_6a262_row13_col2, #T_6a262_row13_col3, #T_6a262_row13_col5, #T_6a262_row14_col2, #T_6a262_row14_col3, #T_6a262_row14_col5, #T_6a262_row15_col5, #T_6a262_row16_col5, #T_6a262_row17_col2, #T_6a262_row17_col3, #T_6a262_row17_col5, #T_6a262_row18_col2, #T_6a262_row18_col3, #T_6a262_row18_col5, #T_6a262_row19_col2, #T_6a262_row19_col3, #T_6a262_row20_col2, #T_6a262_row20_col3, #T_6a262_row20_col5, #T_6a262_row21_col2, #T_6a262_row21_col3, #T_6a262_row21_col5, #T_6a262_row22_col2, #T_6a262_row22_col3, #T_6a262_row22_col5, #T_6a262_row23_col2, #T_6a262_row23_col3, #T_6a262_row23_col5, #T_6a262_row24_col2, #T_6a262_row24_col3, #T_6a262_row24_col5, #T_6a262_row25_col2, #T_6a262_row25_col3, #T_6a262_row25_col5, #T_6a262_row26_col2, #T_6a262_row26_col3, #T_6a262_row26_col5, #T_6a262_row27_col2, #T_6a262_row27_col3, #T_6a262_row27_col5, #T_6a262_row28_col2, #T_6a262_row28_col3, #T_6a262_row28_col5, #T_6a262_row29_col2, #T_6a262_row29_col3, #T_6a262_row29_col5, #T_6a262_row30_col2, #T_6a262_row30_col3, #T_6a262_row31_col2, #T_6a262_row31_col3, #T_6a262_row32_col2, #T_6a262_row32_col3, #T_6a262_row32_col5, #T_6a262_row33_col2, #T_6a262_row33_col3, #T_6a262_row33_col5, #T_6a262_row34_col2, #T_6a262_row34_col3, #T_6a262_row34_col5, #T_6a262_row35_col2, #T_6a262_row35_col3, #T_6a262_row36_col2, #T_6a262_row36_col3, #T_6a262_row36_col5, #T_6a262_row37_col0, #T_6a262_row37_col2, #T_6a262_row37_col3, #T_6a262_row37_col4, #T_6a262_row37_col5, #T_6a262_row38_col0, #T_6a262_row38_col4, #T_6a262_row39_col0, #T_6a262_row39_col2, #T_6a262_row39_col3, #T_6a262_row39_col4, #T_6a262_row40_col0, #T_6a262_row40_col2, #T_6a262_row40_col3, #T_6a262_row40_col4, #T_6a262_row40_col5, #T_6a262_row41_col0, #T_6a262_row41_col2, #T_6a262_row41_col3, #T_6a262_row41_col4, #T_6a262_row42_col0, #T_6a262_row42_col4, #T_6a262_row43_col0, #T_6a262_row43_col4, #T_6a262_row44_col0, #T_6a262_row44_col2, #T_6a262_row44_col3, #T_6a262_row44_col4, #T_6a262_row45_col0, #T_6a262_row45_col2, #T_6a262_row45_col3, #T_6a262_row45_col4, #T_6a262_row46_col0, #T_6a262_row46_col2, #T_6a262_row46_col3, #T_6a262_row46_col4, #T_6a262_row46_col5, #T_6a262_row47_col0, #T_6a262_row47_col2, #T_6a262_row47_col3, #T_6a262_row47_col4, #T_6a262_row48_col0, #T_6a262_row48_col2, #T_6a262_row48_col3, #T_6a262_row48_col4, #T_6a262_row49_col0, #T_6a262_row49_col4, #T_6a262_row50_col0, #T_6a262_row50_col4, #T_6a262_row51_col0, #T_6a262_row51_col2, #T_6a262_row51_col3, #T_6a262_row51_col4, #T_6a262_row51_col5, #T_6a262_row52_col0, #T_6a262_row52_col4, #T_6a262_row53_col0, #T_6a262_row53_col2, #T_6a262_row53_col3, #T_6a262_row53_col4, #T_6a262_row53_col5, #T_6a262_row54_col0, #T_6a262_row54_col2, #T_6a262_row54_col3, #T_6a262_row54_col4, #T_6a262_row54_col5, #T_6a262_row55_col0, #T_6a262_row55_col2, #T_6a262_row55_col3, #T_6a262_row55_col4, #T_6a262_row55_col5, #T_6a262_row56_col0, #T_6a262_row56_col2, #T_6a262_row56_col3, #T_6a262_row56_col4, #T_6a262_row57_col0, #T_6a262_row57_col2, #T_6a262_row57_col3, #T_6a262_row57_col4, #T_6a262_row58_col0, #T_6a262_row58_col2, #T_6a262_row58_col3, #T_6a262_row58_col4, #T_6a262_row58_col5, #T_6a262_row59_col0, #T_6a262_row59_col2, #T_6a262_row59_col3, #T_6a262_row59_col4, #T_6a262_row60_col0, #T_6a262_row60_col4, #T_6a262_row61_col0, #T_6a262_row61_col4, #T_6a262_row62_col0, #T_6a262_row62_col4, #T_6a262_row63_col0, #T_6a262_row63_col2, #T_6a262_row63_col3, #T_6a262_row63_col4, #T_6a262_row63_col5, #T_6a262_row64_col0, #T_6a262_row64_col4, #T_6a262_row64_col5, #T_6a262_row65_col0, #T_6a262_row65_col4, #T_6a262_row66_col0, #T_6a262_row66_col2, #T_6a262_row66_col3, #T_6a262_row66_col4, #T_6a262_row66_col5, #T_6a262_row67_col0, #T_6a262_row67_col2, #T_6a262_row67_col3, #T_6a262_row67_col4, #T_6a262_row67_col5, #T_6a262_row68_col0, #T_6a262_row68_col4, #T_6a262_row69_col0, #T_6a262_row69_col2, #T_6a262_row69_col3, #T_6a262_row69_col4, #T_6a262_row70_col0, #T_6a262_row70_col4, #T_6a262_row71_col0, #T_6a262_row71_col2, #T_6a262_row71_col3, #T_6a262_row71_col4, #T_6a262_row72_col0, #T_6a262_row72_col2, #T_6a262_row72_col3, #T_6a262_row72_col4, #T_6a262_row73_col0, #T_6a262_row73_col2, #T_6a262_row73_col3, #T_6a262_row73_col4, #T_6a262_row73_col5, #T_6a262_row74_col0, #T_6a262_row74_col2, #T_6a262_row74_col3, #T_6a262_row74_col4, #T_6a262_row74_col5, #T_6a262_row75_col0, #T_6a262_row75_col4, #T_6a262_row76_col0, #T_6a262_row76_col2, #T_6a262_row76_col3, #T_6a262_row76_col4, #T_6a262_row76_col5, #T_6a262_row77_col0, #T_6a262_row77_col4, #T_6a262_row78_col0, #T_6a262_row78_col2, #T_6a262_row78_col3, #T_6a262_row78_col4, #T_6a262_row79_col0, #T_6a262_row79_col2, #T_6a262_row79_col3, #T_6a262_row79_col4 {\n",
       "  background-color: #fff5f0;\n",
       "  color: #000000;\n",
       "  font-family: Segoe UI;\n",
       "}\n",
       "#T_6a262_row1_col0, #T_6a262_row1_col4 {\n",
       "  background-color: #cf1c1f;\n",
       "  color: #f1f1f1;\n",
       "  font-family: Segoe UI;\n",
       "}\n",
       "#T_6a262_row2_col0, #T_6a262_row2_col4 {\n",
       "  background-color: #f34935;\n",
       "  color: #f1f1f1;\n",
       "  font-family: Segoe UI;\n",
       "}\n",
       "#T_6a262_row3_col0, #T_6a262_row3_col4 {\n",
       "  background-color: #f85d42;\n",
       "  color: #f1f1f1;\n",
       "  font-family: Segoe UI;\n",
       "}\n",
       "#T_6a262_row4_col0, #T_6a262_row4_col4 {\n",
       "  background-color: #fa6547;\n",
       "  color: #f1f1f1;\n",
       "  font-family: Segoe UI;\n",
       "}\n",
       "#T_6a262_row5_col0, #T_6a262_row5_col4 {\n",
       "  background-color: #fb6c4c;\n",
       "  color: #f1f1f1;\n",
       "  font-family: Segoe UI;\n",
       "}\n",
       "#T_6a262_row6_col0, #T_6a262_row6_col4 {\n",
       "  background-color: #fc7f5f;\n",
       "  color: #f1f1f1;\n",
       "  font-family: Segoe UI;\n",
       "}\n",
       "#T_6a262_row7_col0, #T_6a262_row7_col4 {\n",
       "  background-color: #fcaa8d;\n",
       "  color: #000000;\n",
       "  font-family: Segoe UI;\n",
       "}\n",
       "#T_6a262_row8_col0, #T_6a262_row8_col4 {\n",
       "  background-color: #fcb095;\n",
       "  color: #000000;\n",
       "  font-family: Segoe UI;\n",
       "}\n",
       "#T_6a262_row9_col0, #T_6a262_row9_col4 {\n",
       "  background-color: #fcc3ab;\n",
       "  color: #000000;\n",
       "  font-family: Segoe UI;\n",
       "}\n",
       "#T_6a262_row9_col2, #T_6a262_row9_col3, #T_6a262_row19_col5, #T_6a262_row26_col0, #T_6a262_row26_col4, #T_6a262_row27_col0, #T_6a262_row27_col4, #T_6a262_row28_col0, #T_6a262_row28_col4, #T_6a262_row29_col0, #T_6a262_row29_col4, #T_6a262_row30_col0, #T_6a262_row30_col4, #T_6a262_row30_col5, #T_6a262_row31_col0, #T_6a262_row31_col4, #T_6a262_row31_col5, #T_6a262_row32_col0, #T_6a262_row32_col4, #T_6a262_row33_col0, #T_6a262_row33_col4, #T_6a262_row34_col0, #T_6a262_row34_col4, #T_6a262_row35_col0, #T_6a262_row35_col4, #T_6a262_row36_col0, #T_6a262_row36_col4, #T_6a262_row44_col5, #T_6a262_row49_col5, #T_6a262_row60_col2, #T_6a262_row60_col3, #T_6a262_row68_col5, #T_6a262_row70_col5 {\n",
       "  background-color: #fff4ef;\n",
       "  color: #000000;\n",
       "  font-family: Segoe UI;\n",
       "}\n",
       "#T_6a262_row10_col0, #T_6a262_row10_col4 {\n",
       "  background-color: #fdcebb;\n",
       "  color: #000000;\n",
       "  font-family: Segoe UI;\n",
       "}\n",
       "#T_6a262_row11_col0, #T_6a262_row11_col4 {\n",
       "  background-color: #fedccd;\n",
       "  color: #000000;\n",
       "  font-family: Segoe UI;\n",
       "}\n",
       "#T_6a262_row12_col0, #T_6a262_row12_col4 {\n",
       "  background-color: #fee5d9;\n",
       "  color: #000000;\n",
       "  font-family: Segoe UI;\n",
       "}\n",
       "#T_6a262_row13_col0, #T_6a262_row13_col4 {\n",
       "  background-color: #fee8dd;\n",
       "  color: #000000;\n",
       "  font-family: Segoe UI;\n",
       "}\n",
       "#T_6a262_row14_col0, #T_6a262_row14_col4 {\n",
       "  background-color: #fee8de;\n",
       "  color: #000000;\n",
       "  font-family: Segoe UI;\n",
       "}\n",
       "#T_6a262_row15_col0, #T_6a262_row15_col4 {\n",
       "  background-color: #fee9df;\n",
       "  color: #000000;\n",
       "  font-family: Segoe UI;\n",
       "}\n",
       "#T_6a262_row15_col2, #T_6a262_row15_col3 {\n",
       "  background-color: #fdd1be;\n",
       "  color: #000000;\n",
       "  font-family: Segoe UI;\n",
       "}\n",
       "#T_6a262_row16_col0, #T_6a262_row16_col4 {\n",
       "  background-color: #feeae1;\n",
       "  color: #000000;\n",
       "  font-family: Segoe UI;\n",
       "}\n",
       "#T_6a262_row16_col2, #T_6a262_row16_col3, #T_6a262_row38_col2, #T_6a262_row38_col3, #T_6a262_row49_col2, #T_6a262_row49_col3, #T_6a262_row50_col2, #T_6a262_row50_col3, #T_6a262_row52_col5, #T_6a262_row75_col2, #T_6a262_row75_col3 {\n",
       "  background-color: #ffece3;\n",
       "  color: #000000;\n",
       "  font-family: Segoe UI;\n",
       "}\n",
       "#T_6a262_row17_col0, #T_6a262_row17_col4 {\n",
       "  background-color: #ffede5;\n",
       "  color: #000000;\n",
       "  font-family: Segoe UI;\n",
       "}\n",
       "#T_6a262_row18_col0, #T_6a262_row18_col4, #T_6a262_row42_col5, #T_6a262_row59_col5, #T_6a262_row60_col5 {\n",
       "  background-color: #ffeee7;\n",
       "  color: #000000;\n",
       "  font-family: Segoe UI;\n",
       "}\n",
       "#T_6a262_row19_col0, #T_6a262_row19_col4, #T_6a262_row38_col5, #T_6a262_row78_col5 {\n",
       "  background-color: #fff2ec;\n",
       "  color: #000000;\n",
       "  font-family: Segoe UI;\n",
       "}\n",
       "#T_6a262_row20_col0, #T_6a262_row20_col4, #T_6a262_row21_col0, #T_6a262_row21_col4, #T_6a262_row22_col0, #T_6a262_row22_col4 {\n",
       "  background-color: #fff3ed;\n",
       "  color: #000000;\n",
       "  font-family: Segoe UI;\n",
       "}\n",
       "#T_6a262_row23_col0, #T_6a262_row23_col4, #T_6a262_row24_col0, #T_6a262_row24_col4, #T_6a262_row25_col0, #T_6a262_row25_col4, #T_6a262_row39_col5, #T_6a262_row41_col5, #T_6a262_row47_col5, #T_6a262_row50_col5 {\n",
       "  background-color: #fff4ee;\n",
       "  color: #000000;\n",
       "  font-family: Segoe UI;\n",
       "}\n",
       "#T_6a262_row35_col5 {\n",
       "  background-color: #fff2eb;\n",
       "  color: #000000;\n",
       "  font-family: Segoe UI;\n",
       "}\n",
       "#T_6a262_row42_col2, #T_6a262_row42_col3, #T_6a262_row43_col2, #T_6a262_row43_col3, #T_6a262_row61_col2, #T_6a262_row61_col3, #T_6a262_row62_col2, #T_6a262_row62_col3, #T_6a262_row68_col2, #T_6a262_row68_col3 {\n",
       "  background-color: #fff1ea;\n",
       "  color: #000000;\n",
       "  font-family: Segoe UI;\n",
       "}\n",
       "#T_6a262_row43_col5 {\n",
       "  background-color: #fdc7b2;\n",
       "  color: #000000;\n",
       "  font-family: Segoe UI;\n",
       "}\n",
       "#T_6a262_row45_col5, #T_6a262_row57_col5 {\n",
       "  background-color: #fff0e9;\n",
       "  color: #000000;\n",
       "  font-family: Segoe UI;\n",
       "}\n",
       "#T_6a262_row48_col5 {\n",
       "  background-color: #fee7db;\n",
       "  color: #000000;\n",
       "  font-family: Segoe UI;\n",
       "}\n",
       "#T_6a262_row52_col2, #T_6a262_row52_col3 {\n",
       "  background-color: #fb7252;\n",
       "  color: #f1f1f1;\n",
       "  font-family: Segoe UI;\n",
       "}\n",
       "#T_6a262_row56_col5 {\n",
       "  background-color: #fee3d6;\n",
       "  color: #000000;\n",
       "  font-family: Segoe UI;\n",
       "}\n",
       "#T_6a262_row61_col5 {\n",
       "  background-color: #fee5d8;\n",
       "  color: #000000;\n",
       "  font-family: Segoe UI;\n",
       "}\n",
       "#T_6a262_row62_col5 {\n",
       "  background-color: #fca486;\n",
       "  color: #000000;\n",
       "  font-family: Segoe UI;\n",
       "}\n",
       "#T_6a262_row64_col2, #T_6a262_row64_col3 {\n",
       "  background-color: #77040f;\n",
       "  color: #f1f1f1;\n",
       "  font-family: Segoe UI;\n",
       "}\n",
       "#T_6a262_row65_col2, #T_6a262_row65_col3 {\n",
       "  background-color: #b81419;\n",
       "  color: #f1f1f1;\n",
       "  font-family: Segoe UI;\n",
       "}\n",
       "#T_6a262_row65_col5 {\n",
       "  background-color: #fff0e8;\n",
       "  color: #000000;\n",
       "  font-family: Segoe UI;\n",
       "}\n",
       "#T_6a262_row69_col5 {\n",
       "  background-color: #fee4d8;\n",
       "  color: #000000;\n",
       "  font-family: Segoe UI;\n",
       "}\n",
       "#T_6a262_row71_col5 {\n",
       "  background-color: #ffefe8;\n",
       "  color: #000000;\n",
       "  font-family: Segoe UI;\n",
       "}\n",
       "#T_6a262_row72_col5 {\n",
       "  background-color: #fee7dc;\n",
       "  color: #000000;\n",
       "  font-family: Segoe UI;\n",
       "}\n",
       "#T_6a262_row77_col2, #T_6a262_row77_col3 {\n",
       "  background-color: #820711;\n",
       "  color: #f1f1f1;\n",
       "  font-family: Segoe UI;\n",
       "}\n",
       "#T_6a262_row77_col5 {\n",
       "  background-color: #fee2d5;\n",
       "  color: #000000;\n",
       "  font-family: Segoe UI;\n",
       "}\n",
       "#T_6a262_row79_col5 {\n",
       "  background-color: #fcb499;\n",
       "  color: #000000;\n",
       "  font-family: Segoe UI;\n",
       "}\n",
       "</style>\n",
       "<table id=\"T_6a262\">\n",
       "  <thead>\n",
       "    <tr>\n",
       "      <th class=\"blank level0\" >&nbsp;</th>\n",
       "      <th id=\"T_6a262_level0_col0\" class=\"col_heading level0 col0\" >Nuniques</th>\n",
       "      <th id=\"T_6a262_level0_col1\" class=\"col_heading level0 col1\" >dtype</th>\n",
       "      <th id=\"T_6a262_level0_col2\" class=\"col_heading level0 col2\" >Nulls</th>\n",
       "      <th id=\"T_6a262_level0_col3\" class=\"col_heading level0 col3\" >Nullpercent</th>\n",
       "      <th id=\"T_6a262_level0_col4\" class=\"col_heading level0 col4\" >NuniquePercent</th>\n",
       "      <th id=\"T_6a262_level0_col5\" class=\"col_heading level0 col5\" >Value counts Min</th>\n",
       "      <th id=\"T_6a262_level0_col6\" class=\"col_heading level0 col6\" >Data cleaning improvement suggestions</th>\n",
       "    </tr>\n",
       "  </thead>\n",
       "  <tbody>\n",
       "    <tr>\n",
       "      <th id=\"T_6a262_level0_row0\" class=\"row_heading level0 row0\" >Id</th>\n",
       "      <td id=\"T_6a262_row0_col0\" class=\"data row0 col0\" >1460</td>\n",
       "      <td id=\"T_6a262_row0_col1\" class=\"data row0 col1\" >int64</td>\n",
       "      <td id=\"T_6a262_row0_col2\" class=\"data row0 col2\" >0</td>\n",
       "      <td id=\"T_6a262_row0_col3\" class=\"data row0 col3\" >0.000000</td>\n",
       "      <td id=\"T_6a262_row0_col4\" class=\"data row0 col4\" >100.000000</td>\n",
       "      <td id=\"T_6a262_row0_col5\" class=\"data row0 col5\" >0</td>\n",
       "      <td id=\"T_6a262_row0_col6\" class=\"data row0 col6\" >possible ID column: drop</td>\n",
       "    </tr>\n",
       "    <tr>\n",
       "      <th id=\"T_6a262_level0_row1\" class=\"row_heading level0 row1\" >LotArea</th>\n",
       "      <td id=\"T_6a262_row1_col0\" class=\"data row1 col0\" >1073</td>\n",
       "      <td id=\"T_6a262_row1_col1\" class=\"data row1 col1\" >int64</td>\n",
       "      <td id=\"T_6a262_row1_col2\" class=\"data row1 col2\" >0</td>\n",
       "      <td id=\"T_6a262_row1_col3\" class=\"data row1 col3\" >0.000000</td>\n",
       "      <td id=\"T_6a262_row1_col4\" class=\"data row1 col4\" >73.493151</td>\n",
       "      <td id=\"T_6a262_row1_col5\" class=\"data row1 col5\" >0</td>\n",
       "      <td id=\"T_6a262_row1_col6\" class=\"data row1 col6\" ></td>\n",
       "    </tr>\n",
       "    <tr>\n",
       "      <th id=\"T_6a262_level0_row2\" class=\"row_heading level0 row2\" >GrLivArea</th>\n",
       "      <td id=\"T_6a262_row2_col0\" class=\"data row2 col0\" >861</td>\n",
       "      <td id=\"T_6a262_row2_col1\" class=\"data row2 col1\" >int64</td>\n",
       "      <td id=\"T_6a262_row2_col2\" class=\"data row2 col2\" >0</td>\n",
       "      <td id=\"T_6a262_row2_col3\" class=\"data row2 col3\" >0.000000</td>\n",
       "      <td id=\"T_6a262_row2_col4\" class=\"data row2 col4\" >58.972603</td>\n",
       "      <td id=\"T_6a262_row2_col5\" class=\"data row2 col5\" >0</td>\n",
       "      <td id=\"T_6a262_row2_col6\" class=\"data row2 col6\" ></td>\n",
       "    </tr>\n",
       "    <tr>\n",
       "      <th id=\"T_6a262_level0_row3\" class=\"row_heading level0 row3\" >BsmtUnfSF</th>\n",
       "      <td id=\"T_6a262_row3_col0\" class=\"data row3 col0\" >780</td>\n",
       "      <td id=\"T_6a262_row3_col1\" class=\"data row3 col1\" >int64</td>\n",
       "      <td id=\"T_6a262_row3_col2\" class=\"data row3 col2\" >0</td>\n",
       "      <td id=\"T_6a262_row3_col3\" class=\"data row3 col3\" >0.000000</td>\n",
       "      <td id=\"T_6a262_row3_col4\" class=\"data row3 col4\" >53.424658</td>\n",
       "      <td id=\"T_6a262_row3_col5\" class=\"data row3 col5\" >0</td>\n",
       "      <td id=\"T_6a262_row3_col6\" class=\"data row3 col6\" ></td>\n",
       "    </tr>\n",
       "    <tr>\n",
       "      <th id=\"T_6a262_level0_row4\" class=\"row_heading level0 row4\" >1stFlrSF</th>\n",
       "      <td id=\"T_6a262_row4_col0\" class=\"data row4 col0\" >753</td>\n",
       "      <td id=\"T_6a262_row4_col1\" class=\"data row4 col1\" >int64</td>\n",
       "      <td id=\"T_6a262_row4_col2\" class=\"data row4 col2\" >0</td>\n",
       "      <td id=\"T_6a262_row4_col3\" class=\"data row4 col3\" >0.000000</td>\n",
       "      <td id=\"T_6a262_row4_col4\" class=\"data row4 col4\" >51.575342</td>\n",
       "      <td id=\"T_6a262_row4_col5\" class=\"data row4 col5\" >0</td>\n",
       "      <td id=\"T_6a262_row4_col6\" class=\"data row4 col6\" ></td>\n",
       "    </tr>\n",
       "    <tr>\n",
       "      <th id=\"T_6a262_level0_row5\" class=\"row_heading level0 row5\" >TotalBsmtSF</th>\n",
       "      <td id=\"T_6a262_row5_col0\" class=\"data row5 col0\" >721</td>\n",
       "      <td id=\"T_6a262_row5_col1\" class=\"data row5 col1\" >int64</td>\n",
       "      <td id=\"T_6a262_row5_col2\" class=\"data row5 col2\" >0</td>\n",
       "      <td id=\"T_6a262_row5_col3\" class=\"data row5 col3\" >0.000000</td>\n",
       "      <td id=\"T_6a262_row5_col4\" class=\"data row5 col4\" >49.383562</td>\n",
       "      <td id=\"T_6a262_row5_col5\" class=\"data row5 col5\" >0</td>\n",
       "      <td id=\"T_6a262_row5_col6\" class=\"data row5 col6\" ></td>\n",
       "    </tr>\n",
       "    <tr>\n",
       "      <th id=\"T_6a262_level0_row6\" class=\"row_heading level0 row6\" >BsmtFinSF1</th>\n",
       "      <td id=\"T_6a262_row6_col0\" class=\"data row6 col0\" >637</td>\n",
       "      <td id=\"T_6a262_row6_col1\" class=\"data row6 col1\" >int64</td>\n",
       "      <td id=\"T_6a262_row6_col2\" class=\"data row6 col2\" >0</td>\n",
       "      <td id=\"T_6a262_row6_col3\" class=\"data row6 col3\" >0.000000</td>\n",
       "      <td id=\"T_6a262_row6_col4\" class=\"data row6 col4\" >43.630137</td>\n",
       "      <td id=\"T_6a262_row6_col5\" class=\"data row6 col5\" >0</td>\n",
       "      <td id=\"T_6a262_row6_col6\" class=\"data row6 col6\" ></td>\n",
       "    </tr>\n",
       "    <tr>\n",
       "      <th id=\"T_6a262_level0_row7\" class=\"row_heading level0 row7\" >GarageArea</th>\n",
       "      <td id=\"T_6a262_row7_col0\" class=\"data row7 col0\" >441</td>\n",
       "      <td id=\"T_6a262_row7_col1\" class=\"data row7 col1\" >int64</td>\n",
       "      <td id=\"T_6a262_row7_col2\" class=\"data row7 col2\" >0</td>\n",
       "      <td id=\"T_6a262_row7_col3\" class=\"data row7 col3\" >0.000000</td>\n",
       "      <td id=\"T_6a262_row7_col4\" class=\"data row7 col4\" >30.205479</td>\n",
       "      <td id=\"T_6a262_row7_col5\" class=\"data row7 col5\" >0</td>\n",
       "      <td id=\"T_6a262_row7_col6\" class=\"data row7 col6\" ></td>\n",
       "    </tr>\n",
       "    <tr>\n",
       "      <th id=\"T_6a262_level0_row8\" class=\"row_heading level0 row8\" >2ndFlrSF</th>\n",
       "      <td id=\"T_6a262_row8_col0\" class=\"data row8 col0\" >417</td>\n",
       "      <td id=\"T_6a262_row8_col1\" class=\"data row8 col1\" >int64</td>\n",
       "      <td id=\"T_6a262_row8_col2\" class=\"data row8 col2\" >0</td>\n",
       "      <td id=\"T_6a262_row8_col3\" class=\"data row8 col3\" >0.000000</td>\n",
       "      <td id=\"T_6a262_row8_col4\" class=\"data row8 col4\" >28.561644</td>\n",
       "      <td id=\"T_6a262_row8_col5\" class=\"data row8 col5\" >0</td>\n",
       "      <td id=\"T_6a262_row8_col6\" class=\"data row8 col6\" ></td>\n",
       "    </tr>\n",
       "    <tr>\n",
       "      <th id=\"T_6a262_level0_row9\" class=\"row_heading level0 row9\" >MasVnrArea</th>\n",
       "      <td id=\"T_6a262_row9_col0\" class=\"data row9 col0\" >327</td>\n",
       "      <td id=\"T_6a262_row9_col1\" class=\"data row9 col1\" >float64</td>\n",
       "      <td id=\"T_6a262_row9_col2\" class=\"data row9 col2\" >8</td>\n",
       "      <td id=\"T_6a262_row9_col3\" class=\"data row9 col3\" >0.547945</td>\n",
       "      <td id=\"T_6a262_row9_col4\" class=\"data row9 col4\" >22.397260</td>\n",
       "      <td id=\"T_6a262_row9_col5\" class=\"data row9 col5\" >0</td>\n",
       "      <td id=\"T_6a262_row9_col6\" class=\"data row9 col6\" >fill missing, skewed: cap or drop outliers</td>\n",
       "    </tr>\n",
       "    <tr>\n",
       "      <th id=\"T_6a262_level0_row10\" class=\"row_heading level0 row10\" >WoodDeckSF</th>\n",
       "      <td id=\"T_6a262_row10_col0\" class=\"data row10 col0\" >274</td>\n",
       "      <td id=\"T_6a262_row10_col1\" class=\"data row10 col1\" >int64</td>\n",
       "      <td id=\"T_6a262_row10_col2\" class=\"data row10 col2\" >0</td>\n",
       "      <td id=\"T_6a262_row10_col3\" class=\"data row10 col3\" >0.000000</td>\n",
       "      <td id=\"T_6a262_row10_col4\" class=\"data row10 col4\" >18.767123</td>\n",
       "      <td id=\"T_6a262_row10_col5\" class=\"data row10 col5\" >0</td>\n",
       "      <td id=\"T_6a262_row10_col6\" class=\"data row10 col6\" ></td>\n",
       "    </tr>\n",
       "    <tr>\n",
       "      <th id=\"T_6a262_level0_row11\" class=\"row_heading level0 row11\" >OpenPorchSF</th>\n",
       "      <td id=\"T_6a262_row11_col0\" class=\"data row11 col0\" >202</td>\n",
       "      <td id=\"T_6a262_row11_col1\" class=\"data row11 col1\" >int64</td>\n",
       "      <td id=\"T_6a262_row11_col2\" class=\"data row11 col2\" >0</td>\n",
       "      <td id=\"T_6a262_row11_col3\" class=\"data row11 col3\" >0.000000</td>\n",
       "      <td id=\"T_6a262_row11_col4\" class=\"data row11 col4\" >13.835616</td>\n",
       "      <td id=\"T_6a262_row11_col5\" class=\"data row11 col5\" >0</td>\n",
       "      <td id=\"T_6a262_row11_col6\" class=\"data row11 col6\" ></td>\n",
       "    </tr>\n",
       "    <tr>\n",
       "      <th id=\"T_6a262_level0_row12\" class=\"row_heading level0 row12\" >BsmtFinSF2</th>\n",
       "      <td id=\"T_6a262_row12_col0\" class=\"data row12 col0\" >144</td>\n",
       "      <td id=\"T_6a262_row12_col1\" class=\"data row12 col1\" >int64</td>\n",
       "      <td id=\"T_6a262_row12_col2\" class=\"data row12 col2\" >0</td>\n",
       "      <td id=\"T_6a262_row12_col3\" class=\"data row12 col3\" >0.000000</td>\n",
       "      <td id=\"T_6a262_row12_col4\" class=\"data row12 col4\" >9.863014</td>\n",
       "      <td id=\"T_6a262_row12_col5\" class=\"data row12 col5\" >0</td>\n",
       "      <td id=\"T_6a262_row12_col6\" class=\"data row12 col6\" ></td>\n",
       "    </tr>\n",
       "    <tr>\n",
       "      <th id=\"T_6a262_level0_row13\" class=\"row_heading level0 row13\" >EnclosedPorch</th>\n",
       "      <td id=\"T_6a262_row13_col0\" class=\"data row13 col0\" >120</td>\n",
       "      <td id=\"T_6a262_row13_col1\" class=\"data row13 col1\" >int64</td>\n",
       "      <td id=\"T_6a262_row13_col2\" class=\"data row13 col2\" >0</td>\n",
       "      <td id=\"T_6a262_row13_col3\" class=\"data row13 col3\" >0.000000</td>\n",
       "      <td id=\"T_6a262_row13_col4\" class=\"data row13 col4\" >8.219178</td>\n",
       "      <td id=\"T_6a262_row13_col5\" class=\"data row13 col5\" >0</td>\n",
       "      <td id=\"T_6a262_row13_col6\" class=\"data row13 col6\" ></td>\n",
       "    </tr>\n",
       "    <tr>\n",
       "      <th id=\"T_6a262_level0_row14\" class=\"row_heading level0 row14\" >YearBuilt</th>\n",
       "      <td id=\"T_6a262_row14_col0\" class=\"data row14 col0\" >112</td>\n",
       "      <td id=\"T_6a262_row14_col1\" class=\"data row14 col1\" >int64</td>\n",
       "      <td id=\"T_6a262_row14_col2\" class=\"data row14 col2\" >0</td>\n",
       "      <td id=\"T_6a262_row14_col3\" class=\"data row14 col3\" >0.000000</td>\n",
       "      <td id=\"T_6a262_row14_col4\" class=\"data row14 col4\" >7.671233</td>\n",
       "      <td id=\"T_6a262_row14_col5\" class=\"data row14 col5\" >0</td>\n",
       "      <td id=\"T_6a262_row14_col6\" class=\"data row14 col6\" ></td>\n",
       "    </tr>\n",
       "    <tr>\n",
       "      <th id=\"T_6a262_level0_row15\" class=\"row_heading level0 row15\" >LotFrontage</th>\n",
       "      <td id=\"T_6a262_row15_col0\" class=\"data row15 col0\" >110</td>\n",
       "      <td id=\"T_6a262_row15_col1\" class=\"data row15 col1\" >float64</td>\n",
       "      <td id=\"T_6a262_row15_col2\" class=\"data row15 col2\" >259</td>\n",
       "      <td id=\"T_6a262_row15_col3\" class=\"data row15 col3\" >17.739726</td>\n",
       "      <td id=\"T_6a262_row15_col4\" class=\"data row15 col4\" >7.534247</td>\n",
       "      <td id=\"T_6a262_row15_col5\" class=\"data row15 col5\" >0</td>\n",
       "      <td id=\"T_6a262_row15_col6\" class=\"data row15 col6\" >fill missing, skewed: cap or drop outliers</td>\n",
       "    </tr>\n",
       "    <tr>\n",
       "      <th id=\"T_6a262_level0_row16\" class=\"row_heading level0 row16\" >GarageYrBlt</th>\n",
       "      <td id=\"T_6a262_row16_col0\" class=\"data row16 col0\" >97</td>\n",
       "      <td id=\"T_6a262_row16_col1\" class=\"data row16 col1\" >float64</td>\n",
       "      <td id=\"T_6a262_row16_col2\" class=\"data row16 col2\" >81</td>\n",
       "      <td id=\"T_6a262_row16_col3\" class=\"data row16 col3\" >5.547945</td>\n",
       "      <td id=\"T_6a262_row16_col4\" class=\"data row16 col4\" >6.643836</td>\n",
       "      <td id=\"T_6a262_row16_col5\" class=\"data row16 col5\" >0</td>\n",
       "      <td id=\"T_6a262_row16_col6\" class=\"data row16 col6\" >fill missing</td>\n",
       "    </tr>\n",
       "    <tr>\n",
       "      <th id=\"T_6a262_level0_row17\" class=\"row_heading level0 row17\" >ScreenPorch</th>\n",
       "      <td id=\"T_6a262_row17_col0\" class=\"data row17 col0\" >76</td>\n",
       "      <td id=\"T_6a262_row17_col1\" class=\"data row17 col1\" >int64</td>\n",
       "      <td id=\"T_6a262_row17_col2\" class=\"data row17 col2\" >0</td>\n",
       "      <td id=\"T_6a262_row17_col3\" class=\"data row17 col3\" >0.000000</td>\n",
       "      <td id=\"T_6a262_row17_col4\" class=\"data row17 col4\" >5.205479</td>\n",
       "      <td id=\"T_6a262_row17_col5\" class=\"data row17 col5\" >0</td>\n",
       "      <td id=\"T_6a262_row17_col6\" class=\"data row17 col6\" ></td>\n",
       "    </tr>\n",
       "    <tr>\n",
       "      <th id=\"T_6a262_level0_row18\" class=\"row_heading level0 row18\" >YearRemodAdd</th>\n",
       "      <td id=\"T_6a262_row18_col0\" class=\"data row18 col0\" >61</td>\n",
       "      <td id=\"T_6a262_row18_col1\" class=\"data row18 col1\" >int64</td>\n",
       "      <td id=\"T_6a262_row18_col2\" class=\"data row18 col2\" >0</td>\n",
       "      <td id=\"T_6a262_row18_col3\" class=\"data row18 col3\" >0.000000</td>\n",
       "      <td id=\"T_6a262_row18_col4\" class=\"data row18 col4\" >4.178082</td>\n",
       "      <td id=\"T_6a262_row18_col5\" class=\"data row18 col5\" >0</td>\n",
       "      <td id=\"T_6a262_row18_col6\" class=\"data row18 col6\" ></td>\n",
       "    </tr>\n",
       "    <tr>\n",
       "      <th id=\"T_6a262_level0_row19\" class=\"row_heading level0 row19\" >Neighborhood</th>\n",
       "      <td id=\"T_6a262_row19_col0\" class=\"data row19 col0\" >25</td>\n",
       "      <td id=\"T_6a262_row19_col1\" class=\"data row19 col1\" >object</td>\n",
       "      <td id=\"T_6a262_row19_col2\" class=\"data row19 col2\" >0</td>\n",
       "      <td id=\"T_6a262_row19_col3\" class=\"data row19 col3\" >0.000000</td>\n",
       "      <td id=\"T_6a262_row19_col4\" class=\"data row19 col4\" >1.712329</td>\n",
       "      <td id=\"T_6a262_row19_col5\" class=\"data row19 col5\" >2</td>\n",
       "      <td id=\"T_6a262_row19_col6\" class=\"data row19 col6\" ></td>\n",
       "    </tr>\n",
       "    <tr>\n",
       "      <th id=\"T_6a262_level0_row20\" class=\"row_heading level0 row20\" >LowQualFinSF</th>\n",
       "      <td id=\"T_6a262_row20_col0\" class=\"data row20 col0\" >24</td>\n",
       "      <td id=\"T_6a262_row20_col1\" class=\"data row20 col1\" >int64</td>\n",
       "      <td id=\"T_6a262_row20_col2\" class=\"data row20 col2\" >0</td>\n",
       "      <td id=\"T_6a262_row20_col3\" class=\"data row20 col3\" >0.000000</td>\n",
       "      <td id=\"T_6a262_row20_col4\" class=\"data row20 col4\" >1.643836</td>\n",
       "      <td id=\"T_6a262_row20_col5\" class=\"data row20 col5\" >0</td>\n",
       "      <td id=\"T_6a262_row20_col6\" class=\"data row20 col6\" ></td>\n",
       "    </tr>\n",
       "    <tr>\n",
       "      <th id=\"T_6a262_level0_row21\" class=\"row_heading level0 row21\" >MiscVal</th>\n",
       "      <td id=\"T_6a262_row21_col0\" class=\"data row21 col0\" >21</td>\n",
       "      <td id=\"T_6a262_row21_col1\" class=\"data row21 col1\" >int64</td>\n",
       "      <td id=\"T_6a262_row21_col2\" class=\"data row21 col2\" >0</td>\n",
       "      <td id=\"T_6a262_row21_col3\" class=\"data row21 col3\" >0.000000</td>\n",
       "      <td id=\"T_6a262_row21_col4\" class=\"data row21 col4\" >1.438356</td>\n",
       "      <td id=\"T_6a262_row21_col5\" class=\"data row21 col5\" >0</td>\n",
       "      <td id=\"T_6a262_row21_col6\" class=\"data row21 col6\" ></td>\n",
       "    </tr>\n",
       "    <tr>\n",
       "      <th id=\"T_6a262_level0_row22\" class=\"row_heading level0 row22\" >3SsnPorch</th>\n",
       "      <td id=\"T_6a262_row22_col0\" class=\"data row22 col0\" >20</td>\n",
       "      <td id=\"T_6a262_row22_col1\" class=\"data row22 col1\" >int64</td>\n",
       "      <td id=\"T_6a262_row22_col2\" class=\"data row22 col2\" >0</td>\n",
       "      <td id=\"T_6a262_row22_col3\" class=\"data row22 col3\" >0.000000</td>\n",
       "      <td id=\"T_6a262_row22_col4\" class=\"data row22 col4\" >1.369863</td>\n",
       "      <td id=\"T_6a262_row22_col5\" class=\"data row22 col5\" >0</td>\n",
       "      <td id=\"T_6a262_row22_col6\" class=\"data row22 col6\" ></td>\n",
       "    </tr>\n",
       "    <tr>\n",
       "      <th id=\"T_6a262_level0_row23\" class=\"row_heading level0 row23\" >Exterior2nd</th>\n",
       "      <td id=\"T_6a262_row23_col0\" class=\"data row23 col0\" >16</td>\n",
       "      <td id=\"T_6a262_row23_col1\" class=\"data row23 col1\" >object</td>\n",
       "      <td id=\"T_6a262_row23_col2\" class=\"data row23 col2\" >0</td>\n",
       "      <td id=\"T_6a262_row23_col3\" class=\"data row23 col3\" >0.000000</td>\n",
       "      <td id=\"T_6a262_row23_col4\" class=\"data row23 col4\" >1.095890</td>\n",
       "      <td id=\"T_6a262_row23_col5\" class=\"data row23 col5\" >1</td>\n",
       "      <td id=\"T_6a262_row23_col6\" class=\"data row23 col6\" ></td>\n",
       "    </tr>\n",
       "    <tr>\n",
       "      <th id=\"T_6a262_level0_row24\" class=\"row_heading level0 row24\" >MSSubClass</th>\n",
       "      <td id=\"T_6a262_row24_col0\" class=\"data row24 col0\" >15</td>\n",
       "      <td id=\"T_6a262_row24_col1\" class=\"data row24 col1\" >int64</td>\n",
       "      <td id=\"T_6a262_row24_col2\" class=\"data row24 col2\" >0</td>\n",
       "      <td id=\"T_6a262_row24_col3\" class=\"data row24 col3\" >0.000000</td>\n",
       "      <td id=\"T_6a262_row24_col4\" class=\"data row24 col4\" >1.027397</td>\n",
       "      <td id=\"T_6a262_row24_col5\" class=\"data row24 col5\" >0</td>\n",
       "      <td id=\"T_6a262_row24_col6\" class=\"data row24 col6\" ></td>\n",
       "    </tr>\n",
       "    <tr>\n",
       "      <th id=\"T_6a262_level0_row25\" class=\"row_heading level0 row25\" >Exterior1st</th>\n",
       "      <td id=\"T_6a262_row25_col0\" class=\"data row25 col0\" >15</td>\n",
       "      <td id=\"T_6a262_row25_col1\" class=\"data row25 col1\" >object</td>\n",
       "      <td id=\"T_6a262_row25_col2\" class=\"data row25 col2\" >0</td>\n",
       "      <td id=\"T_6a262_row25_col3\" class=\"data row25 col3\" >0.000000</td>\n",
       "      <td id=\"T_6a262_row25_col4\" class=\"data row25 col4\" >1.027397</td>\n",
       "      <td id=\"T_6a262_row25_col5\" class=\"data row25 col5\" >1</td>\n",
       "      <td id=\"T_6a262_row25_col6\" class=\"data row25 col6\" ></td>\n",
       "    </tr>\n",
       "    <tr>\n",
       "      <th id=\"T_6a262_level0_row26\" class=\"row_heading level0 row26\" >TotRmsAbvGrd</th>\n",
       "      <td id=\"T_6a262_row26_col0\" class=\"data row26 col0\" >12</td>\n",
       "      <td id=\"T_6a262_row26_col1\" class=\"data row26 col1\" >int64</td>\n",
       "      <td id=\"T_6a262_row26_col2\" class=\"data row26 col2\" >0</td>\n",
       "      <td id=\"T_6a262_row26_col3\" class=\"data row26 col3\" >0.000000</td>\n",
       "      <td id=\"T_6a262_row26_col4\" class=\"data row26 col4\" >0.821918</td>\n",
       "      <td id=\"T_6a262_row26_col5\" class=\"data row26 col5\" >0</td>\n",
       "      <td id=\"T_6a262_row26_col6\" class=\"data row26 col6\" ></td>\n",
       "    </tr>\n",
       "    <tr>\n",
       "      <th id=\"T_6a262_level0_row27\" class=\"row_heading level0 row27\" >MoSold</th>\n",
       "      <td id=\"T_6a262_row27_col0\" class=\"data row27 col0\" >12</td>\n",
       "      <td id=\"T_6a262_row27_col1\" class=\"data row27 col1\" >int64</td>\n",
       "      <td id=\"T_6a262_row27_col2\" class=\"data row27 col2\" >0</td>\n",
       "      <td id=\"T_6a262_row27_col3\" class=\"data row27 col3\" >0.000000</td>\n",
       "      <td id=\"T_6a262_row27_col4\" class=\"data row27 col4\" >0.821918</td>\n",
       "      <td id=\"T_6a262_row27_col5\" class=\"data row27 col5\" >0</td>\n",
       "      <td id=\"T_6a262_row27_col6\" class=\"data row27 col6\" ></td>\n",
       "    </tr>\n",
       "    <tr>\n",
       "      <th id=\"T_6a262_level0_row28\" class=\"row_heading level0 row28\" >OverallQual</th>\n",
       "      <td id=\"T_6a262_row28_col0\" class=\"data row28 col0\" >10</td>\n",
       "      <td id=\"T_6a262_row28_col1\" class=\"data row28 col1\" >int64</td>\n",
       "      <td id=\"T_6a262_row28_col2\" class=\"data row28 col2\" >0</td>\n",
       "      <td id=\"T_6a262_row28_col3\" class=\"data row28 col3\" >0.000000</td>\n",
       "      <td id=\"T_6a262_row28_col4\" class=\"data row28 col4\" >0.684932</td>\n",
       "      <td id=\"T_6a262_row28_col5\" class=\"data row28 col5\" >0</td>\n",
       "      <td id=\"T_6a262_row28_col6\" class=\"data row28 col6\" ></td>\n",
       "    </tr>\n",
       "    <tr>\n",
       "      <th id=\"T_6a262_level0_row29\" class=\"row_heading level0 row29\" >OverallCond</th>\n",
       "      <td id=\"T_6a262_row29_col0\" class=\"data row29 col0\" >9</td>\n",
       "      <td id=\"T_6a262_row29_col1\" class=\"data row29 col1\" >int64</td>\n",
       "      <td id=\"T_6a262_row29_col2\" class=\"data row29 col2\" >0</td>\n",
       "      <td id=\"T_6a262_row29_col3\" class=\"data row29 col3\" >0.000000</td>\n",
       "      <td id=\"T_6a262_row29_col4\" class=\"data row29 col4\" >0.616438</td>\n",
       "      <td id=\"T_6a262_row29_col5\" class=\"data row29 col5\" >0</td>\n",
       "      <td id=\"T_6a262_row29_col6\" class=\"data row29 col6\" ></td>\n",
       "    </tr>\n",
       "    <tr>\n",
       "      <th id=\"T_6a262_level0_row30\" class=\"row_heading level0 row30\" >SaleType</th>\n",
       "      <td id=\"T_6a262_row30_col0\" class=\"data row30 col0\" >9</td>\n",
       "      <td id=\"T_6a262_row30_col1\" class=\"data row30 col1\" >object</td>\n",
       "      <td id=\"T_6a262_row30_col2\" class=\"data row30 col2\" >0</td>\n",
       "      <td id=\"T_6a262_row30_col3\" class=\"data row30 col3\" >0.000000</td>\n",
       "      <td id=\"T_6a262_row30_col4\" class=\"data row30 col4\" >0.616438</td>\n",
       "      <td id=\"T_6a262_row30_col5\" class=\"data row30 col5\" >2</td>\n",
       "      <td id=\"T_6a262_row30_col6\" class=\"data row30 col6\" ></td>\n",
       "    </tr>\n",
       "    <tr>\n",
       "      <th id=\"T_6a262_level0_row31\" class=\"row_heading level0 row31\" >Condition1</th>\n",
       "      <td id=\"T_6a262_row31_col0\" class=\"data row31 col0\" >9</td>\n",
       "      <td id=\"T_6a262_row31_col1\" class=\"data row31 col1\" >object</td>\n",
       "      <td id=\"T_6a262_row31_col2\" class=\"data row31 col2\" >0</td>\n",
       "      <td id=\"T_6a262_row31_col3\" class=\"data row31 col3\" >0.000000</td>\n",
       "      <td id=\"T_6a262_row31_col4\" class=\"data row31 col4\" >0.616438</td>\n",
       "      <td id=\"T_6a262_row31_col5\" class=\"data row31 col5\" >2</td>\n",
       "      <td id=\"T_6a262_row31_col6\" class=\"data row31 col6\" ></td>\n",
       "    </tr>\n",
       "    <tr>\n",
       "      <th id=\"T_6a262_level0_row32\" class=\"row_heading level0 row32\" >PoolArea</th>\n",
       "      <td id=\"T_6a262_row32_col0\" class=\"data row32 col0\" >8</td>\n",
       "      <td id=\"T_6a262_row32_col1\" class=\"data row32 col1\" >int64</td>\n",
       "      <td id=\"T_6a262_row32_col2\" class=\"data row32 col2\" >0</td>\n",
       "      <td id=\"T_6a262_row32_col3\" class=\"data row32 col3\" >0.000000</td>\n",
       "      <td id=\"T_6a262_row32_col4\" class=\"data row32 col4\" >0.547945</td>\n",
       "      <td id=\"T_6a262_row32_col5\" class=\"data row32 col5\" >0</td>\n",
       "      <td id=\"T_6a262_row32_col6\" class=\"data row32 col6\" ></td>\n",
       "    </tr>\n",
       "    <tr>\n",
       "      <th id=\"T_6a262_level0_row33\" class=\"row_heading level0 row33\" >Condition2</th>\n",
       "      <td id=\"T_6a262_row33_col0\" class=\"data row33 col0\" >8</td>\n",
       "      <td id=\"T_6a262_row33_col1\" class=\"data row33 col1\" >object</td>\n",
       "      <td id=\"T_6a262_row33_col2\" class=\"data row33 col2\" >0</td>\n",
       "      <td id=\"T_6a262_row33_col3\" class=\"data row33 col3\" >0.000000</td>\n",
       "      <td id=\"T_6a262_row33_col4\" class=\"data row33 col4\" >0.547945</td>\n",
       "      <td id=\"T_6a262_row33_col5\" class=\"data row33 col5\" >1</td>\n",
       "      <td id=\"T_6a262_row33_col6\" class=\"data row33 col6\" ></td>\n",
       "    </tr>\n",
       "    <tr>\n",
       "      <th id=\"T_6a262_level0_row34\" class=\"row_heading level0 row34\" >BedroomAbvGr</th>\n",
       "      <td id=\"T_6a262_row34_col0\" class=\"data row34 col0\" >8</td>\n",
       "      <td id=\"T_6a262_row34_col1\" class=\"data row34 col1\" >int64</td>\n",
       "      <td id=\"T_6a262_row34_col2\" class=\"data row34 col2\" >0</td>\n",
       "      <td id=\"T_6a262_row34_col3\" class=\"data row34 col3\" >0.000000</td>\n",
       "      <td id=\"T_6a262_row34_col4\" class=\"data row34 col4\" >0.547945</td>\n",
       "      <td id=\"T_6a262_row34_col5\" class=\"data row34 col5\" >0</td>\n",
       "      <td id=\"T_6a262_row34_col6\" class=\"data row34 col6\" ></td>\n",
       "    </tr>\n",
       "    <tr>\n",
       "      <th id=\"T_6a262_level0_row35\" class=\"row_heading level0 row35\" >HouseStyle</th>\n",
       "      <td id=\"T_6a262_row35_col0\" class=\"data row35 col0\" >8</td>\n",
       "      <td id=\"T_6a262_row35_col1\" class=\"data row35 col1\" >object</td>\n",
       "      <td id=\"T_6a262_row35_col2\" class=\"data row35 col2\" >0</td>\n",
       "      <td id=\"T_6a262_row35_col3\" class=\"data row35 col3\" >0.000000</td>\n",
       "      <td id=\"T_6a262_row35_col4\" class=\"data row35 col4\" >0.547945</td>\n",
       "      <td id=\"T_6a262_row35_col5\" class=\"data row35 col5\" >8</td>\n",
       "      <td id=\"T_6a262_row35_col6\" class=\"data row35 col6\" ></td>\n",
       "    </tr>\n",
       "    <tr>\n",
       "      <th id=\"T_6a262_level0_row36\" class=\"row_heading level0 row36\" >RoofMatl</th>\n",
       "      <td id=\"T_6a262_row36_col0\" class=\"data row36 col0\" >8</td>\n",
       "      <td id=\"T_6a262_row36_col1\" class=\"data row36 col1\" >object</td>\n",
       "      <td id=\"T_6a262_row36_col2\" class=\"data row36 col2\" >0</td>\n",
       "      <td id=\"T_6a262_row36_col3\" class=\"data row36 col3\" >0.000000</td>\n",
       "      <td id=\"T_6a262_row36_col4\" class=\"data row36 col4\" >0.547945</td>\n",
       "      <td id=\"T_6a262_row36_col5\" class=\"data row36 col5\" >1</td>\n",
       "      <td id=\"T_6a262_row36_col6\" class=\"data row36 col6\" ></td>\n",
       "    </tr>\n",
       "    <tr>\n",
       "      <th id=\"T_6a262_level0_row37\" class=\"row_heading level0 row37\" >Functional</th>\n",
       "      <td id=\"T_6a262_row37_col0\" class=\"data row37 col0\" >7</td>\n",
       "      <td id=\"T_6a262_row37_col1\" class=\"data row37 col1\" >object</td>\n",
       "      <td id=\"T_6a262_row37_col2\" class=\"data row37 col2\" >0</td>\n",
       "      <td id=\"T_6a262_row37_col3\" class=\"data row37 col3\" >0.000000</td>\n",
       "      <td id=\"T_6a262_row37_col4\" class=\"data row37 col4\" >0.479452</td>\n",
       "      <td id=\"T_6a262_row37_col5\" class=\"data row37 col5\" >1</td>\n",
       "      <td id=\"T_6a262_row37_col6\" class=\"data row37 col6\" ></td>\n",
       "    </tr>\n",
       "    <tr>\n",
       "      <th id=\"T_6a262_level0_row38\" class=\"row_heading level0 row38\" >GarageType</th>\n",
       "      <td id=\"T_6a262_row38_col0\" class=\"data row38 col0\" >6</td>\n",
       "      <td id=\"T_6a262_row38_col1\" class=\"data row38 col1\" >object</td>\n",
       "      <td id=\"T_6a262_row38_col2\" class=\"data row38 col2\" >81</td>\n",
       "      <td id=\"T_6a262_row38_col3\" class=\"data row38 col3\" >5.547945</td>\n",
       "      <td id=\"T_6a262_row38_col4\" class=\"data row38 col4\" >0.410959</td>\n",
       "      <td id=\"T_6a262_row38_col5\" class=\"data row38 col5\" >6</td>\n",
       "      <td id=\"T_6a262_row38_col6\" class=\"data row38 col6\" >fill missing, fix mixed data types</td>\n",
       "    </tr>\n",
       "    <tr>\n",
       "      <th id=\"T_6a262_level0_row39\" class=\"row_heading level0 row39\" >SaleCondition</th>\n",
       "      <td id=\"T_6a262_row39_col0\" class=\"data row39 col0\" >6</td>\n",
       "      <td id=\"T_6a262_row39_col1\" class=\"data row39 col1\" >object</td>\n",
       "      <td id=\"T_6a262_row39_col2\" class=\"data row39 col2\" >0</td>\n",
       "      <td id=\"T_6a262_row39_col3\" class=\"data row39 col3\" >0.000000</td>\n",
       "      <td id=\"T_6a262_row39_col4\" class=\"data row39 col4\" >0.410959</td>\n",
       "      <td id=\"T_6a262_row39_col5\" class=\"data row39 col5\" >4</td>\n",
       "      <td id=\"T_6a262_row39_col6\" class=\"data row39 col6\" ></td>\n",
       "    </tr>\n",
       "    <tr>\n",
       "      <th id=\"T_6a262_level0_row40\" class=\"row_heading level0 row40\" >Heating</th>\n",
       "      <td id=\"T_6a262_row40_col0\" class=\"data row40 col0\" >6</td>\n",
       "      <td id=\"T_6a262_row40_col1\" class=\"data row40 col1\" >object</td>\n",
       "      <td id=\"T_6a262_row40_col2\" class=\"data row40 col2\" >0</td>\n",
       "      <td id=\"T_6a262_row40_col3\" class=\"data row40 col3\" >0.000000</td>\n",
       "      <td id=\"T_6a262_row40_col4\" class=\"data row40 col4\" >0.410959</td>\n",
       "      <td id=\"T_6a262_row40_col5\" class=\"data row40 col5\" >1</td>\n",
       "      <td id=\"T_6a262_row40_col6\" class=\"data row40 col6\" ></td>\n",
       "    </tr>\n",
       "    <tr>\n",
       "      <th id=\"T_6a262_level0_row41\" class=\"row_heading level0 row41\" >Foundation</th>\n",
       "      <td id=\"T_6a262_row41_col0\" class=\"data row41 col0\" >6</td>\n",
       "      <td id=\"T_6a262_row41_col1\" class=\"data row41 col1\" >object</td>\n",
       "      <td id=\"T_6a262_row41_col2\" class=\"data row41 col2\" >0</td>\n",
       "      <td id=\"T_6a262_row41_col3\" class=\"data row41 col3\" >0.000000</td>\n",
       "      <td id=\"T_6a262_row41_col4\" class=\"data row41 col4\" >0.410959</td>\n",
       "      <td id=\"T_6a262_row41_col5\" class=\"data row41 col5\" >3</td>\n",
       "      <td id=\"T_6a262_row41_col6\" class=\"data row41 col6\" ></td>\n",
       "    </tr>\n",
       "    <tr>\n",
       "      <th id=\"T_6a262_level0_row42\" class=\"row_heading level0 row42\" >BsmtFinType2</th>\n",
       "      <td id=\"T_6a262_row42_col0\" class=\"data row42 col0\" >6</td>\n",
       "      <td id=\"T_6a262_row42_col1\" class=\"data row42 col1\" >object</td>\n",
       "      <td id=\"T_6a262_row42_col2\" class=\"data row42 col2\" >38</td>\n",
       "      <td id=\"T_6a262_row42_col3\" class=\"data row42 col3\" >2.602740</td>\n",
       "      <td id=\"T_6a262_row42_col4\" class=\"data row42 col4\" >0.410959</td>\n",
       "      <td id=\"T_6a262_row42_col5\" class=\"data row42 col5\" >14</td>\n",
       "      <td id=\"T_6a262_row42_col6\" class=\"data row42 col6\" >fill missing, fix mixed data types</td>\n",
       "    </tr>\n",
       "    <tr>\n",
       "      <th id=\"T_6a262_level0_row43\" class=\"row_heading level0 row43\" >BsmtFinType1</th>\n",
       "      <td id=\"T_6a262_row43_col0\" class=\"data row43 col0\" >6</td>\n",
       "      <td id=\"T_6a262_row43_col1\" class=\"data row43 col1\" >object</td>\n",
       "      <td id=\"T_6a262_row43_col2\" class=\"data row43 col2\" >37</td>\n",
       "      <td id=\"T_6a262_row43_col3\" class=\"data row43 col3\" >2.534247</td>\n",
       "      <td id=\"T_6a262_row43_col4\" class=\"data row43 col4\" >0.410959</td>\n",
       "      <td id=\"T_6a262_row43_col5\" class=\"data row43 col5\" >74</td>\n",
       "      <td id=\"T_6a262_row43_col6\" class=\"data row43 col6\" >fill missing, fix mixed data types</td>\n",
       "    </tr>\n",
       "    <tr>\n",
       "      <th id=\"T_6a262_level0_row44\" class=\"row_heading level0 row44\" >RoofStyle</th>\n",
       "      <td id=\"T_6a262_row44_col0\" class=\"data row44 col0\" >6</td>\n",
       "      <td id=\"T_6a262_row44_col1\" class=\"data row44 col1\" >object</td>\n",
       "      <td id=\"T_6a262_row44_col2\" class=\"data row44 col2\" >0</td>\n",
       "      <td id=\"T_6a262_row44_col3\" class=\"data row44 col3\" >0.000000</td>\n",
       "      <td id=\"T_6a262_row44_col4\" class=\"data row44 col4\" >0.410959</td>\n",
       "      <td id=\"T_6a262_row44_col5\" class=\"data row44 col5\" >2</td>\n",
       "      <td id=\"T_6a262_row44_col6\" class=\"data row44 col6\" ></td>\n",
       "    </tr>\n",
       "    <tr>\n",
       "      <th id=\"T_6a262_level0_row45\" class=\"row_heading level0 row45\" >MSZoning</th>\n",
       "      <td id=\"T_6a262_row45_col0\" class=\"data row45 col0\" >5</td>\n",
       "      <td id=\"T_6a262_row45_col1\" class=\"data row45 col1\" >object</td>\n",
       "      <td id=\"T_6a262_row45_col2\" class=\"data row45 col2\" >0</td>\n",
       "      <td id=\"T_6a262_row45_col3\" class=\"data row45 col3\" >0.000000</td>\n",
       "      <td id=\"T_6a262_row45_col4\" class=\"data row45 col4\" >0.342466</td>\n",
       "      <td id=\"T_6a262_row45_col5\" class=\"data row45 col5\" >10</td>\n",
       "      <td id=\"T_6a262_row45_col6\" class=\"data row45 col6\" ></td>\n",
       "    </tr>\n",
       "    <tr>\n",
       "      <th id=\"T_6a262_level0_row46\" class=\"row_heading level0 row46\" >YrSold</th>\n",
       "      <td id=\"T_6a262_row46_col0\" class=\"data row46 col0\" >5</td>\n",
       "      <td id=\"T_6a262_row46_col1\" class=\"data row46 col1\" >int64</td>\n",
       "      <td id=\"T_6a262_row46_col2\" class=\"data row46 col2\" >0</td>\n",
       "      <td id=\"T_6a262_row46_col3\" class=\"data row46 col3\" >0.000000</td>\n",
       "      <td id=\"T_6a262_row46_col4\" class=\"data row46 col4\" >0.342466</td>\n",
       "      <td id=\"T_6a262_row46_col5\" class=\"data row46 col5\" >0</td>\n",
       "      <td id=\"T_6a262_row46_col6\" class=\"data row46 col6\" ></td>\n",
       "    </tr>\n",
       "    <tr>\n",
       "      <th id=\"T_6a262_level0_row47\" class=\"row_heading level0 row47\" >LotConfig</th>\n",
       "      <td id=\"T_6a262_row47_col0\" class=\"data row47 col0\" >5</td>\n",
       "      <td id=\"T_6a262_row47_col1\" class=\"data row47 col1\" >object</td>\n",
       "      <td id=\"T_6a262_row47_col2\" class=\"data row47 col2\" >0</td>\n",
       "      <td id=\"T_6a262_row47_col3\" class=\"data row47 col3\" >0.000000</td>\n",
       "      <td id=\"T_6a262_row47_col4\" class=\"data row47 col4\" >0.342466</td>\n",
       "      <td id=\"T_6a262_row47_col5\" class=\"data row47 col5\" >4</td>\n",
       "      <td id=\"T_6a262_row47_col6\" class=\"data row47 col6\" ></td>\n",
       "    </tr>\n",
       "    <tr>\n",
       "      <th id=\"T_6a262_level0_row48\" class=\"row_heading level0 row48\" >BldgType</th>\n",
       "      <td id=\"T_6a262_row48_col0\" class=\"data row48 col0\" >5</td>\n",
       "      <td id=\"T_6a262_row48_col1\" class=\"data row48 col1\" >object</td>\n",
       "      <td id=\"T_6a262_row48_col2\" class=\"data row48 col2\" >0</td>\n",
       "      <td id=\"T_6a262_row48_col3\" class=\"data row48 col3\" >0.000000</td>\n",
       "      <td id=\"T_6a262_row48_col4\" class=\"data row48 col4\" >0.342466</td>\n",
       "      <td id=\"T_6a262_row48_col5\" class=\"data row48 col5\" >31</td>\n",
       "      <td id=\"T_6a262_row48_col6\" class=\"data row48 col6\" ></td>\n",
       "    </tr>\n",
       "    <tr>\n",
       "      <th id=\"T_6a262_level0_row49\" class=\"row_heading level0 row49\" >GarageCond</th>\n",
       "      <td id=\"T_6a262_row49_col0\" class=\"data row49 col0\" >5</td>\n",
       "      <td id=\"T_6a262_row49_col1\" class=\"data row49 col1\" >object</td>\n",
       "      <td id=\"T_6a262_row49_col2\" class=\"data row49 col2\" >81</td>\n",
       "      <td id=\"T_6a262_row49_col3\" class=\"data row49 col3\" >5.547945</td>\n",
       "      <td id=\"T_6a262_row49_col4\" class=\"data row49 col4\" >0.342466</td>\n",
       "      <td id=\"T_6a262_row49_col5\" class=\"data row49 col5\" >2</td>\n",
       "      <td id=\"T_6a262_row49_col6\" class=\"data row49 col6\" >fill missing, fix mixed data types</td>\n",
       "    </tr>\n",
       "    <tr>\n",
       "      <th id=\"T_6a262_level0_row50\" class=\"row_heading level0 row50\" >GarageQual</th>\n",
       "      <td id=\"T_6a262_row50_col0\" class=\"data row50 col0\" >5</td>\n",
       "      <td id=\"T_6a262_row50_col1\" class=\"data row50 col1\" >object</td>\n",
       "      <td id=\"T_6a262_row50_col2\" class=\"data row50 col2\" >81</td>\n",
       "      <td id=\"T_6a262_row50_col3\" class=\"data row50 col3\" >5.547945</td>\n",
       "      <td id=\"T_6a262_row50_col4\" class=\"data row50 col4\" >0.342466</td>\n",
       "      <td id=\"T_6a262_row50_col5\" class=\"data row50 col5\" >3</td>\n",
       "      <td id=\"T_6a262_row50_col6\" class=\"data row50 col6\" >fill missing, fix mixed data types</td>\n",
       "    </tr>\n",
       "    <tr>\n",
       "      <th id=\"T_6a262_level0_row51\" class=\"row_heading level0 row51\" >GarageCars</th>\n",
       "      <td id=\"T_6a262_row51_col0\" class=\"data row51 col0\" >5</td>\n",
       "      <td id=\"T_6a262_row51_col1\" class=\"data row51 col1\" >int64</td>\n",
       "      <td id=\"T_6a262_row51_col2\" class=\"data row51 col2\" >0</td>\n",
       "      <td id=\"T_6a262_row51_col3\" class=\"data row51 col3\" >0.000000</td>\n",
       "      <td id=\"T_6a262_row51_col4\" class=\"data row51 col4\" >0.342466</td>\n",
       "      <td id=\"T_6a262_row51_col5\" class=\"data row51 col5\" >0</td>\n",
       "      <td id=\"T_6a262_row51_col6\" class=\"data row51 col6\" ></td>\n",
       "    </tr>\n",
       "    <tr>\n",
       "      <th id=\"T_6a262_level0_row52\" class=\"row_heading level0 row52\" >FireplaceQu</th>\n",
       "      <td id=\"T_6a262_row52_col0\" class=\"data row52 col0\" >5</td>\n",
       "      <td id=\"T_6a262_row52_col1\" class=\"data row52 col1\" >object</td>\n",
       "      <td id=\"T_6a262_row52_col2\" class=\"data row52 col2\" >690</td>\n",
       "      <td id=\"T_6a262_row52_col3\" class=\"data row52 col3\" >47.260274</td>\n",
       "      <td id=\"T_6a262_row52_col4\" class=\"data row52 col4\" >0.342466</td>\n",
       "      <td id=\"T_6a262_row52_col5\" class=\"data row52 col5\" >20</td>\n",
       "      <td id=\"T_6a262_row52_col6\" class=\"data row52 col6\" >fill missing, fix mixed data types</td>\n",
       "    </tr>\n",
       "    <tr>\n",
       "      <th id=\"T_6a262_level0_row53\" class=\"row_heading level0 row53\" >ExterCond</th>\n",
       "      <td id=\"T_6a262_row53_col0\" class=\"data row53 col0\" >5</td>\n",
       "      <td id=\"T_6a262_row53_col1\" class=\"data row53 col1\" >object</td>\n",
       "      <td id=\"T_6a262_row53_col2\" class=\"data row53 col2\" >0</td>\n",
       "      <td id=\"T_6a262_row53_col3\" class=\"data row53 col3\" >0.000000</td>\n",
       "      <td id=\"T_6a262_row53_col4\" class=\"data row53 col4\" >0.342466</td>\n",
       "      <td id=\"T_6a262_row53_col5\" class=\"data row53 col5\" >1</td>\n",
       "      <td id=\"T_6a262_row53_col6\" class=\"data row53 col6\" ></td>\n",
       "    </tr>\n",
       "    <tr>\n",
       "      <th id=\"T_6a262_level0_row54\" class=\"row_heading level0 row54\" >HeatingQC</th>\n",
       "      <td id=\"T_6a262_row54_col0\" class=\"data row54 col0\" >5</td>\n",
       "      <td id=\"T_6a262_row54_col1\" class=\"data row54 col1\" >object</td>\n",
       "      <td id=\"T_6a262_row54_col2\" class=\"data row54 col2\" >0</td>\n",
       "      <td id=\"T_6a262_row54_col3\" class=\"data row54 col3\" >0.000000</td>\n",
       "      <td id=\"T_6a262_row54_col4\" class=\"data row54 col4\" >0.342466</td>\n",
       "      <td id=\"T_6a262_row54_col5\" class=\"data row54 col5\" >1</td>\n",
       "      <td id=\"T_6a262_row54_col6\" class=\"data row54 col6\" ></td>\n",
       "    </tr>\n",
       "    <tr>\n",
       "      <th id=\"T_6a262_level0_row55\" class=\"row_heading level0 row55\" >Electrical</th>\n",
       "      <td id=\"T_6a262_row55_col0\" class=\"data row55 col0\" >5</td>\n",
       "      <td id=\"T_6a262_row55_col1\" class=\"data row55 col1\" >object</td>\n",
       "      <td id=\"T_6a262_row55_col2\" class=\"data row55 col2\" >1</td>\n",
       "      <td id=\"T_6a262_row55_col3\" class=\"data row55 col3\" >0.068493</td>\n",
       "      <td id=\"T_6a262_row55_col4\" class=\"data row55 col4\" >0.342466</td>\n",
       "      <td id=\"T_6a262_row55_col5\" class=\"data row55 col5\" >1</td>\n",
       "      <td id=\"T_6a262_row55_col6\" class=\"data row55 col6\" >fill missing, fix mixed data types</td>\n",
       "    </tr>\n",
       "    <tr>\n",
       "      <th id=\"T_6a262_level0_row56\" class=\"row_heading level0 row56\" >KitchenQual</th>\n",
       "      <td id=\"T_6a262_row56_col0\" class=\"data row56 col0\" >4</td>\n",
       "      <td id=\"T_6a262_row56_col1\" class=\"data row56 col1\" >object</td>\n",
       "      <td id=\"T_6a262_row56_col2\" class=\"data row56 col2\" >0</td>\n",
       "      <td id=\"T_6a262_row56_col3\" class=\"data row56 col3\" >0.000000</td>\n",
       "      <td id=\"T_6a262_row56_col4\" class=\"data row56 col4\" >0.273973</td>\n",
       "      <td id=\"T_6a262_row56_col5\" class=\"data row56 col5\" >39</td>\n",
       "      <td id=\"T_6a262_row56_col6\" class=\"data row56 col6\" ></td>\n",
       "    </tr>\n",
       "    <tr>\n",
       "      <th id=\"T_6a262_level0_row57\" class=\"row_heading level0 row57\" >LotShape</th>\n",
       "      <td id=\"T_6a262_row57_col0\" class=\"data row57 col0\" >4</td>\n",
       "      <td id=\"T_6a262_row57_col1\" class=\"data row57 col1\" >object</td>\n",
       "      <td id=\"T_6a262_row57_col2\" class=\"data row57 col2\" >0</td>\n",
       "      <td id=\"T_6a262_row57_col3\" class=\"data row57 col3\" >0.000000</td>\n",
       "      <td id=\"T_6a262_row57_col4\" class=\"data row57 col4\" >0.273973</td>\n",
       "      <td id=\"T_6a262_row57_col5\" class=\"data row57 col5\" >10</td>\n",
       "      <td id=\"T_6a262_row57_col6\" class=\"data row57 col6\" ></td>\n",
       "    </tr>\n",
       "    <tr>\n",
       "      <th id=\"T_6a262_level0_row58\" class=\"row_heading level0 row58\" >KitchenAbvGr</th>\n",
       "      <td id=\"T_6a262_row58_col0\" class=\"data row58 col0\" >4</td>\n",
       "      <td id=\"T_6a262_row58_col1\" class=\"data row58 col1\" >int64</td>\n",
       "      <td id=\"T_6a262_row58_col2\" class=\"data row58 col2\" >0</td>\n",
       "      <td id=\"T_6a262_row58_col3\" class=\"data row58 col3\" >0.000000</td>\n",
       "      <td id=\"T_6a262_row58_col4\" class=\"data row58 col4\" >0.273973</td>\n",
       "      <td id=\"T_6a262_row58_col5\" class=\"data row58 col5\" >0</td>\n",
       "      <td id=\"T_6a262_row58_col6\" class=\"data row58 col6\" ></td>\n",
       "    </tr>\n",
       "    <tr>\n",
       "      <th id=\"T_6a262_level0_row59\" class=\"row_heading level0 row59\" >ExterQual</th>\n",
       "      <td id=\"T_6a262_row59_col0\" class=\"data row59 col0\" >4</td>\n",
       "      <td id=\"T_6a262_row59_col1\" class=\"data row59 col1\" >object</td>\n",
       "      <td id=\"T_6a262_row59_col2\" class=\"data row59 col2\" >0</td>\n",
       "      <td id=\"T_6a262_row59_col3\" class=\"data row59 col3\" >0.000000</td>\n",
       "      <td id=\"T_6a262_row59_col4\" class=\"data row59 col4\" >0.273973</td>\n",
       "      <td id=\"T_6a262_row59_col5\" class=\"data row59 col5\" >14</td>\n",
       "      <td id=\"T_6a262_row59_col6\" class=\"data row59 col6\" ></td>\n",
       "    </tr>\n",
       "    <tr>\n",
       "      <th id=\"T_6a262_level0_row60\" class=\"row_heading level0 row60\" >MasVnrType</th>\n",
       "      <td id=\"T_6a262_row60_col0\" class=\"data row60 col0\" >4</td>\n",
       "      <td id=\"T_6a262_row60_col1\" class=\"data row60 col1\" >object</td>\n",
       "      <td id=\"T_6a262_row60_col2\" class=\"data row60 col2\" >8</td>\n",
       "      <td id=\"T_6a262_row60_col3\" class=\"data row60 col3\" >0.547945</td>\n",
       "      <td id=\"T_6a262_row60_col4\" class=\"data row60 col4\" >0.273973</td>\n",
       "      <td id=\"T_6a262_row60_col5\" class=\"data row60 col5\" >15</td>\n",
       "      <td id=\"T_6a262_row60_col6\" class=\"data row60 col6\" >fill missing, fix mixed data types</td>\n",
       "    </tr>\n",
       "    <tr>\n",
       "      <th id=\"T_6a262_level0_row61\" class=\"row_heading level0 row61\" >BsmtQual</th>\n",
       "      <td id=\"T_6a262_row61_col0\" class=\"data row61 col0\" >4</td>\n",
       "      <td id=\"T_6a262_row61_col1\" class=\"data row61 col1\" >object</td>\n",
       "      <td id=\"T_6a262_row61_col2\" class=\"data row61 col2\" >37</td>\n",
       "      <td id=\"T_6a262_row61_col3\" class=\"data row61 col3\" >2.534247</td>\n",
       "      <td id=\"T_6a262_row61_col4\" class=\"data row61 col4\" >0.273973</td>\n",
       "      <td id=\"T_6a262_row61_col5\" class=\"data row61 col5\" >35</td>\n",
       "      <td id=\"T_6a262_row61_col6\" class=\"data row61 col6\" >fill missing, fix mixed data types</td>\n",
       "    </tr>\n",
       "    <tr>\n",
       "      <th id=\"T_6a262_level0_row62\" class=\"row_heading level0 row62\" >BsmtExposure</th>\n",
       "      <td id=\"T_6a262_row62_col0\" class=\"data row62 col0\" >4</td>\n",
       "      <td id=\"T_6a262_row62_col1\" class=\"data row62 col1\" >object</td>\n",
       "      <td id=\"T_6a262_row62_col2\" class=\"data row62 col2\" >38</td>\n",
       "      <td id=\"T_6a262_row62_col3\" class=\"data row62 col3\" >2.602740</td>\n",
       "      <td id=\"T_6a262_row62_col4\" class=\"data row62 col4\" >0.273973</td>\n",
       "      <td id=\"T_6a262_row62_col5\" class=\"data row62 col5\" >114</td>\n",
       "      <td id=\"T_6a262_row62_col6\" class=\"data row62 col6\" >fill missing, fix mixed data types</td>\n",
       "    </tr>\n",
       "    <tr>\n",
       "      <th id=\"T_6a262_level0_row63\" class=\"row_heading level0 row63\" >FullBath</th>\n",
       "      <td id=\"T_6a262_row63_col0\" class=\"data row63 col0\" >4</td>\n",
       "      <td id=\"T_6a262_row63_col1\" class=\"data row63 col1\" >int64</td>\n",
       "      <td id=\"T_6a262_row63_col2\" class=\"data row63 col2\" >0</td>\n",
       "      <td id=\"T_6a262_row63_col3\" class=\"data row63 col3\" >0.000000</td>\n",
       "      <td id=\"T_6a262_row63_col4\" class=\"data row63 col4\" >0.273973</td>\n",
       "      <td id=\"T_6a262_row63_col5\" class=\"data row63 col5\" >0</td>\n",
       "      <td id=\"T_6a262_row63_col6\" class=\"data row63 col6\" ></td>\n",
       "    </tr>\n",
       "    <tr>\n",
       "      <th id=\"T_6a262_level0_row64\" class=\"row_heading level0 row64\" >MiscFeature</th>\n",
       "      <td id=\"T_6a262_row64_col0\" class=\"data row64 col0\" >4</td>\n",
       "      <td id=\"T_6a262_row64_col1\" class=\"data row64 col1\" >object</td>\n",
       "      <td id=\"T_6a262_row64_col2\" class=\"data row64 col2\" >1406</td>\n",
       "      <td id=\"T_6a262_row64_col3\" class=\"data row64 col3\" >96.301370</td>\n",
       "      <td id=\"T_6a262_row64_col4\" class=\"data row64 col4\" >0.273973</td>\n",
       "      <td id=\"T_6a262_row64_col5\" class=\"data row64 col5\" >1</td>\n",
       "      <td id=\"T_6a262_row64_col6\" class=\"data row64 col6\" >fill missing, very high nulls percent: drop, fix mixed data types</td>\n",
       "    </tr>\n",
       "    <tr>\n",
       "      <th id=\"T_6a262_level0_row65\" class=\"row_heading level0 row65\" >Fence</th>\n",
       "      <td id=\"T_6a262_row65_col0\" class=\"data row65 col0\" >4</td>\n",
       "      <td id=\"T_6a262_row65_col1\" class=\"data row65 col1\" >object</td>\n",
       "      <td id=\"T_6a262_row65_col2\" class=\"data row65 col2\" >1179</td>\n",
       "      <td id=\"T_6a262_row65_col3\" class=\"data row65 col3\" >80.753425</td>\n",
       "      <td id=\"T_6a262_row65_col4\" class=\"data row65 col4\" >0.273973</td>\n",
       "      <td id=\"T_6a262_row65_col5\" class=\"data row65 col5\" >11</td>\n",
       "      <td id=\"T_6a262_row65_col6\" class=\"data row65 col6\" >fill missing, fix mixed data types</td>\n",
       "    </tr>\n",
       "    <tr>\n",
       "      <th id=\"T_6a262_level0_row66\" class=\"row_heading level0 row66\" >BsmtFullBath</th>\n",
       "      <td id=\"T_6a262_row66_col0\" class=\"data row66 col0\" >4</td>\n",
       "      <td id=\"T_6a262_row66_col1\" class=\"data row66 col1\" >int64</td>\n",
       "      <td id=\"T_6a262_row66_col2\" class=\"data row66 col2\" >0</td>\n",
       "      <td id=\"T_6a262_row66_col3\" class=\"data row66 col3\" >0.000000</td>\n",
       "      <td id=\"T_6a262_row66_col4\" class=\"data row66 col4\" >0.273973</td>\n",
       "      <td id=\"T_6a262_row66_col5\" class=\"data row66 col5\" >0</td>\n",
       "      <td id=\"T_6a262_row66_col6\" class=\"data row66 col6\" ></td>\n",
       "    </tr>\n",
       "    <tr>\n",
       "      <th id=\"T_6a262_level0_row67\" class=\"row_heading level0 row67\" >Fireplaces</th>\n",
       "      <td id=\"T_6a262_row67_col0\" class=\"data row67 col0\" >4</td>\n",
       "      <td id=\"T_6a262_row67_col1\" class=\"data row67 col1\" >int64</td>\n",
       "      <td id=\"T_6a262_row67_col2\" class=\"data row67 col2\" >0</td>\n",
       "      <td id=\"T_6a262_row67_col3\" class=\"data row67 col3\" >0.000000</td>\n",
       "      <td id=\"T_6a262_row67_col4\" class=\"data row67 col4\" >0.273973</td>\n",
       "      <td id=\"T_6a262_row67_col5\" class=\"data row67 col5\" >0</td>\n",
       "      <td id=\"T_6a262_row67_col6\" class=\"data row67 col6\" ></td>\n",
       "    </tr>\n",
       "    <tr>\n",
       "      <th id=\"T_6a262_level0_row68\" class=\"row_heading level0 row68\" >BsmtCond</th>\n",
       "      <td id=\"T_6a262_row68_col0\" class=\"data row68 col0\" >4</td>\n",
       "      <td id=\"T_6a262_row68_col1\" class=\"data row68 col1\" >object</td>\n",
       "      <td id=\"T_6a262_row68_col2\" class=\"data row68 col2\" >37</td>\n",
       "      <td id=\"T_6a262_row68_col3\" class=\"data row68 col3\" >2.534247</td>\n",
       "      <td id=\"T_6a262_row68_col4\" class=\"data row68 col4\" >0.273973</td>\n",
       "      <td id=\"T_6a262_row68_col5\" class=\"data row68 col5\" >2</td>\n",
       "      <td id=\"T_6a262_row68_col6\" class=\"data row68 col6\" >fill missing, fix mixed data types</td>\n",
       "    </tr>\n",
       "    <tr>\n",
       "      <th id=\"T_6a262_level0_row69\" class=\"row_heading level0 row69\" >LandContour</th>\n",
       "      <td id=\"T_6a262_row69_col0\" class=\"data row69 col0\" >4</td>\n",
       "      <td id=\"T_6a262_row69_col1\" class=\"data row69 col1\" >object</td>\n",
       "      <td id=\"T_6a262_row69_col2\" class=\"data row69 col2\" >0</td>\n",
       "      <td id=\"T_6a262_row69_col3\" class=\"data row69 col3\" >0.000000</td>\n",
       "      <td id=\"T_6a262_row69_col4\" class=\"data row69 col4\" >0.273973</td>\n",
       "      <td id=\"T_6a262_row69_col5\" class=\"data row69 col5\" >36</td>\n",
       "      <td id=\"T_6a262_row69_col6\" class=\"data row69 col6\" ></td>\n",
       "    </tr>\n",
       "    <tr>\n",
       "      <th id=\"T_6a262_level0_row70\" class=\"row_heading level0 row70\" >PoolQC</th>\n",
       "      <td id=\"T_6a262_row70_col0\" class=\"data row70 col0\" >3</td>\n",
       "      <td id=\"T_6a262_row70_col1\" class=\"data row70 col1\" >object</td>\n",
       "      <td id=\"T_6a262_row70_col2\" class=\"data row70 col2\" >1453</td>\n",
       "      <td id=\"T_6a262_row70_col3\" class=\"data row70 col3\" >99.520548</td>\n",
       "      <td id=\"T_6a262_row70_col4\" class=\"data row70 col4\" >0.205479</td>\n",
       "      <td id=\"T_6a262_row70_col5\" class=\"data row70 col5\" >2</td>\n",
       "      <td id=\"T_6a262_row70_col6\" class=\"data row70 col6\" >fill missing, very high nulls percent: drop, fix mixed data types</td>\n",
       "    </tr>\n",
       "    <tr>\n",
       "      <th id=\"T_6a262_level0_row71\" class=\"row_heading level0 row71\" >LandSlope</th>\n",
       "      <td id=\"T_6a262_row71_col0\" class=\"data row71 col0\" >3</td>\n",
       "      <td id=\"T_6a262_row71_col1\" class=\"data row71 col1\" >object</td>\n",
       "      <td id=\"T_6a262_row71_col2\" class=\"data row71 col2\" >0</td>\n",
       "      <td id=\"T_6a262_row71_col3\" class=\"data row71 col3\" >0.000000</td>\n",
       "      <td id=\"T_6a262_row71_col4\" class=\"data row71 col4\" >0.205479</td>\n",
       "      <td id=\"T_6a262_row71_col5\" class=\"data row71 col5\" >13</td>\n",
       "      <td id=\"T_6a262_row71_col6\" class=\"data row71 col6\" ></td>\n",
       "    </tr>\n",
       "    <tr>\n",
       "      <th id=\"T_6a262_level0_row72\" class=\"row_heading level0 row72\" >PavedDrive</th>\n",
       "      <td id=\"T_6a262_row72_col0\" class=\"data row72 col0\" >3</td>\n",
       "      <td id=\"T_6a262_row72_col1\" class=\"data row72 col1\" >object</td>\n",
       "      <td id=\"T_6a262_row72_col2\" class=\"data row72 col2\" >0</td>\n",
       "      <td id=\"T_6a262_row72_col3\" class=\"data row72 col3\" >0.000000</td>\n",
       "      <td id=\"T_6a262_row72_col4\" class=\"data row72 col4\" >0.205479</td>\n",
       "      <td id=\"T_6a262_row72_col5\" class=\"data row72 col5\" >30</td>\n",
       "      <td id=\"T_6a262_row72_col6\" class=\"data row72 col6\" ></td>\n",
       "    </tr>\n",
       "    <tr>\n",
       "      <th id=\"T_6a262_level0_row73\" class=\"row_heading level0 row73\" >BsmtHalfBath</th>\n",
       "      <td id=\"T_6a262_row73_col0\" class=\"data row73 col0\" >3</td>\n",
       "      <td id=\"T_6a262_row73_col1\" class=\"data row73 col1\" >int64</td>\n",
       "      <td id=\"T_6a262_row73_col2\" class=\"data row73 col2\" >0</td>\n",
       "      <td id=\"T_6a262_row73_col3\" class=\"data row73 col3\" >0.000000</td>\n",
       "      <td id=\"T_6a262_row73_col4\" class=\"data row73 col4\" >0.205479</td>\n",
       "      <td id=\"T_6a262_row73_col5\" class=\"data row73 col5\" >0</td>\n",
       "      <td id=\"T_6a262_row73_col6\" class=\"data row73 col6\" ></td>\n",
       "    </tr>\n",
       "    <tr>\n",
       "      <th id=\"T_6a262_level0_row74\" class=\"row_heading level0 row74\" >HalfBath</th>\n",
       "      <td id=\"T_6a262_row74_col0\" class=\"data row74 col0\" >3</td>\n",
       "      <td id=\"T_6a262_row74_col1\" class=\"data row74 col1\" >int64</td>\n",
       "      <td id=\"T_6a262_row74_col2\" class=\"data row74 col2\" >0</td>\n",
       "      <td id=\"T_6a262_row74_col3\" class=\"data row74 col3\" >0.000000</td>\n",
       "      <td id=\"T_6a262_row74_col4\" class=\"data row74 col4\" >0.205479</td>\n",
       "      <td id=\"T_6a262_row74_col5\" class=\"data row74 col5\" >0</td>\n",
       "      <td id=\"T_6a262_row74_col6\" class=\"data row74 col6\" ></td>\n",
       "    </tr>\n",
       "    <tr>\n",
       "      <th id=\"T_6a262_level0_row75\" class=\"row_heading level0 row75\" >GarageFinish</th>\n",
       "      <td id=\"T_6a262_row75_col0\" class=\"data row75 col0\" >3</td>\n",
       "      <td id=\"T_6a262_row75_col1\" class=\"data row75 col1\" >object</td>\n",
       "      <td id=\"T_6a262_row75_col2\" class=\"data row75 col2\" >81</td>\n",
       "      <td id=\"T_6a262_row75_col3\" class=\"data row75 col3\" >5.547945</td>\n",
       "      <td id=\"T_6a262_row75_col4\" class=\"data row75 col4\" >0.205479</td>\n",
       "      <td id=\"T_6a262_row75_col5\" class=\"data row75 col5\" >352</td>\n",
       "      <td id=\"T_6a262_row75_col6\" class=\"data row75 col6\" >fill missing, fix mixed data types</td>\n",
       "    </tr>\n",
       "    <tr>\n",
       "      <th id=\"T_6a262_level0_row76\" class=\"row_heading level0 row76\" >Utilities</th>\n",
       "      <td id=\"T_6a262_row76_col0\" class=\"data row76 col0\" >2</td>\n",
       "      <td id=\"T_6a262_row76_col1\" class=\"data row76 col1\" >object</td>\n",
       "      <td id=\"T_6a262_row76_col2\" class=\"data row76 col2\" >0</td>\n",
       "      <td id=\"T_6a262_row76_col3\" class=\"data row76 col3\" >0.000000</td>\n",
       "      <td id=\"T_6a262_row76_col4\" class=\"data row76 col4\" >0.136986</td>\n",
       "      <td id=\"T_6a262_row76_col5\" class=\"data row76 col5\" >1</td>\n",
       "      <td id=\"T_6a262_row76_col6\" class=\"data row76 col6\" ></td>\n",
       "    </tr>\n",
       "    <tr>\n",
       "      <th id=\"T_6a262_level0_row77\" class=\"row_heading level0 row77\" >Alley</th>\n",
       "      <td id=\"T_6a262_row77_col0\" class=\"data row77 col0\" >2</td>\n",
       "      <td id=\"T_6a262_row77_col1\" class=\"data row77 col1\" >object</td>\n",
       "      <td id=\"T_6a262_row77_col2\" class=\"data row77 col2\" >1369</td>\n",
       "      <td id=\"T_6a262_row77_col3\" class=\"data row77 col3\" >93.767123</td>\n",
       "      <td id=\"T_6a262_row77_col4\" class=\"data row77 col4\" >0.136986</td>\n",
       "      <td id=\"T_6a262_row77_col5\" class=\"data row77 col5\" >41</td>\n",
       "      <td id=\"T_6a262_row77_col6\" class=\"data row77 col6\" >fill missing, very high nulls percent: drop, fix mixed data types</td>\n",
       "    </tr>\n",
       "    <tr>\n",
       "      <th id=\"T_6a262_level0_row78\" class=\"row_heading level0 row78\" >Street</th>\n",
       "      <td id=\"T_6a262_row78_col0\" class=\"data row78 col0\" >2</td>\n",
       "      <td id=\"T_6a262_row78_col1\" class=\"data row78 col1\" >object</td>\n",
       "      <td id=\"T_6a262_row78_col2\" class=\"data row78 col2\" >0</td>\n",
       "      <td id=\"T_6a262_row78_col3\" class=\"data row78 col3\" >0.000000</td>\n",
       "      <td id=\"T_6a262_row78_col4\" class=\"data row78 col4\" >0.136986</td>\n",
       "      <td id=\"T_6a262_row78_col5\" class=\"data row78 col5\" >6</td>\n",
       "      <td id=\"T_6a262_row78_col6\" class=\"data row78 col6\" ></td>\n",
       "    </tr>\n",
       "    <tr>\n",
       "      <th id=\"T_6a262_level0_row79\" class=\"row_heading level0 row79\" >CentralAir</th>\n",
       "      <td id=\"T_6a262_row79_col0\" class=\"data row79 col0\" >2</td>\n",
       "      <td id=\"T_6a262_row79_col1\" class=\"data row79 col1\" >object</td>\n",
       "      <td id=\"T_6a262_row79_col2\" class=\"data row79 col2\" >0</td>\n",
       "      <td id=\"T_6a262_row79_col3\" class=\"data row79 col3\" >0.000000</td>\n",
       "      <td id=\"T_6a262_row79_col4\" class=\"data row79 col4\" >0.136986</td>\n",
       "      <td id=\"T_6a262_row79_col5\" class=\"data row79 col5\" >95</td>\n",
       "      <td id=\"T_6a262_row79_col6\" class=\"data row79 col6\" ></td>\n",
       "    </tr>\n",
       "  </tbody>\n",
       "</table>\n"
      ],
      "text/plain": [
       "<pandas.io.formats.style.Styler at 0x2cce5b10790>"
      ]
     },
     "metadata": {},
     "output_type": "display_data"
    },
    {
     "name": "stdout",
     "output_type": "stream",
     "text": [
      "  Printing upto 30 columns max in each category:\n",
      "    Numeric Columns : ['LotFrontage', 'MasVnrArea', 'GarageYrBlt']\n",
      "    Integer-Categorical Columns: ['MSSubClass', 'LotArea', 'OverallQual', 'OverallCond', 'YearBuilt', 'BsmtFinSF1', 'BsmtFinSF2', 'BsmtUnfSF', 'TotalBsmtSF', '1stFlrSF', '2ndFlrSF', 'LowQualFinSF', 'GrLivArea', 'BsmtFullBath', 'BsmtHalfBath', 'FullBath', 'HalfBath', 'BedroomAbvGr', 'KitchenAbvGr', 'TotRmsAbvGrd', 'Fireplaces', 'GarageCars', 'GarageArea', 'WoodDeckSF', 'OpenPorchSF', 'EnclosedPorch', '3SsnPorch', 'ScreenPorch', 'PoolArea', 'MiscVal']\n",
      "    String-Categorical Columns: ['MSZoning', 'LotShape', 'LandContour', 'LotConfig', 'LandSlope', 'Neighborhood', 'Condition1', 'Condition2', 'BldgType', 'HouseStyle', 'RoofStyle', 'RoofMatl', 'Exterior1st', 'Exterior2nd', 'MasVnrType', 'ExterQual', 'ExterCond', 'Foundation', 'BsmtQual', 'BsmtCond', 'BsmtExposure', 'BsmtFinType1', 'BsmtFinType2', 'Heating', 'HeatingQC', 'Electrical', 'KitchenQual', 'Functional', 'FireplaceQu', 'GarageType']\n",
      "    Factor-Categorical Columns: []\n",
      "    String-Boolean Columns: ['Street', 'Utilities', 'CentralAir']\n",
      "    Numeric-Boolean Columns: []\n",
      "    Discrete String Columns: []\n",
      "    NLP text Columns: []\n",
      "    Date Time Columns: ['YearRemodAdd', 'YrSold']\n",
      "    ID Columns: ['Id']\n",
      "    Columns that will not be considered in modeling: ['Alley', 'PoolQC', 'MiscFeature']\n",
      "    80 Predictors classified...\n",
      "        4 variables removed since they were ID or low-information variables\n",
      "        List of variables removed: ['Id', 'Alley', 'PoolQC', 'MiscFeature']\n",
      "\n",
      "################ Regression problem #####################\n",
      "Number of variables = 76 exceeds limit, finding top 30 variables through XGBoost\n",
      "    No categorical feature reduction done. All 73 Categorical vars selected \n",
      "    Removing correlated variables from 3 numerics using SULO method\n",
      "Selecting all (3) variables since none of them are highly correlated...\n",
      "    Adding 73 categorical variables to reduced numeric variables  of 3\n",
      "############## F E A T U R E   S E L E C T I O N  ####################\n",
      "Current number of predictors = 76 \n",
      "    Finding Important Features using Boosted Trees algorithm...\n",
      "        using 76 variables...\n",
      "Finding top features using XGB is crashing. Continuing with all predictors...\n",
      "    Since number of features selected is greater than max columns analyzed, limiting to 30 variables\n",
      "#######################################################################################\n",
      "######################## C L A S S I F Y I N G  V A R I A B L E S  ####################\n",
      "#######################################################################################\n",
      "Classifying variables in data set...\n",
      "Data cleaning improvement suggestions. Complete them before proceeding to ML modeling.\n"
     ]
    },
    {
     "data": {
      "text/html": [
       "<style type=\"text/css\">\n",
       "#T_01915_row0_col0, #T_01915_row0_col4, #T_01915_row3_col2, #T_01915_row3_col3, #T_01915_row22_col5 {\n",
       "  background-color: #67000d;\n",
       "  color: #f1f1f1;\n",
       "  font-family: Segoe UI;\n",
       "}\n",
       "#T_01915_row0_col1, #T_01915_row0_col6, #T_01915_row1_col1, #T_01915_row1_col6, #T_01915_row2_col1, #T_01915_row2_col6, #T_01915_row3_col1, #T_01915_row3_col6, #T_01915_row4_col1, #T_01915_row4_col6, #T_01915_row5_col1, #T_01915_row5_col6, #T_01915_row6_col1, #T_01915_row6_col6, #T_01915_row7_col1, #T_01915_row7_col6, #T_01915_row8_col1, #T_01915_row8_col6, #T_01915_row9_col1, #T_01915_row9_col6, #T_01915_row10_col1, #T_01915_row10_col6, #T_01915_row11_col1, #T_01915_row11_col6, #T_01915_row12_col1, #T_01915_row12_col6, #T_01915_row13_col1, #T_01915_row13_col6, #T_01915_row14_col1, #T_01915_row14_col6, #T_01915_row15_col1, #T_01915_row15_col6, #T_01915_row16_col1, #T_01915_row16_col6, #T_01915_row17_col1, #T_01915_row17_col6, #T_01915_row18_col1, #T_01915_row18_col6, #T_01915_row19_col1, #T_01915_row19_col6, #T_01915_row20_col1, #T_01915_row20_col6, #T_01915_row21_col1, #T_01915_row21_col6, #T_01915_row22_col1, #T_01915_row22_col6, #T_01915_row23_col1, #T_01915_row23_col6, #T_01915_row24_col1, #T_01915_row24_col6, #T_01915_row25_col1, #T_01915_row25_col6, #T_01915_row26_col1, #T_01915_row26_col6, #T_01915_row27_col1, #T_01915_row27_col6, #T_01915_row28_col1, #T_01915_row28_col6, #T_01915_row29_col1, #T_01915_row29_col6 {\n",
       "  font-family: Segoe UI;\n",
       "}\n",
       "#T_01915_row0_col2, #T_01915_row0_col3, #T_01915_row0_col5, #T_01915_row1_col5, #T_01915_row2_col2, #T_01915_row2_col3, #T_01915_row2_col5, #T_01915_row3_col5, #T_01915_row4_col5, #T_01915_row5_col2, #T_01915_row5_col3, #T_01915_row5_col5, #T_01915_row6_col2, #T_01915_row6_col3, #T_01915_row7_col2, #T_01915_row7_col3, #T_01915_row8_col2, #T_01915_row8_col3, #T_01915_row8_col5, #T_01915_row9_col2, #T_01915_row9_col3, #T_01915_row10_col2, #T_01915_row10_col3, #T_01915_row10_col5, #T_01915_row11_col2, #T_01915_row11_col3, #T_01915_row12_col2, #T_01915_row12_col3, #T_01915_row12_col5, #T_01915_row13_col2, #T_01915_row13_col3, #T_01915_row14_col2, #T_01915_row14_col3, #T_01915_row15_col2, #T_01915_row15_col3, #T_01915_row16_col0, #T_01915_row16_col2, #T_01915_row16_col3, #T_01915_row16_col4, #T_01915_row17_col0, #T_01915_row17_col2, #T_01915_row17_col3, #T_01915_row17_col4, #T_01915_row18_col0, #T_01915_row18_col2, #T_01915_row18_col3, #T_01915_row18_col4, #T_01915_row19_col0, #T_01915_row19_col2, #T_01915_row19_col3, #T_01915_row19_col4, #T_01915_row20_col0, #T_01915_row20_col2, #T_01915_row20_col3, #T_01915_row20_col4, #T_01915_row21_col0, #T_01915_row21_col2, #T_01915_row21_col3, #T_01915_row21_col4, #T_01915_row22_col0, #T_01915_row22_col2, #T_01915_row22_col3, #T_01915_row22_col4, #T_01915_row23_col0, #T_01915_row23_col2, #T_01915_row23_col3, #T_01915_row23_col4, #T_01915_row24_col0, #T_01915_row24_col4, #T_01915_row25_col0, #T_01915_row25_col2, #T_01915_row25_col3, #T_01915_row25_col4, #T_01915_row26_col0, #T_01915_row26_col4, #T_01915_row27_col0, #T_01915_row27_col2, #T_01915_row27_col3, #T_01915_row27_col4, #T_01915_row28_col0, #T_01915_row28_col2, #T_01915_row28_col3, #T_01915_row28_col4, #T_01915_row29_col0, #T_01915_row29_col2, #T_01915_row29_col3, #T_01915_row29_col4 {\n",
       "  background-color: #fff5f0;\n",
       "  color: #000000;\n",
       "  font-family: Segoe UI;\n",
       "}\n",
       "#T_01915_row1_col0, #T_01915_row1_col4 {\n",
       "  background-color: #fcaa8d;\n",
       "  color: #000000;\n",
       "  font-family: Segoe UI;\n",
       "}\n",
       "#T_01915_row1_col2, #T_01915_row1_col3, #T_01915_row7_col5, #T_01915_row9_col5, #T_01915_row13_col5, #T_01915_row15_col5, #T_01915_row18_col5, #T_01915_row24_col2, #T_01915_row24_col3, #T_01915_row28_col5 {\n",
       "  background-color: #fff0e9;\n",
       "  color: #000000;\n",
       "  font-family: Segoe UI;\n",
       "}\n",
       "#T_01915_row2_col0, #T_01915_row2_col4 {\n",
       "  background-color: #fee4d8;\n",
       "  color: #000000;\n",
       "  font-family: Segoe UI;\n",
       "}\n",
       "#T_01915_row3_col0, #T_01915_row3_col4 {\n",
       "  background-color: #fee5d8;\n",
       "  color: #000000;\n",
       "  font-family: Segoe UI;\n",
       "}\n",
       "#T_01915_row4_col0, #T_01915_row4_col4 {\n",
       "  background-color: #fee7db;\n",
       "  color: #000000;\n",
       "  font-family: Segoe UI;\n",
       "}\n",
       "#T_01915_row4_col2, #T_01915_row4_col3 {\n",
       "  background-color: #fca689;\n",
       "  color: #000000;\n",
       "  font-family: Segoe UI;\n",
       "}\n",
       "#T_01915_row5_col0, #T_01915_row5_col4, #T_01915_row6_col5, #T_01915_row11_col5, #T_01915_row16_col5 {\n",
       "  background-color: #ffece3;\n",
       "  color: #000000;\n",
       "  font-family: Segoe UI;\n",
       "}\n",
       "#T_01915_row6_col0, #T_01915_row6_col4 {\n",
       "  background-color: #fff2eb;\n",
       "  color: #000000;\n",
       "  font-family: Segoe UI;\n",
       "}\n",
       "#T_01915_row7_col0, #T_01915_row7_col4, #T_01915_row8_col0, #T_01915_row8_col4, #T_01915_row9_col0, #T_01915_row9_col4 {\n",
       "  background-color: #fff3ed;\n",
       "  color: #000000;\n",
       "  font-family: Segoe UI;\n",
       "}\n",
       "#T_01915_row10_col0, #T_01915_row10_col4, #T_01915_row11_col0, #T_01915_row11_col4, #T_01915_row12_col0, #T_01915_row12_col4, #T_01915_row13_col0, #T_01915_row13_col4, #T_01915_row14_col0, #T_01915_row14_col4, #T_01915_row15_col0, #T_01915_row15_col4 {\n",
       "  background-color: #fff4ef;\n",
       "  color: #000000;\n",
       "  font-family: Segoe UI;\n",
       "}\n",
       "#T_01915_row14_col5 {\n",
       "  background-color: #fcc4ad;\n",
       "  color: #000000;\n",
       "  font-family: Segoe UI;\n",
       "}\n",
       "#T_01915_row17_col5 {\n",
       "  background-color: #fee7dc;\n",
       "  color: #000000;\n",
       "  font-family: Segoe UI;\n",
       "}\n",
       "#T_01915_row19_col5 {\n",
       "  background-color: #a91016;\n",
       "  color: #f1f1f1;\n",
       "  font-family: Segoe UI;\n",
       "}\n",
       "#T_01915_row20_col5 {\n",
       "  background-color: #fee3d6;\n",
       "  color: #000000;\n",
       "  font-family: Segoe UI;\n",
       "}\n",
       "#T_01915_row21_col5, #T_01915_row23_col5 {\n",
       "  background-color: #fcb296;\n",
       "  color: #000000;\n",
       "  font-family: Segoe UI;\n",
       "}\n",
       "#T_01915_row24_col5 {\n",
       "  background-color: #fc8565;\n",
       "  color: #f1f1f1;\n",
       "  font-family: Segoe UI;\n",
       "}\n",
       "#T_01915_row25_col5 {\n",
       "  background-color: #fc8e6e;\n",
       "  color: #000000;\n",
       "  font-family: Segoe UI;\n",
       "}\n",
       "#T_01915_row26_col2, #T_01915_row26_col3 {\n",
       "  background-color: #fedbcc;\n",
       "  color: #000000;\n",
       "  font-family: Segoe UI;\n",
       "}\n",
       "#T_01915_row26_col5 {\n",
       "  background-color: #75030f;\n",
       "  color: #f1f1f1;\n",
       "  font-family: Segoe UI;\n",
       "}\n",
       "#T_01915_row27_col5 {\n",
       "  background-color: #fc9777;\n",
       "  color: #000000;\n",
       "  font-family: Segoe UI;\n",
       "}\n",
       "#T_01915_row29_col5 {\n",
       "  background-color: #fdd4c2;\n",
       "  color: #000000;\n",
       "  font-family: Segoe UI;\n",
       "}\n",
       "</style>\n",
       "<table id=\"T_01915\">\n",
       "  <thead>\n",
       "    <tr>\n",
       "      <th class=\"blank level0\" >&nbsp;</th>\n",
       "      <th id=\"T_01915_level0_col0\" class=\"col_heading level0 col0\" >Nuniques</th>\n",
       "      <th id=\"T_01915_level0_col1\" class=\"col_heading level0 col1\" >dtype</th>\n",
       "      <th id=\"T_01915_level0_col2\" class=\"col_heading level0 col2\" >Nulls</th>\n",
       "      <th id=\"T_01915_level0_col3\" class=\"col_heading level0 col3\" >Nullpercent</th>\n",
       "      <th id=\"T_01915_level0_col4\" class=\"col_heading level0 col4\" >NuniquePercent</th>\n",
       "      <th id=\"T_01915_level0_col5\" class=\"col_heading level0 col5\" >Value counts Min</th>\n",
       "      <th id=\"T_01915_level0_col6\" class=\"col_heading level0 col6\" >Data cleaning improvement suggestions</th>\n",
       "    </tr>\n",
       "  </thead>\n",
       "  <tbody>\n",
       "    <tr>\n",
       "      <th id=\"T_01915_level0_row0\" class=\"row_heading level0 row0\" >LotArea</th>\n",
       "      <td id=\"T_01915_row0_col0\" class=\"data row0 col0\" >1073</td>\n",
       "      <td id=\"T_01915_row0_col1\" class=\"data row0 col1\" >int64</td>\n",
       "      <td id=\"T_01915_row0_col2\" class=\"data row0 col2\" >0</td>\n",
       "      <td id=\"T_01915_row0_col3\" class=\"data row0 col3\" >0.000000</td>\n",
       "      <td id=\"T_01915_row0_col4\" class=\"data row0 col4\" >73.493151</td>\n",
       "      <td id=\"T_01915_row0_col5\" class=\"data row0 col5\" >0</td>\n",
       "      <td id=\"T_01915_row0_col6\" class=\"data row0 col6\" ></td>\n",
       "    </tr>\n",
       "    <tr>\n",
       "      <th id=\"T_01915_level0_row1\" class=\"row_heading level0 row1\" >MasVnrArea</th>\n",
       "      <td id=\"T_01915_row1_col0\" class=\"data row1 col0\" >327</td>\n",
       "      <td id=\"T_01915_row1_col1\" class=\"data row1 col1\" >float64</td>\n",
       "      <td id=\"T_01915_row1_col2\" class=\"data row1 col2\" >8</td>\n",
       "      <td id=\"T_01915_row1_col3\" class=\"data row1 col3\" >0.547945</td>\n",
       "      <td id=\"T_01915_row1_col4\" class=\"data row1 col4\" >22.397260</td>\n",
       "      <td id=\"T_01915_row1_col5\" class=\"data row1 col5\" >0</td>\n",
       "      <td id=\"T_01915_row1_col6\" class=\"data row1 col6\" >fill missing, skewed: cap or drop outliers</td>\n",
       "    </tr>\n",
       "    <tr>\n",
       "      <th id=\"T_01915_level0_row2\" class=\"row_heading level0 row2\" >YearBuilt</th>\n",
       "      <td id=\"T_01915_row2_col0\" class=\"data row2 col0\" >112</td>\n",
       "      <td id=\"T_01915_row2_col1\" class=\"data row2 col1\" >int64</td>\n",
       "      <td id=\"T_01915_row2_col2\" class=\"data row2 col2\" >0</td>\n",
       "      <td id=\"T_01915_row2_col3\" class=\"data row2 col3\" >0.000000</td>\n",
       "      <td id=\"T_01915_row2_col4\" class=\"data row2 col4\" >7.671233</td>\n",
       "      <td id=\"T_01915_row2_col5\" class=\"data row2 col5\" >0</td>\n",
       "      <td id=\"T_01915_row2_col6\" class=\"data row2 col6\" ></td>\n",
       "    </tr>\n",
       "    <tr>\n",
       "      <th id=\"T_01915_level0_row3\" class=\"row_heading level0 row3\" >LotFrontage</th>\n",
       "      <td id=\"T_01915_row3_col0\" class=\"data row3 col0\" >110</td>\n",
       "      <td id=\"T_01915_row3_col1\" class=\"data row3 col1\" >float64</td>\n",
       "      <td id=\"T_01915_row3_col2\" class=\"data row3 col2\" >259</td>\n",
       "      <td id=\"T_01915_row3_col3\" class=\"data row3 col3\" >17.739726</td>\n",
       "      <td id=\"T_01915_row3_col4\" class=\"data row3 col4\" >7.534247</td>\n",
       "      <td id=\"T_01915_row3_col5\" class=\"data row3 col5\" >0</td>\n",
       "      <td id=\"T_01915_row3_col6\" class=\"data row3 col6\" >fill missing, skewed: cap or drop outliers</td>\n",
       "    </tr>\n",
       "    <tr>\n",
       "      <th id=\"T_01915_level0_row4\" class=\"row_heading level0 row4\" >GarageYrBlt</th>\n",
       "      <td id=\"T_01915_row4_col0\" class=\"data row4 col0\" >97</td>\n",
       "      <td id=\"T_01915_row4_col1\" class=\"data row4 col1\" >float64</td>\n",
       "      <td id=\"T_01915_row4_col2\" class=\"data row4 col2\" >81</td>\n",
       "      <td id=\"T_01915_row4_col3\" class=\"data row4 col3\" >5.547945</td>\n",
       "      <td id=\"T_01915_row4_col4\" class=\"data row4 col4\" >6.643836</td>\n",
       "      <td id=\"T_01915_row4_col5\" class=\"data row4 col5\" >0</td>\n",
       "      <td id=\"T_01915_row4_col6\" class=\"data row4 col6\" >fill missing</td>\n",
       "    </tr>\n",
       "    <tr>\n",
       "      <th id=\"T_01915_level0_row5\" class=\"row_heading level0 row5\" >YearRemodAdd</th>\n",
       "      <td id=\"T_01915_row5_col0\" class=\"data row5 col0\" >61</td>\n",
       "      <td id=\"T_01915_row5_col1\" class=\"data row5 col1\" >int64</td>\n",
       "      <td id=\"T_01915_row5_col2\" class=\"data row5 col2\" >0</td>\n",
       "      <td id=\"T_01915_row5_col3\" class=\"data row5 col3\" >0.000000</td>\n",
       "      <td id=\"T_01915_row5_col4\" class=\"data row5 col4\" >4.178082</td>\n",
       "      <td id=\"T_01915_row5_col5\" class=\"data row5 col5\" >0</td>\n",
       "      <td id=\"T_01915_row5_col6\" class=\"data row5 col6\" ></td>\n",
       "    </tr>\n",
       "    <tr>\n",
       "      <th id=\"T_01915_level0_row6\" class=\"row_heading level0 row6\" >Neighborhood</th>\n",
       "      <td id=\"T_01915_row6_col0\" class=\"data row6 col0\" >25</td>\n",
       "      <td id=\"T_01915_row6_col1\" class=\"data row6 col1\" >object</td>\n",
       "      <td id=\"T_01915_row6_col2\" class=\"data row6 col2\" >0</td>\n",
       "      <td id=\"T_01915_row6_col3\" class=\"data row6 col3\" >0.000000</td>\n",
       "      <td id=\"T_01915_row6_col4\" class=\"data row6 col4\" >1.712329</td>\n",
       "      <td id=\"T_01915_row6_col5\" class=\"data row6 col5\" >2</td>\n",
       "      <td id=\"T_01915_row6_col6\" class=\"data row6 col6\" ></td>\n",
       "    </tr>\n",
       "    <tr>\n",
       "      <th id=\"T_01915_level0_row7\" class=\"row_heading level0 row7\" >Exterior2nd</th>\n",
       "      <td id=\"T_01915_row7_col0\" class=\"data row7 col0\" >16</td>\n",
       "      <td id=\"T_01915_row7_col1\" class=\"data row7 col1\" >object</td>\n",
       "      <td id=\"T_01915_row7_col2\" class=\"data row7 col2\" >0</td>\n",
       "      <td id=\"T_01915_row7_col3\" class=\"data row7 col3\" >0.000000</td>\n",
       "      <td id=\"T_01915_row7_col4\" class=\"data row7 col4\" >1.095890</td>\n",
       "      <td id=\"T_01915_row7_col5\" class=\"data row7 col5\" >1</td>\n",
       "      <td id=\"T_01915_row7_col6\" class=\"data row7 col6\" ></td>\n",
       "    </tr>\n",
       "    <tr>\n",
       "      <th id=\"T_01915_level0_row8\" class=\"row_heading level0 row8\" >MSSubClass</th>\n",
       "      <td id=\"T_01915_row8_col0\" class=\"data row8 col0\" >15</td>\n",
       "      <td id=\"T_01915_row8_col1\" class=\"data row8 col1\" >int64</td>\n",
       "      <td id=\"T_01915_row8_col2\" class=\"data row8 col2\" >0</td>\n",
       "      <td id=\"T_01915_row8_col3\" class=\"data row8 col3\" >0.000000</td>\n",
       "      <td id=\"T_01915_row8_col4\" class=\"data row8 col4\" >1.027397</td>\n",
       "      <td id=\"T_01915_row8_col5\" class=\"data row8 col5\" >0</td>\n",
       "      <td id=\"T_01915_row8_col6\" class=\"data row8 col6\" ></td>\n",
       "    </tr>\n",
       "    <tr>\n",
       "      <th id=\"T_01915_level0_row9\" class=\"row_heading level0 row9\" >Exterior1st</th>\n",
       "      <td id=\"T_01915_row9_col0\" class=\"data row9 col0\" >15</td>\n",
       "      <td id=\"T_01915_row9_col1\" class=\"data row9 col1\" >object</td>\n",
       "      <td id=\"T_01915_row9_col2\" class=\"data row9 col2\" >0</td>\n",
       "      <td id=\"T_01915_row9_col3\" class=\"data row9 col3\" >0.000000</td>\n",
       "      <td id=\"T_01915_row9_col4\" class=\"data row9 col4\" >1.027397</td>\n",
       "      <td id=\"T_01915_row9_col5\" class=\"data row9 col5\" >1</td>\n",
       "      <td id=\"T_01915_row9_col6\" class=\"data row9 col6\" ></td>\n",
       "    </tr>\n",
       "    <tr>\n",
       "      <th id=\"T_01915_level0_row10\" class=\"row_heading level0 row10\" >OverallQual</th>\n",
       "      <td id=\"T_01915_row10_col0\" class=\"data row10 col0\" >10</td>\n",
       "      <td id=\"T_01915_row10_col1\" class=\"data row10 col1\" >int64</td>\n",
       "      <td id=\"T_01915_row10_col2\" class=\"data row10 col2\" >0</td>\n",
       "      <td id=\"T_01915_row10_col3\" class=\"data row10 col3\" >0.000000</td>\n",
       "      <td id=\"T_01915_row10_col4\" class=\"data row10 col4\" >0.684932</td>\n",
       "      <td id=\"T_01915_row10_col5\" class=\"data row10 col5\" >0</td>\n",
       "      <td id=\"T_01915_row10_col6\" class=\"data row10 col6\" ></td>\n",
       "    </tr>\n",
       "    <tr>\n",
       "      <th id=\"T_01915_level0_row11\" class=\"row_heading level0 row11\" >Condition1</th>\n",
       "      <td id=\"T_01915_row11_col0\" class=\"data row11 col0\" >9</td>\n",
       "      <td id=\"T_01915_row11_col1\" class=\"data row11 col1\" >object</td>\n",
       "      <td id=\"T_01915_row11_col2\" class=\"data row11 col2\" >0</td>\n",
       "      <td id=\"T_01915_row11_col3\" class=\"data row11 col3\" >0.000000</td>\n",
       "      <td id=\"T_01915_row11_col4\" class=\"data row11 col4\" >0.616438</td>\n",
       "      <td id=\"T_01915_row11_col5\" class=\"data row11 col5\" >2</td>\n",
       "      <td id=\"T_01915_row11_col6\" class=\"data row11 col6\" ></td>\n",
       "    </tr>\n",
       "    <tr>\n",
       "      <th id=\"T_01915_level0_row12\" class=\"row_heading level0 row12\" >OverallCond</th>\n",
       "      <td id=\"T_01915_row12_col0\" class=\"data row12 col0\" >9</td>\n",
       "      <td id=\"T_01915_row12_col1\" class=\"data row12 col1\" >int64</td>\n",
       "      <td id=\"T_01915_row12_col2\" class=\"data row12 col2\" >0</td>\n",
       "      <td id=\"T_01915_row12_col3\" class=\"data row12 col3\" >0.000000</td>\n",
       "      <td id=\"T_01915_row12_col4\" class=\"data row12 col4\" >0.616438</td>\n",
       "      <td id=\"T_01915_row12_col5\" class=\"data row12 col5\" >0</td>\n",
       "      <td id=\"T_01915_row12_col6\" class=\"data row12 col6\" ></td>\n",
       "    </tr>\n",
       "    <tr>\n",
       "      <th id=\"T_01915_level0_row13\" class=\"row_heading level0 row13\" >Condition2</th>\n",
       "      <td id=\"T_01915_row13_col0\" class=\"data row13 col0\" >8</td>\n",
       "      <td id=\"T_01915_row13_col1\" class=\"data row13 col1\" >object</td>\n",
       "      <td id=\"T_01915_row13_col2\" class=\"data row13 col2\" >0</td>\n",
       "      <td id=\"T_01915_row13_col3\" class=\"data row13 col3\" >0.000000</td>\n",
       "      <td id=\"T_01915_row13_col4\" class=\"data row13 col4\" >0.547945</td>\n",
       "      <td id=\"T_01915_row13_col5\" class=\"data row13 col5\" >1</td>\n",
       "      <td id=\"T_01915_row13_col6\" class=\"data row13 col6\" ></td>\n",
       "    </tr>\n",
       "    <tr>\n",
       "      <th id=\"T_01915_level0_row14\" class=\"row_heading level0 row14\" >HouseStyle</th>\n",
       "      <td id=\"T_01915_row14_col0\" class=\"data row14 col0\" >8</td>\n",
       "      <td id=\"T_01915_row14_col1\" class=\"data row14 col1\" >object</td>\n",
       "      <td id=\"T_01915_row14_col2\" class=\"data row14 col2\" >0</td>\n",
       "      <td id=\"T_01915_row14_col3\" class=\"data row14 col3\" >0.000000</td>\n",
       "      <td id=\"T_01915_row14_col4\" class=\"data row14 col4\" >0.547945</td>\n",
       "      <td id=\"T_01915_row14_col5\" class=\"data row14 col5\" >8</td>\n",
       "      <td id=\"T_01915_row14_col6\" class=\"data row14 col6\" ></td>\n",
       "    </tr>\n",
       "    <tr>\n",
       "      <th id=\"T_01915_level0_row15\" class=\"row_heading level0 row15\" >RoofMatl</th>\n",
       "      <td id=\"T_01915_row15_col0\" class=\"data row15 col0\" >8</td>\n",
       "      <td id=\"T_01915_row15_col1\" class=\"data row15 col1\" >object</td>\n",
       "      <td id=\"T_01915_row15_col2\" class=\"data row15 col2\" >0</td>\n",
       "      <td id=\"T_01915_row15_col3\" class=\"data row15 col3\" >0.000000</td>\n",
       "      <td id=\"T_01915_row15_col4\" class=\"data row15 col4\" >0.547945</td>\n",
       "      <td id=\"T_01915_row15_col5\" class=\"data row15 col5\" >1</td>\n",
       "      <td id=\"T_01915_row15_col6\" class=\"data row15 col6\" ></td>\n",
       "    </tr>\n",
       "    <tr>\n",
       "      <th id=\"T_01915_level0_row16\" class=\"row_heading level0 row16\" >RoofStyle</th>\n",
       "      <td id=\"T_01915_row16_col0\" class=\"data row16 col0\" >6</td>\n",
       "      <td id=\"T_01915_row16_col1\" class=\"data row16 col1\" >object</td>\n",
       "      <td id=\"T_01915_row16_col2\" class=\"data row16 col2\" >0</td>\n",
       "      <td id=\"T_01915_row16_col3\" class=\"data row16 col3\" >0.000000</td>\n",
       "      <td id=\"T_01915_row16_col4\" class=\"data row16 col4\" >0.410959</td>\n",
       "      <td id=\"T_01915_row16_col5\" class=\"data row16 col5\" >2</td>\n",
       "      <td id=\"T_01915_row16_col6\" class=\"data row16 col6\" ></td>\n",
       "    </tr>\n",
       "    <tr>\n",
       "      <th id=\"T_01915_level0_row17\" class=\"row_heading level0 row17\" >Foundation</th>\n",
       "      <td id=\"T_01915_row17_col0\" class=\"data row17 col0\" >6</td>\n",
       "      <td id=\"T_01915_row17_col1\" class=\"data row17 col1\" >object</td>\n",
       "      <td id=\"T_01915_row17_col2\" class=\"data row17 col2\" >0</td>\n",
       "      <td id=\"T_01915_row17_col3\" class=\"data row17 col3\" >0.000000</td>\n",
       "      <td id=\"T_01915_row17_col4\" class=\"data row17 col4\" >0.410959</td>\n",
       "      <td id=\"T_01915_row17_col5\" class=\"data row17 col5\" >3</td>\n",
       "      <td id=\"T_01915_row17_col6\" class=\"data row17 col6\" ></td>\n",
       "    </tr>\n",
       "    <tr>\n",
       "      <th id=\"T_01915_level0_row18\" class=\"row_heading level0 row18\" >ExterCond</th>\n",
       "      <td id=\"T_01915_row18_col0\" class=\"data row18 col0\" >5</td>\n",
       "      <td id=\"T_01915_row18_col1\" class=\"data row18 col1\" >object</td>\n",
       "      <td id=\"T_01915_row18_col2\" class=\"data row18 col2\" >0</td>\n",
       "      <td id=\"T_01915_row18_col3\" class=\"data row18 col3\" >0.000000</td>\n",
       "      <td id=\"T_01915_row18_col4\" class=\"data row18 col4\" >0.342466</td>\n",
       "      <td id=\"T_01915_row18_col5\" class=\"data row18 col5\" >1</td>\n",
       "      <td id=\"T_01915_row18_col6\" class=\"data row18 col6\" ></td>\n",
       "    </tr>\n",
       "    <tr>\n",
       "      <th id=\"T_01915_level0_row19\" class=\"row_heading level0 row19\" >BldgType</th>\n",
       "      <td id=\"T_01915_row19_col0\" class=\"data row19 col0\" >5</td>\n",
       "      <td id=\"T_01915_row19_col1\" class=\"data row19 col1\" >object</td>\n",
       "      <td id=\"T_01915_row19_col2\" class=\"data row19 col2\" >0</td>\n",
       "      <td id=\"T_01915_row19_col3\" class=\"data row19 col3\" >0.000000</td>\n",
       "      <td id=\"T_01915_row19_col4\" class=\"data row19 col4\" >0.342466</td>\n",
       "      <td id=\"T_01915_row19_col5\" class=\"data row19 col5\" >31</td>\n",
       "      <td id=\"T_01915_row19_col6\" class=\"data row19 col6\" ></td>\n",
       "    </tr>\n",
       "    <tr>\n",
       "      <th id=\"T_01915_level0_row20\" class=\"row_heading level0 row20\" >LotConfig</th>\n",
       "      <td id=\"T_01915_row20_col0\" class=\"data row20 col0\" >5</td>\n",
       "      <td id=\"T_01915_row20_col1\" class=\"data row20 col1\" >object</td>\n",
       "      <td id=\"T_01915_row20_col2\" class=\"data row20 col2\" >0</td>\n",
       "      <td id=\"T_01915_row20_col3\" class=\"data row20 col3\" >0.000000</td>\n",
       "      <td id=\"T_01915_row20_col4\" class=\"data row20 col4\" >0.342466</td>\n",
       "      <td id=\"T_01915_row20_col5\" class=\"data row20 col5\" >4</td>\n",
       "      <td id=\"T_01915_row20_col6\" class=\"data row20 col6\" ></td>\n",
       "    </tr>\n",
       "    <tr>\n",
       "      <th id=\"T_01915_level0_row21\" class=\"row_heading level0 row21\" >MSZoning</th>\n",
       "      <td id=\"T_01915_row21_col0\" class=\"data row21 col0\" >5</td>\n",
       "      <td id=\"T_01915_row21_col1\" class=\"data row21 col1\" >object</td>\n",
       "      <td id=\"T_01915_row21_col2\" class=\"data row21 col2\" >0</td>\n",
       "      <td id=\"T_01915_row21_col3\" class=\"data row21 col3\" >0.000000</td>\n",
       "      <td id=\"T_01915_row21_col4\" class=\"data row21 col4\" >0.342466</td>\n",
       "      <td id=\"T_01915_row21_col5\" class=\"data row21 col5\" >10</td>\n",
       "      <td id=\"T_01915_row21_col6\" class=\"data row21 col6\" ></td>\n",
       "    </tr>\n",
       "    <tr>\n",
       "      <th id=\"T_01915_level0_row22\" class=\"row_heading level0 row22\" >LandContour</th>\n",
       "      <td id=\"T_01915_row22_col0\" class=\"data row22 col0\" >4</td>\n",
       "      <td id=\"T_01915_row22_col1\" class=\"data row22 col1\" >object</td>\n",
       "      <td id=\"T_01915_row22_col2\" class=\"data row22 col2\" >0</td>\n",
       "      <td id=\"T_01915_row22_col3\" class=\"data row22 col3\" >0.000000</td>\n",
       "      <td id=\"T_01915_row22_col4\" class=\"data row22 col4\" >0.273973</td>\n",
       "      <td id=\"T_01915_row22_col5\" class=\"data row22 col5\" >36</td>\n",
       "      <td id=\"T_01915_row22_col6\" class=\"data row22 col6\" ></td>\n",
       "    </tr>\n",
       "    <tr>\n",
       "      <th id=\"T_01915_level0_row23\" class=\"row_heading level0 row23\" >LotShape</th>\n",
       "      <td id=\"T_01915_row23_col0\" class=\"data row23 col0\" >4</td>\n",
       "      <td id=\"T_01915_row23_col1\" class=\"data row23 col1\" >object</td>\n",
       "      <td id=\"T_01915_row23_col2\" class=\"data row23 col2\" >0</td>\n",
       "      <td id=\"T_01915_row23_col3\" class=\"data row23 col3\" >0.000000</td>\n",
       "      <td id=\"T_01915_row23_col4\" class=\"data row23 col4\" >0.273973</td>\n",
       "      <td id=\"T_01915_row23_col5\" class=\"data row23 col5\" >10</td>\n",
       "      <td id=\"T_01915_row23_col6\" class=\"data row23 col6\" ></td>\n",
       "    </tr>\n",
       "    <tr>\n",
       "      <th id=\"T_01915_level0_row24\" class=\"row_heading level0 row24\" >MasVnrType</th>\n",
       "      <td id=\"T_01915_row24_col0\" class=\"data row24 col0\" >4</td>\n",
       "      <td id=\"T_01915_row24_col1\" class=\"data row24 col1\" >object</td>\n",
       "      <td id=\"T_01915_row24_col2\" class=\"data row24 col2\" >8</td>\n",
       "      <td id=\"T_01915_row24_col3\" class=\"data row24 col3\" >0.547945</td>\n",
       "      <td id=\"T_01915_row24_col4\" class=\"data row24 col4\" >0.273973</td>\n",
       "      <td id=\"T_01915_row24_col5\" class=\"data row24 col5\" >15</td>\n",
       "      <td id=\"T_01915_row24_col6\" class=\"data row24 col6\" >fill missing, fix mixed data types</td>\n",
       "    </tr>\n",
       "    <tr>\n",
       "      <th id=\"T_01915_level0_row25\" class=\"row_heading level0 row25\" >ExterQual</th>\n",
       "      <td id=\"T_01915_row25_col0\" class=\"data row25 col0\" >4</td>\n",
       "      <td id=\"T_01915_row25_col1\" class=\"data row25 col1\" >object</td>\n",
       "      <td id=\"T_01915_row25_col2\" class=\"data row25 col2\" >0</td>\n",
       "      <td id=\"T_01915_row25_col3\" class=\"data row25 col3\" >0.000000</td>\n",
       "      <td id=\"T_01915_row25_col4\" class=\"data row25 col4\" >0.273973</td>\n",
       "      <td id=\"T_01915_row25_col5\" class=\"data row25 col5\" >14</td>\n",
       "      <td id=\"T_01915_row25_col6\" class=\"data row25 col6\" ></td>\n",
       "    </tr>\n",
       "    <tr>\n",
       "      <th id=\"T_01915_level0_row26\" class=\"row_heading level0 row26\" >BsmtQual</th>\n",
       "      <td id=\"T_01915_row26_col0\" class=\"data row26 col0\" >4</td>\n",
       "      <td id=\"T_01915_row26_col1\" class=\"data row26 col1\" >object</td>\n",
       "      <td id=\"T_01915_row26_col2\" class=\"data row26 col2\" >37</td>\n",
       "      <td id=\"T_01915_row26_col3\" class=\"data row26 col3\" >2.534247</td>\n",
       "      <td id=\"T_01915_row26_col4\" class=\"data row26 col4\" >0.273973</td>\n",
       "      <td id=\"T_01915_row26_col5\" class=\"data row26 col5\" >35</td>\n",
       "      <td id=\"T_01915_row26_col6\" class=\"data row26 col6\" >fill missing, fix mixed data types</td>\n",
       "    </tr>\n",
       "    <tr>\n",
       "      <th id=\"T_01915_level0_row27\" class=\"row_heading level0 row27\" >LandSlope</th>\n",
       "      <td id=\"T_01915_row27_col0\" class=\"data row27 col0\" >3</td>\n",
       "      <td id=\"T_01915_row27_col1\" class=\"data row27 col1\" >object</td>\n",
       "      <td id=\"T_01915_row27_col2\" class=\"data row27 col2\" >0</td>\n",
       "      <td id=\"T_01915_row27_col3\" class=\"data row27 col3\" >0.000000</td>\n",
       "      <td id=\"T_01915_row27_col4\" class=\"data row27 col4\" >0.205479</td>\n",
       "      <td id=\"T_01915_row27_col5\" class=\"data row27 col5\" >13</td>\n",
       "      <td id=\"T_01915_row27_col6\" class=\"data row27 col6\" ></td>\n",
       "    </tr>\n",
       "    <tr>\n",
       "      <th id=\"T_01915_level0_row28\" class=\"row_heading level0 row28\" >Utilities</th>\n",
       "      <td id=\"T_01915_row28_col0\" class=\"data row28 col0\" >2</td>\n",
       "      <td id=\"T_01915_row28_col1\" class=\"data row28 col1\" >object</td>\n",
       "      <td id=\"T_01915_row28_col2\" class=\"data row28 col2\" >0</td>\n",
       "      <td id=\"T_01915_row28_col3\" class=\"data row28 col3\" >0.000000</td>\n",
       "      <td id=\"T_01915_row28_col4\" class=\"data row28 col4\" >0.136986</td>\n",
       "      <td id=\"T_01915_row28_col5\" class=\"data row28 col5\" >1</td>\n",
       "      <td id=\"T_01915_row28_col6\" class=\"data row28 col6\" ></td>\n",
       "    </tr>\n",
       "    <tr>\n",
       "      <th id=\"T_01915_level0_row29\" class=\"row_heading level0 row29\" >Street</th>\n",
       "      <td id=\"T_01915_row29_col0\" class=\"data row29 col0\" >2</td>\n",
       "      <td id=\"T_01915_row29_col1\" class=\"data row29 col1\" >object</td>\n",
       "      <td id=\"T_01915_row29_col2\" class=\"data row29 col2\" >0</td>\n",
       "      <td id=\"T_01915_row29_col3\" class=\"data row29 col3\" >0.000000</td>\n",
       "      <td id=\"T_01915_row29_col4\" class=\"data row29 col4\" >0.136986</td>\n",
       "      <td id=\"T_01915_row29_col5\" class=\"data row29 col5\" >6</td>\n",
       "      <td id=\"T_01915_row29_col6\" class=\"data row29 col6\" ></td>\n",
       "    </tr>\n",
       "  </tbody>\n",
       "</table>\n"
      ],
      "text/plain": [
       "<pandas.io.formats.style.Styler at 0x2cce5c07760>"
      ]
     },
     "metadata": {},
     "output_type": "display_data"
    },
    {
     "name": "stdout",
     "output_type": "stream",
     "text": [
      "  Printing upto 30 columns max in each category:\n",
      "    Numeric Columns : ['LotFrontage', 'MasVnrArea', 'GarageYrBlt']\n",
      "    Integer-Categorical Columns: ['MSSubClass', 'LotArea', 'OverallQual', 'OverallCond', 'YearBuilt']\n",
      "    String-Categorical Columns: ['MSZoning', 'LotShape', 'LandContour', 'LotConfig', 'LandSlope', 'Neighborhood', 'Condition1', 'Condition2', 'BldgType', 'HouseStyle', 'RoofStyle', 'RoofMatl', 'Exterior1st', 'Exterior2nd', 'MasVnrType', 'ExterQual', 'ExterCond', 'Foundation', 'BsmtQual']\n",
      "    Factor-Categorical Columns: []\n",
      "    String-Boolean Columns: ['Street', 'Utilities']\n",
      "    Numeric-Boolean Columns: []\n",
      "    Discrete String Columns: []\n",
      "    NLP text Columns: []\n",
      "    Date Time Columns: ['YearRemodAdd']\n",
      "    ID Columns: []\n",
      "    Columns that will not be considered in modeling: []\n",
      "    30 Predictors classified...\n",
      "    No variables removed since no ID or low-information variables found in data\n",
      "    List of variables removed: []\n",
      "Number of All Scatter Plots = 6\n",
      "All Plots are saved in .\\AutoViz_Plots\\SalePrice\n",
      "Time to run AutoViz = 73 seconds \n"
     ]
    }
   ],
   "source": [
    "#report inline in notebook\n",
    "from autoviz.AutoViz_Class import AutoViz_Class\n",
    "\n",
    "AV = AutoViz_Class()\n",
    "dft = AV.AutoViz(\"\", depVar='SalePrice', dfte=train_data, verbose=2)\n",
    "\n",
    "# Note: verbose=0 or 1 generates charts and displays them in your local Jupyter notebook.\n",
    "#       verbose=2 saves plots in your local machine under AutoViz_Plots directory and does not display charts."
   ]
  },
  {
   "cell_type": "code",
   "execution_count": 18,
   "id": "d265d3db-a9a9-4699-8155-2a7f7a5e7ebe",
   "metadata": {},
   "outputs": [
    {
     "data": {
      "application/vnd.jupyter.widget-view+json": {
       "model_id": "af0172e0d9f741019885a3844a8724fa",
       "version_major": 2,
       "version_minor": 0
      },
      "text/plain": [
       "                                             |          | [  0%]   00:00 -> (? left)"
      ]
     },
     "metadata": {},
     "output_type": "display_data"
    },
    {
     "name": "stdout",
     "output_type": "stream",
     "text": [
      "Report SWEETVIZ_REPORT.html was generated! NOTEBOOK/COLAB USERS: the web browser MAY not pop up, regardless, the report IS saved in your notebook/colab files.\n"
     ]
    }
   ],
   "source": [
    "#report opened as saperate html page  \n",
    "#import sweetviz as sv\n",
    "#analyze_report = sv.analyze(train_data)\n",
    "#analyze_report.show_html()"
   ]
  },
  {
   "cell_type": "markdown",
   "id": "09d6f2b9-01b4-4e31-b000-c3f99ffaaa83",
   "metadata": {},
   "source": [
    "---"
   ]
  },
  {
   "cell_type": "markdown",
   "id": "135d2422-6d82-4829-a26a-22495c2c52fb",
   "metadata": {},
   "source": [
    "<div class=\"alert alert-block alert-success\">\n",
    "Comment <strong>here</strong>\n",
    "</div>"
   ]
  },
  {
   "cell_type": "code",
   "execution_count": 40,
   "id": "122a29f4-154c-4833-a868-e38b32ffbe58",
   "metadata": {},
   "outputs": [],
   "source": [
    "%matplotlib inline"
   ]
  },
  {
   "cell_type": "markdown",
   "id": "095cffde-298c-47a9-a134-b8d914c388a2",
   "metadata": {
    "tags": []
   },
   "source": [
    "### Missing Values"
   ]
  },
  {
   "cell_type": "code",
   "execution_count": 21,
   "id": "7889356f-903e-4132-995e-3edfaa97cea4",
   "metadata": {},
   "outputs": [],
   "source": [
    "# find missing data percentage for each column\n",
    "def find_missing(df):\n",
    "    df_na =(df.isnull().sum() / len(df)) * 100\n",
    "    df_na = df_na.drop(df_na[df_na == 0].index).sort_values(ascending=False)[:30]\n",
    "    missing_df = pd.DataFrame({'Missing Data' :df_na})\n",
    "    return missing_df"
   ]
  },
  {
   "cell_type": "code",
   "execution_count": 22,
   "id": "d2753641-babd-444b-894d-37602a4ba83c",
   "metadata": {},
   "outputs": [
    {
     "data": {
      "text/html": [
       "<div>\n",
       "<style scoped>\n",
       "    .dataframe tbody tr th:only-of-type {\n",
       "        vertical-align: middle;\n",
       "    }\n",
       "\n",
       "    .dataframe tbody tr th {\n",
       "        vertical-align: top;\n",
       "    }\n",
       "\n",
       "    .dataframe thead th {\n",
       "        text-align: right;\n",
       "    }\n",
       "</style>\n",
       "<table border=\"1\" class=\"dataframe\">\n",
       "  <thead>\n",
       "    <tr style=\"text-align: right;\">\n",
       "      <th></th>\n",
       "      <th>Missing Data</th>\n",
       "    </tr>\n",
       "  </thead>\n",
       "  <tbody>\n",
       "    <tr>\n",
       "      <th>PoolQC</th>\n",
       "      <td>99.657417</td>\n",
       "    </tr>\n",
       "    <tr>\n",
       "      <th>MiscFeature</th>\n",
       "      <td>96.402878</td>\n",
       "    </tr>\n",
       "    <tr>\n",
       "      <th>Alley</th>\n",
       "      <td>93.216855</td>\n",
       "    </tr>\n",
       "    <tr>\n",
       "      <th>Fence</th>\n",
       "      <td>80.438506</td>\n",
       "    </tr>\n",
       "    <tr>\n",
       "      <th>FireplaceQu</th>\n",
       "      <td>48.646797</td>\n",
       "    </tr>\n",
       "    <tr>\n",
       "      <th>LotFrontage</th>\n",
       "      <td>16.649538</td>\n",
       "    </tr>\n",
       "    <tr>\n",
       "      <th>GarageFinish</th>\n",
       "      <td>5.447071</td>\n",
       "    </tr>\n",
       "    <tr>\n",
       "      <th>GarageQual</th>\n",
       "      <td>5.447071</td>\n",
       "    </tr>\n",
       "    <tr>\n",
       "      <th>GarageCond</th>\n",
       "      <td>5.447071</td>\n",
       "    </tr>\n",
       "    <tr>\n",
       "      <th>GarageYrBlt</th>\n",
       "      <td>5.447071</td>\n",
       "    </tr>\n",
       "    <tr>\n",
       "      <th>GarageType</th>\n",
       "      <td>5.378554</td>\n",
       "    </tr>\n",
       "    <tr>\n",
       "      <th>BsmtExposure</th>\n",
       "      <td>2.809181</td>\n",
       "    </tr>\n",
       "    <tr>\n",
       "      <th>BsmtCond</th>\n",
       "      <td>2.809181</td>\n",
       "    </tr>\n",
       "    <tr>\n",
       "      <th>BsmtQual</th>\n",
       "      <td>2.774923</td>\n",
       "    </tr>\n",
       "    <tr>\n",
       "      <th>BsmtFinType2</th>\n",
       "      <td>2.740665</td>\n",
       "    </tr>\n",
       "    <tr>\n",
       "      <th>BsmtFinType1</th>\n",
       "      <td>2.706406</td>\n",
       "    </tr>\n",
       "    <tr>\n",
       "      <th>MasVnrType</th>\n",
       "      <td>0.822199</td>\n",
       "    </tr>\n",
       "    <tr>\n",
       "      <th>MasVnrArea</th>\n",
       "      <td>0.787941</td>\n",
       "    </tr>\n",
       "    <tr>\n",
       "      <th>MSZoning</th>\n",
       "      <td>0.137033</td>\n",
       "    </tr>\n",
       "    <tr>\n",
       "      <th>BsmtFullBath</th>\n",
       "      <td>0.068517</td>\n",
       "    </tr>\n",
       "    <tr>\n",
       "      <th>BsmtHalfBath</th>\n",
       "      <td>0.068517</td>\n",
       "    </tr>\n",
       "    <tr>\n",
       "      <th>Functional</th>\n",
       "      <td>0.068517</td>\n",
       "    </tr>\n",
       "    <tr>\n",
       "      <th>Utilities</th>\n",
       "      <td>0.068517</td>\n",
       "    </tr>\n",
       "    <tr>\n",
       "      <th>GarageArea</th>\n",
       "      <td>0.034258</td>\n",
       "    </tr>\n",
       "    <tr>\n",
       "      <th>GarageCars</th>\n",
       "      <td>0.034258</td>\n",
       "    </tr>\n",
       "    <tr>\n",
       "      <th>Electrical</th>\n",
       "      <td>0.034258</td>\n",
       "    </tr>\n",
       "    <tr>\n",
       "      <th>KitchenQual</th>\n",
       "      <td>0.034258</td>\n",
       "    </tr>\n",
       "    <tr>\n",
       "      <th>TotalBsmtSF</th>\n",
       "      <td>0.034258</td>\n",
       "    </tr>\n",
       "    <tr>\n",
       "      <th>BsmtUnfSF</th>\n",
       "      <td>0.034258</td>\n",
       "    </tr>\n",
       "    <tr>\n",
       "      <th>BsmtFinSF2</th>\n",
       "      <td>0.034258</td>\n",
       "    </tr>\n",
       "  </tbody>\n",
       "</table>\n",
       "</div>"
      ],
      "text/plain": [
       "              Missing Data\n",
       "PoolQC           99.657417\n",
       "MiscFeature      96.402878\n",
       "Alley            93.216855\n",
       "Fence            80.438506\n",
       "FireplaceQu      48.646797\n",
       "LotFrontage      16.649538\n",
       "GarageFinish      5.447071\n",
       "GarageQual        5.447071\n",
       "GarageCond        5.447071\n",
       "GarageYrBlt       5.447071\n",
       "GarageType        5.378554\n",
       "BsmtExposure      2.809181\n",
       "BsmtCond          2.809181\n",
       "BsmtQual          2.774923\n",
       "BsmtFinType2      2.740665\n",
       "BsmtFinType1      2.706406\n",
       "MasVnrType        0.822199\n",
       "MasVnrArea        0.787941\n",
       "MSZoning          0.137033\n",
       "BsmtFullBath      0.068517\n",
       "BsmtHalfBath      0.068517\n",
       "Functional        0.068517\n",
       "Utilities         0.068517\n",
       "GarageArea        0.034258\n",
       "GarageCars        0.034258\n",
       "Electrical        0.034258\n",
       "KitchenQual       0.034258\n",
       "TotalBsmtSF       0.034258\n",
       "BsmtUnfSF         0.034258\n",
       "BsmtFinSF2        0.034258"
      ]
     },
     "execution_count": 22,
     "metadata": {},
     "output_type": "execute_result"
    }
   ],
   "source": [
    "na_data = find_missing(all_data)\n",
    "na_data"
   ]
  },
  {
   "cell_type": "code",
   "execution_count": 23,
   "id": "0ce5497b-8074-4b2d-8897-836d4db9b2e0",
   "metadata": {},
   "outputs": [
    {
     "data": {
      "text/plain": [
       "Text(0.5, 1.0, 'Percent missing data by feature')"
      ]
     },
     "execution_count": 23,
     "metadata": {},
     "output_type": "execute_result"
    }
   ],
   "source": [
    "f, ax = plt.subplots(figsize=(20, 5))\n",
    "plt.xticks(rotation='90')\n",
    "sns.barplot(x=na_data.index, y=na_data['Missing Data'])\n",
    "plt.xlabel('Features', fontsize=15)\n",
    "plt.ylabel('Percent of missing values', fontsize=15)\n",
    "plt.title('Percent missing data by feature', fontsize=15)"
   ]
  },
  {
   "cell_type": "markdown",
   "id": "9d8b7df1-4714-4569-936a-2794d8ed97ca",
   "metadata": {},
   "source": [
    "<div class=\"alert alert-block alert-success\">\n",
    "Comment <strong>here</strong>\n",
    "</div>"
   ]
  },
  {
   "cell_type": "code",
   "execution_count": 24,
   "id": "6268b774-067a-4e91-a073-38b83d19686d",
   "metadata": {},
   "outputs": [],
   "source": [
    "#PoolQC : data description says NA means \"No Pool\". That make sense, given the huge ratio of missing value (+99%) and majority of houses have no Pool at all in general.\n",
    "all_data[\"PoolQC\"] = all_data[\"PoolQC\"].fillna(\"None\")\n",
    "\n",
    "#MiscFeature : data description says NA means \"no misc feature\"\n",
    "all_data[\"MiscFeature\"] = all_data[\"MiscFeature\"].fillna(\"None\")\n",
    "\n",
    "#Alley : data description says NA means \"no alley access\"\n",
    "all_data[\"Alley\"] = all_data[\"Alley\"].fillna(\"None\")\n",
    "\n",
    "#Fence : data description says NA means \"no fence\"\n",
    "all_data[\"Fence\"] = all_data[\"Fence\"].fillna(\"None\")\n",
    "\n",
    "#FireplaceQu : data description says NA means \"no fireplace\"\n",
    "all_data[\"FireplaceQu\"] = all_data[\"FireplaceQu\"].fillna(\"None\")\n",
    "\n",
    "#LotFrontage : Since the area of each street connected to the house property most likely have a similar area to other houses in its neighborhood , we can fill in missing values by the median LotFrontage of the neighborhood.\n",
    "#Group by neighborhood and fill in missing value by the median LotFrontage of all the neighborhood\n",
    "all_data[\"LotFrontage\"] = all_data.groupby(\"Neighborhood\")[\"LotFrontage\"].transform(\n",
    "    lambda x: x.fillna(x.median()))\n",
    "\n",
    "#GarageType, GarageFinish, GarageQual and GarageCond : Replacing missing data with None\n",
    "for col in ('GarageType', 'GarageFinish', 'GarageQual', 'GarageCond'):\n",
    "    all_data[col] = all_data[col].fillna('None')\n",
    "\n",
    "#GarageYrBlt, GarageArea and GarageCars : Replacing missing data with 0 (Since No garage = no cars in such garage.)\n",
    "for col in ('GarageYrBlt', 'GarageArea', 'GarageCars'):\n",
    "    all_data[col] = all_data[col].fillna(0)\n",
    "\n",
    "#BsmtFinSF1, BsmtFinSF2, BsmtUnfSF, TotalBsmtSF, BsmtFullBath and BsmtHalfBath : missing values are likely zero for having no basement\n",
    "for col in ('BsmtFinSF1', 'BsmtFinSF2', 'BsmtUnfSF','TotalBsmtSF', 'BsmtFullBath', 'BsmtHalfBath'):\n",
    "    all_data[col] = all_data[col].fillna(0)\n",
    "\n",
    "#BsmtQual, BsmtCond, BsmtExposure, BsmtFinType1 and BsmtFinType2 : For all these categorical basement-related features, NaN means that there is no basement.\n",
    "for col in ('BsmtQual', 'BsmtCond', 'BsmtExposure', 'BsmtFinType1', 'BsmtFinType2'):\n",
    "    all_data[col] = all_data[col].fillna('None')\n",
    "\n",
    "#MasVnrArea and MasVnrType : NA most likely means no masonry veneer for these houses. We can fill 0 for the area and None for the type.\n",
    "all_data[\"MasVnrType\"] = all_data[\"MasVnrType\"].fillna(\"None\")\n",
    "all_data[\"MasVnrArea\"] = all_data[\"MasVnrArea\"].fillna(0)\n",
    "\n",
    "#MSZoning (The general zoning classification) : 'RL' is by far the most common value. So we can fill in missing values with 'RL'\n",
    "all_data['MSZoning'] = all_data['MSZoning'].fillna(all_data['MSZoning'].mode()[0])\n",
    "\n",
    "#Utilities : For this categorical feature all records are \"AllPub\", except for one \"NoSeWa\" and 2 NA . Since the house with 'NoSewa' is in the training set, this feature won't help in predictive modelling. We can then safely remove it.\n",
    "all_data = all_data.drop(['Utilities'], axis=1)\n",
    "\n",
    "#Functional : data description says NA means typical\n",
    "all_data[\"Functional\"] = all_data[\"Functional\"].fillna(\"Typ\")\n",
    "\n",
    "#Electrical : It has one NA value. Since this feature has mostly 'SBrkr', we can set that for the missing value.\n",
    "all_data['Electrical'] = all_data['Electrical'].fillna(all_data['Electrical'].mode()[0])\n",
    "\n",
    "#KitchenQual: Only one NA value, and same as Electrical, we set 'TA' (which is the most frequent) for the missing value in KitchenQual.\n",
    "all_data['KitchenQual'] = all_data['KitchenQual'].fillna(all_data['KitchenQual'].mode()[0])\n",
    "\n",
    "#Exterior1st and Exterior2nd : Again Both Exterior 1 & 2 have only one missing value. We will just substitute in the most common string\n",
    "all_data['Exterior1st'] = all_data['Exterior1st'].fillna(all_data['Exterior1st'].mode()[0])\n",
    "all_data['Exterior2nd'] = all_data['Exterior2nd'].fillna(all_data['Exterior2nd'].mode()[0])\n",
    "\n",
    "#SaleType : Fill in again with most frequent which is \"WD\"\n",
    "all_data['SaleType'] = all_data['SaleType'].fillna(all_data['SaleType'].mode()[0])\n",
    "\n",
    "#MSSubClass : Na most likely means No building class. We can replace missing values with None\n",
    "all_data['MSSubClass'] = all_data['MSSubClass'].fillna(\"None\")"
   ]
  },
  {
   "cell_type": "code",
   "execution_count": 25,
   "id": "8d1d37f9-1a22-459e-b09b-32971a915fa6",
   "metadata": {},
   "outputs": [
    {
     "data": {
      "text/html": [
       "<div>\n",
       "<style scoped>\n",
       "    .dataframe tbody tr th:only-of-type {\n",
       "        vertical-align: middle;\n",
       "    }\n",
       "\n",
       "    .dataframe tbody tr th {\n",
       "        vertical-align: top;\n",
       "    }\n",
       "\n",
       "    .dataframe thead th {\n",
       "        text-align: right;\n",
       "    }\n",
       "</style>\n",
       "<table border=\"1\" class=\"dataframe\">\n",
       "  <thead>\n",
       "    <tr style=\"text-align: right;\">\n",
       "      <th></th>\n",
       "      <th>Missing Data</th>\n",
       "    </tr>\n",
       "  </thead>\n",
       "  <tbody>\n",
       "  </tbody>\n",
       "</table>\n",
       "</div>"
      ],
      "text/plain": [
       "Empty DataFrame\n",
       "Columns: [Missing Data]\n",
       "Index: []"
      ]
     },
     "execution_count": 25,
     "metadata": {},
     "output_type": "execute_result"
    }
   ],
   "source": [
    "missing = find_missing(all_data)\n",
    "missing"
   ]
  },
  {
   "cell_type": "markdown",
   "id": "c5f4c64d-859d-4f79-89cd-3860114bef8b",
   "metadata": {},
   "source": [
    "<div class=\"alert alert-block alert-success\">\n",
    "Hurray! No missing data left!\n",
    "</div>"
   ]
  },
  {
   "cell_type": "markdown",
   "id": "6524c6c6-2138-4bd4-94c6-695ff2b5396b",
   "metadata": {
    "tags": []
   },
   "source": [
    "### Variable Correlations"
   ]
  },
  {
   "cell_type": "code",
   "execution_count": 26,
   "id": "e1c60118-b4f4-4fea-8039-4fb5db1f93b6",
   "metadata": {},
   "outputs": [],
   "source": [
    "def plot_correlation_heatmap(df):\n",
    "    plt.figure(figsize=(16, 10))\n",
    "    corr = df.corr()\n",
    "    mask = np.triu(np.ones_like(corr, dtype=bool))\n",
    "    cut_off = 0.6  # only show cells with abs(correlation) at least this value\n",
    "    extreme_1 = 0.75  # show with a star\n",
    "    extreme_2 = 0.85  # show with a second star\n",
    "    extreme_3 = 0.90  # show with a third star\n",
    "    mask |= np.abs(corr) < cut_off\n",
    "    corr = corr[~mask]  # fill in NaN in the non-desired cells\n",
    "\n",
    "    remove_empty_rows_and_cols = True\n",
    "    if remove_empty_rows_and_cols:\n",
    "        wanted_cols = np.flatnonzero(np.count_nonzero(~mask, axis=1))\n",
    "        wanted_rows = np.flatnonzero(np.count_nonzero(~mask, axis=0))\n",
    "        corr = corr.iloc[wanted_cols, wanted_rows]\n",
    "\n",
    "    annot = [[f\"{val:.4f}\"\n",
    "          + ('' if abs(val) < extreme_1 else '*')  # add one star if abs(val) >= extreme_1\n",
    "          + ('' if abs(val) < extreme_2 else '**')  # add an extra star if abs(val) >= extreme_2\n",
    "          + ('' if abs(val) < extreme_3 else '***')  # add yet an extra star if abs(val) >= extreme_3\n",
    "          for val in row] for row in corr.to_numpy()]\n",
    "    heatmap = sns.heatmap(corr, vmin=-1, vmax=1, annot=annot, fmt='', annot_kws={\"fontsize\":15})\n",
    "    heatmap.set_title('Correlation Heatmap', fontdict={'fontsize': 20}, pad=16)\n",
    "    plt.xticks(rotation=90, fontsize=20) \n",
    "    plt.yticks(rotation=0, fontsize=20) \n",
    "    plt.show()"
   ]
  },
  {
   "cell_type": "markdown",
   "id": "b3fd4c60-0bde-4687-85f1-6e252495585d",
   "metadata": {},
   "source": [
    "<div class=\"alert alert-block alert-success\">\n",
    "Comment <strong>here</strong>\n",
    "</div>"
   ]
  },
  {
   "cell_type": "code",
   "execution_count": 27,
   "id": "778626ed-5721-4fe8-b7c4-098abdc152a3",
   "metadata": {},
   "outputs": [],
   "source": [
    "plot_correlation_heatmap(train_data)"
   ]
  },
  {
   "cell_type": "markdown",
   "id": "9903824a-e839-49ed-8f41-289f2acbf187",
   "metadata": {},
   "source": [
    "<div class=\"alert alert-block alert-success\">\n",
    "General Comment <strong>here</strong>\n",
    "</div>"
   ]
  },
  {
   "cell_type": "markdown",
   "id": "d7a4ef15-bba0-451d-8c51-9c0f1ae77ba8",
   "metadata": {},
   "source": [
    "<div class=\"alert alert-block alert-success\"><B>to remove:</B>\n",
    "<BR>GarageArea\n",
    "<BR>TotRmsAbvGrd\n",
    "<BR>GarageYrBlt\n",
    "<BR>1stFlrSF\n",
    "</div>"
   ]
  },
  {
   "cell_type": "code",
   "execution_count": 28,
   "id": "20ea6ec8-feb1-4a7a-b99f-4a4f3eb9d962",
   "metadata": {},
   "outputs": [],
   "source": [
    "corr_predictors = ['GrLivArea', 'TotalBsmtSF', '1stFlrSF', 'GarageArea', 'GarageCars', 'OverallQual']\n",
    "# GrLivArea\n",
    "idxs_GrLivArea = list(train_data[(train_data['GrLivArea']>4000) & (train_data['SalePrice']<300000)].index)\n",
    "# TotalBsmtSF\n",
    "idxs_TotalBsmtSF = list(train_data[(train_data['TotalBsmtSF']>4000) & (train_data['SalePrice']<300000)].index)\n",
    "# 1stFlrSF\n",
    "idxs_1stFlrSF = list(train_data[(train_data['1stFlrSF']>4000) & (train_data['SalePrice']<300000)].index)\n",
    "# TotalBsmtSF\n",
    "idxs_GarageArea = list(train_data[(train_data['GarageArea']>1200) & (train_data['SalePrice']<300000)].index)\n",
    "all_idxs=[idxs_GrLivArea, idxs_TotalBsmtSF, idxs_1stFlrSF, idxs_GarageArea,[0] ,[0]]"
   ]
  },
  {
   "cell_type": "code",
   "execution_count": 29,
   "id": "dfcc0dab-15f9-4a32-834d-4522fae8650c",
   "metadata": {},
   "outputs": [],
   "source": [
    "# plot_corr_predictors\n",
    "def plot_corr_predictors(predictor_names):\n",
    "    plt.figure(figsize=(20,10))\n",
    "    \n",
    "    for count, predictor in enumerate(corr_predictors, start=1):\n",
    "        plt.subplot(2,3,count)\n",
    "        #main plot\n",
    "        ax = sns.scatterplot(x = predictor, y = 'SalePrice', data = train_data, hue='OverallQual', palette= 'YlOrRd')\n",
    "        #outliers\n",
    "        #ax = sns.scatterplot(x = train_data[predictor][all_idxs[count-1]], y = train_data['SalePrice'][all_idxs[count-1]])\n",
    "        plt.title(\"SalePrice against \" + predictor, fontdict={'fontsize': 20})\n",
    "        \n",
    "        \n",
    "        x = mean(train_data[predictor][all_idxs[count-1]])\n",
    "        y = mean(train_data['SalePrice'][all_idxs[count-1]])\n",
    "        \n",
    "        ax.annotate('Outliers\\n zone', xy=(x-100, y+0), xytext=(-20,20), \n",
    "            textcoords='offset points', ha='center', va='baseline',\n",
    "            bbox=dict(boxstyle='round,pad=0.2', fc='maroon', alpha=0.3),\n",
    "            arrowprops=dict(arrowstyle='->', connectionstyle='arc3,rad=0.5', \n",
    "                            color='red'))\n",
    "\n",
    "    plt.tight_layout(pad=4.0)\n",
    "    plt.show()    "
   ]
  },
  {
   "cell_type": "code",
   "execution_count": 30,
   "id": "c9784d7a-44a6-4cb2-bd56-919d1fa9f60d",
   "metadata": {},
   "outputs": [],
   "source": [
    "plot_corr_predictors(corr_predictors)"
   ]
  },
  {
   "cell_type": "code",
   "execution_count": 83,
   "id": "82b6e613-502d-4697-960c-8f678181a04b",
   "metadata": {},
   "outputs": [
    {
     "data": {
      "application/vnd.plotly.v1+json": {
       "config": {
        "plotlyServerURL": "https://plot.ly"
       },
       "data": [
        {
         "domain": {
          "x": [
           0,
           0.1388888888888889
          ],
          "y": [
           0,
           1
          ]
         },
         "labels": [
          1,
          2,
          3,
          4,
          5,
          6,
          7,
          8,
          9
         ],
         "legendgroup": "OverallCond",
         "marker": {
          "colors": [
           "#1f77b4",
           "#ff7f0e",
           "#2ca02c",
           "#d62728",
           "#9467bd",
           "#8c564b"
          ]
         },
         "showlegend": false,
         "textinfo": "label+percent",
         "type": "pie",
         "values": [
          1,
          5,
          25,
          57,
          821,
          252,
          205,
          72,
          22
         ]
        },
        {
         "domain": {
          "x": [
           0.17222222222222222,
           0.3111111111111111
          ],
          "y": [
           0,
           1
          ]
         },
         "labels": [
          "1Fam",
          "2fmCon",
          "Duplex",
          "Twnhs",
          "TwnhsE"
         ],
         "legendgroup": "BldgType",
         "marker": {
          "colors": [
           "#1f77b4",
           "#ff7f0e",
           "#2ca02c",
           "#d62728",
           "#9467bd",
           "#8c564b"
          ]
         },
         "showlegend": false,
         "textinfo": "label+percent",
         "type": "pie",
         "values": [
          1220,
          31,
          52,
          43,
          114
         ]
        },
        {
         "domain": {
          "x": [
           0.34444444444444444,
           0.48333333333333334
          ],
          "y": [
           0,
           1
          ]
         },
         "labels": [
          "Bnk",
          "HLS",
          "Low",
          "Lvl"
         ],
         "legendgroup": "LandContour",
         "marker": {
          "colors": [
           "#1f77b4",
           "#ff7f0e",
           "#2ca02c",
           "#d62728",
           "#9467bd",
           "#8c564b"
          ]
         },
         "showlegend": false,
         "textinfo": "label+percent",
         "type": "pie",
         "values": [
          63,
          50,
          36,
          1311
         ]
        },
        {
         "domain": {
          "x": [
           0.5166666666666667,
           0.6555555555555557
          ],
          "y": [
           0,
           1
          ]
         },
         "labels": [
          "Ex",
          "Fa",
          "Gd",
          "TA"
         ],
         "legendgroup": "BsmtQual",
         "marker": {
          "colors": [
           "#1f77b4",
           "#ff7f0e",
           "#2ca02c",
           "#d62728",
           "#9467bd",
           "#8c564b"
          ]
         },
         "showlegend": false,
         "textinfo": "label+percent",
         "type": "pie",
         "values": [
          121,
          35,
          618,
          649
         ]
        },
        {
         "domain": {
          "x": [
           0.6888888888888889,
           0.8277777777777777
          ],
          "y": [
           0,
           1
          ]
         },
         "labels": [
          "1.5Fin",
          "1.5Unf",
          "1Story",
          "2.5Fin",
          "2.5Unf",
          "2Story",
          "SFoyer",
          "SLvl"
         ],
         "legendgroup": "HouseStyle",
         "marker": {
          "colors": [
           "#1f77b4",
           "#ff7f0e",
           "#2ca02c",
           "#d62728",
           "#9467bd",
           "#8c564b"
          ]
         },
         "showlegend": false,
         "textinfo": "label+percent",
         "type": "pie",
         "values": [
          154,
          14,
          726,
          8,
          11,
          445,
          37,
          65
         ]
        },
        {
         "domain": {
          "x": [
           0.861111111111111,
           1
          ],
          "y": [
           0,
           1
          ]
         },
         "labels": [
          "Flat",
          "Gable",
          "Gambrel",
          "Hip",
          "Mansard",
          "Shed"
         ],
         "legendgroup": "RoofStyle",
         "marker": {
          "colors": [
           "#1f77b4",
           "#ff7f0e",
           "#2ca02c",
           "#d62728",
           "#9467bd",
           "#8c564b"
          ]
         },
         "showlegend": false,
         "textinfo": "label+percent",
         "type": "pie",
         "values": [
          13,
          1141,
          11,
          286,
          7,
          2
         ]
        }
       ],
       "layout": {
        "annotations": [
         {
          "font": {
           "size": 16
          },
          "showarrow": false,
          "text": "OverallCond",
          "x": 0.06944444444444445,
          "xanchor": "center",
          "xref": "paper",
          "y": 1,
          "yanchor": "bottom",
          "yref": "paper"
         },
         {
          "font": {
           "size": 16
          },
          "showarrow": false,
          "text": "BldgType",
          "x": 0.24166666666666667,
          "xanchor": "center",
          "xref": "paper",
          "y": 1,
          "yanchor": "bottom",
          "yref": "paper"
         },
         {
          "font": {
           "size": 16
          },
          "showarrow": false,
          "text": "LandContour",
          "x": 0.41388888888888886,
          "xanchor": "center",
          "xref": "paper",
          "y": 1,
          "yanchor": "bottom",
          "yref": "paper"
         },
         {
          "font": {
           "size": 16
          },
          "showarrow": false,
          "text": "BsmtQual",
          "x": 0.5861111111111112,
          "xanchor": "center",
          "xref": "paper",
          "y": 1,
          "yanchor": "bottom",
          "yref": "paper"
         },
         {
          "font": {
           "size": 16
          },
          "showarrow": false,
          "text": "HouseStyle",
          "x": 0.7583333333333333,
          "xanchor": "center",
          "xref": "paper",
          "y": 1,
          "yanchor": "bottom",
          "yref": "paper"
         },
         {
          "font": {
           "size": 16
          },
          "showarrow": false,
          "text": "RoofStyle",
          "x": 0.9305555555555556,
          "xanchor": "center",
          "xref": "paper",
          "y": 1,
          "yanchor": "bottom",
          "yref": "paper"
         }
        ],
        "height": 400,
        "template": {
         "data": {
          "bar": [
           {
            "error_x": {
             "color": "#2a3f5f"
            },
            "error_y": {
             "color": "#2a3f5f"
            },
            "marker": {
             "line": {
              "color": "#E5ECF6",
              "width": 0.5
             },
             "pattern": {
              "fillmode": "overlay",
              "size": 10,
              "solidity": 0.2
             }
            },
            "type": "bar"
           }
          ],
          "barpolar": [
           {
            "marker": {
             "line": {
              "color": "#E5ECF6",
              "width": 0.5
             },
             "pattern": {
              "fillmode": "overlay",
              "size": 10,
              "solidity": 0.2
             }
            },
            "type": "barpolar"
           }
          ],
          "carpet": [
           {
            "aaxis": {
             "endlinecolor": "#2a3f5f",
             "gridcolor": "white",
             "linecolor": "white",
             "minorgridcolor": "white",
             "startlinecolor": "#2a3f5f"
            },
            "baxis": {
             "endlinecolor": "#2a3f5f",
             "gridcolor": "white",
             "linecolor": "white",
             "minorgridcolor": "white",
             "startlinecolor": "#2a3f5f"
            },
            "type": "carpet"
           }
          ],
          "choropleth": [
           {
            "colorbar": {
             "outlinewidth": 0,
             "ticks": ""
            },
            "type": "choropleth"
           }
          ],
          "contour": [
           {
            "colorbar": {
             "outlinewidth": 0,
             "ticks": ""
            },
            "colorscale": [
             [
              0,
              "#0d0887"
             ],
             [
              0.1111111111111111,
              "#46039f"
             ],
             [
              0.2222222222222222,
              "#7201a8"
             ],
             [
              0.3333333333333333,
              "#9c179e"
             ],
             [
              0.4444444444444444,
              "#bd3786"
             ],
             [
              0.5555555555555556,
              "#d8576b"
             ],
             [
              0.6666666666666666,
              "#ed7953"
             ],
             [
              0.7777777777777778,
              "#fb9f3a"
             ],
             [
              0.8888888888888888,
              "#fdca26"
             ],
             [
              1,
              "#f0f921"
             ]
            ],
            "type": "contour"
           }
          ],
          "contourcarpet": [
           {
            "colorbar": {
             "outlinewidth": 0,
             "ticks": ""
            },
            "type": "contourcarpet"
           }
          ],
          "heatmap": [
           {
            "colorbar": {
             "outlinewidth": 0,
             "ticks": ""
            },
            "colorscale": [
             [
              0,
              "#0d0887"
             ],
             [
              0.1111111111111111,
              "#46039f"
             ],
             [
              0.2222222222222222,
              "#7201a8"
             ],
             [
              0.3333333333333333,
              "#9c179e"
             ],
             [
              0.4444444444444444,
              "#bd3786"
             ],
             [
              0.5555555555555556,
              "#d8576b"
             ],
             [
              0.6666666666666666,
              "#ed7953"
             ],
             [
              0.7777777777777778,
              "#fb9f3a"
             ],
             [
              0.8888888888888888,
              "#fdca26"
             ],
             [
              1,
              "#f0f921"
             ]
            ],
            "type": "heatmap"
           }
          ],
          "heatmapgl": [
           {
            "colorbar": {
             "outlinewidth": 0,
             "ticks": ""
            },
            "colorscale": [
             [
              0,
              "#0d0887"
             ],
             [
              0.1111111111111111,
              "#46039f"
             ],
             [
              0.2222222222222222,
              "#7201a8"
             ],
             [
              0.3333333333333333,
              "#9c179e"
             ],
             [
              0.4444444444444444,
              "#bd3786"
             ],
             [
              0.5555555555555556,
              "#d8576b"
             ],
             [
              0.6666666666666666,
              "#ed7953"
             ],
             [
              0.7777777777777778,
              "#fb9f3a"
             ],
             [
              0.8888888888888888,
              "#fdca26"
             ],
             [
              1,
              "#f0f921"
             ]
            ],
            "type": "heatmapgl"
           }
          ],
          "histogram": [
           {
            "marker": {
             "pattern": {
              "fillmode": "overlay",
              "size": 10,
              "solidity": 0.2
             }
            },
            "type": "histogram"
           }
          ],
          "histogram2d": [
           {
            "colorbar": {
             "outlinewidth": 0,
             "ticks": ""
            },
            "colorscale": [
             [
              0,
              "#0d0887"
             ],
             [
              0.1111111111111111,
              "#46039f"
             ],
             [
              0.2222222222222222,
              "#7201a8"
             ],
             [
              0.3333333333333333,
              "#9c179e"
             ],
             [
              0.4444444444444444,
              "#bd3786"
             ],
             [
              0.5555555555555556,
              "#d8576b"
             ],
             [
              0.6666666666666666,
              "#ed7953"
             ],
             [
              0.7777777777777778,
              "#fb9f3a"
             ],
             [
              0.8888888888888888,
              "#fdca26"
             ],
             [
              1,
              "#f0f921"
             ]
            ],
            "type": "histogram2d"
           }
          ],
          "histogram2dcontour": [
           {
            "colorbar": {
             "outlinewidth": 0,
             "ticks": ""
            },
            "colorscale": [
             [
              0,
              "#0d0887"
             ],
             [
              0.1111111111111111,
              "#46039f"
             ],
             [
              0.2222222222222222,
              "#7201a8"
             ],
             [
              0.3333333333333333,
              "#9c179e"
             ],
             [
              0.4444444444444444,
              "#bd3786"
             ],
             [
              0.5555555555555556,
              "#d8576b"
             ],
             [
              0.6666666666666666,
              "#ed7953"
             ],
             [
              0.7777777777777778,
              "#fb9f3a"
             ],
             [
              0.8888888888888888,
              "#fdca26"
             ],
             [
              1,
              "#f0f921"
             ]
            ],
            "type": "histogram2dcontour"
           }
          ],
          "mesh3d": [
           {
            "colorbar": {
             "outlinewidth": 0,
             "ticks": ""
            },
            "type": "mesh3d"
           }
          ],
          "parcoords": [
           {
            "line": {
             "colorbar": {
              "outlinewidth": 0,
              "ticks": ""
             }
            },
            "type": "parcoords"
           }
          ],
          "pie": [
           {
            "automargin": true,
            "type": "pie"
           }
          ],
          "scatter": [
           {
            "fillpattern": {
             "fillmode": "overlay",
             "size": 10,
             "solidity": 0.2
            },
            "type": "scatter"
           }
          ],
          "scatter3d": [
           {
            "line": {
             "colorbar": {
              "outlinewidth": 0,
              "ticks": ""
             }
            },
            "marker": {
             "colorbar": {
              "outlinewidth": 0,
              "ticks": ""
             }
            },
            "type": "scatter3d"
           }
          ],
          "scattercarpet": [
           {
            "marker": {
             "colorbar": {
              "outlinewidth": 0,
              "ticks": ""
             }
            },
            "type": "scattercarpet"
           }
          ],
          "scattergeo": [
           {
            "marker": {
             "colorbar": {
              "outlinewidth": 0,
              "ticks": ""
             }
            },
            "type": "scattergeo"
           }
          ],
          "scattergl": [
           {
            "marker": {
             "colorbar": {
              "outlinewidth": 0,
              "ticks": ""
             }
            },
            "type": "scattergl"
           }
          ],
          "scattermapbox": [
           {
            "marker": {
             "colorbar": {
              "outlinewidth": 0,
              "ticks": ""
             }
            },
            "type": "scattermapbox"
           }
          ],
          "scatterpolar": [
           {
            "marker": {
             "colorbar": {
              "outlinewidth": 0,
              "ticks": ""
             }
            },
            "type": "scatterpolar"
           }
          ],
          "scatterpolargl": [
           {
            "marker": {
             "colorbar": {
              "outlinewidth": 0,
              "ticks": ""
             }
            },
            "type": "scatterpolargl"
           }
          ],
          "scatterternary": [
           {
            "marker": {
             "colorbar": {
              "outlinewidth": 0,
              "ticks": ""
             }
            },
            "type": "scatterternary"
           }
          ],
          "surface": [
           {
            "colorbar": {
             "outlinewidth": 0,
             "ticks": ""
            },
            "colorscale": [
             [
              0,
              "#0d0887"
             ],
             [
              0.1111111111111111,
              "#46039f"
             ],
             [
              0.2222222222222222,
              "#7201a8"
             ],
             [
              0.3333333333333333,
              "#9c179e"
             ],
             [
              0.4444444444444444,
              "#bd3786"
             ],
             [
              0.5555555555555556,
              "#d8576b"
             ],
             [
              0.6666666666666666,
              "#ed7953"
             ],
             [
              0.7777777777777778,
              "#fb9f3a"
             ],
             [
              0.8888888888888888,
              "#fdca26"
             ],
             [
              1,
              "#f0f921"
             ]
            ],
            "type": "surface"
           }
          ],
          "table": [
           {
            "cells": {
             "fill": {
              "color": "#EBF0F8"
             },
             "line": {
              "color": "white"
             }
            },
            "header": {
             "fill": {
              "color": "#C8D4E3"
             },
             "line": {
              "color": "white"
             }
            },
            "type": "table"
           }
          ]
         },
         "layout": {
          "annotationdefaults": {
           "arrowcolor": "#2a3f5f",
           "arrowhead": 0,
           "arrowwidth": 1
          },
          "autotypenumbers": "strict",
          "coloraxis": {
           "colorbar": {
            "outlinewidth": 0,
            "ticks": ""
           }
          },
          "colorscale": {
           "diverging": [
            [
             0,
             "#8e0152"
            ],
            [
             0.1,
             "#c51b7d"
            ],
            [
             0.2,
             "#de77ae"
            ],
            [
             0.3,
             "#f1b6da"
            ],
            [
             0.4,
             "#fde0ef"
            ],
            [
             0.5,
             "#f7f7f7"
            ],
            [
             0.6,
             "#e6f5d0"
            ],
            [
             0.7,
             "#b8e186"
            ],
            [
             0.8,
             "#7fbc41"
            ],
            [
             0.9,
             "#4d9221"
            ],
            [
             1,
             "#276419"
            ]
           ],
           "sequential": [
            [
             0,
             "#0d0887"
            ],
            [
             0.1111111111111111,
             "#46039f"
            ],
            [
             0.2222222222222222,
             "#7201a8"
            ],
            [
             0.3333333333333333,
             "#9c179e"
            ],
            [
             0.4444444444444444,
             "#bd3786"
            ],
            [
             0.5555555555555556,
             "#d8576b"
            ],
            [
             0.6666666666666666,
             "#ed7953"
            ],
            [
             0.7777777777777778,
             "#fb9f3a"
            ],
            [
             0.8888888888888888,
             "#fdca26"
            ],
            [
             1,
             "#f0f921"
            ]
           ],
           "sequentialminus": [
            [
             0,
             "#0d0887"
            ],
            [
             0.1111111111111111,
             "#46039f"
            ],
            [
             0.2222222222222222,
             "#7201a8"
            ],
            [
             0.3333333333333333,
             "#9c179e"
            ],
            [
             0.4444444444444444,
             "#bd3786"
            ],
            [
             0.5555555555555556,
             "#d8576b"
            ],
            [
             0.6666666666666666,
             "#ed7953"
            ],
            [
             0.7777777777777778,
             "#fb9f3a"
            ],
            [
             0.8888888888888888,
             "#fdca26"
            ],
            [
             1,
             "#f0f921"
            ]
           ]
          },
          "colorway": [
           "#636efa",
           "#EF553B",
           "#00cc96",
           "#ab63fa",
           "#FFA15A",
           "#19d3f3",
           "#FF6692",
           "#B6E880",
           "#FF97FF",
           "#FECB52"
          ],
          "font": {
           "color": "#2a3f5f"
          },
          "geo": {
           "bgcolor": "white",
           "lakecolor": "white",
           "landcolor": "#E5ECF6",
           "showlakes": true,
           "showland": true,
           "subunitcolor": "white"
          },
          "hoverlabel": {
           "align": "left"
          },
          "hovermode": "closest",
          "mapbox": {
           "style": "light"
          },
          "paper_bgcolor": "white",
          "plot_bgcolor": "#E5ECF6",
          "polar": {
           "angularaxis": {
            "gridcolor": "white",
            "linecolor": "white",
            "ticks": ""
           },
           "bgcolor": "#E5ECF6",
           "radialaxis": {
            "gridcolor": "white",
            "linecolor": "white",
            "ticks": ""
           }
          },
          "scene": {
           "xaxis": {
            "backgroundcolor": "#E5ECF6",
            "gridcolor": "white",
            "gridwidth": 2,
            "linecolor": "white",
            "showbackground": true,
            "ticks": "",
            "zerolinecolor": "white"
           },
           "yaxis": {
            "backgroundcolor": "#E5ECF6",
            "gridcolor": "white",
            "gridwidth": 2,
            "linecolor": "white",
            "showbackground": true,
            "ticks": "",
            "zerolinecolor": "white"
           },
           "zaxis": {
            "backgroundcolor": "#E5ECF6",
            "gridcolor": "white",
            "gridwidth": 2,
            "linecolor": "white",
            "showbackground": true,
            "ticks": "",
            "zerolinecolor": "white"
           }
          },
          "shapedefaults": {
           "line": {
            "color": "#2a3f5f"
           }
          },
          "ternary": {
           "aaxis": {
            "gridcolor": "white",
            "linecolor": "white",
            "ticks": ""
           },
           "baxis": {
            "gridcolor": "white",
            "linecolor": "white",
            "ticks": ""
           },
           "bgcolor": "#E5ECF6",
           "caxis": {
            "gridcolor": "white",
            "linecolor": "white",
            "ticks": ""
           }
          },
          "title": {
           "x": 0.05
          },
          "xaxis": {
           "automargin": true,
           "gridcolor": "white",
           "linecolor": "white",
           "ticks": "",
           "title": {
            "standoff": 15
           },
           "zerolinecolor": "white",
           "zerolinewidth": 2
          },
          "yaxis": {
           "automargin": true,
           "gridcolor": "white",
           "linecolor": "white",
           "ticks": "",
           "title": {
            "standoff": 15
           },
           "zerolinecolor": "white",
           "zerolinewidth": 2
          }
         }
        },
        "title": {
         "text": "Pie Plots"
        },
        "width": 1500
       }
      },
      "image/png": "[encoded data removed]",
      "text/html": [
       "<div>                            <div id=\"edfda5b8-a927-421b-b165-1f44306c0282\" class=\"plotly-graph-div\" style=\"height:400px; width:1500px;\"></div>            <script type=\"text/javascript\">                require([\"plotly\"], function(Plotly) {                    window.PLOTLYENV=window.PLOTLYENV || {};                                    if (document.getElementById(\"edfda5b8-a927-421b-b165-1f44306c0282\")) {                    Plotly.newPlot(                        \"edfda5b8-a927-421b-b165-1f44306c0282\",                        [{\"labels\":[1,2,3,4,5,6,7,8,9],\"legendgroup\":\"OverallCond\",\"marker\":{\"colors\":[\"#1f77b4\",\"#ff7f0e\",\"#2ca02c\",\"#d62728\",\"#9467bd\",\"#8c564b\"]},\"showlegend\":false,\"textinfo\":\"label+percent\",\"values\":[1,5,25,57,821,252,205,72,22],\"type\":\"pie\",\"domain\":{\"x\":[0.0,0.1388888888888889],\"y\":[0.0,1.0]}},{\"labels\":[\"1Fam\",\"2fmCon\",\"Duplex\",\"Twnhs\",\"TwnhsE\"],\"legendgroup\":\"BldgType\",\"marker\":{\"colors\":[\"#1f77b4\",\"#ff7f0e\",\"#2ca02c\",\"#d62728\",\"#9467bd\",\"#8c564b\"]},\"showlegend\":false,\"textinfo\":\"label+percent\",\"values\":[1220,31,52,43,114],\"type\":\"pie\",\"domain\":{\"x\":[0.17222222222222222,0.3111111111111111],\"y\":[0.0,1.0]}},{\"labels\":[\"Bnk\",\"HLS\",\"Low\",\"Lvl\"],\"legendgroup\":\"LandContour\",\"marker\":{\"colors\":[\"#1f77b4\",\"#ff7f0e\",\"#2ca02c\",\"#d62728\",\"#9467bd\",\"#8c564b\"]},\"showlegend\":false,\"textinfo\":\"label+percent\",\"values\":[63,50,36,1311],\"type\":\"pie\",\"domain\":{\"x\":[0.34444444444444444,0.48333333333333334],\"y\":[0.0,1.0]}},{\"labels\":[\"Ex\",\"Fa\",\"Gd\",\"TA\"],\"legendgroup\":\"BsmtQual\",\"marker\":{\"colors\":[\"#1f77b4\",\"#ff7f0e\",\"#2ca02c\",\"#d62728\",\"#9467bd\",\"#8c564b\"]},\"showlegend\":false,\"textinfo\":\"label+percent\",\"values\":[121,35,618,649],\"type\":\"pie\",\"domain\":{\"x\":[0.5166666666666667,0.6555555555555557],\"y\":[0.0,1.0]}},{\"labels\":[\"1.5Fin\",\"1.5Unf\",\"1Story\",\"2.5Fin\",\"2.5Unf\",\"2Story\",\"SFoyer\",\"SLvl\"],\"legendgroup\":\"HouseStyle\",\"marker\":{\"colors\":[\"#1f77b4\",\"#ff7f0e\",\"#2ca02c\",\"#d62728\",\"#9467bd\",\"#8c564b\"]},\"showlegend\":false,\"textinfo\":\"label+percent\",\"values\":[154,14,726,8,11,445,37,65],\"type\":\"pie\",\"domain\":{\"x\":[0.6888888888888889,0.8277777777777777],\"y\":[0.0,1.0]}},{\"labels\":[\"Flat\",\"Gable\",\"Gambrel\",\"Hip\",\"Mansard\",\"Shed\"],\"legendgroup\":\"RoofStyle\",\"marker\":{\"colors\":[\"#1f77b4\",\"#ff7f0e\",\"#2ca02c\",\"#d62728\",\"#9467bd\",\"#8c564b\"]},\"showlegend\":false,\"textinfo\":\"label+percent\",\"values\":[13,1141,11,286,7,2],\"type\":\"pie\",\"domain\":{\"x\":[0.861111111111111,1.0],\"y\":[0.0,1.0]}}],                        {\"template\":{\"data\":{\"histogram2dcontour\":[{\"type\":\"histogram2dcontour\",\"colorbar\":{\"outlinewidth\":0,\"ticks\":\"\"},\"colorscale\":[[0.0,\"#0d0887\"],[0.1111111111111111,\"#46039f\"],[0.2222222222222222,\"#7201a8\"],[0.3333333333333333,\"#9c179e\"],[0.4444444444444444,\"#bd3786\"],[0.5555555555555556,\"#d8576b\"],[0.6666666666666666,\"#ed7953\"],[0.7777777777777778,\"#fb9f3a\"],[0.8888888888888888,\"#fdca26\"],[1.0,\"#f0f921\"]]}],\"choropleth\":[{\"type\":\"choropleth\",\"colorbar\":{\"outlinewidth\":0,\"ticks\":\"\"}}],\"histogram2d\":[{\"type\":\"histogram2d\",\"colorbar\":{\"outlinewidth\":0,\"ticks\":\"\"},\"colorscale\":[[0.0,\"#0d0887\"],[0.1111111111111111,\"#46039f\"],[0.2222222222222222,\"#7201a8\"],[0.3333333333333333,\"#9c179e\"],[0.4444444444444444,\"#bd3786\"],[0.5555555555555556,\"#d8576b\"],[0.6666666666666666,\"#ed7953\"],[0.7777777777777778,\"#fb9f3a\"],[0.8888888888888888,\"#fdca26\"],[1.0,\"#f0f921\"]]}],\"heatmap\":[{\"type\":\"heatmap\",\"colorbar\":{\"outlinewidth\":0,\"ticks\":\"\"},\"colorscale\":[[0.0,\"#0d0887\"],[0.1111111111111111,\"#46039f\"],[0.2222222222222222,\"#7201a8\"],[0.3333333333333333,\"#9c179e\"],[0.4444444444444444,\"#bd3786\"],[0.5555555555555556,\"#d8576b\"],[0.6666666666666666,\"#ed7953\"],[0.7777777777777778,\"#fb9f3a\"],[0.8888888888888888,\"#fdca26\"],[1.0,\"#f0f921\"]]}],\"heatmapgl\":[{\"type\":\"heatmapgl\",\"colorbar\":{\"outlinewidth\":0,\"ticks\":\"\"},\"colorscale\":[[0.0,\"#0d0887\"],[0.1111111111111111,\"#46039f\"],[0.2222222222222222,\"#7201a8\"],[0.3333333333333333,\"#9c179e\"],[0.4444444444444444,\"#bd3786\"],[0.5555555555555556,\"#d8576b\"],[0.6666666666666666,\"#ed7953\"],[0.7777777777777778,\"#fb9f3a\"],[0.8888888888888888,\"#fdca26\"],[1.0,\"#f0f921\"]]}],\"contourcarpet\":[{\"type\":\"contourcarpet\",\"colorbar\":{\"outlinewidth\":0,\"ticks\":\"\"}}],\"contour\":[{\"type\":\"contour\",\"colorbar\":{\"outlinewidth\":0,\"ticks\":\"\"},\"colorscale\":[[0.0,\"#0d0887\"],[0.1111111111111111,\"#46039f\"],[0.2222222222222222,\"#7201a8\"],[0.3333333333333333,\"#9c179e\"],[0.4444444444444444,\"#bd3786\"],[0.5555555555555556,\"#d8576b\"],[0.6666666666666666,\"#ed7953\"],[0.7777777777777778,\"#fb9f3a\"],[0.8888888888888888,\"#fdca26\"],[1.0,\"#f0f921\"]]}],\"surface\":[{\"type\":\"surface\",\"colorbar\":{\"outlinewidth\":0,\"ticks\":\"\"},\"colorscale\":[[0.0,\"#0d0887\"],[0.1111111111111111,\"#46039f\"],[0.2222222222222222,\"#7201a8\"],[0.3333333333333333,\"#9c179e\"],[0.4444444444444444,\"#bd3786\"],[0.5555555555555556,\"#d8576b\"],[0.6666666666666666,\"#ed7953\"],[0.7777777777777778,\"#fb9f3a\"],[0.8888888888888888,\"#fdca26\"],[1.0,\"#f0f921\"]]}],\"mesh3d\":[{\"type\":\"mesh3d\",\"colorbar\":{\"outlinewidth\":0,\"ticks\":\"\"}}],\"scatter\":[{\"fillpattern\":{\"fillmode\":\"overlay\",\"size\":10,\"solidity\":0.2},\"type\":\"scatter\"}],\"parcoords\":[{\"type\":\"parcoords\",\"line\":{\"colorbar\":{\"outlinewidth\":0,\"ticks\":\"\"}}}],\"scatterpolargl\":[{\"type\":\"scatterpolargl\",\"marker\":{\"colorbar\":{\"outlinewidth\":0,\"ticks\":\"\"}}}],\"bar\":[{\"error_x\":{\"color\":\"#2a3f5f\"},\"error_y\":{\"color\":\"#2a3f5f\"},\"marker\":{\"line\":{\"color\":\"#E5ECF6\",\"width\":0.5},\"pattern\":{\"fillmode\":\"overlay\",\"size\":10,\"solidity\":0.2}},\"type\":\"bar\"}],\"scattergeo\":[{\"type\":\"scattergeo\",\"marker\":{\"colorbar\":{\"outlinewidth\":0,\"ticks\":\"\"}}}],\"scatterpolar\":[{\"type\":\"scatterpolar\",\"marker\":{\"colorbar\":{\"outlinewidth\":0,\"ticks\":\"\"}}}],\"histogram\":[{\"marker\":{\"pattern\":{\"fillmode\":\"overlay\",\"size\":10,\"solidity\":0.2}},\"type\":\"histogram\"}],\"scattergl\":[{\"type\":\"scattergl\",\"marker\":{\"colorbar\":{\"outlinewidth\":0,\"ticks\":\"\"}}}],\"scatter3d\":[{\"type\":\"scatter3d\",\"line\":{\"colorbar\":{\"outlinewidth\":0,\"ticks\":\"\"}},\"marker\":{\"colorbar\":{\"outlinewidth\":0,\"ticks\":\"\"}}}],\"scattermapbox\":[{\"type\":\"scattermapbox\",\"marker\":{\"colorbar\":{\"outlinewidth\":0,\"ticks\":\"\"}}}],\"scatterternary\":[{\"type\":\"scatterternary\",\"marker\":{\"colorbar\":{\"outlinewidth\":0,\"ticks\":\"\"}}}],\"scattercarpet\":[{\"type\":\"scattercarpet\",\"marker\":{\"colorbar\":{\"outlinewidth\":0,\"ticks\":\"\"}}}],\"carpet\":[{\"aaxis\":{\"endlinecolor\":\"#2a3f5f\",\"gridcolor\":\"white\",\"linecolor\":\"white\",\"minorgridcolor\":\"white\",\"startlinecolor\":\"#2a3f5f\"},\"baxis\":{\"endlinecolor\":\"#2a3f5f\",\"gridcolor\":\"white\",\"linecolor\":\"white\",\"minorgridcolor\":\"white\",\"startlinecolor\":\"#2a3f5f\"},\"type\":\"carpet\"}],\"table\":[{\"cells\":{\"fill\":{\"color\":\"#EBF0F8\"},\"line\":{\"color\":\"white\"}},\"header\":{\"fill\":{\"color\":\"#C8D4E3\"},\"line\":{\"color\":\"white\"}},\"type\":\"table\"}],\"barpolar\":[{\"marker\":{\"line\":{\"color\":\"#E5ECF6\",\"width\":0.5},\"pattern\":{\"fillmode\":\"overlay\",\"size\":10,\"solidity\":0.2}},\"type\":\"barpolar\"}],\"pie\":[{\"automargin\":true,\"type\":\"pie\"}]},\"layout\":{\"autotypenumbers\":\"strict\",\"colorway\":[\"#636efa\",\"#EF553B\",\"#00cc96\",\"#ab63fa\",\"#FFA15A\",\"#19d3f3\",\"#FF6692\",\"#B6E880\",\"#FF97FF\",\"#FECB52\"],\"font\":{\"color\":\"#2a3f5f\"},\"hovermode\":\"closest\",\"hoverlabel\":{\"align\":\"left\"},\"paper_bgcolor\":\"white\",\"plot_bgcolor\":\"#E5ECF6\",\"polar\":{\"bgcolor\":\"#E5ECF6\",\"angularaxis\":{\"gridcolor\":\"white\",\"linecolor\":\"white\",\"ticks\":\"\"},\"radialaxis\":{\"gridcolor\":\"white\",\"linecolor\":\"white\",\"ticks\":\"\"}},\"ternary\":{\"bgcolor\":\"#E5ECF6\",\"aaxis\":{\"gridcolor\":\"white\",\"linecolor\":\"white\",\"ticks\":\"\"},\"baxis\":{\"gridcolor\":\"white\",\"linecolor\":\"white\",\"ticks\":\"\"},\"caxis\":{\"gridcolor\":\"white\",\"linecolor\":\"white\",\"ticks\":\"\"}},\"coloraxis\":{\"colorbar\":{\"outlinewidth\":0,\"ticks\":\"\"}},\"colorscale\":{\"sequential\":[[0.0,\"#0d0887\"],[0.1111111111111111,\"#46039f\"],[0.2222222222222222,\"#7201a8\"],[0.3333333333333333,\"#9c179e\"],[0.4444444444444444,\"#bd3786\"],[0.5555555555555556,\"#d8576b\"],[0.6666666666666666,\"#ed7953\"],[0.7777777777777778,\"#fb9f3a\"],[0.8888888888888888,\"#fdca26\"],[1.0,\"#f0f921\"]],\"sequentialminus\":[[0.0,\"#0d0887\"],[0.1111111111111111,\"#46039f\"],[0.2222222222222222,\"#7201a8\"],[0.3333333333333333,\"#9c179e\"],[0.4444444444444444,\"#bd3786\"],[0.5555555555555556,\"#d8576b\"],[0.6666666666666666,\"#ed7953\"],[0.7777777777777778,\"#fb9f3a\"],[0.8888888888888888,\"#fdca26\"],[1.0,\"#f0f921\"]],\"diverging\":[[0,\"#8e0152\"],[0.1,\"#c51b7d\"],[0.2,\"#de77ae\"],[0.3,\"#f1b6da\"],[0.4,\"#fde0ef\"],[0.5,\"#f7f7f7\"],[0.6,\"#e6f5d0\"],[0.7,\"#b8e186\"],[0.8,\"#7fbc41\"],[0.9,\"#4d9221\"],[1,\"#276419\"]]},\"xaxis\":{\"gridcolor\":\"white\",\"linecolor\":\"white\",\"ticks\":\"\",\"title\":{\"standoff\":15},\"zerolinecolor\":\"white\",\"automargin\":true,\"zerolinewidth\":2},\"yaxis\":{\"gridcolor\":\"white\",\"linecolor\":\"white\",\"ticks\":\"\",\"title\":{\"standoff\":15},\"zerolinecolor\":\"white\",\"automargin\":true,\"zerolinewidth\":2},\"scene\":{\"xaxis\":{\"backgroundcolor\":\"#E5ECF6\",\"gridcolor\":\"white\",\"linecolor\":\"white\",\"showbackground\":true,\"ticks\":\"\",\"zerolinecolor\":\"white\",\"gridwidth\":2},\"yaxis\":{\"backgroundcolor\":\"#E5ECF6\",\"gridcolor\":\"white\",\"linecolor\":\"white\",\"showbackground\":true,\"ticks\":\"\",\"zerolinecolor\":\"white\",\"gridwidth\":2},\"zaxis\":{\"backgroundcolor\":\"#E5ECF6\",\"gridcolor\":\"white\",\"linecolor\":\"white\",\"showbackground\":true,\"ticks\":\"\",\"zerolinecolor\":\"white\",\"gridwidth\":2}},\"shapedefaults\":{\"line\":{\"color\":\"#2a3f5f\"}},\"annotationdefaults\":{\"arrowcolor\":\"#2a3f5f\",\"arrowhead\":0,\"arrowwidth\":1},\"geo\":{\"bgcolor\":\"white\",\"landcolor\":\"#E5ECF6\",\"subunitcolor\":\"white\",\"showland\":true,\"showlakes\":true,\"lakecolor\":\"white\"},\"title\":{\"x\":0.05},\"mapbox\":{\"style\":\"light\"}}},\"annotations\":[{\"font\":{\"size\":16},\"showarrow\":false,\"text\":\"OverallCond\",\"x\":0.06944444444444445,\"xanchor\":\"center\",\"xref\":\"paper\",\"y\":1.0,\"yanchor\":\"bottom\",\"yref\":\"paper\"},{\"font\":{\"size\":16},\"showarrow\":false,\"text\":\"BldgType\",\"x\":0.24166666666666667,\"xanchor\":\"center\",\"xref\":\"paper\",\"y\":1.0,\"yanchor\":\"bottom\",\"yref\":\"paper\"},{\"font\":{\"size\":16},\"showarrow\":false,\"text\":\"LandContour\",\"x\":0.41388888888888886,\"xanchor\":\"center\",\"xref\":\"paper\",\"y\":1.0,\"yanchor\":\"bottom\",\"yref\":\"paper\"},{\"font\":{\"size\":16},\"showarrow\":false,\"text\":\"BsmtQual\",\"x\":0.5861111111111112,\"xanchor\":\"center\",\"xref\":\"paper\",\"y\":1.0,\"yanchor\":\"bottom\",\"yref\":\"paper\"},{\"font\":{\"size\":16},\"showarrow\":false,\"text\":\"HouseStyle\",\"x\":0.7583333333333333,\"xanchor\":\"center\",\"xref\":\"paper\",\"y\":1.0,\"yanchor\":\"bottom\",\"yref\":\"paper\"},{\"font\":{\"size\":16},\"showarrow\":false,\"text\":\"RoofStyle\",\"x\":0.9305555555555556,\"xanchor\":\"center\",\"xref\":\"paper\",\"y\":1.0,\"yanchor\":\"bottom\",\"yref\":\"paper\"}],\"title\":{\"text\":\"Pie Plots\"},\"height\":400,\"width\":1500},                        {\"responsive\": true}                    ).then(function(){\n",
       "                            \n",
       "var gd = document.getElementById('edfda5b8-a927-421b-b165-1f44306c0282');\n",
       "var x = new MutationObserver(function (mutations, observer) {{\n",
       "        var display = window.getComputedStyle(gd).display;\n",
       "        if (!display || display === 'none') {{\n",
       "            console.log([gd, 'removed!']);\n",
       "            Plotly.purge(gd);\n",
       "            observer.disconnect();\n",
       "        }}\n",
       "}});\n",
       "\n",
       "// Listen for the removal of the full notebook cells\n",
       "var notebookContainer = gd.closest('#notebook-container');\n",
       "if (notebookContainer) {{\n",
       "    x.observe(notebookContainer, {childList: true});\n",
       "}}\n",
       "\n",
       "// Listen for the clearing of the current output cell\n",
       "var outputEl = gd.closest('.output');\n",
       "if (outputEl) {{\n",
       "    x.observe(outputEl, {childList: true});\n",
       "}}\n",
       "\n",
       "                        })                };                });            </script>        </div>"
      ]
     },
     "metadata": {},
     "output_type": "display_data"
    }
   ],
   "source": [
    "features = ['OverallCond', 'BldgType', 'LandContour', 'BsmtQual', 'HouseStyle', 'RoofStyle']\n",
    "\n",
    "# Define a color scale for all pie charts\n",
    "colors = ['#1f77b4', '#ff7f0e', '#2ca02c', '#d62728', '#9467bd', '#8c564b']\n",
    "\n",
    "# Create a grid of subplots using make_subplots with one row and six columns\n",
    "fig = make_subplots(rows=1, cols=6, specs=[[{'type': 'pie'} for j in range(6)]], subplot_titles=features)\n",
    "\n",
    "# Create a pie chart for each feature and add it to the grid of subplots\n",
    "for i, feature in enumerate(features):\n",
    "    # Group the DataFrame by the feature and count the unique values\n",
    "    feature_counts = train_data.groupby(feature).size().reset_index(name='count')\n",
    "    \n",
    "    # Create a Pie chart for the feature using go.Pie\n",
    "    fig.add_trace(go.Pie(labels=feature_counts[feature],\n",
    "                         values=feature_counts['count'],\n",
    "                         marker_colors=colors,  # Set a uniform color scale for all pie charts\n",
    "                         legendgroup=feature,\n",
    "                         textinfo='label+percent',\n",
    "                         showlegend=False),  # Hide the legend\n",
    "                  row=1,\n",
    "                  col=i+1)\n",
    "    \n",
    "fig.update_layout(height=400, width=1500, title_text=\"Pie Plots\")\n",
    "fig.show()"
   ]
  },
  {
   "cell_type": "code",
   "execution_count": 108,
   "id": "76db95e5-9389-4fed-b259-1329d997a9c3",
   "metadata": {},
   "outputs": [],
   "source": [
    "query = 'SELECT OverallQual, GarageCars, AVG(SalePrice) AS SalePrice from train_data GROUP BY OverallQual, GarageCars'\n",
    "sun_df = pysqldf(query)"
   ]
  },
  {
   "cell_type": "code",
   "execution_count": 107,
   "id": "fc4ab7e4-d8f6-4a6e-9735-e2fe02900221",
   "metadata": {},
   "outputs": [
    {
     "data": {
      "application/vnd.plotly.v1+json": {
       "config": {
        "plotlyServerURL": "https://plot.ly"
       },
       "data": [
        {
         "branchvalues": "total",
         "domain": {
          "x": [
           0,
           1
          ],
          "y": [
           0,
           1
          ]
         },
         "hovertemplate": "labels=%{label}<br>SalePrice=%{value}<br>parent=%{parent}<br>id=%{id}<extra></extra>",
         "ids": [
          "2/1/47655.5",
          "1/0/50150.0",
          "2/0/60000.0",
          "3/0/66233.33333333333",
          "4/3/87000.0",
          "3/3/93000.0",
          "4/0/94842.30769230769",
          "3/1/95929.16666666667",
          "3/2/98416.66666666667",
          "4/1/105672.68",
          "6/0/114033.33333333333",
          "5/0/116053.125",
          "4/2/120250.32432432432",
          "8/0/122000.0",
          "5/1/127179.27692307692",
          "6/1/134987.67368421052",
          "5/3/136266.66666666666",
          "7/0/141000.0",
          "5/2/144033.8036809816",
          "4/4/145500.0",
          "8/1/161000.0",
          "6/2/172819.7196969697",
          "7/1/176787.5",
          "5/4/200000.0",
          "7/2/204785.66666666666",
          "6/3/207633.33333333334",
          "7/4/236139.5",
          "10/2/242500.0",
          "7/3/244152.84210526315",
          "8/2/252254.62790697673",
          "9/2/292311.625",
          "8/3/302233.4",
          "9/3/384701.9142857143",
          "10/3/463099.4375",
          "1/0",
          "2/0",
          "3/0",
          "4/0",
          "5/0",
          "6/0",
          "7/0",
          "8/0",
          "2/1",
          "3/1",
          "4/1",
          "5/1",
          "6/1",
          "7/1",
          "8/1",
          "3/2",
          "4/2",
          "5/2",
          "6/2",
          "7/2",
          "8/2",
          "9/2",
          "10/2",
          "3/3",
          "4/3",
          "5/3",
          "6/3",
          "7/3",
          "8/3",
          "9/3",
          "10/3",
          "4/4",
          "5/4",
          "7/4",
          "1",
          "2",
          "3",
          "4",
          "5",
          "6",
          "7",
          "8",
          "9",
          "10"
         ],
         "labels": [
          "47655.5",
          "50150.0",
          "60000.0",
          "66233.33333333333",
          "87000.0",
          "93000.0",
          "94842.30769230769",
          "95929.16666666667",
          "98416.66666666667",
          "105672.68",
          "114033.33333333333",
          "116053.125",
          "120250.32432432432",
          "122000.0",
          "127179.27692307692",
          "134987.67368421052",
          "136266.66666666666",
          "141000.0",
          "144033.8036809816",
          "145500.0",
          "161000.0",
          "172819.7196969697",
          "176787.5",
          "200000.0",
          "204785.66666666666",
          "207633.33333333334",
          "236139.5",
          "242500.0",
          "244152.84210526315",
          "252254.62790697673",
          "292311.625",
          "302233.4",
          "384701.9142857143",
          "463099.4375",
          "0",
          "0",
          "0",
          "0",
          "0",
          "0",
          "0",
          "0",
          "1",
          "1",
          "1",
          "1",
          "1",
          "1",
          "1",
          "2",
          "2",
          "2",
          "2",
          "2",
          "2",
          "2",
          "2",
          "3",
          "3",
          "3",
          "3",
          "3",
          "3",
          "3",
          "3",
          "4",
          "4",
          "4",
          "1",
          "2",
          "3",
          "4",
          "5",
          "6",
          "7",
          "8",
          "9",
          "10"
         ],
         "level": "8f8d2e",
         "name": "",
         "parents": [
          "2/1",
          "1/0",
          "2/0",
          "3/0",
          "4/3",
          "3/3",
          "4/0",
          "3/1",
          "3/2",
          "4/1",
          "6/0",
          "5/0",
          "4/2",
          "8/0",
          "5/1",
          "6/1",
          "5/3",
          "7/0",
          "5/2",
          "4/4",
          "8/1",
          "6/2",
          "7/1",
          "5/4",
          "7/2",
          "6/3",
          "7/4",
          "10/2",
          "7/3",
          "8/2",
          "9/2",
          "8/3",
          "9/3",
          "10/3",
          "1",
          "2",
          "3",
          "4",
          "5",
          "6",
          "7",
          "8",
          "2",
          "3",
          "4",
          "5",
          "6",
          "7",
          "8",
          "3",
          "4",
          "5",
          "6",
          "7",
          "8",
          "9",
          "10",
          "3",
          "4",
          "5",
          "6",
          "7",
          "8",
          "9",
          "10",
          "4",
          "5",
          "7",
          "",
          "",
          "",
          "",
          "",
          "",
          "",
          "",
          "",
          ""
         ],
         "type": "sunburst",
         "values": [
          47655.5,
          50150,
          60000,
          66233.33333333333,
          87000,
          93000,
          94842.30769230769,
          95929.16666666667,
          98416.66666666667,
          105672.68,
          114033.33333333333,
          116053.125,
          120250.32432432432,
          122000,
          127179.27692307692,
          134987.67368421052,
          136266.66666666666,
          141000,
          144033.8036809816,
          145500,
          161000,
          172819.7196969697,
          176787.5,
          200000,
          204785.66666666666,
          207633.33333333334,
          236139.5,
          242500,
          244152.84210526315,
          252254.62790697673,
          292311.625,
          302233.4,
          384701.9142857143,
          463099.4375,
          50150,
          60000,
          66233.33333333333,
          94842.30769230769,
          116053.125,
          114033.33333333333,
          141000,
          122000,
          47655.5,
          95929.16666666667,
          105672.68,
          127179.27692307692,
          134987.67368421052,
          176787.5,
          161000,
          98416.66666666667,
          120250.32432432432,
          144033.8036809816,
          172819.7196969697,
          204785.66666666666,
          252254.62790697673,
          292311.625,
          242500,
          93000,
          87000,
          136266.66666666666,
          207633.33333333334,
          244152.84210526315,
          302233.4,
          384701.9142857143,
          463099.4375,
          145500,
          200000,
          236139.5,
          50150,
          107655.5,
          353579.1666666667,
          553265.312016632,
          723532.8722707252,
          629474.0600478469,
          1002865.5087719298,
          837488.0279069768,
          677013.5392857143,
          705599.4375
         ]
        }
       ],
       "layout": {
        "height": 700,
        "legend": {
         "tracegroupgap": 0
        },
        "margin": {
         "t": 60
        },
        "template": {
         "data": {
          "bar": [
           {
            "error_x": {
             "color": "#2a3f5f"
            },
            "error_y": {
             "color": "#2a3f5f"
            },
            "marker": {
             "line": {
              "color": "#E5ECF6",
              "width": 0.5
             },
             "pattern": {
              "fillmode": "overlay",
              "size": 10,
              "solidity": 0.2
             }
            },
            "type": "bar"
           }
          ],
          "barpolar": [
           {
            "marker": {
             "line": {
              "color": "#E5ECF6",
              "width": 0.5
             },
             "pattern": {
              "fillmode": "overlay",
              "size": 10,
              "solidity": 0.2
             }
            },
            "type": "barpolar"
           }
          ],
          "carpet": [
           {
            "aaxis": {
             "endlinecolor": "#2a3f5f",
             "gridcolor": "white",
             "linecolor": "white",
             "minorgridcolor": "white",
             "startlinecolor": "#2a3f5f"
            },
            "baxis": {
             "endlinecolor": "#2a3f5f",
             "gridcolor": "white",
             "linecolor": "white",
             "minorgridcolor": "white",
             "startlinecolor": "#2a3f5f"
            },
            "type": "carpet"
           }
          ],
          "choropleth": [
           {
            "colorbar": {
             "outlinewidth": 0,
             "ticks": ""
            },
            "type": "choropleth"
           }
          ],
          "contour": [
           {
            "colorbar": {
             "outlinewidth": 0,
             "ticks": ""
            },
            "colorscale": [
             [
              0,
              "#0d0887"
             ],
             [
              0.1111111111111111,
              "#46039f"
             ],
             [
              0.2222222222222222,
              "#7201a8"
             ],
             [
              0.3333333333333333,
              "#9c179e"
             ],
             [
              0.4444444444444444,
              "#bd3786"
             ],
             [
              0.5555555555555556,
              "#d8576b"
             ],
             [
              0.6666666666666666,
              "#ed7953"
             ],
             [
              0.7777777777777778,
              "#fb9f3a"
             ],
             [
              0.8888888888888888,
              "#fdca26"
             ],
             [
              1,
              "#f0f921"
             ]
            ],
            "type": "contour"
           }
          ],
          "contourcarpet": [
           {
            "colorbar": {
             "outlinewidth": 0,
             "ticks": ""
            },
            "type": "contourcarpet"
           }
          ],
          "heatmap": [
           {
            "colorbar": {
             "outlinewidth": 0,
             "ticks": ""
            },
            "colorscale": [
             [
              0,
              "#0d0887"
             ],
             [
              0.1111111111111111,
              "#46039f"
             ],
             [
              0.2222222222222222,
              "#7201a8"
             ],
             [
              0.3333333333333333,
              "#9c179e"
             ],
             [
              0.4444444444444444,
              "#bd3786"
             ],
             [
              0.5555555555555556,
              "#d8576b"
             ],
             [
              0.6666666666666666,
              "#ed7953"
             ],
             [
              0.7777777777777778,
              "#fb9f3a"
             ],
             [
              0.8888888888888888,
              "#fdca26"
             ],
             [
              1,
              "#f0f921"
             ]
            ],
            "type": "heatmap"
           }
          ],
          "heatmapgl": [
           {
            "colorbar": {
             "outlinewidth": 0,
             "ticks": ""
            },
            "colorscale": [
             [
              0,
              "#0d0887"
             ],
             [
              0.1111111111111111,
              "#46039f"
             ],
             [
              0.2222222222222222,
              "#7201a8"
             ],
             [
              0.3333333333333333,
              "#9c179e"
             ],
             [
              0.4444444444444444,
              "#bd3786"
             ],
             [
              0.5555555555555556,
              "#d8576b"
             ],
             [
              0.6666666666666666,
              "#ed7953"
             ],
             [
              0.7777777777777778,
              "#fb9f3a"
             ],
             [
              0.8888888888888888,
              "#fdca26"
             ],
             [
              1,
              "#f0f921"
             ]
            ],
            "type": "heatmapgl"
           }
          ],
          "histogram": [
           {
            "marker": {
             "pattern": {
              "fillmode": "overlay",
              "size": 10,
              "solidity": 0.2
             }
            },
            "type": "histogram"
           }
          ],
          "histogram2d": [
           {
            "colorbar": {
             "outlinewidth": 0,
             "ticks": ""
            },
            "colorscale": [
             [
              0,
              "#0d0887"
             ],
             [
              0.1111111111111111,
              "#46039f"
             ],
             [
              0.2222222222222222,
              "#7201a8"
             ],
             [
              0.3333333333333333,
              "#9c179e"
             ],
             [
              0.4444444444444444,
              "#bd3786"
             ],
             [
              0.5555555555555556,
              "#d8576b"
             ],
             [
              0.6666666666666666,
              "#ed7953"
             ],
             [
              0.7777777777777778,
              "#fb9f3a"
             ],
             [
              0.8888888888888888,
              "#fdca26"
             ],
             [
              1,
              "#f0f921"
             ]
            ],
            "type": "histogram2d"
           }
          ],
          "histogram2dcontour": [
           {
            "colorbar": {
             "outlinewidth": 0,
             "ticks": ""
            },
            "colorscale": [
             [
              0,
              "#0d0887"
             ],
             [
              0.1111111111111111,
              "#46039f"
             ],
             [
              0.2222222222222222,
              "#7201a8"
             ],
             [
              0.3333333333333333,
              "#9c179e"
             ],
             [
              0.4444444444444444,
              "#bd3786"
             ],
             [
              0.5555555555555556,
              "#d8576b"
             ],
             [
              0.6666666666666666,
              "#ed7953"
             ],
             [
              0.7777777777777778,
              "#fb9f3a"
             ],
             [
              0.8888888888888888,
              "#fdca26"
             ],
             [
              1,
              "#f0f921"
             ]
            ],
            "type": "histogram2dcontour"
           }
          ],
          "mesh3d": [
           {
            "colorbar": {
             "outlinewidth": 0,
             "ticks": ""
            },
            "type": "mesh3d"
           }
          ],
          "parcoords": [
           {
            "line": {
             "colorbar": {
              "outlinewidth": 0,
              "ticks": ""
             }
            },
            "type": "parcoords"
           }
          ],
          "pie": [
           {
            "automargin": true,
            "type": "pie"
           }
          ],
          "scatter": [
           {
            "fillpattern": {
             "fillmode": "overlay",
             "size": 10,
             "solidity": 0.2
            },
            "type": "scatter"
           }
          ],
          "scatter3d": [
           {
            "line": {
             "colorbar": {
              "outlinewidth": 0,
              "ticks": ""
             }
            },
            "marker": {
             "colorbar": {
              "outlinewidth": 0,
              "ticks": ""
             }
            },
            "type": "scatter3d"
           }
          ],
          "scattercarpet": [
           {
            "marker": {
             "colorbar": {
              "outlinewidth": 0,
              "ticks": ""
             }
            },
            "type": "scattercarpet"
           }
          ],
          "scattergeo": [
           {
            "marker": {
             "colorbar": {
              "outlinewidth": 0,
              "ticks": ""
             }
            },
            "type": "scattergeo"
           }
          ],
          "scattergl": [
           {
            "marker": {
             "colorbar": {
              "outlinewidth": 0,
              "ticks": ""
             }
            },
            "type": "scattergl"
           }
          ],
          "scattermapbox": [
           {
            "marker": {
             "colorbar": {
              "outlinewidth": 0,
              "ticks": ""
             }
            },
            "type": "scattermapbox"
           }
          ],
          "scatterpolar": [
           {
            "marker": {
             "colorbar": {
              "outlinewidth": 0,
              "ticks": ""
             }
            },
            "type": "scatterpolar"
           }
          ],
          "scatterpolargl": [
           {
            "marker": {
             "colorbar": {
              "outlinewidth": 0,
              "ticks": ""
             }
            },
            "type": "scatterpolargl"
           }
          ],
          "scatterternary": [
           {
            "marker": {
             "colorbar": {
              "outlinewidth": 0,
              "ticks": ""
             }
            },
            "type": "scatterternary"
           }
          ],
          "surface": [
           {
            "colorbar": {
             "outlinewidth": 0,
             "ticks": ""
            },
            "colorscale": [
             [
              0,
              "#0d0887"
             ],
             [
              0.1111111111111111,
              "#46039f"
             ],
             [
              0.2222222222222222,
              "#7201a8"
             ],
             [
              0.3333333333333333,
              "#9c179e"
             ],
             [
              0.4444444444444444,
              "#bd3786"
             ],
             [
              0.5555555555555556,
              "#d8576b"
             ],
             [
              0.6666666666666666,
              "#ed7953"
             ],
             [
              0.7777777777777778,
              "#fb9f3a"
             ],
             [
              0.8888888888888888,
              "#fdca26"
             ],
             [
              1,
              "#f0f921"
             ]
            ],
            "type": "surface"
           }
          ],
          "table": [
           {
            "cells": {
             "fill": {
              "color": "#EBF0F8"
             },
             "line": {
              "color": "white"
             }
            },
            "header": {
             "fill": {
              "color": "#C8D4E3"
             },
             "line": {
              "color": "white"
             }
            },
            "type": "table"
           }
          ]
         },
         "layout": {
          "annotationdefaults": {
           "arrowcolor": "#2a3f5f",
           "arrowhead": 0,
           "arrowwidth": 1
          },
          "autotypenumbers": "strict",
          "coloraxis": {
           "colorbar": {
            "outlinewidth": 0,
            "ticks": ""
           }
          },
          "colorscale": {
           "diverging": [
            [
             0,
             "#8e0152"
            ],
            [
             0.1,
             "#c51b7d"
            ],
            [
             0.2,
             "#de77ae"
            ],
            [
             0.3,
             "#f1b6da"
            ],
            [
             0.4,
             "#fde0ef"
            ],
            [
             0.5,
             "#f7f7f7"
            ],
            [
             0.6,
             "#e6f5d0"
            ],
            [
             0.7,
             "#b8e186"
            ],
            [
             0.8,
             "#7fbc41"
            ],
            [
             0.9,
             "#4d9221"
            ],
            [
             1,
             "#276419"
            ]
           ],
           "sequential": [
            [
             0,
             "#0d0887"
            ],
            [
             0.1111111111111111,
             "#46039f"
            ],
            [
             0.2222222222222222,
             "#7201a8"
            ],
            [
             0.3333333333333333,
             "#9c179e"
            ],
            [
             0.4444444444444444,
             "#bd3786"
            ],
            [
             0.5555555555555556,
             "#d8576b"
            ],
            [
             0.6666666666666666,
             "#ed7953"
            ],
            [
             0.7777777777777778,
             "#fb9f3a"
            ],
            [
             0.8888888888888888,
             "#fdca26"
            ],
            [
             1,
             "#f0f921"
            ]
           ],
           "sequentialminus": [
            [
             0,
             "#0d0887"
            ],
            [
             0.1111111111111111,
             "#46039f"
            ],
            [
             0.2222222222222222,
             "#7201a8"
            ],
            [
             0.3333333333333333,
             "#9c179e"
            ],
            [
             0.4444444444444444,
             "#bd3786"
            ],
            [
             0.5555555555555556,
             "#d8576b"
            ],
            [
             0.6666666666666666,
             "#ed7953"
            ],
            [
             0.7777777777777778,
             "#fb9f3a"
            ],
            [
             0.8888888888888888,
             "#fdca26"
            ],
            [
             1,
             "#f0f921"
            ]
           ]
          },
          "colorway": [
           "#636efa",
           "#EF553B",
           "#00cc96",
           "#ab63fa",
           "#FFA15A",
           "#19d3f3",
           "#FF6692",
           "#B6E880",
           "#FF97FF",
           "#FECB52"
          ],
          "font": {
           "color": "#2a3f5f"
          },
          "geo": {
           "bgcolor": "white",
           "lakecolor": "white",
           "landcolor": "#E5ECF6",
           "showlakes": true,
           "showland": true,
           "subunitcolor": "white"
          },
          "hoverlabel": {
           "align": "left"
          },
          "hovermode": "closest",
          "mapbox": {
           "style": "light"
          },
          "paper_bgcolor": "white",
          "plot_bgcolor": "#E5ECF6",
          "polar": {
           "angularaxis": {
            "gridcolor": "white",
            "linecolor": "white",
            "ticks": ""
           },
           "bgcolor": "#E5ECF6",
           "radialaxis": {
            "gridcolor": "white",
            "linecolor": "white",
            "ticks": ""
           }
          },
          "scene": {
           "xaxis": {
            "backgroundcolor": "#E5ECF6",
            "gridcolor": "white",
            "gridwidth": 2,
            "linecolor": "white",
            "showbackground": true,
            "ticks": "",
            "zerolinecolor": "white"
           },
           "yaxis": {
            "backgroundcolor": "#E5ECF6",
            "gridcolor": "white",
            "gridwidth": 2,
            "linecolor": "white",
            "showbackground": true,
            "ticks": "",
            "zerolinecolor": "white"
           },
           "zaxis": {
            "backgroundcolor": "#E5ECF6",
            "gridcolor": "white",
            "gridwidth": 2,
            "linecolor": "white",
            "showbackground": true,
            "ticks": "",
            "zerolinecolor": "white"
           }
          },
          "shapedefaults": {
           "line": {
            "color": "#2a3f5f"
           }
          },
          "ternary": {
           "aaxis": {
            "gridcolor": "white",
            "linecolor": "white",
            "ticks": ""
           },
           "baxis": {
            "gridcolor": "white",
            "linecolor": "white",
            "ticks": ""
           },
           "bgcolor": "#E5ECF6",
           "caxis": {
            "gridcolor": "white",
            "linecolor": "white",
            "ticks": ""
           }
          },
          "title": {
           "x": 0.05
          },
          "xaxis": {
           "automargin": true,
           "gridcolor": "white",
           "linecolor": "white",
           "ticks": "",
           "title": {
            "standoff": 15
           },
           "zerolinecolor": "white",
           "zerolinewidth": 2
          },
          "yaxis": {
           "automargin": true,
           "gridcolor": "white",
           "linecolor": "white",
           "ticks": "",
           "title": {
            "standoff": 15
           },
           "zerolinecolor": "white",
           "zerolinewidth": 2
          }
         }
        },
        "title": {
         "text": "SunPie"
        },
        "width": 700
       }
      },
      "image/png": "[encoded data removed]",
      "text/html": [
       "<div>                            <div id=\"77f1bf23-473e-47e0-8cec-21b64ce3b11d\" class=\"plotly-graph-div\" style=\"height:700px; width:700px;\"></div>            <script type=\"text/javascript\">                require([\"plotly\"], function(Plotly) {                    window.PLOTLYENV=window.PLOTLYENV || {};                                    if (document.getElementById(\"77f1bf23-473e-47e0-8cec-21b64ce3b11d\")) {                    Plotly.newPlot(                        \"77f1bf23-473e-47e0-8cec-21b64ce3b11d\",                        [{\"branchvalues\":\"total\",\"domain\":{\"x\":[0.0,1.0],\"y\":[0.0,1.0]},\"hovertemplate\":\"labels=%{label}<br>SalePrice=%{value}<br>parent=%{parent}<br>id=%{id}<extra></extra>\",\"ids\":[\"2/1/47655.5\",\"1/0/50150.0\",\"2/0/60000.0\",\"3/0/66233.33333333333\",\"4/3/87000.0\",\"3/3/93000.0\",\"4/0/94842.30769230769\",\"3/1/95929.16666666667\",\"3/2/98416.66666666667\",\"4/1/105672.68\",\"6/0/114033.33333333333\",\"5/0/116053.125\",\"4/2/120250.32432432432\",\"8/0/122000.0\",\"5/1/127179.27692307692\",\"6/1/134987.67368421052\",\"5/3/136266.66666666666\",\"7/0/141000.0\",\"5/2/144033.8036809816\",\"4/4/145500.0\",\"8/1/161000.0\",\"6/2/172819.7196969697\",\"7/1/176787.5\",\"5/4/200000.0\",\"7/2/204785.66666666666\",\"6/3/207633.33333333334\",\"7/4/236139.5\",\"10/2/242500.0\",\"7/3/244152.84210526315\",\"8/2/252254.62790697673\",\"9/2/292311.625\",\"8/3/302233.4\",\"9/3/384701.9142857143\",\"10/3/463099.4375\",\"1/0\",\"2/0\",\"3/0\",\"4/0\",\"5/0\",\"6/0\",\"7/0\",\"8/0\",\"2/1\",\"3/1\",\"4/1\",\"5/1\",\"6/1\",\"7/1\",\"8/1\",\"3/2\",\"4/2\",\"5/2\",\"6/2\",\"7/2\",\"8/2\",\"9/2\",\"10/2\",\"3/3\",\"4/3\",\"5/3\",\"6/3\",\"7/3\",\"8/3\",\"9/3\",\"10/3\",\"4/4\",\"5/4\",\"7/4\",\"1\",\"2\",\"3\",\"4\",\"5\",\"6\",\"7\",\"8\",\"9\",\"10\"],\"labels\":[\"47655.5\",\"50150.0\",\"60000.0\",\"66233.33333333333\",\"87000.0\",\"93000.0\",\"94842.30769230769\",\"95929.16666666667\",\"98416.66666666667\",\"105672.68\",\"114033.33333333333\",\"116053.125\",\"120250.32432432432\",\"122000.0\",\"127179.27692307692\",\"134987.67368421052\",\"136266.66666666666\",\"141000.0\",\"144033.8036809816\",\"145500.0\",\"161000.0\",\"172819.7196969697\",\"176787.5\",\"200000.0\",\"204785.66666666666\",\"207633.33333333334\",\"236139.5\",\"242500.0\",\"244152.84210526315\",\"252254.62790697673\",\"292311.625\",\"302233.4\",\"384701.9142857143\",\"463099.4375\",\"0\",\"0\",\"0\",\"0\",\"0\",\"0\",\"0\",\"0\",\"1\",\"1\",\"1\",\"1\",\"1\",\"1\",\"1\",\"2\",\"2\",\"2\",\"2\",\"2\",\"2\",\"2\",\"2\",\"3\",\"3\",\"3\",\"3\",\"3\",\"3\",\"3\",\"3\",\"4\",\"4\",\"4\",\"1\",\"2\",\"3\",\"4\",\"5\",\"6\",\"7\",\"8\",\"9\",\"10\"],\"name\":\"\",\"parents\":[\"2/1\",\"1/0\",\"2/0\",\"3/0\",\"4/3\",\"3/3\",\"4/0\",\"3/1\",\"3/2\",\"4/1\",\"6/0\",\"5/0\",\"4/2\",\"8/0\",\"5/1\",\"6/1\",\"5/3\",\"7/0\",\"5/2\",\"4/4\",\"8/1\",\"6/2\",\"7/1\",\"5/4\",\"7/2\",\"6/3\",\"7/4\",\"10/2\",\"7/3\",\"8/2\",\"9/2\",\"8/3\",\"9/3\",\"10/3\",\"1\",\"2\",\"3\",\"4\",\"5\",\"6\",\"7\",\"8\",\"2\",\"3\",\"4\",\"5\",\"6\",\"7\",\"8\",\"3\",\"4\",\"5\",\"6\",\"7\",\"8\",\"9\",\"10\",\"3\",\"4\",\"5\",\"6\",\"7\",\"8\",\"9\",\"10\",\"4\",\"5\",\"7\",\"\",\"\",\"\",\"\",\"\",\"\",\"\",\"\",\"\",\"\"],\"values\":[47655.5,50150.0,60000.0,66233.33333333333,87000.0,93000.0,94842.30769230769,95929.16666666667,98416.66666666667,105672.68,114033.33333333333,116053.125,120250.32432432432,122000.0,127179.27692307692,134987.67368421052,136266.66666666666,141000.0,144033.8036809816,145500.0,161000.0,172819.7196969697,176787.5,200000.0,204785.66666666666,207633.33333333334,236139.5,242500.0,244152.84210526315,252254.62790697673,292311.625,302233.4,384701.9142857143,463099.4375,50150.0,60000.0,66233.33333333333,94842.30769230769,116053.125,114033.33333333333,141000.0,122000.0,47655.5,95929.16666666667,105672.68,127179.27692307692,134987.67368421052,176787.5,161000.0,98416.66666666667,120250.32432432432,144033.8036809816,172819.7196969697,204785.66666666666,252254.62790697673,292311.625,242500.0,93000.0,87000.0,136266.66666666666,207633.33333333334,244152.84210526315,302233.4,384701.9142857143,463099.4375,145500.0,200000.0,236139.5,50150.0,107655.5,353579.1666666667,553265.312016632,723532.8722707252,629474.0600478469,1002865.5087719298,837488.0279069768,677013.5392857143,705599.4375],\"type\":\"sunburst\"}],                        {\"template\":{\"data\":{\"histogram2dcontour\":[{\"type\":\"histogram2dcontour\",\"colorbar\":{\"outlinewidth\":0,\"ticks\":\"\"},\"colorscale\":[[0.0,\"#0d0887\"],[0.1111111111111111,\"#46039f\"],[0.2222222222222222,\"#7201a8\"],[0.3333333333333333,\"#9c179e\"],[0.4444444444444444,\"#bd3786\"],[0.5555555555555556,\"#d8576b\"],[0.6666666666666666,\"#ed7953\"],[0.7777777777777778,\"#fb9f3a\"],[0.8888888888888888,\"#fdca26\"],[1.0,\"#f0f921\"]]}],\"choropleth\":[{\"type\":\"choropleth\",\"colorbar\":{\"outlinewidth\":0,\"ticks\":\"\"}}],\"histogram2d\":[{\"type\":\"histogram2d\",\"colorbar\":{\"outlinewidth\":0,\"ticks\":\"\"},\"colorscale\":[[0.0,\"#0d0887\"],[0.1111111111111111,\"#46039f\"],[0.2222222222222222,\"#7201a8\"],[0.3333333333333333,\"#9c179e\"],[0.4444444444444444,\"#bd3786\"],[0.5555555555555556,\"#d8576b\"],[0.6666666666666666,\"#ed7953\"],[0.7777777777777778,\"#fb9f3a\"],[0.8888888888888888,\"#fdca26\"],[1.0,\"#f0f921\"]]}],\"heatmap\":[{\"type\":\"heatmap\",\"colorbar\":{\"outlinewidth\":0,\"ticks\":\"\"},\"colorscale\":[[0.0,\"#0d0887\"],[0.1111111111111111,\"#46039f\"],[0.2222222222222222,\"#7201a8\"],[0.3333333333333333,\"#9c179e\"],[0.4444444444444444,\"#bd3786\"],[0.5555555555555556,\"#d8576b\"],[0.6666666666666666,\"#ed7953\"],[0.7777777777777778,\"#fb9f3a\"],[0.8888888888888888,\"#fdca26\"],[1.0,\"#f0f921\"]]}],\"heatmapgl\":[{\"type\":\"heatmapgl\",\"colorbar\":{\"outlinewidth\":0,\"ticks\":\"\"},\"colorscale\":[[0.0,\"#0d0887\"],[0.1111111111111111,\"#46039f\"],[0.2222222222222222,\"#7201a8\"],[0.3333333333333333,\"#9c179e\"],[0.4444444444444444,\"#bd3786\"],[0.5555555555555556,\"#d8576b\"],[0.6666666666666666,\"#ed7953\"],[0.7777777777777778,\"#fb9f3a\"],[0.8888888888888888,\"#fdca26\"],[1.0,\"#f0f921\"]]}],\"contourcarpet\":[{\"type\":\"contourcarpet\",\"colorbar\":{\"outlinewidth\":0,\"ticks\":\"\"}}],\"contour\":[{\"type\":\"contour\",\"colorbar\":{\"outlinewidth\":0,\"ticks\":\"\"},\"colorscale\":[[0.0,\"#0d0887\"],[0.1111111111111111,\"#46039f\"],[0.2222222222222222,\"#7201a8\"],[0.3333333333333333,\"#9c179e\"],[0.4444444444444444,\"#bd3786\"],[0.5555555555555556,\"#d8576b\"],[0.6666666666666666,\"#ed7953\"],[0.7777777777777778,\"#fb9f3a\"],[0.8888888888888888,\"#fdca26\"],[1.0,\"#f0f921\"]]}],\"surface\":[{\"type\":\"surface\",\"colorbar\":{\"outlinewidth\":0,\"ticks\":\"\"},\"colorscale\":[[0.0,\"#0d0887\"],[0.1111111111111111,\"#46039f\"],[0.2222222222222222,\"#7201a8\"],[0.3333333333333333,\"#9c179e\"],[0.4444444444444444,\"#bd3786\"],[0.5555555555555556,\"#d8576b\"],[0.6666666666666666,\"#ed7953\"],[0.7777777777777778,\"#fb9f3a\"],[0.8888888888888888,\"#fdca26\"],[1.0,\"#f0f921\"]]}],\"mesh3d\":[{\"type\":\"mesh3d\",\"colorbar\":{\"outlinewidth\":0,\"ticks\":\"\"}}],\"scatter\":[{\"fillpattern\":{\"fillmode\":\"overlay\",\"size\":10,\"solidity\":0.2},\"type\":\"scatter\"}],\"parcoords\":[{\"type\":\"parcoords\",\"line\":{\"colorbar\":{\"outlinewidth\":0,\"ticks\":\"\"}}}],\"scatterpolargl\":[{\"type\":\"scatterpolargl\",\"marker\":{\"colorbar\":{\"outlinewidth\":0,\"ticks\":\"\"}}}],\"bar\":[{\"error_x\":{\"color\":\"#2a3f5f\"},\"error_y\":{\"color\":\"#2a3f5f\"},\"marker\":{\"line\":{\"color\":\"#E5ECF6\",\"width\":0.5},\"pattern\":{\"fillmode\":\"overlay\",\"size\":10,\"solidity\":0.2}},\"type\":\"bar\"}],\"scattergeo\":[{\"type\":\"scattergeo\",\"marker\":{\"colorbar\":{\"outlinewidth\":0,\"ticks\":\"\"}}}],\"scatterpolar\":[{\"type\":\"scatterpolar\",\"marker\":{\"colorbar\":{\"outlinewidth\":0,\"ticks\":\"\"}}}],\"histogram\":[{\"marker\":{\"pattern\":{\"fillmode\":\"overlay\",\"size\":10,\"solidity\":0.2}},\"type\":\"histogram\"}],\"scattergl\":[{\"type\":\"scattergl\",\"marker\":{\"colorbar\":{\"outlinewidth\":0,\"ticks\":\"\"}}}],\"scatter3d\":[{\"type\":\"scatter3d\",\"line\":{\"colorbar\":{\"outlinewidth\":0,\"ticks\":\"\"}},\"marker\":{\"colorbar\":{\"outlinewidth\":0,\"ticks\":\"\"}}}],\"scattermapbox\":[{\"type\":\"scattermapbox\",\"marker\":{\"colorbar\":{\"outlinewidth\":0,\"ticks\":\"\"}}}],\"scatterternary\":[{\"type\":\"scatterternary\",\"marker\":{\"colorbar\":{\"outlinewidth\":0,\"ticks\":\"\"}}}],\"scattercarpet\":[{\"type\":\"scattercarpet\",\"marker\":{\"colorbar\":{\"outlinewidth\":0,\"ticks\":\"\"}}}],\"carpet\":[{\"aaxis\":{\"endlinecolor\":\"#2a3f5f\",\"gridcolor\":\"white\",\"linecolor\":\"white\",\"minorgridcolor\":\"white\",\"startlinecolor\":\"#2a3f5f\"},\"baxis\":{\"endlinecolor\":\"#2a3f5f\",\"gridcolor\":\"white\",\"linecolor\":\"white\",\"minorgridcolor\":\"white\",\"startlinecolor\":\"#2a3f5f\"},\"type\":\"carpet\"}],\"table\":[{\"cells\":{\"fill\":{\"color\":\"#EBF0F8\"},\"line\":{\"color\":\"white\"}},\"header\":{\"fill\":{\"color\":\"#C8D4E3\"},\"line\":{\"color\":\"white\"}},\"type\":\"table\"}],\"barpolar\":[{\"marker\":{\"line\":{\"color\":\"#E5ECF6\",\"width\":0.5},\"pattern\":{\"fillmode\":\"overlay\",\"size\":10,\"solidity\":0.2}},\"type\":\"barpolar\"}],\"pie\":[{\"automargin\":true,\"type\":\"pie\"}]},\"layout\":{\"autotypenumbers\":\"strict\",\"colorway\":[\"#636efa\",\"#EF553B\",\"#00cc96\",\"#ab63fa\",\"#FFA15A\",\"#19d3f3\",\"#FF6692\",\"#B6E880\",\"#FF97FF\",\"#FECB52\"],\"font\":{\"color\":\"#2a3f5f\"},\"hovermode\":\"closest\",\"hoverlabel\":{\"align\":\"left\"},\"paper_bgcolor\":\"white\",\"plot_bgcolor\":\"#E5ECF6\",\"polar\":{\"bgcolor\":\"#E5ECF6\",\"angularaxis\":{\"gridcolor\":\"white\",\"linecolor\":\"white\",\"ticks\":\"\"},\"radialaxis\":{\"gridcolor\":\"white\",\"linecolor\":\"white\",\"ticks\":\"\"}},\"ternary\":{\"bgcolor\":\"#E5ECF6\",\"aaxis\":{\"gridcolor\":\"white\",\"linecolor\":\"white\",\"ticks\":\"\"},\"baxis\":{\"gridcolor\":\"white\",\"linecolor\":\"white\",\"ticks\":\"\"},\"caxis\":{\"gridcolor\":\"white\",\"linecolor\":\"white\",\"ticks\":\"\"}},\"coloraxis\":{\"colorbar\":{\"outlinewidth\":0,\"ticks\":\"\"}},\"colorscale\":{\"sequential\":[[0.0,\"#0d0887\"],[0.1111111111111111,\"#46039f\"],[0.2222222222222222,\"#7201a8\"],[0.3333333333333333,\"#9c179e\"],[0.4444444444444444,\"#bd3786\"],[0.5555555555555556,\"#d8576b\"],[0.6666666666666666,\"#ed7953\"],[0.7777777777777778,\"#fb9f3a\"],[0.8888888888888888,\"#fdca26\"],[1.0,\"#f0f921\"]],\"sequentialminus\":[[0.0,\"#0d0887\"],[0.1111111111111111,\"#46039f\"],[0.2222222222222222,\"#7201a8\"],[0.3333333333333333,\"#9c179e\"],[0.4444444444444444,\"#bd3786\"],[0.5555555555555556,\"#d8576b\"],[0.6666666666666666,\"#ed7953\"],[0.7777777777777778,\"#fb9f3a\"],[0.8888888888888888,\"#fdca26\"],[1.0,\"#f0f921\"]],\"diverging\":[[0,\"#8e0152\"],[0.1,\"#c51b7d\"],[0.2,\"#de77ae\"],[0.3,\"#f1b6da\"],[0.4,\"#fde0ef\"],[0.5,\"#f7f7f7\"],[0.6,\"#e6f5d0\"],[0.7,\"#b8e186\"],[0.8,\"#7fbc41\"],[0.9,\"#4d9221\"],[1,\"#276419\"]]},\"xaxis\":{\"gridcolor\":\"white\",\"linecolor\":\"white\",\"ticks\":\"\",\"title\":{\"standoff\":15},\"zerolinecolor\":\"white\",\"automargin\":true,\"zerolinewidth\":2},\"yaxis\":{\"gridcolor\":\"white\",\"linecolor\":\"white\",\"ticks\":\"\",\"title\":{\"standoff\":15},\"zerolinecolor\":\"white\",\"automargin\":true,\"zerolinewidth\":2},\"scene\":{\"xaxis\":{\"backgroundcolor\":\"#E5ECF6\",\"gridcolor\":\"white\",\"linecolor\":\"white\",\"showbackground\":true,\"ticks\":\"\",\"zerolinecolor\":\"white\",\"gridwidth\":2},\"yaxis\":{\"backgroundcolor\":\"#E5ECF6\",\"gridcolor\":\"white\",\"linecolor\":\"white\",\"showbackground\":true,\"ticks\":\"\",\"zerolinecolor\":\"white\",\"gridwidth\":2},\"zaxis\":{\"backgroundcolor\":\"#E5ECF6\",\"gridcolor\":\"white\",\"linecolor\":\"white\",\"showbackground\":true,\"ticks\":\"\",\"zerolinecolor\":\"white\",\"gridwidth\":2}},\"shapedefaults\":{\"line\":{\"color\":\"#2a3f5f\"}},\"annotationdefaults\":{\"arrowcolor\":\"#2a3f5f\",\"arrowhead\":0,\"arrowwidth\":1},\"geo\":{\"bgcolor\":\"white\",\"landcolor\":\"#E5ECF6\",\"subunitcolor\":\"white\",\"showland\":true,\"showlakes\":true,\"lakecolor\":\"white\"},\"title\":{\"x\":0.05},\"mapbox\":{\"style\":\"light\"}}},\"legend\":{\"tracegroupgap\":0},\"margin\":{\"t\":60},\"title\":{\"text\":\"SunPie\"},\"height\":700,\"width\":700},                        {\"responsive\": true}                    ).then(function(){\n",
       "                            \n",
       "var gd = document.getElementById('77f1bf23-473e-47e0-8cec-21b64ce3b11d');\n",
       "var x = new MutationObserver(function (mutations, observer) {{\n",
       "        var display = window.getComputedStyle(gd).display;\n",
       "        if (!display || display === 'none') {{\n",
       "            console.log([gd, 'removed!']);\n",
       "            Plotly.purge(gd);\n",
       "            observer.disconnect();\n",
       "        }}\n",
       "}});\n",
       "\n",
       "// Listen for the removal of the full notebook cells\n",
       "var notebookContainer = gd.closest('#notebook-container');\n",
       "if (notebookContainer) {{\n",
       "    x.observe(notebookContainer, {childList: true});\n",
       "}}\n",
       "\n",
       "// Listen for the clearing of the current output cell\n",
       "var outputEl = gd.closest('.output');\n",
       "if (outputEl) {{\n",
       "    x.observe(outputEl, {childList: true});\n",
       "}}\n",
       "\n",
       "                        })                };                });            </script>        </div>"
      ]
     },
     "metadata": {},
     "output_type": "display_data"
    }
   ],
   "source": [
    "fig = px.sunburst(sun_df, path=['OverallQual', 'GarageCars', 'SalePrice' ], values=sun_df['SalePrice'])\n",
    "fig.update_layout(height=700, width=700, title_text=\"SunPie\")\n",
    "fig.show()"
   ]
  },
  {
   "cell_type": "code",
   "execution_count": 33,
   "id": "84a3fd10-13f9-4da0-be84-64177b3ede07",
   "metadata": {},
   "outputs": [],
   "source": [
    "# plot_bars for corr_predictors\n",
    "def plot_bars(predictor_names):\n",
    "    plt.figure(figsize=(20,10))\n",
    "    \n",
    "    for count, predictor in enumerate(predictor_names, start=1):\n",
    "        grouped = train_data.groupby(predictor)['SalePrice'].mean().reset_index()\n",
    "        plt.subplot(2,3,count)\n",
    "        ax = sns.barplot(x = grouped[predictor], y = grouped['SalePrice'])\n",
    "        plt.title(predictor + \" VS SalePrice\", fontdict={'fontsize': 20})\n",
    "\n",
    "    plt.tight_layout(pad=4.0)\n",
    "    plt.show()   "
   ]
  },
  {
   "cell_type": "code",
   "execution_count": 44,
   "id": "b14f7167-ce10-4fb6-8188-07f4ed6e73ba",
   "metadata": {},
   "outputs": [
    {
     "data": {
      "image/png": "[encoded data removed]",
      "text/plain": [
       "<Figure size 1440x720 with 3 Axes>"
      ]
     },
     "metadata": {
      "needs_background": "light"
     },
     "output_type": "display_data"
    }
   ],
   "source": [
    "bar_predictors = ['GarageCars', 'OverallQual', 'OverallCond'] \n",
    "plot_bars(bar_predictors)"
   ]
  },
  {
   "cell_type": "markdown",
   "id": "03af7e8e-66bc-4a11-aef9-8ffa8cb487c8",
   "metadata": {},
   "source": [
    "<div class=\"alert alert-block alert-success\">\n",
    "Comment <strong>here</strong>\n",
    "</div>"
   ]
  },
  {
   "cell_type": "markdown",
   "id": "bac7b6fc-36df-4f28-956a-b769e16d9b94",
   "metadata": {
    "tags": []
   },
   "source": [
    "### Target Variable"
   ]
  },
  {
   "cell_type": "code",
   "execution_count": 65,
   "id": "4f7876e0-9fc2-4912-84ba-ab37b2a7723f",
   "metadata": {},
   "outputs": [],
   "source": [
    "def QQ_plot(data, measure):\n",
    "    fig = plt.figure(figsize=(20,7))\n",
    "\n",
    "    #Get the fitted parameters used by the function\n",
    "    (mu, sigma) = norm.fit(data)\n",
    "\n",
    "    #Kernel Density plot\n",
    "    fig1 = fig.add_subplot(121)\n",
    "    sns.distplot(data, fit=norm)\n",
    "    fig1.set_title(measure + ' Distribution ( mu = {:.2f} and sigma = {:.2f} )'.format(mu, sigma), loc='center')\n",
    "    fig1.set_xlabel(measure)\n",
    "    fig1.set_ylabel('Frequency')\n",
    "\n",
    "    #QQ plot\n",
    "    fig2 = fig.add_subplot(122)\n",
    "    res = stats.probplot(data, plot=fig2)\n",
    "    fig2.set_title(measure + ' Probability Plot (skewness: {:.6f} and kurtosis: {:.6f} )'.format(data.skew(), data.kurt()), loc='center')\n",
    "\n",
    "    plt.tight_layout()\n",
    "    plt.show()"
   ]
  },
  {
   "cell_type": "code",
   "execution_count": 66,
   "id": "81f00fbd-0ed2-4217-83e6-9944d85d65fa",
   "metadata": {},
   "outputs": [
    {
     "name": "stderr",
     "output_type": "stream",
     "text": [
      "C:\\Users\\amiryo\\Anaconda3\\lib\\site-packages\\seaborn\\distributions.py:2619: FutureWarning: `distplot` is a deprecated function and will be removed in a future version. Please adapt your code to use either `displot` (a figure-level function with similar flexibility) or `histplot` (an axes-level function for histograms).\n",
      "  warnings.warn(msg, FutureWarning)\n"
     ]
    },
    {
     "data": {
      "image/png": "[encoded data removed]",
      "text/plain": [
       "<Figure size 1440x504 with 2 Axes>"
      ]
     },
     "metadata": {
      "needs_background": "light"
     },
     "output_type": "display_data"
    }
   ],
   "source": [
    "QQ_plot(target, 'Sales Price')"
   ]
  },
  {
   "cell_type": "markdown",
   "id": "54879ca8-471f-44b0-902b-f8caaae3de34",
   "metadata": {},
   "source": [
    "<div class=\"alert alert-block alert-success\">\n",
    "Comment: <strong>competition loss is RMSLE so we need to log-transform y</strong>\n",
    "</div>"
   ]
  },
  {
   "cell_type": "code",
   "execution_count": 67,
   "id": "a1b1e95b-f1de-4c1b-8a48-541d95c232ee",
   "metadata": {},
   "outputs": [],
   "source": [
    "target = np.log1p(target)"
   ]
  },
  {
   "cell_type": "code",
   "execution_count": 68,
   "id": "6299bb24-ea18-4d50-bfd5-32f9f914d5e9",
   "metadata": {},
   "outputs": [
    {
     "name": "stderr",
     "output_type": "stream",
     "text": [
      "C:\\Users\\amiryo\\Anaconda3\\lib\\site-packages\\seaborn\\distributions.py:2619: FutureWarning: `distplot` is a deprecated function and will be removed in a future version. Please adapt your code to use either `displot` (a figure-level function with similar flexibility) or `histplot` (an axes-level function for histograms).\n",
      "  warnings.warn(msg, FutureWarning)\n"
     ]
    },
    {
     "data": {
      "image/png": "[encoded data removed]",
      "text/plain": [
       "<Figure size 1440x504 with 2 Axes>"
      ]
     },
     "metadata": {
      "needs_background": "light"
     },
     "output_type": "display_data"
    }
   ],
   "source": [
    "QQ_plot(target, 'Sales Price')"
   ]
  },
  {
   "cell_type": "markdown",
   "id": "2e5676b3-d01d-4ba3-8fe6-92b20d2e1192",
   "metadata": {},
   "source": [
    "<div class=\"alert alert-block alert-success\">\n",
    "Comment <strong> </strong>\n",
    "</div>"
   ]
  },
  {
   "cell_type": "markdown",
   "id": "caa74dc9-616c-43d4-a85c-cecc4c1c5d4a",
   "metadata": {},
   "source": [
    "#### SalePrice against OverallQual"
   ]
  },
  {
   "cell_type": "code",
   "execution_count": 69,
   "id": "39dc5a16-f2d9-4bc8-bd57-7e647695c270",
   "metadata": {},
   "outputs": [
    {
     "data": {
      "image/png": "[encoded data removed]",
      "text/plain": [
       "<Figure size 720x360 with 1 Axes>"
      ]
     },
     "metadata": {
      "needs_background": "light"
     },
     "output_type": "display_data"
    },
    {
     "data": {
      "image/png": "[encoded data removed]",
      "text/plain": [
       "<Figure size 720x360 with 1 Axes>"
      ]
     },
     "metadata": {
      "needs_background": "light"
     },
     "output_type": "display_data"
    }
   ],
   "source": [
    "figure = plt.figure(figsize = (10,5))\n",
    "ax = sns.lineplot(x = 'OverallQual', y = 'SalePrice', data = train_data)\n",
    "plt.title(\"SalePrice against OverallQual\", fontdict={'fontsize': 20})\n",
    "plt.xticks(fontsize=20) \n",
    "plt.yticks(fontsize=20) \n",
    "\n",
    "#box plot overallqual/saleprice\n",
    "var = 'OverallQual'\n",
    "data = pd.concat([train_data['SalePrice'], train_data[var]], axis=1)\n",
    "f, ax = plt.subplots(figsize=(10, 5))\n",
    "fig = sns.boxplot(x=var, y=\"SalePrice\", data=data)\n",
    "fig.axis(ymin=0, ymax=800000);\n",
    "plt.xticks(fontsize=20) \n",
    "plt.yticks(fontsize=20)\n",
    "\n",
    "plt.show()"
   ]
  },
  {
   "cell_type": "markdown",
   "id": "9a985a87-ef95-4e05-904b-55c8871040d6",
   "metadata": {},
   "source": [
    "<div class=\"alert alert-block alert-success\">\n",
    "Comment <strong>here</strong>\n",
    "</div>"
   ]
  },
  {
   "cell_type": "markdown",
   "id": "bd8d203d-0c71-4aa7-8f0d-9c057fe5edf3",
   "metadata": {
    "tags": []
   },
   "source": [
    "<table id=Prepering-Data-for-models style=\"width:100%\">\n",
    "<tr><td><h1>Prepering Data for models</h1></td><td><a href=\"#header\"><img src=\"https://30percentclub.org/wp-content/uploads/2021/07/back-to-top-icon-01.svg\" width=\"70\" height=\"70\" align=\"right\"></a></td></tr>\n",
    "</table>"
   ]
  },
  {
   "cell_type": "markdown",
   "id": "1fa4c55c-068f-4b33-be11-72f9ea351664",
   "metadata": {
    "tags": []
   },
   "source": [
    "### Outliers"
   ]
  },
  {
   "cell_type": "code",
   "execution_count": 27,
   "id": "3d6587de-e647-4f1a-8800-0ea90337de4e",
   "metadata": {},
   "outputs": [
    {
     "data": {
      "text/plain": [
       "[1061, 581, 1190, 523, 1298]"
      ]
     },
     "execution_count": 27,
     "metadata": {},
     "output_type": "execute_result"
    }
   ],
   "source": [
    "Outliers = list(set(idxs_GrLivArea+idxs_TotalBsmtSF+idxs_1stFlrSF+idxs_GarageArea))\n",
    "Outliers"
   ]
  },
  {
   "cell_type": "code",
   "execution_count": 28,
   "id": "81ec68b4-0e73-4775-96f8-fa68a2f906e4",
   "metadata": {},
   "outputs": [],
   "source": [
    "# remove categorial features which are highly correlated with other features\n",
    "all_data = all_data.drop(['GarageArea', 'TotRmsAbvGrd', 'GarageYrBlt', '1stFlrSF'], axis=1)"
   ]
  },
  {
   "cell_type": "markdown",
   "id": "869e9b7b-5f8e-4103-aad2-890c0263d60f",
   "metadata": {
    "tags": []
   },
   "source": [
    "### Encoding"
   ]
  },
  {
   "cell_type": "code",
   "execution_count": 29,
   "id": "fa60427d-c3ee-4395-8e66-1ef718c8a33b",
   "metadata": {},
   "outputs": [],
   "source": [
    "# Transforming some numerical variables that are really categorical\n",
    "\n",
    "#MSSubClass=The building class\n",
    "all_data['MSSubClass'] = all_data['MSSubClass'].apply(str)\n",
    "\n",
    "#Year and month sold are transformed into categorical features.\n",
    "all_data['YrSold'] = all_data['YrSold'].astype(str)\n",
    "all_data['MoSold'] = all_data['MoSold'].astype(str)"
   ]
  },
  {
   "cell_type": "markdown",
   "id": "986817df-b0f6-4aaf-8a3b-68036d4d308f",
   "metadata": {},
   "source": [
    "<div class=\"alert alert-block alert-success\">\n",
    "Comment <strong>here</strong>\n",
    "</div>"
   ]
  },
  {
   "cell_type": "code",
   "execution_count": 30,
   "id": "168ef99a-0b46-485a-99ee-6c55af32e275",
   "metadata": {},
   "outputs": [
    {
     "name": "stdout",
     "output_type": "stream",
     "text": [
      "(2919, 75)\n"
     ]
    }
   ],
   "source": [
    "# Label Encoding some categorical variables that may contain information in their ordering set\n",
    "\n",
    "cols = ('FireplaceQu', 'BsmtQual', 'BsmtCond', 'GarageQual', 'GarageCond', \n",
    "        'ExterQual', 'ExterCond','HeatingQC', 'PoolQC', 'KitchenQual', 'BsmtFinType1', \n",
    "        'BsmtFinType2', 'Functional', 'Fence', 'BsmtExposure', 'GarageFinish', 'LandSlope',\n",
    "        'LotShape', 'PavedDrive', 'Street', 'Alley', 'CentralAir', 'MSSubClass', 'OverallCond', \n",
    "        'YrSold', 'MoSold', 'OverallCond')\n",
    "# process columns, apply LabelEncoder to categorical features\n",
    "for c in cols:\n",
    "    lbl = LabelEncoder() \n",
    "    lbl.fit(list(all_data[c].values)) \n",
    "    all_data[c] = lbl.transform(list(all_data[c].values))\n",
    "\n",
    "# shape        \n",
    "print(all_data.shape)"
   ]
  },
  {
   "cell_type": "code",
   "execution_count": 31,
   "id": "25adb58c-3d1c-490a-a08c-28ced7040a09",
   "metadata": {},
   "outputs": [],
   "source": [
    "#Adding one more important feature\n",
    "#Since area related features are very important to determine house prices, we add one more feature which is the total area of basement, first and second floor areas of each house\n",
    "# Adding total TotalSF feature \n",
    "all_data['TotalSF'] = all_data['TotalBsmtSF'] + all_data['GrLivArea']"
   ]
  },
  {
   "cell_type": "code",
   "execution_count": 32,
   "id": "01d5d01c-e064-4e0b-b8d7-533d3c8e6419",
   "metadata": {},
   "outputs": [
    {
     "name": "stdout",
     "output_type": "stream",
     "text": [
      "(2919, 218)\n"
     ]
    }
   ],
   "source": [
    "all_data = pd.get_dummies(all_data)\n",
    "print(all_data.shape)"
   ]
  },
  {
   "cell_type": "markdown",
   "id": "060db891-a742-4764-b623-d994b6297caa",
   "metadata": {},
   "source": [
    "### Splitting the data"
   ]
  },
  {
   "cell_type": "code",
   "execution_count": 33,
   "id": "9fce02d3-1cdd-4538-8c16-4636d5f7b61d",
   "metadata": {},
   "outputs": [
    {
     "name": "stdout",
     "output_type": "stream",
     "text": [
      "(1460, 218) (1459, 218)\n"
     ]
    }
   ],
   "source": [
    "ntest = test_data.shape[0]+1 #number of rows in test data\n",
    "train = all_data.iloc[:ntest, :]\n",
    "test = all_data.iloc[ntest:, :]\n",
    "print(train.shape, test.shape)"
   ]
  },
  {
   "cell_type": "code",
   "execution_count": 34,
   "id": "1ffc59aa-b58d-49dd-b123-6377f2df777e",
   "metadata": {},
   "outputs": [],
   "source": [
    "train = train.drop(Outliers)\n",
    "target = target.drop(Outliers)"
   ]
  },
  {
   "cell_type": "code",
   "execution_count": 35,
   "id": "a0565873-de3d-45fa-bbe4-a88979b088bf",
   "metadata": {},
   "outputs": [],
   "source": [
    "#removing 'Id' column which is just the DB table index\n",
    "train = train.drop('Id',axis=1) \n",
    "test_Ids = test_data['Id']\n",
    "test = test.drop('Id',axis=1) "
   ]
  },
  {
   "cell_type": "code",
   "execution_count": 36,
   "id": "e603bbe6-0eb6-420c-a556-d4be542173e9",
   "metadata": {},
   "outputs": [],
   "source": [
    "feature_names = train.columns"
   ]
  },
  {
   "cell_type": "code",
   "execution_count": 37,
   "id": "23339325-a72e-4bfa-a181-0df9751389c4",
   "metadata": {},
   "outputs": [],
   "source": [
    "X_train, X_validate, y_train, y_validate = train_test_split(train,target,test_size=0.3,random_state=0)"
   ]
  },
  {
   "cell_type": "code",
   "execution_count": 38,
   "id": "c854ebbb-a214-4fd0-85ee-91915d1a544f",
   "metadata": {},
   "outputs": [
    {
     "data": {
      "text/html": [
       "<div>\n",
       "<style scoped>\n",
       "    .dataframe tbody tr th:only-of-type {\n",
       "        vertical-align: middle;\n",
       "    }\n",
       "\n",
       "    .dataframe tbody tr th {\n",
       "        vertical-align: top;\n",
       "    }\n",
       "\n",
       "    .dataframe thead th {\n",
       "        text-align: right;\n",
       "    }\n",
       "</style>\n",
       "<table border=\"1\" class=\"dataframe\">\n",
       "  <thead>\n",
       "    <tr style=\"text-align: right;\">\n",
       "      <th></th>\n",
       "      <th>MSSubClass</th>\n",
       "      <th>LotFrontage</th>\n",
       "      <th>LotArea</th>\n",
       "      <th>Street</th>\n",
       "      <th>Alley</th>\n",
       "      <th>LotShape</th>\n",
       "      <th>LandSlope</th>\n",
       "      <th>OverallQual</th>\n",
       "      <th>OverallCond</th>\n",
       "      <th>YearBuilt</th>\n",
       "      <th>...</th>\n",
       "      <th>SaleType_ConLw</th>\n",
       "      <th>SaleType_New</th>\n",
       "      <th>SaleType_Oth</th>\n",
       "      <th>SaleType_WD</th>\n",
       "      <th>SaleCondition_Abnorml</th>\n",
       "      <th>SaleCondition_AdjLand</th>\n",
       "      <th>SaleCondition_Alloca</th>\n",
       "      <th>SaleCondition_Family</th>\n",
       "      <th>SaleCondition_Normal</th>\n",
       "      <th>SaleCondition_Partial</th>\n",
       "    </tr>\n",
       "  </thead>\n",
       "  <tbody>\n",
       "    <tr>\n",
       "      <th>1226</th>\n",
       "      <td>10</td>\n",
       "      <td>86.0</td>\n",
       "      <td>14598</td>\n",
       "      <td>1</td>\n",
       "      <td>1</td>\n",
       "      <td>0</td>\n",
       "      <td>0</td>\n",
       "      <td>6</td>\n",
       "      <td>4</td>\n",
       "      <td>2007</td>\n",
       "      <td>...</td>\n",
       "      <td>0</td>\n",
       "      <td>0</td>\n",
       "      <td>0</td>\n",
       "      <td>1</td>\n",
       "      <td>0</td>\n",
       "      <td>0</td>\n",
       "      <td>0</td>\n",
       "      <td>0</td>\n",
       "      <td>1</td>\n",
       "      <td>0</td>\n",
       "    </tr>\n",
       "    <tr>\n",
       "      <th>520</th>\n",
       "      <td>4</td>\n",
       "      <td>60.0</td>\n",
       "      <td>10800</td>\n",
       "      <td>1</td>\n",
       "      <td>0</td>\n",
       "      <td>3</td>\n",
       "      <td>0</td>\n",
       "      <td>4</td>\n",
       "      <td>6</td>\n",
       "      <td>1900</td>\n",
       "      <td>...</td>\n",
       "      <td>0</td>\n",
       "      <td>0</td>\n",
       "      <td>0</td>\n",
       "      <td>1</td>\n",
       "      <td>0</td>\n",
       "      <td>0</td>\n",
       "      <td>0</td>\n",
       "      <td>0</td>\n",
       "      <td>1</td>\n",
       "      <td>0</td>\n",
       "    </tr>\n",
       "    <tr>\n",
       "      <th>1399</th>\n",
       "      <td>9</td>\n",
       "      <td>51.0</td>\n",
       "      <td>6171</td>\n",
       "      <td>1</td>\n",
       "      <td>1</td>\n",
       "      <td>3</td>\n",
       "      <td>0</td>\n",
       "      <td>6</td>\n",
       "      <td>5</td>\n",
       "      <td>1925</td>\n",
       "      <td>...</td>\n",
       "      <td>0</td>\n",
       "      <td>0</td>\n",
       "      <td>0</td>\n",
       "      <td>1</td>\n",
       "      <td>0</td>\n",
       "      <td>0</td>\n",
       "      <td>0</td>\n",
       "      <td>0</td>\n",
       "      <td>1</td>\n",
       "      <td>0</td>\n",
       "    </tr>\n",
       "    <tr>\n",
       "      <th>1395</th>\n",
       "      <td>10</td>\n",
       "      <td>88.0</td>\n",
       "      <td>12665</td>\n",
       "      <td>1</td>\n",
       "      <td>1</td>\n",
       "      <td>0</td>\n",
       "      <td>0</td>\n",
       "      <td>8</td>\n",
       "      <td>4</td>\n",
       "      <td>2005</td>\n",
       "      <td>...</td>\n",
       "      <td>0</td>\n",
       "      <td>0</td>\n",
       "      <td>0</td>\n",
       "      <td>1</td>\n",
       "      <td>0</td>\n",
       "      <td>0</td>\n",
       "      <td>0</td>\n",
       "      <td>0</td>\n",
       "      <td>1</td>\n",
       "      <td>0</td>\n",
       "    </tr>\n",
       "    <tr>\n",
       "      <th>726</th>\n",
       "      <td>5</td>\n",
       "      <td>70.0</td>\n",
       "      <td>21695</td>\n",
       "      <td>1</td>\n",
       "      <td>1</td>\n",
       "      <td>0</td>\n",
       "      <td>0</td>\n",
       "      <td>6</td>\n",
       "      <td>8</td>\n",
       "      <td>1988</td>\n",
       "      <td>...</td>\n",
       "      <td>0</td>\n",
       "      <td>0</td>\n",
       "      <td>0</td>\n",
       "      <td>1</td>\n",
       "      <td>0</td>\n",
       "      <td>0</td>\n",
       "      <td>0</td>\n",
       "      <td>0</td>\n",
       "      <td>1</td>\n",
       "      <td>0</td>\n",
       "    </tr>\n",
       "    <tr>\n",
       "      <th>...</th>\n",
       "      <td>...</td>\n",
       "      <td>...</td>\n",
       "      <td>...</td>\n",
       "      <td>...</td>\n",
       "      <td>...</td>\n",
       "      <td>...</td>\n",
       "      <td>...</td>\n",
       "      <td>...</td>\n",
       "      <td>...</td>\n",
       "      <td>...</td>\n",
       "      <td>...</td>\n",
       "      <td>...</td>\n",
       "      <td>...</td>\n",
       "      <td>...</td>\n",
       "      <td>...</td>\n",
       "      <td>...</td>\n",
       "      <td>...</td>\n",
       "      <td>...</td>\n",
       "      <td>...</td>\n",
       "      <td>...</td>\n",
       "      <td>...</td>\n",
       "    </tr>\n",
       "    <tr>\n",
       "      <th>765</th>\n",
       "      <td>5</td>\n",
       "      <td>75.0</td>\n",
       "      <td>14587</td>\n",
       "      <td>1</td>\n",
       "      <td>1</td>\n",
       "      <td>0</td>\n",
       "      <td>0</td>\n",
       "      <td>9</td>\n",
       "      <td>4</td>\n",
       "      <td>2008</td>\n",
       "      <td>...</td>\n",
       "      <td>0</td>\n",
       "      <td>1</td>\n",
       "      <td>0</td>\n",
       "      <td>0</td>\n",
       "      <td>0</td>\n",
       "      <td>0</td>\n",
       "      <td>0</td>\n",
       "      <td>0</td>\n",
       "      <td>0</td>\n",
       "      <td>1</td>\n",
       "    </tr>\n",
       "    <tr>\n",
       "      <th>837</th>\n",
       "      <td>2</td>\n",
       "      <td>21.0</td>\n",
       "      <td>1680</td>\n",
       "      <td>1</td>\n",
       "      <td>1</td>\n",
       "      <td>3</td>\n",
       "      <td>0</td>\n",
       "      <td>6</td>\n",
       "      <td>4</td>\n",
       "      <td>1973</td>\n",
       "      <td>...</td>\n",
       "      <td>0</td>\n",
       "      <td>0</td>\n",
       "      <td>0</td>\n",
       "      <td>1</td>\n",
       "      <td>0</td>\n",
       "      <td>0</td>\n",
       "      <td>0</td>\n",
       "      <td>0</td>\n",
       "      <td>1</td>\n",
       "      <td>0</td>\n",
       "    </tr>\n",
       "    <tr>\n",
       "      <th>1220</th>\n",
       "      <td>5</td>\n",
       "      <td>66.0</td>\n",
       "      <td>7800</td>\n",
       "      <td>1</td>\n",
       "      <td>1</td>\n",
       "      <td>0</td>\n",
       "      <td>0</td>\n",
       "      <td>5</td>\n",
       "      <td>4</td>\n",
       "      <td>1964</td>\n",
       "      <td>...</td>\n",
       "      <td>0</td>\n",
       "      <td>0</td>\n",
       "      <td>0</td>\n",
       "      <td>1</td>\n",
       "      <td>1</td>\n",
       "      <td>0</td>\n",
       "      <td>0</td>\n",
       "      <td>0</td>\n",
       "      <td>0</td>\n",
       "      <td>0</td>\n",
       "    </tr>\n",
       "    <tr>\n",
       "      <th>560</th>\n",
       "      <td>5</td>\n",
       "      <td>72.0</td>\n",
       "      <td>11341</td>\n",
       "      <td>1</td>\n",
       "      <td>1</td>\n",
       "      <td>0</td>\n",
       "      <td>0</td>\n",
       "      <td>5</td>\n",
       "      <td>5</td>\n",
       "      <td>1957</td>\n",
       "      <td>...</td>\n",
       "      <td>0</td>\n",
       "      <td>0</td>\n",
       "      <td>0</td>\n",
       "      <td>1</td>\n",
       "      <td>0</td>\n",
       "      <td>0</td>\n",
       "      <td>0</td>\n",
       "      <td>0</td>\n",
       "      <td>1</td>\n",
       "      <td>0</td>\n",
       "    </tr>\n",
       "    <tr>\n",
       "      <th>686</th>\n",
       "      <td>10</td>\n",
       "      <td>84.0</td>\n",
       "      <td>10207</td>\n",
       "      <td>1</td>\n",
       "      <td>1</td>\n",
       "      <td>3</td>\n",
       "      <td>0</td>\n",
       "      <td>7</td>\n",
       "      <td>5</td>\n",
       "      <td>2007</td>\n",
       "      <td>...</td>\n",
       "      <td>0</td>\n",
       "      <td>1</td>\n",
       "      <td>0</td>\n",
       "      <td>0</td>\n",
       "      <td>0</td>\n",
       "      <td>0</td>\n",
       "      <td>0</td>\n",
       "      <td>0</td>\n",
       "      <td>0</td>\n",
       "      <td>1</td>\n",
       "    </tr>\n",
       "  </tbody>\n",
       "</table>\n",
       "<p>1018 rows × 217 columns</p>\n",
       "</div>"
      ],
      "text/plain": [
       "      MSSubClass  LotFrontage  LotArea  Street  Alley  LotShape  LandSlope  \\\n",
       "1226          10         86.0    14598       1      1         0          0   \n",
       "520            4         60.0    10800       1      0         3          0   \n",
       "1399           9         51.0     6171       1      1         3          0   \n",
       "1395          10         88.0    12665       1      1         0          0   \n",
       "726            5         70.0    21695       1      1         0          0   \n",
       "...          ...          ...      ...     ...    ...       ...        ...   \n",
       "765            5         75.0    14587       1      1         0          0   \n",
       "837            2         21.0     1680       1      1         3          0   \n",
       "1220           5         66.0     7800       1      1         0          0   \n",
       "560            5         72.0    11341       1      1         0          0   \n",
       "686           10         84.0    10207       1      1         3          0   \n",
       "\n",
       "      OverallQual  OverallCond  YearBuilt  ...  SaleType_ConLw  SaleType_New  \\\n",
       "1226            6            4       2007  ...               0             0   \n",
       "520             4            6       1900  ...               0             0   \n",
       "1399            6            5       1925  ...               0             0   \n",
       "1395            8            4       2005  ...               0             0   \n",
       "726             6            8       1988  ...               0             0   \n",
       "...           ...          ...        ...  ...             ...           ...   \n",
       "765             9            4       2008  ...               0             1   \n",
       "837             6            4       1973  ...               0             0   \n",
       "1220            5            4       1964  ...               0             0   \n",
       "560             5            5       1957  ...               0             0   \n",
       "686             7            5       2007  ...               0             1   \n",
       "\n",
       "      SaleType_Oth  SaleType_WD  SaleCondition_Abnorml  SaleCondition_AdjLand  \\\n",
       "1226             0            1                      0                      0   \n",
       "520              0            1                      0                      0   \n",
       "1399             0            1                      0                      0   \n",
       "1395             0            1                      0                      0   \n",
       "726              0            1                      0                      0   \n",
       "...            ...          ...                    ...                    ...   \n",
       "765              0            0                      0                      0   \n",
       "837              0            1                      0                      0   \n",
       "1220             0            1                      1                      0   \n",
       "560              0            1                      0                      0   \n",
       "686              0            0                      0                      0   \n",
       "\n",
       "      SaleCondition_Alloca  SaleCondition_Family  SaleCondition_Normal  \\\n",
       "1226                     0                     0                     1   \n",
       "520                      0                     0                     1   \n",
       "1399                     0                     0                     1   \n",
       "1395                     0                     0                     1   \n",
       "726                      0                     0                     1   \n",
       "...                    ...                   ...                   ...   \n",
       "765                      0                     0                     0   \n",
       "837                      0                     0                     1   \n",
       "1220                     0                     0                     0   \n",
       "560                      0                     0                     1   \n",
       "686                      0                     0                     0   \n",
       "\n",
       "      SaleCondition_Partial  \n",
       "1226                      0  \n",
       "520                       0  \n",
       "1399                      0  \n",
       "1395                      0  \n",
       "726                       0  \n",
       "...                     ...  \n",
       "765                       1  \n",
       "837                       0  \n",
       "1220                      0  \n",
       "560                       0  \n",
       "686                       1  \n",
       "\n",
       "[1018 rows x 217 columns]"
      ]
     },
     "execution_count": 38,
     "metadata": {},
     "output_type": "execute_result"
    }
   ],
   "source": [
    "X_train"
   ]
  },
  {
   "cell_type": "markdown",
   "id": "1dfc63bf-ecf0-48f8-b39c-4da28968e47f",
   "metadata": {
    "tags": []
   },
   "source": [
    "<table id=-Feature-Selection style=\"width:100%\">\n",
    "<tr><td><h1>Feature Selection</h1></td><td><a href=\"#header\"><img src=\"https://30percentclub.org/wp-content/uploads/2021/07/back-to-top-icon-01.svg\" width=\"70\" height=\"70\" align=\"right\"></a></td></tr>\n",
    "</table>"
   ]
  },
  {
   "cell_type": "markdown",
   "id": "a25f30f0-9188-4aba-878d-5e20aac47a51",
   "metadata": {
    "tags": []
   },
   "source": [
    "### Ridge"
   ]
  },
  {
   "cell_type": "code",
   "execution_count": 39,
   "id": "686399ad-b5d3-4f01-bd16-55fa2adc55b9",
   "metadata": {},
   "outputs": [],
   "source": [
    "model = make_pipeline(StandardScaler(), SGDRegressor(penalty='l2', random_state=0))\n",
    "alpha_space = {'alpha': uniform(0, 1)}\n",
    "alphas = []\n",
    "for i in range(30):\n",
    "    ridge_cv = RandomizedSearchCV(model[1], alpha_space, cv=5)\n",
    "    ridge_cv.fit(X_train, y_train)\n",
    "    alphas.append(ridge_cv.best_params_['alpha'])"
   ]
  },
  {
   "cell_type": "code",
   "execution_count": 40,
   "id": "38af226f-67fc-4ba9-bf74-d99c61e19c8c",
   "metadata": {},
   "outputs": [
    {
     "data": {
      "text/plain": [
       "0.5198386855371641"
      ]
     },
     "execution_count": 40,
     "metadata": {},
     "output_type": "execute_result"
    }
   ],
   "source": [
    "ridge_best_alpha = np.array(alphas).mean()\n",
    "ridge_best_alpha"
   ]
  },
  {
   "cell_type": "code",
   "execution_count": 41,
   "id": "f0d4a61d-a474-4f40-8944-1820e590fd29",
   "metadata": {},
   "outputs": [
    {
     "data": {
      "image/png": "[encoded data removed]",
      "text/plain": [
       "<Figure size 720x720 with 1 Axes>"
      ]
     },
     "metadata": {
      "needs_background": "light"
     },
     "output_type": "display_data"
    }
   ],
   "source": [
    "# Train a Ridge Regression model\n",
    "ridge = make_pipeline(StandardScaler(), SGDRegressor(penalty='l2', alpha=ridge_best_alpha, random_state=0))\n",
    "ridge.fit(X_train, y_train)\n",
    "\n",
    "# Plot the feature importances\n",
    "coef = ridge[1].coef_\n",
    "importance = np.abs(coef)\n",
    "sorted_idx = np.argsort(importance)[-50:]  # select the top 50 largest coefficients\n",
    "\n",
    "plt.figure(figsize=(10, 10))  \n",
    "plt.barh(range(len(sorted_idx)), importance[sorted_idx])\n",
    "plt.yticks(range(len(sorted_idx)), np.array(feature_names)[sorted_idx])\n",
    "plt.xlabel(\"Feature Importance\")\n",
    "plt.ylabel(\"Feature\")\n",
    "plt.title(\"Ridge Regression Feature Importance (Top 50)\")\n",
    "plt.show()"
   ]
  },
  {
   "cell_type": "code",
   "execution_count": 42,
   "id": "6fbfa362-3988-45d6-bde7-e18db3a3d951",
   "metadata": {},
   "outputs": [
    {
     "data": {
      "text/plain": [
       "array(['TotalSF', 'GrLivArea', 'OverallQual', 'TotalBsmtSF', 'GarageCars',\n",
       "       'OverallCond', 'BsmtFinSF1', 'FullBath', 'MSZoning_C (all)',\n",
       "       'Fireplaces', 'Neighborhood_Crawfor', 'KitchenQual', 'BsmtQual',\n",
       "       'CentralAir', 'YearRemodAdd', '2ndFlrSF', 'LotFrontage', 'LotArea',\n",
       "       'Neighborhood_MeadowV', 'Neighborhood_StoneBr', 'ScreenPorch',\n",
       "       'ExterQual', 'BsmtFullBath', 'WoodDeckSF', 'HalfBath', 'YearBuilt',\n",
       "       'SaleCondition_Abnorml', 'HeatingQC', 'Neighborhood_NoRidge',\n",
       "       'Neighborhood_Edwards', 'RoofMatl_WdShngl', 'Exterior1st_BrkFace',\n",
       "       'MasVnrArea', 'Neighborhood_NridgHt', 'Foundation_PConc',\n",
       "       'ExterCond', 'OpenPorchSF', 'Functional', 'GarageType_None',\n",
       "       'BedroomAbvGr', 'BldgType_Twnhs', 'GarageCond', 'MSZoning_RM',\n",
       "       'MSZoning_RL', 'BsmtFinType1', 'LotConfig_CulDSac',\n",
       "       'Exterior1st_Wd Sdng', 'MasVnrType_Stone', 'SaleCondition_Alloca',\n",
       "       'BldgType_1Fam'], dtype=object)"
      ]
     },
     "execution_count": 42,
     "metadata": {},
     "output_type": "execute_result"
    }
   ],
   "source": [
    "ridge_most = np.array(feature_names)[sorted_idx][::-1]\n",
    "ridge_most"
   ]
  },
  {
   "cell_type": "markdown",
   "id": "27e96bcd-a296-4c7d-ae35-d12089b2122e",
   "metadata": {},
   "source": [
    "### Lasso"
   ]
  },
  {
   "cell_type": "code",
   "execution_count": 43,
   "id": "c009051c-28a6-4f75-adaa-cfb04733d696",
   "metadata": {},
   "outputs": [
    {
     "ename": "KeyboardInterrupt",
     "evalue": "",
     "output_type": "error",
     "traceback": [
      "\u001b[1;31m---------------------------------------------------------------------------\u001b[0m",
      "\u001b[1;31mKeyboardInterrupt\u001b[0m                         Traceback (most recent call last)",
      "Input \u001b[1;32mIn [43]\u001b[0m, in \u001b[0;36m<cell line: 5>\u001b[1;34m()\u001b[0m\n\u001b[0;32m      5\u001b[0m \u001b[38;5;28;01mfor\u001b[39;00m i \u001b[38;5;129;01min\u001b[39;00m \u001b[38;5;28mrange\u001b[39m(\u001b[38;5;241m30\u001b[39m):\n\u001b[0;32m      6\u001b[0m     lasso_cv \u001b[38;5;241m=\u001b[39m RandomizedSearchCV(model[\u001b[38;5;241m1\u001b[39m], alpha_space, cv\u001b[38;5;241m=\u001b[39m\u001b[38;5;241m5\u001b[39m)\n\u001b[1;32m----> 7\u001b[0m     \u001b[43mlasso_cv\u001b[49m\u001b[38;5;241;43m.\u001b[39;49m\u001b[43mfit\u001b[49m\u001b[43m(\u001b[49m\u001b[43mX_train\u001b[49m\u001b[43m,\u001b[49m\u001b[43m \u001b[49m\u001b[43my_train\u001b[49m\u001b[43m)\u001b[49m\n\u001b[0;32m      8\u001b[0m     alphas\u001b[38;5;241m.\u001b[39mappend(lasso_cv\u001b[38;5;241m.\u001b[39mbest_params_[\u001b[38;5;124m'\u001b[39m\u001b[38;5;124malpha\u001b[39m\u001b[38;5;124m'\u001b[39m])\n",
      "File \u001b[1;32m~\\Anaconda3\\lib\\site-packages\\sklearn\\model_selection\\_search.py:891\u001b[0m, in \u001b[0;36mBaseSearchCV.fit\u001b[1;34m(self, X, y, groups, **fit_params)\u001b[0m\n\u001b[0;32m    885\u001b[0m     results \u001b[38;5;241m=\u001b[39m \u001b[38;5;28mself\u001b[39m\u001b[38;5;241m.\u001b[39m_format_results(\n\u001b[0;32m    886\u001b[0m         all_candidate_params, n_splits, all_out, all_more_results\n\u001b[0;32m    887\u001b[0m     )\n\u001b[0;32m    889\u001b[0m     \u001b[38;5;28;01mreturn\u001b[39;00m results\n\u001b[1;32m--> 891\u001b[0m \u001b[38;5;28;43mself\u001b[39;49m\u001b[38;5;241;43m.\u001b[39;49m\u001b[43m_run_search\u001b[49m\u001b[43m(\u001b[49m\u001b[43mevaluate_candidates\u001b[49m\u001b[43m)\u001b[49m\n\u001b[0;32m    893\u001b[0m \u001b[38;5;66;03m# multimetric is determined here because in the case of a callable\u001b[39;00m\n\u001b[0;32m    894\u001b[0m \u001b[38;5;66;03m# self.scoring the return type is only known after calling\u001b[39;00m\n\u001b[0;32m    895\u001b[0m first_test_score \u001b[38;5;241m=\u001b[39m all_out[\u001b[38;5;241m0\u001b[39m][\u001b[38;5;124m\"\u001b[39m\u001b[38;5;124mtest_scores\u001b[39m\u001b[38;5;124m\"\u001b[39m]\n",
      "File \u001b[1;32m~\\Anaconda3\\lib\\site-packages\\sklearn\\model_selection\\_search.py:1766\u001b[0m, in \u001b[0;36mRandomizedSearchCV._run_search\u001b[1;34m(self, evaluate_candidates)\u001b[0m\n\u001b[0;32m   1764\u001b[0m \u001b[38;5;28;01mdef\u001b[39;00m \u001b[38;5;21m_run_search\u001b[39m(\u001b[38;5;28mself\u001b[39m, evaluate_candidates):\n\u001b[0;32m   1765\u001b[0m     \u001b[38;5;124;03m\"\"\"Search n_iter candidates from param_distributions\"\"\"\u001b[39;00m\n\u001b[1;32m-> 1766\u001b[0m     \u001b[43mevaluate_candidates\u001b[49m\u001b[43m(\u001b[49m\n\u001b[0;32m   1767\u001b[0m \u001b[43m        \u001b[49m\u001b[43mParameterSampler\u001b[49m\u001b[43m(\u001b[49m\n\u001b[0;32m   1768\u001b[0m \u001b[43m            \u001b[49m\u001b[38;5;28;43mself\u001b[39;49m\u001b[38;5;241;43m.\u001b[39;49m\u001b[43mparam_distributions\u001b[49m\u001b[43m,\u001b[49m\u001b[43m \u001b[49m\u001b[38;5;28;43mself\u001b[39;49m\u001b[38;5;241;43m.\u001b[39;49m\u001b[43mn_iter\u001b[49m\u001b[43m,\u001b[49m\u001b[43m \u001b[49m\u001b[43mrandom_state\u001b[49m\u001b[38;5;241;43m=\u001b[39;49m\u001b[38;5;28;43mself\u001b[39;49m\u001b[38;5;241;43m.\u001b[39;49m\u001b[43mrandom_state\u001b[49m\n\u001b[0;32m   1769\u001b[0m \u001b[43m        \u001b[49m\u001b[43m)\u001b[49m\n\u001b[0;32m   1770\u001b[0m \u001b[43m    \u001b[49m\u001b[43m)\u001b[49m\n",
      "File \u001b[1;32m~\\Anaconda3\\lib\\site-packages\\sklearn\\model_selection\\_search.py:838\u001b[0m, in \u001b[0;36mBaseSearchCV.fit.<locals>.evaluate_candidates\u001b[1;34m(candidate_params, cv, more_results)\u001b[0m\n\u001b[0;32m    830\u001b[0m \u001b[38;5;28;01mif\u001b[39;00m \u001b[38;5;28mself\u001b[39m\u001b[38;5;241m.\u001b[39mverbose \u001b[38;5;241m>\u001b[39m \u001b[38;5;241m0\u001b[39m:\n\u001b[0;32m    831\u001b[0m     \u001b[38;5;28mprint\u001b[39m(\n\u001b[0;32m    832\u001b[0m         \u001b[38;5;124m\"\u001b[39m\u001b[38;5;124mFitting \u001b[39m\u001b[38;5;132;01m{0}\u001b[39;00m\u001b[38;5;124m folds for each of \u001b[39m\u001b[38;5;132;01m{1}\u001b[39;00m\u001b[38;5;124m candidates,\u001b[39m\u001b[38;5;124m\"\u001b[39m\n\u001b[0;32m    833\u001b[0m         \u001b[38;5;124m\"\u001b[39m\u001b[38;5;124m totalling \u001b[39m\u001b[38;5;132;01m{2}\u001b[39;00m\u001b[38;5;124m fits\u001b[39m\u001b[38;5;124m\"\u001b[39m\u001b[38;5;241m.\u001b[39mformat(\n\u001b[0;32m    834\u001b[0m             n_splits, n_candidates, n_candidates \u001b[38;5;241m*\u001b[39m n_splits\n\u001b[0;32m    835\u001b[0m         )\n\u001b[0;32m    836\u001b[0m     )\n\u001b[1;32m--> 838\u001b[0m out \u001b[38;5;241m=\u001b[39m \u001b[43mparallel\u001b[49m\u001b[43m(\u001b[49m\n\u001b[0;32m    839\u001b[0m \u001b[43m    \u001b[49m\u001b[43mdelayed\u001b[49m\u001b[43m(\u001b[49m\u001b[43m_fit_and_score\u001b[49m\u001b[43m)\u001b[49m\u001b[43m(\u001b[49m\n\u001b[0;32m    840\u001b[0m \u001b[43m        \u001b[49m\u001b[43mclone\u001b[49m\u001b[43m(\u001b[49m\u001b[43mbase_estimator\u001b[49m\u001b[43m)\u001b[49m\u001b[43m,\u001b[49m\n\u001b[0;32m    841\u001b[0m \u001b[43m        \u001b[49m\u001b[43mX\u001b[49m\u001b[43m,\u001b[49m\n\u001b[0;32m    842\u001b[0m \u001b[43m        \u001b[49m\u001b[43my\u001b[49m\u001b[43m,\u001b[49m\n\u001b[0;32m    843\u001b[0m \u001b[43m        \u001b[49m\u001b[43mtrain\u001b[49m\u001b[38;5;241;43m=\u001b[39;49m\u001b[43mtrain\u001b[49m\u001b[43m,\u001b[49m\n\u001b[0;32m    844\u001b[0m \u001b[43m        \u001b[49m\u001b[43mtest\u001b[49m\u001b[38;5;241;43m=\u001b[39;49m\u001b[43mtest\u001b[49m\u001b[43m,\u001b[49m\n\u001b[0;32m    845\u001b[0m \u001b[43m        \u001b[49m\u001b[43mparameters\u001b[49m\u001b[38;5;241;43m=\u001b[39;49m\u001b[43mparameters\u001b[49m\u001b[43m,\u001b[49m\n\u001b[0;32m    846\u001b[0m \u001b[43m        \u001b[49m\u001b[43msplit_progress\u001b[49m\u001b[38;5;241;43m=\u001b[39;49m\u001b[43m(\u001b[49m\u001b[43msplit_idx\u001b[49m\u001b[43m,\u001b[49m\u001b[43m \u001b[49m\u001b[43mn_splits\u001b[49m\u001b[43m)\u001b[49m\u001b[43m,\u001b[49m\n\u001b[0;32m    847\u001b[0m \u001b[43m        \u001b[49m\u001b[43mcandidate_progress\u001b[49m\u001b[38;5;241;43m=\u001b[39;49m\u001b[43m(\u001b[49m\u001b[43mcand_idx\u001b[49m\u001b[43m,\u001b[49m\u001b[43m \u001b[49m\u001b[43mn_candidates\u001b[49m\u001b[43m)\u001b[49m\u001b[43m,\u001b[49m\n\u001b[0;32m    848\u001b[0m \u001b[43m        \u001b[49m\u001b[38;5;241;43m*\u001b[39;49m\u001b[38;5;241;43m*\u001b[39;49m\u001b[43mfit_and_score_kwargs\u001b[49m\u001b[43m,\u001b[49m\n\u001b[0;32m    849\u001b[0m \u001b[43m    \u001b[49m\u001b[43m)\u001b[49m\n\u001b[0;32m    850\u001b[0m \u001b[43m    \u001b[49m\u001b[38;5;28;43;01mfor\u001b[39;49;00m\u001b[43m \u001b[49m\u001b[43m(\u001b[49m\u001b[43mcand_idx\u001b[49m\u001b[43m,\u001b[49m\u001b[43m \u001b[49m\u001b[43mparameters\u001b[49m\u001b[43m)\u001b[49m\u001b[43m,\u001b[49m\u001b[43m \u001b[49m\u001b[43m(\u001b[49m\u001b[43msplit_idx\u001b[49m\u001b[43m,\u001b[49m\u001b[43m \u001b[49m\u001b[43m(\u001b[49m\u001b[43mtrain\u001b[49m\u001b[43m,\u001b[49m\u001b[43m \u001b[49m\u001b[43mtest\u001b[49m\u001b[43m)\u001b[49m\u001b[43m)\u001b[49m\u001b[43m \u001b[49m\u001b[38;5;129;43;01min\u001b[39;49;00m\u001b[43m \u001b[49m\u001b[43mproduct\u001b[49m\u001b[43m(\u001b[49m\n\u001b[0;32m    851\u001b[0m \u001b[43m        \u001b[49m\u001b[38;5;28;43menumerate\u001b[39;49m\u001b[43m(\u001b[49m\u001b[43mcandidate_params\u001b[49m\u001b[43m)\u001b[49m\u001b[43m,\u001b[49m\u001b[43m \u001b[49m\u001b[38;5;28;43menumerate\u001b[39;49m\u001b[43m(\u001b[49m\u001b[43mcv\u001b[49m\u001b[38;5;241;43m.\u001b[39;49m\u001b[43msplit\u001b[49m\u001b[43m(\u001b[49m\u001b[43mX\u001b[49m\u001b[43m,\u001b[49m\u001b[43m \u001b[49m\u001b[43my\u001b[49m\u001b[43m,\u001b[49m\u001b[43m \u001b[49m\u001b[43mgroups\u001b[49m\u001b[43m)\u001b[49m\u001b[43m)\u001b[49m\n\u001b[0;32m    852\u001b[0m \u001b[43m    \u001b[49m\u001b[43m)\u001b[49m\n\u001b[0;32m    853\u001b[0m \u001b[43m\u001b[49m\u001b[43m)\u001b[49m\n\u001b[0;32m    855\u001b[0m \u001b[38;5;28;01mif\u001b[39;00m \u001b[38;5;28mlen\u001b[39m(out) \u001b[38;5;241m<\u001b[39m \u001b[38;5;241m1\u001b[39m:\n\u001b[0;32m    856\u001b[0m     \u001b[38;5;28;01mraise\u001b[39;00m \u001b[38;5;167;01mValueError\u001b[39;00m(\n\u001b[0;32m    857\u001b[0m         \u001b[38;5;124m\"\u001b[39m\u001b[38;5;124mNo fits were performed. \u001b[39m\u001b[38;5;124m\"\u001b[39m\n\u001b[0;32m    858\u001b[0m         \u001b[38;5;124m\"\u001b[39m\u001b[38;5;124mWas the CV iterator empty? \u001b[39m\u001b[38;5;124m\"\u001b[39m\n\u001b[0;32m    859\u001b[0m         \u001b[38;5;124m\"\u001b[39m\u001b[38;5;124mWere there no candidates?\u001b[39m\u001b[38;5;124m\"\u001b[39m\n\u001b[0;32m    860\u001b[0m     )\n",
      "File \u001b[1;32m~\\Anaconda3\\lib\\site-packages\\joblib\\parallel.py:1046\u001b[0m, in \u001b[0;36mParallel.__call__\u001b[1;34m(self, iterable)\u001b[0m\n\u001b[0;32m   1043\u001b[0m \u001b[38;5;28;01mif\u001b[39;00m \u001b[38;5;28mself\u001b[39m\u001b[38;5;241m.\u001b[39mdispatch_one_batch(iterator):\n\u001b[0;32m   1044\u001b[0m     \u001b[38;5;28mself\u001b[39m\u001b[38;5;241m.\u001b[39m_iterating \u001b[38;5;241m=\u001b[39m \u001b[38;5;28mself\u001b[39m\u001b[38;5;241m.\u001b[39m_original_iterator \u001b[38;5;129;01mis\u001b[39;00m \u001b[38;5;129;01mnot\u001b[39;00m \u001b[38;5;28;01mNone\u001b[39;00m\n\u001b[1;32m-> 1046\u001b[0m \u001b[38;5;28;01mwhile\u001b[39;00m \u001b[38;5;28;43mself\u001b[39;49m\u001b[38;5;241;43m.\u001b[39;49m\u001b[43mdispatch_one_batch\u001b[49m\u001b[43m(\u001b[49m\u001b[43miterator\u001b[49m\u001b[43m)\u001b[49m:\n\u001b[0;32m   1047\u001b[0m     \u001b[38;5;28;01mpass\u001b[39;00m\n\u001b[0;32m   1049\u001b[0m \u001b[38;5;28;01mif\u001b[39;00m pre_dispatch \u001b[38;5;241m==\u001b[39m \u001b[38;5;124m\"\u001b[39m\u001b[38;5;124mall\u001b[39m\u001b[38;5;124m\"\u001b[39m \u001b[38;5;129;01mor\u001b[39;00m n_jobs \u001b[38;5;241m==\u001b[39m \u001b[38;5;241m1\u001b[39m:\n\u001b[0;32m   1050\u001b[0m     \u001b[38;5;66;03m# The iterable was consumed all at once by the above for loop.\u001b[39;00m\n\u001b[0;32m   1051\u001b[0m     \u001b[38;5;66;03m# No need to wait for async callbacks to trigger to\u001b[39;00m\n\u001b[0;32m   1052\u001b[0m     \u001b[38;5;66;03m# consumption.\u001b[39;00m\n",
      "File \u001b[1;32m~\\Anaconda3\\lib\\site-packages\\joblib\\parallel.py:861\u001b[0m, in \u001b[0;36mParallel.dispatch_one_batch\u001b[1;34m(self, iterator)\u001b[0m\n\u001b[0;32m    859\u001b[0m     \u001b[38;5;28;01mreturn\u001b[39;00m \u001b[38;5;28;01mFalse\u001b[39;00m\n\u001b[0;32m    860\u001b[0m \u001b[38;5;28;01melse\u001b[39;00m:\n\u001b[1;32m--> 861\u001b[0m     \u001b[38;5;28;43mself\u001b[39;49m\u001b[38;5;241;43m.\u001b[39;49m\u001b[43m_dispatch\u001b[49m\u001b[43m(\u001b[49m\u001b[43mtasks\u001b[49m\u001b[43m)\u001b[49m\n\u001b[0;32m    862\u001b[0m     \u001b[38;5;28;01mreturn\u001b[39;00m \u001b[38;5;28;01mTrue\u001b[39;00m\n",
      "File \u001b[1;32m~\\Anaconda3\\lib\\site-packages\\joblib\\parallel.py:779\u001b[0m, in \u001b[0;36mParallel._dispatch\u001b[1;34m(self, batch)\u001b[0m\n\u001b[0;32m    777\u001b[0m \u001b[38;5;28;01mwith\u001b[39;00m \u001b[38;5;28mself\u001b[39m\u001b[38;5;241m.\u001b[39m_lock:\n\u001b[0;32m    778\u001b[0m     job_idx \u001b[38;5;241m=\u001b[39m \u001b[38;5;28mlen\u001b[39m(\u001b[38;5;28mself\u001b[39m\u001b[38;5;241m.\u001b[39m_jobs)\n\u001b[1;32m--> 779\u001b[0m     job \u001b[38;5;241m=\u001b[39m \u001b[38;5;28;43mself\u001b[39;49m\u001b[38;5;241;43m.\u001b[39;49m\u001b[43m_backend\u001b[49m\u001b[38;5;241;43m.\u001b[39;49m\u001b[43mapply_async\u001b[49m\u001b[43m(\u001b[49m\u001b[43mbatch\u001b[49m\u001b[43m,\u001b[49m\u001b[43m \u001b[49m\u001b[43mcallback\u001b[49m\u001b[38;5;241;43m=\u001b[39;49m\u001b[43mcb\u001b[49m\u001b[43m)\u001b[49m\n\u001b[0;32m    780\u001b[0m     \u001b[38;5;66;03m# A job can complete so quickly than its callback is\u001b[39;00m\n\u001b[0;32m    781\u001b[0m     \u001b[38;5;66;03m# called before we get here, causing self._jobs to\u001b[39;00m\n\u001b[0;32m    782\u001b[0m     \u001b[38;5;66;03m# grow. To ensure correct results ordering, .insert is\u001b[39;00m\n\u001b[0;32m    783\u001b[0m     \u001b[38;5;66;03m# used (rather than .append) in the following line\u001b[39;00m\n\u001b[0;32m    784\u001b[0m     \u001b[38;5;28mself\u001b[39m\u001b[38;5;241m.\u001b[39m_jobs\u001b[38;5;241m.\u001b[39minsert(job_idx, job)\n",
      "File \u001b[1;32m~\\Anaconda3\\lib\\site-packages\\joblib\\_parallel_backends.py:208\u001b[0m, in \u001b[0;36mSequentialBackend.apply_async\u001b[1;34m(self, func, callback)\u001b[0m\n\u001b[0;32m    206\u001b[0m \u001b[38;5;28;01mdef\u001b[39;00m \u001b[38;5;21mapply_async\u001b[39m(\u001b[38;5;28mself\u001b[39m, func, callback\u001b[38;5;241m=\u001b[39m\u001b[38;5;28;01mNone\u001b[39;00m):\n\u001b[0;32m    207\u001b[0m     \u001b[38;5;124;03m\"\"\"Schedule a func to be run\"\"\"\u001b[39;00m\n\u001b[1;32m--> 208\u001b[0m     result \u001b[38;5;241m=\u001b[39m \u001b[43mImmediateResult\u001b[49m\u001b[43m(\u001b[49m\u001b[43mfunc\u001b[49m\u001b[43m)\u001b[49m\n\u001b[0;32m    209\u001b[0m     \u001b[38;5;28;01mif\u001b[39;00m callback:\n\u001b[0;32m    210\u001b[0m         callback(result)\n",
      "File \u001b[1;32m~\\Anaconda3\\lib\\site-packages\\joblib\\_parallel_backends.py:572\u001b[0m, in \u001b[0;36mImmediateResult.__init__\u001b[1;34m(self, batch)\u001b[0m\n\u001b[0;32m    569\u001b[0m \u001b[38;5;28;01mdef\u001b[39;00m \u001b[38;5;21m__init__\u001b[39m(\u001b[38;5;28mself\u001b[39m, batch):\n\u001b[0;32m    570\u001b[0m     \u001b[38;5;66;03m# Don't delay the application, to avoid keeping the input\u001b[39;00m\n\u001b[0;32m    571\u001b[0m     \u001b[38;5;66;03m# arguments in memory\u001b[39;00m\n\u001b[1;32m--> 572\u001b[0m     \u001b[38;5;28mself\u001b[39m\u001b[38;5;241m.\u001b[39mresults \u001b[38;5;241m=\u001b[39m \u001b[43mbatch\u001b[49m\u001b[43m(\u001b[49m\u001b[43m)\u001b[49m\n",
      "File \u001b[1;32m~\\Anaconda3\\lib\\site-packages\\joblib\\parallel.py:262\u001b[0m, in \u001b[0;36mBatchedCalls.__call__\u001b[1;34m(self)\u001b[0m\n\u001b[0;32m    258\u001b[0m \u001b[38;5;28;01mdef\u001b[39;00m \u001b[38;5;21m__call__\u001b[39m(\u001b[38;5;28mself\u001b[39m):\n\u001b[0;32m    259\u001b[0m     \u001b[38;5;66;03m# Set the default nested backend to self._backend but do not set the\u001b[39;00m\n\u001b[0;32m    260\u001b[0m     \u001b[38;5;66;03m# change the default number of processes to -1\u001b[39;00m\n\u001b[0;32m    261\u001b[0m     \u001b[38;5;28;01mwith\u001b[39;00m parallel_backend(\u001b[38;5;28mself\u001b[39m\u001b[38;5;241m.\u001b[39m_backend, n_jobs\u001b[38;5;241m=\u001b[39m\u001b[38;5;28mself\u001b[39m\u001b[38;5;241m.\u001b[39m_n_jobs):\n\u001b[1;32m--> 262\u001b[0m         \u001b[38;5;28;01mreturn\u001b[39;00m [func(\u001b[38;5;241m*\u001b[39margs, \u001b[38;5;241m*\u001b[39m\u001b[38;5;241m*\u001b[39mkwargs)\n\u001b[0;32m    263\u001b[0m                 \u001b[38;5;28;01mfor\u001b[39;00m func, args, kwargs \u001b[38;5;129;01min\u001b[39;00m \u001b[38;5;28mself\u001b[39m\u001b[38;5;241m.\u001b[39mitems]\n",
      "File \u001b[1;32m~\\Anaconda3\\lib\\site-packages\\joblib\\parallel.py:262\u001b[0m, in \u001b[0;36m<listcomp>\u001b[1;34m(.0)\u001b[0m\n\u001b[0;32m    258\u001b[0m \u001b[38;5;28;01mdef\u001b[39;00m \u001b[38;5;21m__call__\u001b[39m(\u001b[38;5;28mself\u001b[39m):\n\u001b[0;32m    259\u001b[0m     \u001b[38;5;66;03m# Set the default nested backend to self._backend but do not set the\u001b[39;00m\n\u001b[0;32m    260\u001b[0m     \u001b[38;5;66;03m# change the default number of processes to -1\u001b[39;00m\n\u001b[0;32m    261\u001b[0m     \u001b[38;5;28;01mwith\u001b[39;00m parallel_backend(\u001b[38;5;28mself\u001b[39m\u001b[38;5;241m.\u001b[39m_backend, n_jobs\u001b[38;5;241m=\u001b[39m\u001b[38;5;28mself\u001b[39m\u001b[38;5;241m.\u001b[39m_n_jobs):\n\u001b[1;32m--> 262\u001b[0m         \u001b[38;5;28;01mreturn\u001b[39;00m [func(\u001b[38;5;241m*\u001b[39margs, \u001b[38;5;241m*\u001b[39m\u001b[38;5;241m*\u001b[39mkwargs)\n\u001b[0;32m    263\u001b[0m                 \u001b[38;5;28;01mfor\u001b[39;00m func, args, kwargs \u001b[38;5;129;01min\u001b[39;00m \u001b[38;5;28mself\u001b[39m\u001b[38;5;241m.\u001b[39mitems]\n",
      "File \u001b[1;32m~\\Anaconda3\\lib\\site-packages\\sklearn\\utils\\fixes.py:216\u001b[0m, in \u001b[0;36m_FuncWrapper.__call__\u001b[1;34m(self, *args, **kwargs)\u001b[0m\n\u001b[0;32m    214\u001b[0m \u001b[38;5;28;01mdef\u001b[39;00m \u001b[38;5;21m__call__\u001b[39m(\u001b[38;5;28mself\u001b[39m, \u001b[38;5;241m*\u001b[39margs, \u001b[38;5;241m*\u001b[39m\u001b[38;5;241m*\u001b[39mkwargs):\n\u001b[0;32m    215\u001b[0m     \u001b[38;5;28;01mwith\u001b[39;00m config_context(\u001b[38;5;241m*\u001b[39m\u001b[38;5;241m*\u001b[39m\u001b[38;5;28mself\u001b[39m\u001b[38;5;241m.\u001b[39mconfig):\n\u001b[1;32m--> 216\u001b[0m         \u001b[38;5;28;01mreturn\u001b[39;00m \u001b[38;5;28mself\u001b[39m\u001b[38;5;241m.\u001b[39mfunction(\u001b[38;5;241m*\u001b[39margs, \u001b[38;5;241m*\u001b[39m\u001b[38;5;241m*\u001b[39mkwargs)\n",
      "File \u001b[1;32m~\\Anaconda3\\lib\\site-packages\\sklearn\\model_selection\\_validation.py:680\u001b[0m, in \u001b[0;36m_fit_and_score\u001b[1;34m(estimator, X, y, scorer, train, test, verbose, parameters, fit_params, return_train_score, return_parameters, return_n_test_samples, return_times, return_estimator, split_progress, candidate_progress, error_score)\u001b[0m\n\u001b[0;32m    678\u001b[0m         estimator\u001b[38;5;241m.\u001b[39mfit(X_train, \u001b[38;5;241m*\u001b[39m\u001b[38;5;241m*\u001b[39mfit_params)\n\u001b[0;32m    679\u001b[0m     \u001b[38;5;28;01melse\u001b[39;00m:\n\u001b[1;32m--> 680\u001b[0m         estimator\u001b[38;5;241m.\u001b[39mfit(X_train, y_train, \u001b[38;5;241m*\u001b[39m\u001b[38;5;241m*\u001b[39mfit_params)\n\u001b[0;32m    682\u001b[0m \u001b[38;5;28;01mexcept\u001b[39;00m \u001b[38;5;167;01mException\u001b[39;00m:\n\u001b[0;32m    683\u001b[0m     \u001b[38;5;66;03m# Note fit time as time until error\u001b[39;00m\n\u001b[0;32m    684\u001b[0m     fit_time \u001b[38;5;241m=\u001b[39m time\u001b[38;5;241m.\u001b[39mtime() \u001b[38;5;241m-\u001b[39m start_time\n",
      "File \u001b[1;32m~\\Anaconda3\\lib\\site-packages\\sklearn\\linear_model\\_stochastic_gradient.py:1537\u001b[0m, in \u001b[0;36mBaseSGDRegressor.fit\u001b[1;34m(self, X, y, coef_init, intercept_init, sample_weight)\u001b[0m\n\u001b[0;32m   1512\u001b[0m \u001b[38;5;28;01mdef\u001b[39;00m \u001b[38;5;21mfit\u001b[39m(\u001b[38;5;28mself\u001b[39m, X, y, coef_init\u001b[38;5;241m=\u001b[39m\u001b[38;5;28;01mNone\u001b[39;00m, intercept_init\u001b[38;5;241m=\u001b[39m\u001b[38;5;28;01mNone\u001b[39;00m, sample_weight\u001b[38;5;241m=\u001b[39m\u001b[38;5;28;01mNone\u001b[39;00m):\n\u001b[0;32m   1513\u001b[0m     \u001b[38;5;124;03m\"\"\"Fit linear model with Stochastic Gradient Descent.\u001b[39;00m\n\u001b[0;32m   1514\u001b[0m \n\u001b[0;32m   1515\u001b[0m \u001b[38;5;124;03m    Parameters\u001b[39;00m\n\u001b[1;32m   (...)\u001b[0m\n\u001b[0;32m   1535\u001b[0m \u001b[38;5;124;03m        Fitted `SGDRegressor` estimator.\u001b[39;00m\n\u001b[0;32m   1536\u001b[0m \u001b[38;5;124;03m    \"\"\"\u001b[39;00m\n\u001b[1;32m-> 1537\u001b[0m     \u001b[38;5;28;01mreturn\u001b[39;00m \u001b[38;5;28;43mself\u001b[39;49m\u001b[38;5;241;43m.\u001b[39;49m\u001b[43m_fit\u001b[49m\u001b[43m(\u001b[49m\n\u001b[0;32m   1538\u001b[0m \u001b[43m        \u001b[49m\u001b[43mX\u001b[49m\u001b[43m,\u001b[49m\n\u001b[0;32m   1539\u001b[0m \u001b[43m        \u001b[49m\u001b[43my\u001b[49m\u001b[43m,\u001b[49m\n\u001b[0;32m   1540\u001b[0m \u001b[43m        \u001b[49m\u001b[43malpha\u001b[49m\u001b[38;5;241;43m=\u001b[39;49m\u001b[38;5;28;43mself\u001b[39;49m\u001b[38;5;241;43m.\u001b[39;49m\u001b[43malpha\u001b[49m\u001b[43m,\u001b[49m\n\u001b[0;32m   1541\u001b[0m \u001b[43m        \u001b[49m\u001b[43mC\u001b[49m\u001b[38;5;241;43m=\u001b[39;49m\u001b[38;5;241;43m1.0\u001b[39;49m\u001b[43m,\u001b[49m\n\u001b[0;32m   1542\u001b[0m \u001b[43m        \u001b[49m\u001b[43mloss\u001b[49m\u001b[38;5;241;43m=\u001b[39;49m\u001b[38;5;28;43mself\u001b[39;49m\u001b[38;5;241;43m.\u001b[39;49m\u001b[43mloss\u001b[49m\u001b[43m,\u001b[49m\n\u001b[0;32m   1543\u001b[0m \u001b[43m        \u001b[49m\u001b[43mlearning_rate\u001b[49m\u001b[38;5;241;43m=\u001b[39;49m\u001b[38;5;28;43mself\u001b[39;49m\u001b[38;5;241;43m.\u001b[39;49m\u001b[43mlearning_rate\u001b[49m\u001b[43m,\u001b[49m\n\u001b[0;32m   1544\u001b[0m \u001b[43m        \u001b[49m\u001b[43mcoef_init\u001b[49m\u001b[38;5;241;43m=\u001b[39;49m\u001b[43mcoef_init\u001b[49m\u001b[43m,\u001b[49m\n\u001b[0;32m   1545\u001b[0m \u001b[43m        \u001b[49m\u001b[43mintercept_init\u001b[49m\u001b[38;5;241;43m=\u001b[39;49m\u001b[43mintercept_init\u001b[49m\u001b[43m,\u001b[49m\n\u001b[0;32m   1546\u001b[0m \u001b[43m        \u001b[49m\u001b[43msample_weight\u001b[49m\u001b[38;5;241;43m=\u001b[39;49m\u001b[43msample_weight\u001b[49m\u001b[43m,\u001b[49m\n\u001b[0;32m   1547\u001b[0m \u001b[43m    \u001b[49m\u001b[43m)\u001b[49m\n",
      "File \u001b[1;32m~\\Anaconda3\\lib\\site-packages\\sklearn\\linear_model\\_stochastic_gradient.py:1485\u001b[0m, in \u001b[0;36mBaseSGDRegressor._fit\u001b[1;34m(self, X, y, alpha, C, loss, learning_rate, coef_init, intercept_init, sample_weight)\u001b[0m\n\u001b[0;32m   1482\u001b[0m \u001b[38;5;66;03m# Clear iteration count for multiple call to fit.\u001b[39;00m\n\u001b[0;32m   1483\u001b[0m \u001b[38;5;28mself\u001b[39m\u001b[38;5;241m.\u001b[39mt_ \u001b[38;5;241m=\u001b[39m \u001b[38;5;241m1.0\u001b[39m\n\u001b[1;32m-> 1485\u001b[0m \u001b[38;5;28;43mself\u001b[39;49m\u001b[38;5;241;43m.\u001b[39;49m\u001b[43m_partial_fit\u001b[49m\u001b[43m(\u001b[49m\n\u001b[0;32m   1486\u001b[0m \u001b[43m    \u001b[49m\u001b[43mX\u001b[49m\u001b[43m,\u001b[49m\n\u001b[0;32m   1487\u001b[0m \u001b[43m    \u001b[49m\u001b[43my\u001b[49m\u001b[43m,\u001b[49m\n\u001b[0;32m   1488\u001b[0m \u001b[43m    \u001b[49m\u001b[43malpha\u001b[49m\u001b[43m,\u001b[49m\n\u001b[0;32m   1489\u001b[0m \u001b[43m    \u001b[49m\u001b[43mC\u001b[49m\u001b[43m,\u001b[49m\n\u001b[0;32m   1490\u001b[0m \u001b[43m    \u001b[49m\u001b[43mloss\u001b[49m\u001b[43m,\u001b[49m\n\u001b[0;32m   1491\u001b[0m \u001b[43m    \u001b[49m\u001b[43mlearning_rate\u001b[49m\u001b[43m,\u001b[49m\n\u001b[0;32m   1492\u001b[0m \u001b[43m    \u001b[49m\u001b[38;5;28;43mself\u001b[39;49m\u001b[38;5;241;43m.\u001b[39;49m\u001b[43mmax_iter\u001b[49m\u001b[43m,\u001b[49m\n\u001b[0;32m   1493\u001b[0m \u001b[43m    \u001b[49m\u001b[43msample_weight\u001b[49m\u001b[43m,\u001b[49m\n\u001b[0;32m   1494\u001b[0m \u001b[43m    \u001b[49m\u001b[43mcoef_init\u001b[49m\u001b[43m,\u001b[49m\n\u001b[0;32m   1495\u001b[0m \u001b[43m    \u001b[49m\u001b[43mintercept_init\u001b[49m\u001b[43m,\u001b[49m\n\u001b[0;32m   1496\u001b[0m \u001b[43m\u001b[49m\u001b[43m)\u001b[49m\n\u001b[0;32m   1498\u001b[0m \u001b[38;5;28;01mif\u001b[39;00m (\n\u001b[0;32m   1499\u001b[0m     \u001b[38;5;28mself\u001b[39m\u001b[38;5;241m.\u001b[39mtol \u001b[38;5;129;01mis\u001b[39;00m \u001b[38;5;129;01mnot\u001b[39;00m \u001b[38;5;28;01mNone\u001b[39;00m\n\u001b[0;32m   1500\u001b[0m     \u001b[38;5;129;01mand\u001b[39;00m \u001b[38;5;28mself\u001b[39m\u001b[38;5;241m.\u001b[39mtol \u001b[38;5;241m>\u001b[39m \u001b[38;5;241m-\u001b[39mnp\u001b[38;5;241m.\u001b[39minf\n\u001b[0;32m   1501\u001b[0m     \u001b[38;5;129;01mand\u001b[39;00m \u001b[38;5;28mself\u001b[39m\u001b[38;5;241m.\u001b[39mn_iter_ \u001b[38;5;241m==\u001b[39m \u001b[38;5;28mself\u001b[39m\u001b[38;5;241m.\u001b[39mmax_iter\n\u001b[0;32m   1502\u001b[0m ):\n\u001b[0;32m   1503\u001b[0m     warnings\u001b[38;5;241m.\u001b[39mwarn(\n\u001b[0;32m   1504\u001b[0m         \u001b[38;5;124m\"\u001b[39m\u001b[38;5;124mMaximum number of iteration reached before \u001b[39m\u001b[38;5;124m\"\u001b[39m\n\u001b[0;32m   1505\u001b[0m         \u001b[38;5;124m\"\u001b[39m\u001b[38;5;124mconvergence. Consider increasing max_iter to \u001b[39m\u001b[38;5;124m\"\u001b[39m\n\u001b[0;32m   1506\u001b[0m         \u001b[38;5;124m\"\u001b[39m\u001b[38;5;124mimprove the fit.\u001b[39m\u001b[38;5;124m\"\u001b[39m,\n\u001b[0;32m   1507\u001b[0m         ConvergenceWarning,\n\u001b[0;32m   1508\u001b[0m     )\n",
      "File \u001b[1;32m~\\Anaconda3\\lib\\site-packages\\sklearn\\linear_model\\_stochastic_gradient.py:1415\u001b[0m, in \u001b[0;36mBaseSGDRegressor._partial_fit\u001b[1;34m(self, X, y, alpha, C, loss, learning_rate, max_iter, sample_weight, coef_init, intercept_init)\u001b[0m\n\u001b[0;32m   1412\u001b[0m     \u001b[38;5;28mself\u001b[39m\u001b[38;5;241m.\u001b[39m_average_coef \u001b[38;5;241m=\u001b[39m np\u001b[38;5;241m.\u001b[39mzeros(n_features, dtype\u001b[38;5;241m=\u001b[39mnp\u001b[38;5;241m.\u001b[39mfloat64, order\u001b[38;5;241m=\u001b[39m\u001b[38;5;124m\"\u001b[39m\u001b[38;5;124mC\u001b[39m\u001b[38;5;124m\"\u001b[39m)\n\u001b[0;32m   1413\u001b[0m     \u001b[38;5;28mself\u001b[39m\u001b[38;5;241m.\u001b[39m_average_intercept \u001b[38;5;241m=\u001b[39m np\u001b[38;5;241m.\u001b[39mzeros(\u001b[38;5;241m1\u001b[39m, dtype\u001b[38;5;241m=\u001b[39mnp\u001b[38;5;241m.\u001b[39mfloat64, order\u001b[38;5;241m=\u001b[39m\u001b[38;5;124m\"\u001b[39m\u001b[38;5;124mC\u001b[39m\u001b[38;5;124m\"\u001b[39m)\n\u001b[1;32m-> 1415\u001b[0m \u001b[38;5;28;43mself\u001b[39;49m\u001b[38;5;241;43m.\u001b[39;49m\u001b[43m_fit_regressor\u001b[49m\u001b[43m(\u001b[49m\n\u001b[0;32m   1416\u001b[0m \u001b[43m    \u001b[49m\u001b[43mX\u001b[49m\u001b[43m,\u001b[49m\u001b[43m \u001b[49m\u001b[43my\u001b[49m\u001b[43m,\u001b[49m\u001b[43m \u001b[49m\u001b[43malpha\u001b[49m\u001b[43m,\u001b[49m\u001b[43m \u001b[49m\u001b[43mC\u001b[49m\u001b[43m,\u001b[49m\u001b[43m \u001b[49m\u001b[43mloss\u001b[49m\u001b[43m,\u001b[49m\u001b[43m \u001b[49m\u001b[43mlearning_rate\u001b[49m\u001b[43m,\u001b[49m\u001b[43m \u001b[49m\u001b[43msample_weight\u001b[49m\u001b[43m,\u001b[49m\u001b[43m \u001b[49m\u001b[43mmax_iter\u001b[49m\n\u001b[0;32m   1417\u001b[0m \u001b[43m\u001b[49m\u001b[43m)\u001b[49m\n\u001b[0;32m   1419\u001b[0m \u001b[38;5;28;01mreturn\u001b[39;00m \u001b[38;5;28mself\u001b[39m\n",
      "File \u001b[1;32m~\\Anaconda3\\lib\\site-packages\\sklearn\\linear_model\\_stochastic_gradient.py:1618\u001b[0m, in \u001b[0;36mBaseSGDRegressor._fit_regressor\u001b[1;34m(self, X, y, alpha, C, loss, learning_rate, sample_weight, max_iter)\u001b[0m\n\u001b[0;32m   1615\u001b[0m     average_coef \u001b[38;5;241m=\u001b[39m \u001b[38;5;28;01mNone\u001b[39;00m  \u001b[38;5;66;03m# Not used\u001b[39;00m\n\u001b[0;32m   1616\u001b[0m     average_intercept \u001b[38;5;241m=\u001b[39m [\u001b[38;5;241m0\u001b[39m]  \u001b[38;5;66;03m# Not used\u001b[39;00m\n\u001b[1;32m-> 1618\u001b[0m coef, intercept, average_coef, average_intercept, \u001b[38;5;28mself\u001b[39m\u001b[38;5;241m.\u001b[39mn_iter_ \u001b[38;5;241m=\u001b[39m \u001b[43m_plain_sgd\u001b[49m\u001b[43m(\u001b[49m\n\u001b[0;32m   1619\u001b[0m \u001b[43m    \u001b[49m\u001b[43mcoef\u001b[49m\u001b[43m,\u001b[49m\n\u001b[0;32m   1620\u001b[0m \u001b[43m    \u001b[49m\u001b[43mintercept\u001b[49m\u001b[43m[\u001b[49m\u001b[38;5;241;43m0\u001b[39;49m\u001b[43m]\u001b[49m\u001b[43m,\u001b[49m\n\u001b[0;32m   1621\u001b[0m \u001b[43m    \u001b[49m\u001b[43maverage_coef\u001b[49m\u001b[43m,\u001b[49m\n\u001b[0;32m   1622\u001b[0m \u001b[43m    \u001b[49m\u001b[43maverage_intercept\u001b[49m\u001b[43m[\u001b[49m\u001b[38;5;241;43m0\u001b[39;49m\u001b[43m]\u001b[49m\u001b[43m,\u001b[49m\n\u001b[0;32m   1623\u001b[0m \u001b[43m    \u001b[49m\u001b[43mloss_function\u001b[49m\u001b[43m,\u001b[49m\n\u001b[0;32m   1624\u001b[0m \u001b[43m    \u001b[49m\u001b[43mpenalty_type\u001b[49m\u001b[43m,\u001b[49m\n\u001b[0;32m   1625\u001b[0m \u001b[43m    \u001b[49m\u001b[43malpha\u001b[49m\u001b[43m,\u001b[49m\n\u001b[0;32m   1626\u001b[0m \u001b[43m    \u001b[49m\u001b[43mC\u001b[49m\u001b[43m,\u001b[49m\n\u001b[0;32m   1627\u001b[0m \u001b[43m    \u001b[49m\u001b[38;5;28;43mself\u001b[39;49m\u001b[38;5;241;43m.\u001b[39;49m\u001b[43ml1_ratio\u001b[49m\u001b[43m,\u001b[49m\n\u001b[0;32m   1628\u001b[0m \u001b[43m    \u001b[49m\u001b[43mdataset\u001b[49m\u001b[43m,\u001b[49m\n\u001b[0;32m   1629\u001b[0m \u001b[43m    \u001b[49m\u001b[43mvalidation_mask\u001b[49m\u001b[43m,\u001b[49m\n\u001b[0;32m   1630\u001b[0m \u001b[43m    \u001b[49m\u001b[38;5;28;43mself\u001b[39;49m\u001b[38;5;241;43m.\u001b[39;49m\u001b[43mearly_stopping\u001b[49m\u001b[43m,\u001b[49m\n\u001b[0;32m   1631\u001b[0m \u001b[43m    \u001b[49m\u001b[43mvalidation_score_cb\u001b[49m\u001b[43m,\u001b[49m\n\u001b[0;32m   1632\u001b[0m \u001b[43m    \u001b[49m\u001b[38;5;28;43mint\u001b[39;49m\u001b[43m(\u001b[49m\u001b[38;5;28;43mself\u001b[39;49m\u001b[38;5;241;43m.\u001b[39;49m\u001b[43mn_iter_no_change\u001b[49m\u001b[43m)\u001b[49m\u001b[43m,\u001b[49m\n\u001b[0;32m   1633\u001b[0m \u001b[43m    \u001b[49m\u001b[43mmax_iter\u001b[49m\u001b[43m,\u001b[49m\n\u001b[0;32m   1634\u001b[0m \u001b[43m    \u001b[49m\u001b[43mtol\u001b[49m\u001b[43m,\u001b[49m\n\u001b[0;32m   1635\u001b[0m \u001b[43m    \u001b[49m\u001b[38;5;28;43mint\u001b[39;49m\u001b[43m(\u001b[49m\u001b[38;5;28;43mself\u001b[39;49m\u001b[38;5;241;43m.\u001b[39;49m\u001b[43mfit_intercept\u001b[49m\u001b[43m)\u001b[49m\u001b[43m,\u001b[49m\n\u001b[0;32m   1636\u001b[0m \u001b[43m    \u001b[49m\u001b[38;5;28;43mint\u001b[39;49m\u001b[43m(\u001b[49m\u001b[38;5;28;43mself\u001b[39;49m\u001b[38;5;241;43m.\u001b[39;49m\u001b[43mverbose\u001b[49m\u001b[43m)\u001b[49m\u001b[43m,\u001b[49m\n\u001b[0;32m   1637\u001b[0m \u001b[43m    \u001b[49m\u001b[38;5;28;43mint\u001b[39;49m\u001b[43m(\u001b[49m\u001b[38;5;28;43mself\u001b[39;49m\u001b[38;5;241;43m.\u001b[39;49m\u001b[43mshuffle\u001b[49m\u001b[43m)\u001b[49m\u001b[43m,\u001b[49m\n\u001b[0;32m   1638\u001b[0m \u001b[43m    \u001b[49m\u001b[43mseed\u001b[49m\u001b[43m,\u001b[49m\n\u001b[0;32m   1639\u001b[0m \u001b[43m    \u001b[49m\u001b[38;5;241;43m1.0\u001b[39;49m\u001b[43m,\u001b[49m\n\u001b[0;32m   1640\u001b[0m \u001b[43m    \u001b[49m\u001b[38;5;241;43m1.0\u001b[39;49m\u001b[43m,\u001b[49m\n\u001b[0;32m   1641\u001b[0m \u001b[43m    \u001b[49m\u001b[43mlearning_rate_type\u001b[49m\u001b[43m,\u001b[49m\n\u001b[0;32m   1642\u001b[0m \u001b[43m    \u001b[49m\u001b[38;5;28;43mself\u001b[39;49m\u001b[38;5;241;43m.\u001b[39;49m\u001b[43meta0\u001b[49m\u001b[43m,\u001b[49m\n\u001b[0;32m   1643\u001b[0m \u001b[43m    \u001b[49m\u001b[38;5;28;43mself\u001b[39;49m\u001b[38;5;241;43m.\u001b[39;49m\u001b[43mpower_t\u001b[49m\u001b[43m,\u001b[49m\n\u001b[0;32m   1644\u001b[0m \u001b[43m    \u001b[49m\u001b[38;5;241;43m0\u001b[39;49m\u001b[43m,\u001b[49m\n\u001b[0;32m   1645\u001b[0m \u001b[43m    \u001b[49m\u001b[38;5;28;43mself\u001b[39;49m\u001b[38;5;241;43m.\u001b[39;49m\u001b[43mt_\u001b[49m\u001b[43m,\u001b[49m\n\u001b[0;32m   1646\u001b[0m \u001b[43m    \u001b[49m\u001b[43mintercept_decay\u001b[49m\u001b[43m,\u001b[49m\n\u001b[0;32m   1647\u001b[0m \u001b[43m    \u001b[49m\u001b[38;5;28;43mself\u001b[39;49m\u001b[38;5;241;43m.\u001b[39;49m\u001b[43maverage\u001b[49m\u001b[43m,\u001b[49m\n\u001b[0;32m   1648\u001b[0m \u001b[43m\u001b[49m\u001b[43m)\u001b[49m\n\u001b[0;32m   1650\u001b[0m \u001b[38;5;28mself\u001b[39m\u001b[38;5;241m.\u001b[39mt_ \u001b[38;5;241m+\u001b[39m\u001b[38;5;241m=\u001b[39m \u001b[38;5;28mself\u001b[39m\u001b[38;5;241m.\u001b[39mn_iter_ \u001b[38;5;241m*\u001b[39m X\u001b[38;5;241m.\u001b[39mshape[\u001b[38;5;241m0\u001b[39m]\n\u001b[0;32m   1652\u001b[0m \u001b[38;5;28;01mif\u001b[39;00m \u001b[38;5;28mself\u001b[39m\u001b[38;5;241m.\u001b[39maverage \u001b[38;5;241m>\u001b[39m \u001b[38;5;241m0\u001b[39m:\n",
      "\u001b[1;31mKeyboardInterrupt\u001b[0m: "
     ]
    }
   ],
   "source": [
    "# find the best alpha penalty for lasso Regression model\n",
    "model = make_pipeline(StandardScaler(), SGDRegressor(penalty='l1', random_state=0))\n",
    "alpha_space = {'alpha':uniform(0.01, 0.5)}\n",
    "alphas = []\n",
    "for i in range(30):\n",
    "    lasso_cv = RandomizedSearchCV(model[1], alpha_space, cv=5)\n",
    "    lasso_cv.fit(X_train, y_train)\n",
    "    alphas.append(lasso_cv.best_params_['alpha'])"
   ]
  },
  {
   "cell_type": "code",
   "execution_count": null,
   "id": "da3a60bd-a116-4a5f-9178-615e8f564147",
   "metadata": {},
   "outputs": [],
   "source": [
    "lasso_best_alpha = np.array(alphas).mean()\n",
    "lasso_best_alpha = 0.05"
   ]
  },
  {
   "cell_type": "code",
   "execution_count": null,
   "id": "271458fd-2f55-4132-acff-ad569044a23a",
   "metadata": {},
   "outputs": [],
   "source": [
    "# Train a Lasso Regression model\n",
    "lasso = make_pipeline(StandardScaler(), SGDRegressor(penalty='l1', alpha=lasso_best_alpha, random_state=0))\n",
    "lasso.fit(X_train, y_train)\n",
    "\n",
    "# Plot the feature importances of Lasso\n",
    "coef = lasso[1].coef_\n",
    "features = feature_names\n",
    "importance = np.abs(coef)\n",
    "nonzero_idx = np.nonzero(coef)\n",
    "nonzero_importance = importance[nonzero_idx]\n",
    "nonzero_features = np.array(features)[nonzero_idx]\n",
    "sorted_idx = np.argsort(nonzero_importance)[-50:]  # select the top 50 largest coefficients different that zero\n",
    "\n",
    "plt.figure(figsize=(10, 10))\n",
    "plt.barh(range(len(sorted_idx)), nonzero_importance[sorted_idx])\n",
    "plt.yticks(range(len(sorted_idx)), nonzero_features[sorted_idx])\n",
    "plt.xlabel(\"Feature Importance\")\n",
    "plt.ylabel(\"Feature\")\n",
    "plt.title(\"Lasso Regression Feature Importance (Non-zero)\")\n",
    "plt.show()"
   ]
  },
  {
   "cell_type": "code",
   "execution_count": null,
   "id": "0e4fc814-1089-48e4-a8fd-7a1ab9d95d95",
   "metadata": {},
   "outputs": [],
   "source": [
    "lasso_most = np.array(nonzero_features[sorted_idx])[::-1]\n",
    "lasso_most"
   ]
  },
  {
   "cell_type": "markdown",
   "id": "1e6e92bf-9878-43d3-9269-0e805f7c718e",
   "metadata": {
    "tags": []
   },
   "source": [
    "### Trees"
   ]
  },
  {
   "cell_type": "code",
   "execution_count": null,
   "id": "50213fba-9e2d-43c5-a102-7a364a95e79e",
   "metadata": {},
   "outputs": [],
   "source": [
    "model = ExtraTreesRegressor()\n",
    "model.fit(X_train, y_train)\n",
    "\n",
    "plt.figure(figsize=(10, 10))\n",
    "feature_rank = pd.Series(model.feature_importances_, index=feature_names)\n",
    "top_n = 50\n",
    "top_n_features = feature_rank.nlargest(top_n)\n",
    "sorted_idx = top_n_features.index[::-1]  # get indices in descending order\n",
    "\n",
    "plt.barh(range(len(sorted_idx)), top_n_features[sorted_idx])\n",
    "plt.yticks(range(len(sorted_idx)), sorted_idx)\n",
    "plt.xlabel(\"Feature Importance\")\n",
    "plt.ylabel(\"Feature\")\n",
    "plt.title(\"ExtraTreesRegressor Feature Importance\")\n",
    "plt.show()"
   ]
  },
  {
   "cell_type": "code",
   "execution_count": null,
   "id": "1aa2230d-177e-4b97-965c-227edb6c35e9",
   "metadata": {},
   "outputs": [],
   "source": [
    "tree_most = top_n_features[sorted_idx][::-1].index"
   ]
  },
  {
   "cell_type": "markdown",
   "id": "34b003ee-7796-4c17-ae67-382981c6c273",
   "metadata": {},
   "source": [
    "## PCA"
   ]
  },
  {
   "cell_type": "code",
   "execution_count": null,
   "id": "f6157e8a-3668-48d4-880f-615ed7431b36",
   "metadata": {},
   "outputs": [],
   "source": [
    "scale = RobustScaler() \n",
    "df = scale.fit_transform(X_train)\n",
    "\n",
    "pca = PCA().fit(df) \n",
    "print('With only 50 features: {:6.4%}'.format(sum(pca.explained_variance_ratio_[:50])),\"%\\n\")\n"
   ]
  },
  {
   "cell_type": "markdown",
   "id": "fda912a3-0fec-449b-bcf3-065e67a8fc5b",
   "metadata": {},
   "source": [
    "## All together"
   ]
  },
  {
   "cell_type": "code",
   "execution_count": null,
   "id": "f3532b8e-1478-417a-ab35-e3383337ac17",
   "metadata": {},
   "outputs": [],
   "source": [
    "most_featurs = pd.Series(list(set(ridge_most) & set(lasso_most) & set(tree_most)))\n",
    "most_featurs"
   ]
  },
  {
   "cell_type": "code",
   "execution_count": null,
   "id": "c7c383cc-5054-4318-9698-dedfcf7c3a05",
   "metadata": {},
   "outputs": [],
   "source": [
    "X_train = X_train[most_featurs]"
   ]
  },
  {
   "cell_type": "markdown",
   "id": "7cbf8cda-cee9-4497-8a63-fa77241b1bfa",
   "metadata": {},
   "source": [
    "<div class=\"alert alert-block alert-success\">\n",
    "Comment <strong>here</strong>\n",
    "</div>"
   ]
  },
  {
   "cell_type": "markdown",
   "id": "2ad59b38-0f5e-40ae-aa5e-2c8e08d5cd6f",
   "metadata": {
    "tags": []
   },
   "source": [
    "<table id=SGD-Model style=\"width:100%\">\n",
    "<tr><td><h1>SGD Model</h1></td><td><a href=\"#header\"><img src=\"https://30percentclub.org/wp-content/uploads/2021/07/back-to-top-icon-01.svg\" width=\"70\" height=\"70\" align=\"right\"></a></td></tr>\n",
    "<td><h2>Using Ridge, Lasso, and Elasticnet regulariztions</h2></td><td></td>\n",
    "</table>"
   ]
  },
  {
   "cell_type": "markdown",
   "id": "e3cd8a48-e459-4482-8142-a108ba6972ac",
   "metadata": {
    "tags": []
   },
   "source": [
    "### SGD - Tune Hyper Parameters"
   ]
  },
  {
   "cell_type": "code",
   "execution_count": null,
   "id": "bb7706b4-017b-4a41-9477-2317fe47a233",
   "metadata": {},
   "outputs": [],
   "source": [
    "# Define the parameter distribution for random search\n",
    "param_dist = {\n",
    "    'penalty': ['l1', 'l2', 'elasticnet'],\n",
    "    'alpha': [1e-4, 1e-3, 5e-2, 1e-2, 0.1, 0.3, 1, 3, 5],\n",
    "}\n",
    "\n",
    "# Create an instance of the SGDRegressor class\n",
    "sgd = make_pipeline(StandardScaler(), SGDRegressor())\n",
    "\n",
    "# Run the random search with 5-fold cross-validation   \n",
    "random_search = RandomizedSearchCV(sgd[1], param_distributions=param_dist, n_iter=20, cv=5, n_jobs=-1)\n",
    "random_search.fit(X_train, y_train)\n",
    "\n",
    "# Print the best hyperparameters found\n",
    "print(\"Best hyperparameters: \", random_search.best_params_)"
   ]
  },
  {
   "cell_type": "code",
   "execution_count": null,
   "id": "582747e7-486b-4b50-9e96-cfb7eb050cd3",
   "metadata": {},
   "outputs": [],
   "source": [
    "sgd = make_pipeline(StandardScaler(), SGDRegressor(penalty= 'l1', max_iter= 1000, alpha= 0.10))\n",
    "scores = cross_val_score(sgd, X_train, y_train, cv=15)\n",
    "print(f\"{scores.mean():.3f} (+/- {scores.std():.3f})\")\n"
   ]
  },
  {
   "cell_type": "markdown",
   "id": "fa4f9d7b-49ee-493c-9bfb-6b886cb1b340",
   "metadata": {},
   "source": [
    "### SGD - Evaluating on Validation set"
   ]
  },
  {
   "cell_type": "code",
   "execution_count": null,
   "id": "0e02faae-0f07-4252-9979-f11b07446b9e",
   "metadata": {},
   "outputs": [],
   "source": [
    "#Validation function\n",
    "n_folds = 5\n",
    "\n",
    "def rmsle_cv(model):\n",
    "    kf = KFold(n_folds, shuffle=True, random_state=42).get_n_splits(train)\n",
    "    rmse= np.sqrt(-cross_val_score(model, X_validate, y_validate, scoring=\"neg_mean_squared_error\", cv = kf))\n",
    "    return(rmse)"
   ]
  },
  {
   "cell_type": "code",
   "execution_count": null,
   "id": "62268c8a-1a32-4374-97e3-a6ea00a12c9f",
   "metadata": {},
   "outputs": [],
   "source": [
    "rmsle_cv(sgd)"
   ]
  },
  {
   "cell_type": "markdown",
   "id": "f9095936-fa9b-430e-9794-bf25cd2a50cb",
   "metadata": {},
   "source": [
    "### SGD - Model Submission "
   ]
  },
  {
   "cell_type": "code",
   "execution_count": null,
   "id": "fb840c6a-3d48-4368-9aab-df6e019d350f",
   "metadata": {},
   "outputs": [],
   "source": [
    "def Submission(name, model):\n",
    "    model.fit(train, target)\n",
    "    predictions = np.exp(model.predict(test))\n",
    "    output = pd.DataFrame({'Id': test_Ids, 'SalePrice': predictions})\n",
    "    file_name = name + '_submission.csv'\n",
    "    output.to_csv(file_name, index=False)\n",
    "    return predictions"
   ]
  },
  {
   "cell_type": "code",
   "execution_count": null,
   "id": "4c80aa5a-8136-4e8b-9537-7fa7c1178812",
   "metadata": {},
   "outputs": [],
   "source": [
    "pred = Submission('sgd', sgd)"
   ]
  },
  {
   "cell_type": "code",
   "execution_count": null,
   "id": "7f1e75cf-18e6-410a-9e73-652e4f8abe7c",
   "metadata": {},
   "outputs": [],
   "source": [
    "sns.histplot(pred)"
   ]
  },
  {
   "cell_type": "code",
   "execution_count": null,
   "id": "381b6af4-c751-422a-baab-be9d5487e5f1",
   "metadata": {},
   "outputs": [],
   "source": [
    "sns.histplot(pred1)"
   ]
  },
  {
   "cell_type": "markdown",
   "id": "0cc54366-7864-4d4c-9b4f-f8815f710ff2",
   "metadata": {
    "tags": []
   },
   "source": [
    "<table id=Random-Forest-Model style=\"width:100%\">\n",
    "<tr><td><h1>Random Forest Model</h1></td><td><a href=\"#header\"><img src=\"https://30percentclub.org/wp-content/uploads/2021/07/back-to-top-icon-01.svg\" width=\"70\" height=\"70\" align=\"right\"></a></td></tr>\n",
    "</table>"
   ]
  },
  {
   "cell_type": "markdown",
   "id": "7ea0077a-2384-4102-8dbc-851cf5c507e9",
   "metadata": {},
   "source": [
    "### RF - Tune Hyper Parameters"
   ]
  },
  {
   "cell_type": "markdown",
   "id": "46a03274-ff2e-43e4-a586-b7b06a7bde4a",
   "metadata": {},
   "source": [
    "### RF - Evaluating on Validation set"
   ]
  },
  {
   "cell_type": "markdown",
   "id": "5664edb2-980b-4d48-9a61-1b732133bf4a",
   "metadata": {},
   "source": [
    "### RF - Model Submission"
   ]
  },
  {
   "cell_type": "markdown",
   "id": "de19ddef-99de-4b0e-b20e-49a7ca57d37a",
   "metadata": {
    "tags": []
   },
   "source": [
    "<table id=lin-reg style=\"width:100%\">\n",
    "<tr><td><h1>Support Vector Regression</h1></td><td><a href=\"#header\"><img src=\"https://30percentclub.org/wp-content/uploads/2021/07/back-to-top-icon-01.svg\" width=\"70\" height=\"70\" align=\"right\"></a></td></tr>\n",
    "<td><h2>Using PCA</h2></td><td></td>\n",
    "</table>"
   ]
  },
  {
   "cell_type": "code",
   "execution_count": null,
   "id": "77b86edd-404c-4c72-af89-3f860f08ce12",
   "metadata": {},
   "outputs": [],
   "source": [
    "# Define the pipeline\n",
    "SVR_PCA = make_pipeline(RobustScaler(), PCA(n_components=2), SVR())\n",
    "\n",
    "scores = cross_val_score(SVR_PCA, X_train, y_train, cv=15)\n",
    "print(f\"{scores.mean():.3f} (+/- {scores.std():.3f})\")"
   ]
  },
  {
   "cell_type": "markdown",
   "id": "684664dd-f08c-4324-8d2d-0a0a895ba683",
   "metadata": {},
   "source": [
    "### SVR - Tune Hyperparameters"
   ]
  },
  {
   "cell_type": "code",
   "execution_count": null,
   "id": "36a49f42-160f-466a-9ba9-8a393ce21b93",
   "metadata": {},
   "outputs": [],
   "source": [
    "# Define the hyperparameter space\n",
    "hyperparameters = {\n",
    "    'pca__n_components': range(3, 11),\n",
    "    'svr__kernel': ['linear', 'poly', 'rbf', 'sigmoid'],\n",
    "    'svr__C': uniform(loc=0, scale=100),\n",
    "    'svr__gamma': ['scale', 'auto'] + list(uniform(loc=0, scale=10).rvs(10))\n",
    "}\n",
    "\n",
    "# Define the randomized search with cross-validation\n",
    "random_search = RandomizedSearchCV(\n",
    "    SVR_PCA, \n",
    "    hyperparameters, \n",
    "    n_iter=20, \n",
    "    cv=5, \n",
    "    scoring='neg_mean_squared_error', \n",
    "    random_state=42\n",
    ")\n",
    "\n",
    "# Fit the randomized search on the training data\n",
    "random_search.fit(X_train, y_train)\n",
    "\n",
    "# Print the best hyperparameters and the corresponding score\n",
    "print(\"Best hyperparameters:\", random_search.best_params_)\n",
    "print(\"Best score:\", -random_search.best_score_)"
   ]
  },
  {
   "cell_type": "markdown",
   "id": "baff9690-16ff-4e89-aaca-31118ffb214d",
   "metadata": {},
   "source": [
    "### LR - Evaluating on Validation set "
   ]
  },
  {
   "cell_type": "markdown",
   "id": "7b23c927-9511-448d-b50a-70e65877f31c",
   "metadata": {},
   "source": [
    "### LR - Submission"
   ]
  },
  {
   "cell_type": "markdown",
   "id": "d0001208-7952-4719-8fd9-9c766d0f1f68",
   "metadata": {
    "jp-MarkdownHeadingCollapsed": true,
    "tags": []
   },
   "source": [
    "<table id=Ensemble-of-the-Models style=\"width:100%\">\n",
    "<tr><td><h1>Ensemble of the Models</h1></td><td><a href=\"#header\"><img src=\"https://30percentclub.org/wp-content/uploads/2021/07/back-to-top-icon-01.svg\" width=\"70\" height=\"70\" align=\"right\"></a></td></tr>\n",
    "</table>"
   ]
  },
  {
   "cell_type": "markdown",
   "id": "d3c9ed5f-e341-4e9e-a8b2-e3d21fcadd1a",
   "metadata": {},
   "source": [
    "### Create Ensemble"
   ]
  },
  {
   "cell_type": "markdown",
   "id": "564a5490-8cc4-4a37-980e-8cb999f5f298",
   "metadata": {},
   "source": [
    "### Evaluating on Validation set"
   ]
  },
  {
   "cell_type": "markdown",
   "id": "9ad36a54-459d-47bd-9611-272d5365c49d",
   "metadata": {
    "jp-MarkdownHeadingCollapsed": true,
    "tags": []
   },
   "source": [
    "<table id=Final-Submission style=\"width:100%\">\n",
    "<tr><td><h1>Final Submission</h1></td><td><a href=\"#header\"><img src=\"https://30percentclub.org/wp-content/uploads/2021/07/back-to-top-icon-01.svg\" width=\"70\" height=\"70\" align=\"right\"></a></td></tr>\n",
    "</table>"
   ]
  },
  {
   "cell_type": "markdown",
   "id": "574b2a2c-eead-4faa-9cbe-92a759cba04e",
   "metadata": {},
   "source": [
    "<table id=Conclusions style=\"width:100%\">\n",
    "<tr><td><h1>Conclusions</h1></td><td><a href=\"#header\"><img src=\"https://30percentclub.org/wp-content/uploads/2021/07/back-to-top-icon-01.svg\" width=\"70\" height=\"70\" align=\"right\"></a></td></tr>\n",
    "</table>"
   ]
  },
  {
   "cell_type": "markdown",
   "id": "4a1a490d-bbf1-41f6-9c0d-587d32f2a526",
   "metadata": {},
   "source": [
    "- improving modules\n",
    "- learned from others\n",
    "- tip of the iceberg\n"
   ]
  },
  {
   "cell_type": "markdown",
   "id": "306abf5e-b1ad-42eb-8617-2b06d3a2c77f",
   "metadata": {},
   "source": [
    "<table id=References style=\"width:100%\">\n",
    "<tr><td><h1>References</h1></td><td><a href=\"#header\"><img src=\"https://30percentclub.org/wp-content/uploads/2021/07/back-to-top-icon-01.svg\" width=\"70\" height=\"70\" align=\"right\"></a></td></tr>\n",
    "</table>"
   ]
  },
  {
   "cell_type": "markdown",
   "id": "1ae60d3c-36db-4335-ac72-45e0c4e96b34",
   "metadata": {},
   "source": [
    "Main:\n",
    "https://www.kaggle.com/competitions/house-prices-advanced-regression-techniques/data\n",
    "\n",
    "\n",
    "PCA:\n",
    "\n",
    "https://www.kaggle.com/code/mgmarques/houses-prices-complete-solution\n",
    "\n",
    "\n",
    "https://www.kaggle.com/code/massquantity/all-you-need-is-pca-lb-0-11421-top-4\n",
    "\n",
    "https://www.kaggle.com/code/willkoehrsen/introduction-to-feature-selection\n",
    "\n",
    "preprocessing, , heatmap, PCA, submission:\n",
    "https://www.kaggle.com/code/ryanholbrook/feature-engineering-for-house-prices\n",
    "\n",
    "Ensemble:\n",
    "https://www.kaggle.com/code/lavanyashukla01/how-i-made-top-0-3-on-a-kaggle-competition\n",
    "\n",
    "\n",
    "https://www.kaggle.com/code/pmarcelino/comprehensive-data-exploration-with-python\n",
    "\n",
    "submission example: \n",
    "https://www.kaggle.com/code/alexisbcook/titanic-tutorial/notebook\n",
    "\n",
    "Missing Data refference from: \n",
    "https://www.kaggle.com/code/serigne/stacked-regressions-top-4-on-leaderboard\n",
    "\n",
    "heatmap:\n",
    "https://stackoverflow.com/questions/66171071/how-to-restrict-a-correlation-heatmap-to-interesting-cells-and-add-stars-to-mark\n",
    "\n",
    "https://stackoverflow.com/questions/71350386/how-to-change-the-font-labels-of-heatmap\n",
    "\n",
    "outliers:\n",
    "https://medium.com/analytics-vidhya/removing-outliers-understanding-how-and-what-behind-the-magic-18a78ab480ff\n",
    "\n",
    "https://chat.openai.com/chat\n",
    "\n",
    "https://www.geeksforgeeks.org/how-to-set-the-spacing-between-subplots-in-matplotlib-in-python/\n",
    "\n",
    "https://realpython.com/python-enumerate/\n",
    "\n",
    "https://scikit-learn.org/stable/modules/generated/sklearn.ensemble.ExtraTreesRegressor.html\n",
    "\n",
    "https://matplotlib.org/stable/gallery/color/named_colors.html\n",
    "\n",
    "https://stackoverflow.com/questions/9074996/how-to-annotate-point-on-a-scatter-automatically-placed-arrow\n",
    "\n",
    "https://www.w3schools.com/\n",
    "\n",
    "\n",
    "https://unicode.org/emoji/charts/full-emoji-list.html"
   ]
  },
  {
   "cell_type": "code",
   "execution_count": null,
   "id": "dac55081-24d1-4aae-a1b5-76f55b989193",
   "metadata": {},
   "outputs": [],
   "source": []
  }
 ],
 "metadata": {
  "kernelspec": {
   "display_name": "Python 3 (ipykernel)",
   "language": "python",
   "name": "python3"
  },
  "language_info": {
   "codemirror_mode": {
    "name": "ipython",
    "version": 3
   },
   "file_extension": ".py",
   "mimetype": "text/x-python",
   "name": "python",
   "nbconvert_exporter": "python",
   "pygments_lexer": "ipython3",
   "version": "3.9.12"
  }
 },
 "nbformat": 4,
 "nbformat_minor": 5
}
