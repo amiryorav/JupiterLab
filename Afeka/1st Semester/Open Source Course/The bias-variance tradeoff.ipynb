{
 "cells": [
  {
   "cell_type": "markdown",
   "id": "f3050a09-e35f-4298-81f4-853f85c7a6f9",
   "metadata": {},
   "source": [
    "## The bias-variance tradeoff\n",
    "The bias-variance tradeoff is a fundamental concept in machine learning and statistical modeling. It refers to the tradeoff between the complexity of a model and the ability of the model to fit the training data well.\n",
    "\n",
    "A model with high bias is one that makes relatively simple assumptions about the data and tends to underfit the training data. Such a model may have a high bias because it is too simple to capture the complexity of the data, or because it is using a poor set of features to make predictions. Models with high bias are often characterized by high error on both the training and the test sets, as they are unable to accurately capture the underlying relationships in the data.\n",
    "\n",
    "On the other hand, a model with high variance is one that makes very complex assumptions about the data and tends to overfit the training data. Such a model may have a high variance because it is too flexible and is able to fit the noise in the training data, rather than just the underlying pattern. Models with high variance are often characterized by low error on the training set, but high error on the test set, as they are able to fit the training data well, but are not able to generalize to new data.\n",
    "\n",
    "The bias-variance tradeoff is important because in order to build a good machine learning model, we want to find a balance between bias and variance. A model with too much bias will be too simple and will not capture the complexity of the data, leading to poor performance. On the other hand, a model with too much variance will be too sensitive to the noise in the training data and will not generalize well to new data, also leading to poor performance. The goal is to find a model that is complex enough to capture the underlying pattern in the data, but not so complex that it is sensitive to the noise in the data.\n",
    "In machine learning and statistical modeling, the bias-variance tradeoff can be formalized using the following formulas:\n",
    "\n",
    "Bias: Bias measures how far off the predicted values are from the true values. It can be calculated as the mean squared error (MSE) between the predicted values and the true values.\n",
    "$$Bias = \\frac{1}{n} \\sum_{i=1}^{n} (y_i - \\hat{y}_i)^2$$\n",
    "\n",
    "Variance: Variance measures the spread or dispersion of the predicted values around the mean. It can be calculated as the variance of the predicted values.\n",
    "$$Variance = \\frac{1}{n} \\sum_{i=1}^{n} (\\hat{y}_i - \\mu{\\hat{y}})^2$$\n",
    "\n",
    "Mean squared error (MSE): MSE is a measure of the overall error of a model. It can be calculated as the sum of the bias and the variance.\n",
    "$$MSE = Bias + Variance$$\n",
    "\n",
    "The bias-variance tradeoff can be visualized by plotting the MSE as a function of the model complexity. As the complexity of the model increases, the bias decreases and the variance increases. At some point, the MSE will reach a minimum, indicating the optimal balance between bias and variance. This minimum is called the \"sweet spot\" of the model.\n",
    "\n",
    "In practice, finding the optimal balance between bias and variance is a key challenge in machine learning and statistical modeling. It requires a good understanding of the data and the problem at hand, as well as a careful selection of the model complexity and the model hyperparameters."
   ]
  },
  {
   "cell_type": "code",
   "execution_count": null,
   "id": "1fcbecbc-9ddb-4f62-8c31-9ece43e8062d",
   "metadata": {},
   "outputs": [],
   "source": []
  }
 ],
 "metadata": {
  "kernelspec": {
   "display_name": "Python 3 (ipykernel)",
   "language": "python",
   "name": "python3"
  },
  "language_info": {
   "codemirror_mode": {
    "name": "ipython",
    "version": 3
   },
   "file_extension": ".py",
   "mimetype": "text/x-python",
   "name": "python",
   "nbconvert_exporter": "python",
   "pygments_lexer": "ipython3",
   "version": "3.9.12"
  }
 },
 "nbformat": 4,
 "nbformat_minor": 5
}
