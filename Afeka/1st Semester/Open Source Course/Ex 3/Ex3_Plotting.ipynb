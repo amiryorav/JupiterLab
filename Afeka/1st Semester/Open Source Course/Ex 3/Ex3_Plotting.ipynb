{
 "cells": [
  {
   "cell_type": "code",
   "execution_count": 116,
   "id": "faad3411-0b59-4ae3-8b92-0603a83dd93b",
   "metadata": {},
   "outputs": [],
   "source": [
    "import pandas as pd\n",
    "import numpy as np\n",
    "import matplotlib as mpl\n",
    "import matplotlib.pyplot as plt\n",
    "%matplotlib widget\n",
    "%matplotlib inline"
   ]
  },
  {
   "cell_type": "markdown",
   "id": "2d093207-3852-41e1-95c4-614399b975af",
   "metadata": {},
   "source": [
    "### arange"
   ]
  },
  {
   "cell_type": "markdown",
   "id": "f4c39150-a0e4-43fb-a89d-2ffbefe4eb93",
   "metadata": {},
   "source": [
    "**Create a series of (x,y) points. \n",
    "Start with creating an array of “x” values = 100 numbers from 0 to 99: Import numpy, and use the “arange” function to define the range of numbers.\n",
    "Now create y values, using some function y(x).\n",
    "Start with implementing the identity function y(x) = x. (hint – this function just needs to “copy” the x values)**"
   ]
  },
  {
   "cell_type": "code",
   "execution_count": 117,
   "id": "b2557e2a-0650-4a89-aa10-e090cb910b0f",
   "metadata": {},
   "outputs": [],
   "source": [
    "x_values = np.arange(0,99,1)"
   ]
  },
  {
   "cell_type": "code",
   "execution_count": 118,
   "id": "51b2d9dc-f66b-4cfb-8930-ec89c5bc0936",
   "metadata": {},
   "outputs": [
    {
     "data": {
      "text/plain": [
       "array([ 0,  1,  2,  3,  4,  5,  6,  7,  8,  9, 10, 11, 12, 13, 14, 15, 16,\n",
       "       17, 18, 19, 20, 21, 22, 23, 24, 25, 26, 27, 28, 29, 30, 31, 32, 33,\n",
       "       34, 35, 36, 37, 38, 39, 40, 41, 42, 43, 44, 45, 46, 47, 48, 49, 50,\n",
       "       51, 52, 53, 54, 55, 56, 57, 58, 59, 60, 61, 62, 63, 64, 65, 66, 67,\n",
       "       68, 69, 70, 71, 72, 73, 74, 75, 76, 77, 78, 79, 80, 81, 82, 83, 84,\n",
       "       85, 86, 87, 88, 89, 90, 91, 92, 93, 94, 95, 96, 97, 98])"
      ]
     },
     "execution_count": 118,
     "metadata": {},
     "output_type": "execute_result"
    }
   ],
   "source": [
    "x_values"
   ]
  },
  {
   "cell_type": "markdown",
   "id": "2685ca2e-d13c-46b7-a889-28740c2d89ea",
   "metadata": {},
   "source": [
    "**Plot the points (x,y) you created in a scatter plot. Use the functions “rcParams” and “scatter”.**"
   ]
  },
  {
   "cell_type": "code",
   "execution_count": 119,
   "id": "92afec9c-6a16-4cd9-ac74-8f53d4c7f7eb",
   "metadata": {},
   "outputs": [],
   "source": [
    "def Y_function (x):\n",
    "    return x"
   ]
  },
  {
   "cell_type": "code",
   "execution_count": 120,
   "id": "ba300a0c-80c7-4dc9-8ce9-52313433ae0e",
   "metadata": {},
   "outputs": [],
   "source": [
    "y_values = x_values\n",
    "for i in range(99): \n",
    "    y_values[i] = Y_function(x_values[i])"
   ]
  },
  {
   "cell_type": "code",
   "execution_count": 121,
   "id": "0cecd360-984d-485d-a857-23dd2b58b093",
   "metadata": {},
   "outputs": [
    {
     "data": {
      "text/plain": [
       "[<matplotlib.lines.Line2D at 0x1f42914aa60>]"
      ]
     },
     "execution_count": 121,
     "metadata": {},
     "output_type": "execute_result"
    },
    {
     "data": {
      "image/png": "[encoded data removed]",
      "text/plain": [
       "<Figure size 432x288 with 1 Axes>"
      ]
     },
     "metadata": {
      "needs_background": "light"
     },
     "output_type": "display_data"
    }
   ],
   "source": [
    "mpl.rcParams['lines.linewidth'] = 2\n",
    "mpl.rcParams['lines.linestyle'] = '--'\n",
    "plt.plot(x_values, y_values)"
   ]
  },
  {
   "cell_type": "markdown",
   "id": "4f303d50-d4a1-415b-9903-5eb5af4be7ec",
   "metadata": {},
   "source": [
    "**Add some noise (error) to your identity function: Create a  random noise which has a normal distribution, with mean of 0 and a standard deviation of 5. Use the “random.normal” function. And add the noise to your “y” values.\n",
    "To observe the effect of noise, it’s useful to see it together with the original “ideal” function of identity. \n",
    "Plot both the new, “noisy y” series and the old one in the same graph. \n",
    "To distinguish between the two, use different symbols for the new “noisy y” series, with the function “plot” and then “show”.**\n"
   ]
  },
  {
   "cell_type": "code",
   "execution_count": 122,
   "id": "443fad6a-a457-4a47-b3ce-52470d20a583",
   "metadata": {},
   "outputs": [],
   "source": [
    "y_values_noise = np.zeros(99)\n",
    "for i in range(99): \n",
    "    y_values_noise[i] = y_values[i]\n",
    "    \n",
    "\n",
    "noise = np.random.normal(0, 5, 99)\n",
    "for i in range(99): \n",
    "    y_values_noise[i] += noise[i]"
   ]
  },
  {
   "cell_type": "code",
   "execution_count": 123,
   "id": "f6c21dc5-acbc-4bee-a454-1d8dca2800d9",
   "metadata": {},
   "outputs": [
    {
     "data": {
      "image/png": "[encoded data removed]",
      "text/plain": [
       "<Figure size 432x288 with 1 Axes>"
      ]
     },
     "metadata": {
      "needs_background": "light"
     },
     "output_type": "display_data"
    }
   ],
   "source": [
    "fig = plt.figure()\n",
    "ax = fig.add_subplot(111)\n",
    "ax.plot(x_values, y_values, color='blue')\n",
    "ax.scatter(x_values,y_values_noise,color='red',marker='^')\n",
    "plt.show()"
   ]
  },
  {
   "cell_type": "markdown",
   "id": "4824f0b4-23ab-4f2c-9f34-ecef2b84ee22",
   "metadata": {},
   "source": [
    "**Again, the best start is our visual observation:  Before calculating the distance observe the distances of each new point to its original ideal point on the graph: To make it easier to observe, add lines that represent the distance of each noisy point from its ideal point to the graph you plotted. You can explore and use the function “zip”.**"
   ]
  },
  {
   "cell_type": "code",
   "execution_count": 124,
   "id": "0a24bd0a-4ef7-47bf-9f71-15b5e1fa2d9c",
   "metadata": {},
   "outputs": [
    {
     "name": "stdout",
     "output_type": "stream",
     "text": [
      "((0, -5.965863923116014), (1, 3.2958021621869844), (2, 6.779162716403144), (3, 8.758653136377694), (4, 2.426326748742037), (5, 6.032548398830279), (6, 8.051173502648219), (7, 6.772272196405404), (8, 12.31042324601636), (9, 13.766777950761735), (10, 13.709141484091706), (11, 9.311539153955405), (12, 12.28047397969404), (13, 13.747213404973401), (14, 19.66265379271121), (15, 10.50704876558485), (16, 16.133307822499184), (17, 25.336236047008548), (18, 17.15824610129571), (19, 22.04768347908997), (20, 24.036946227411303), (21, 20.258487953912752), (22, 16.530540401212065), (23, 19.471976163663896), (24, 22.324271204928422), (25, 28.747713537609638), (26, 22.208358386876125), (27, 28.09869015355937), (28, 25.303532780347076), (29, 26.582245191987038), (30, 32.35343148426015), (31, 32.532998049903476), (32, 39.637421864089376), (33, 26.095173065245117), (34, 40.55677589274927), (35, 29.378279325941325), (36, 35.13061116428553), (37, 34.058425065510654), (38, 32.85534795932479), (39, 38.255614353661755), (40, 38.27290191862393), (41, 41.412549982605235), (42, 32.14034920482406), (43, 49.451961557135384), (44, 45.82992652455458), (45, 45.05732689907655), (46, 44.84078842268032), (47, 52.93025135283295), (48, 46.44921995837774), (49, 55.54950976529679), (50, 58.350101789938655), (51, 51.16762896968155), (52, 51.805104705651495), (53, 59.34630998281941), (54, 53.230797664102845), (55, 60.81662435535059), (56, 58.4266861033909), (57, 59.2454803504686), (58, 50.61438559867432), (59, 60.00882859662285), (60, 57.112662925505234), (61, 59.69029102087304), (62, 70.32627055505816), (63, 63.05676850362424), (64, 68.70982663676124), (65, 69.27011761211459), (66, 66.03560037860245), (67, 60.60783254395802), (68, 68.58361330055898), (69, 61.38969929226395), (70, 68.71741379303842), (71, 75.08331202996915), (72, 69.47237742037116), (73, 70.67809383701169), (74, 77.92215227212438), (75, 67.79860564372002), (76, 72.69114108435657), (77, 71.4834539732964), (78, 76.80139088356869), (79, 73.34343656404768), (80, 78.94545255903905), (81, 81.18210399745273), (82, 88.41999376699401), (83, 89.4852394109742), (84, 85.08439951825079), (85, 91.79436445003412), (86, 93.91805262738784), (87, 85.71832435017257), (88, 93.21808730922089), (89, 96.29028717942083), (90, 97.77699618392938), (91, 87.80210032200492), (92, 102.29651085725094), (93, 93.87441660748546), (94, 91.62525751086976), (95, 84.50914929182), (96, 88.73587527952691), (97, 89.50447523400975), (98, 85.74535810663141))\n"
     ]
    }
   ],
   "source": [
    "ziped = zip(x_values, y_values_noise)\n",
    "\n",
    "#use the tuple() function to display a readable version of the result:\n",
    "\n",
    "print(tuple(ziped))"
   ]
  },
  {
   "cell_type": "markdown",
   "id": "97a255f7-66fb-426f-aee2-6a916cb0b802",
   "metadata": {},
   "source": [
    "## MSE\n",
    "\n",
    "1.\tMSE - Mean Squared Error = Take the distance and raise it to the power of 2 to get dist^2. \n",
    "\n",
    "2.\tMAE - Mean Absolute Error = Take the absolute value of the distance to get |dist|.\n"
   ]
  },
  {
   "cell_type": "code",
   "execution_count": 125,
   "id": "af66a9a9-a639-49ab-9f60-fd13ae3bb8d7",
   "metadata": {},
   "outputs": [],
   "source": [
    "def MSE (tuple_ziped):\n",
    "    length = len(tuple_ziped)\n",
    "    MSE = 0\n",
    "    for i in range (length):\n",
    "        MSE += ((tuple_ziped[i][0]-tuple_ziped[i][1])**2 / length)\n",
    "\n",
    "    return MSE"
   ]
  },
  {
   "cell_type": "code",
   "execution_count": 126,
   "id": "8c11e0a9-34b2-4127-bd75-11733aa187b3",
   "metadata": {},
   "outputs": [
    {
     "data": {
      "text/plain": [
       "23.057211657699423"
      ]
     },
     "execution_count": 126,
     "metadata": {},
     "output_type": "execute_result"
    }
   ],
   "source": [
    "ziped1 = zip(x_values, y_values_noise)\n",
    "MSE (tuple(ziped1))"
   ]
  },
  {
   "cell_type": "markdown",
   "id": "0865fac1-e612-4171-a751-6a9ddce1a5b5",
   "metadata": {},
   "source": [
    "## calc MSE function"
   ]
  },
  {
   "cell_type": "code",
   "execution_count": 127,
   "id": "dc1c4b27-57ed-4b28-a277-e2af2528cd32",
   "metadata": {},
   "outputs": [],
   "source": [
    "def Calc_MSE (y_original, y_hat):\n",
    "    length = len(y_original)\n",
    "    MSE = 0\n",
    "    for i in range (length):\n",
    "        MSE += ((y_original[i]-y_hat[i])**2)/length\n",
    "    return MSE"
   ]
  },
  {
   "cell_type": "code",
   "execution_count": 128,
   "id": "0562bab4-9d72-4cfb-ba7a-8f00f77af6ea",
   "metadata": {},
   "outputs": [
    {
     "data": {
      "text/plain": [
       "23.057211657699423"
      ]
     },
     "execution_count": 128,
     "metadata": {},
     "output_type": "execute_result"
    }
   ],
   "source": [
    "Calc_MSE (y_values,y_values_noise)"
   ]
  },
  {
   "cell_type": "markdown",
   "id": "a8a6b405-fee8-4f9e-8442-61baad522e9c",
   "metadata": {},
   "source": [
    "## show graph function"
   ]
  },
  {
   "cell_type": "code",
   "execution_count": 129,
   "id": "00e4d006-baed-4cea-83e6-02e42e401339",
   "metadata": {},
   "outputs": [],
   "source": [
    "def Show_Graph (x, y_original, y_hat):\n",
    "    MSE = Calc_MSE(y_original, y_hat)\n",
    "    MSE_Text = \"MSE = {mse:.2f}\"\n",
    "    \n",
    "    mpl.rcParams['lines.linestyle'] = ''\n",
    "    fig = plt.figure()\n",
    "    ax = fig.add_subplot(111)\n",
    "    ax.plot(x, y_original, color='blue', label=\"y_original\", marker = 'o', ms = 2)\n",
    "    ax.scatter(x,y_hat,color='red',marker='x', label=\"y_hat\",s=8)\n",
    "    plt.errorbar(x, y_original, (y_hat-y_original), mfc='red', ms=1, mew=0 , lolims=True)# ,xuplims=upperlimits, xlolims=lowerlimits\n",
    "    ax.set(title=MSE_Text.format(mse = MSE), ylabel='Y-Axis', xlabel='X-Axis')\n",
    "    ax.legend(loc='best')\n",
    "    plt.grid()\n",
    "    #plt.text(-5, 60, MSE_Text.format(mse = MSE), fontsize = 15)\n",
    "    plt.show()"
   ]
  },
  {
   "cell_type": "code",
   "execution_count": 130,
   "id": "d501d9b5-1fd9-4b17-a6de-ed3f91bea58b",
   "metadata": {},
   "outputs": [
    {
     "data": {
      "image/png": "[encoded data removed]",
      "text/plain": [
       "<Figure size 432x288 with 1 Axes>"
      ]
     },
     "metadata": {
      "needs_background": "light"
     },
     "output_type": "display_data"
    }
   ],
   "source": [
    "Show_Graph(x_values, y_values, y_values_noise)"
   ]
  },
  {
   "cell_type": "markdown",
   "id": "11f17794-5c11-49c4-986a-128cacf460c3",
   "metadata": {},
   "source": [
    "## add noise function"
   ]
  },
  {
   "cell_type": "code",
   "execution_count": 131,
   "id": "3aefebbc-e5f1-4a45-8a1d-ad34a8a14d60",
   "metadata": {},
   "outputs": [],
   "source": [
    "def Add_Noise (y_original, noise_center, noise_std):\n",
    "    \n",
    "    length = len(y_original)\n",
    "    y_hat = np.empty(length, dtype=object)\n",
    "    noise = np.random.normal(noise_center, noise_std, length)\n",
    "    \n",
    "    for i in range (length):\n",
    "        y_hat[i] = y_original[i] + noise[i]\n",
    "        \n",
    "    return y_hat"
   ]
  },
  {
   "cell_type": "code",
   "execution_count": 132,
   "id": "0251d1db-6d01-4e01-96d6-e13204a6aa1a",
   "metadata": {},
   "outputs": [
    {
     "data": {
      "image/png": "[encoded data removed]",
      "text/plain": [
       "<Figure size 432x288 with 1 Axes>"
      ]
     },
     "metadata": {
      "needs_background": "light"
     },
     "output_type": "display_data"
    }
   ],
   "source": [
    "x = np.linspace(0, 10, 50)\n",
    "y_original = np.sin(x)\n",
    "y_noise = Add_Noise (y_original, 0, 0.1)\n",
    "Show_Graph(x, y_original, y_noise)"
   ]
  },
  {
   "cell_type": "markdown",
   "id": "d6703580-996f-4e49-ae32-b3da081d38c5",
   "metadata": {},
   "source": [
    "### Random Seed example"
   ]
  },
  {
   "cell_type": "code",
   "execution_count": 133,
   "id": "8dcb5ac8-9726-4278-8ea1-88fe803ce046",
   "metadata": {},
   "outputs": [
    {
     "name": "stdout",
     "output_type": "stream",
     "text": [
      "[50, 98, 54]\n"
     ]
    }
   ],
   "source": [
    "import random\n",
    "random.seed(0)\n",
    "print(random.sample(range(1, 100), 3)) "
   ]
  },
  {
   "cell_type": "markdown",
   "id": "95bca3b8-80d5-4e26-b5cb-adbf2f07de6d",
   "metadata": {
    "tags": []
   },
   "source": [
    "## ScyPy interpolate"
   ]
  },
  {
   "cell_type": "code",
   "execution_count": 134,
   "id": "fcd38b29-913b-4392-817e-012343b6d0b7",
   "metadata": {},
   "outputs": [
    {
     "data": {
      "image/png": "[encoded data removed]",
      "text/plain": [
       "<Figure size 432x288 with 1 Axes>"
      ]
     },
     "metadata": {
      "needs_background": "light"
     },
     "output_type": "display_data"
    }
   ],
   "source": [
    "from scipy import interpolate\n",
    "\n",
    "f = interpolate.interp1d(x, y_original)\n",
    "\n",
    "xnew = np.linspace(0, 10, 100)\n",
    "ynew = f(xnew)   # use interpolation function returned by `interp1d`\n",
    "plt.plot(x, y_original, 'o', xnew, ynew, '*')\n",
    "plt.show()"
   ]
  },
  {
   "cell_type": "code",
   "execution_count": 135,
   "id": "df4a9748-ba61-4905-85bc-fbe31f6d7eb7",
   "metadata": {},
   "outputs": [
    {
     "data": {
      "image/png": "[encoded data removed]",
      "text/plain": [
       "<Figure size 432x288 with 1 Axes>"
      ]
     },
     "metadata": {
      "needs_background": "light"
     },
     "output_type": "display_data"
    }
   ],
   "source": [
    "x = np.linspace(0, 10, 50)\n",
    "y_original = np.sin(x)\n",
    "y_other = np.cos(x)\n",
    "y_noise = Add_Noise (y_other, 0, 0.00)\n",
    "Show_Graph(x, y_original, y_noise)"
   ]
  },
  {
   "cell_type": "markdown",
   "id": "87cd30f3-c378-407d-aa0b-7a436354624a",
   "metadata": {},
   "source": [
    "**Insert different sd for the identity and sin functions and a log function, and observe how does the MSE changes. Produce graphs for each functions with SD values of 5,3,1 and 0**"
   ]
  },
  {
   "cell_type": "code",
   "execution_count": 136,
   "id": "0ce82525-ceb4-4413-bd64-eaf80b30e5c0",
   "metadata": {},
   "outputs": [
    {
     "data": {
      "image/png": "[encoded data removed]",
      "text/plain": [
       "<Figure size 432x288 with 1 Axes>"
      ]
     },
     "metadata": {
      "needs_background": "light"
     },
     "output_type": "display_data"
    }
   ],
   "source": [
    "x = np.linspace(2, 10, 50)\n",
    "y_original = (np.linspace(2, 10, 50))*0.25\n",
    "y_other = np.log(x)\n",
    "y_noise = Add_Noise (y_other, 0, 0.00)\n",
    "Show_Graph(x, y_original, y_noise)"
   ]
  },
  {
   "cell_type": "markdown",
   "id": "4e6082f4-71d5-450c-b9e1-21752c4febaf",
   "metadata": {},
   "source": [
    "# sympy"
   ]
  },
  {
   "cell_type": "code",
   "execution_count": 137,
   "id": "4bf2134d-8b44-4177-9257-28bd294b9161",
   "metadata": {},
   "outputs": [],
   "source": [
    "from sympy import *"
   ]
  },
  {
   "cell_type": "code",
   "execution_count": 138,
   "id": "82926310-50db-4028-bd8d-fa67a181fc56",
   "metadata": {},
   "outputs": [
    {
     "data": {
      "text/latex": [
       "$\\displaystyle \\sqrt{3}$"
      ],
      "text/plain": [
       "sqrt(3)"
      ]
     },
     "execution_count": 138,
     "metadata": {},
     "output_type": "execute_result"
    }
   ],
   "source": [
    "sqrt(3)"
   ]
  },
  {
   "cell_type": "code",
   "execution_count": 139,
   "id": "1dac3d47-e652-47f6-b0be-f36e6b1ad4f8",
   "metadata": {},
   "outputs": [
    {
     "data": {
      "text/latex": [
       "$\\displaystyle x + 2 y$"
      ],
      "text/plain": [
       "x + 2*y"
      ]
     },
     "execution_count": 139,
     "metadata": {},
     "output_type": "execute_result"
    }
   ],
   "source": [
    "x, y = symbols('x y')\n",
    "expr = x + 2*y\n",
    "expr\n",
    "x + 2*y"
   ]
  },
  {
   "cell_type": "code",
   "execution_count": 140,
   "id": "5b388240-c243-4694-a3e0-5f305288e24d",
   "metadata": {},
   "outputs": [
    {
     "data": {
      "text/latex": [
       "$\\displaystyle e^{x} \\sin{\\left(x \\right)} + e^{x} \\cos{\\left(x \\right)}$"
      ],
      "text/plain": [
       "exp(x)*sin(x) + exp(x)*cos(x)"
      ]
     },
     "execution_count": 140,
     "metadata": {},
     "output_type": "execute_result"
    }
   ],
   "source": [
    "diff(sin(x)*exp(x), x)"
   ]
  },
  {
   "cell_type": "code",
   "execution_count": 141,
   "id": "a4f1a8a8-ae6b-479a-892b-fd4415b40cd7",
   "metadata": {},
   "outputs": [
    {
     "data": {
      "text/latex": [
       "$\\displaystyle e^{x} \\sin{\\left(x \\right)}$"
      ],
      "text/plain": [
       "exp(x)*sin(x)"
      ]
     },
     "execution_count": 141,
     "metadata": {},
     "output_type": "execute_result"
    }
   ],
   "source": [
    "integrate(exp(x)*sin(x) + exp(x)*cos(x), x)"
   ]
  },
  {
   "cell_type": "code",
   "execution_count": 142,
   "id": "29e455c1-8d10-4410-be44-ef53c0b06fb1",
   "metadata": {},
   "outputs": [
    {
     "data": {
      "text/latex": [
       "$\\displaystyle \\frac{\\sqrt{2} \\sqrt{\\pi}}{2}$"
      ],
      "text/plain": [
       "sqrt(2)*sqrt(pi)/2"
      ]
     },
     "execution_count": 142,
     "metadata": {},
     "output_type": "execute_result"
    }
   ],
   "source": [
    "integrate(sin(x**2), (x, -oo, oo))"
   ]
  },
  {
   "cell_type": "code",
   "execution_count": 143,
   "id": "75e6daee-50aa-4b28-8372-c3fc19b41c4f",
   "metadata": {},
   "outputs": [
    {
     "data": {
      "text/plain": [
       "{3/2 - sqrt(17)/2: 1, 3/2 + sqrt(17)/2: 1}"
      ]
     },
     "execution_count": 143,
     "metadata": {},
     "output_type": "execute_result"
    }
   ],
   "source": [
    "Matrix([[1, 2], [2, 2]]).eigenvals()"
   ]
  },
  {
   "cell_type": "code",
   "execution_count": 161,
   "id": "a131a836-a74a-49d6-b935-360353e100c2",
   "metadata": {},
   "outputs": [
    {
     "data": {
      "text/plain": [
       "'\\\\int\\\\limits_{0}^{\\\\pi} \\\\cos^{2}{\\\\left(x \\\\right)}\\\\, dx'"
      ]
     },
     "execution_count": 161,
     "metadata": {},
     "output_type": "execute_result"
    }
   ],
   "source": [
    "a = latex(Integral(cos(x)**2, (x, 0, pi)))\n",
    "a"
   ]
  },
  {
   "cell_type": "code",
   "execution_count": 160,
   "id": "ed22821f-f77d-4387-915f-e545ed7121c8",
   "metadata": {},
   "outputs": [
    {
     "data": {
      "text/latex": [
       "$\\displaystyle \\int\\limits_{0}^{\\pi} \\cos^{2}{\\left(x \\right)}\\, dx$"
      ],
      "text/plain": [
       "<IPython.core.display.Math object>"
      ]
     },
     "metadata": {},
     "output_type": "display_data"
    }
   ],
   "source": [
    "from IPython.display import display, Math, Latex\n",
    "display(Math(a))"
   ]
  },
  {
   "cell_type": "code",
   "execution_count": 145,
   "id": "9b73ca6c-54da-4c4f-a0c2-ace49a0d0cb9",
   "metadata": {},
   "outputs": [
    {
     "data": {
      "text/plain": [
       "True"
      ]
     },
     "execution_count": 145,
     "metadata": {},
     "output_type": "execute_result"
    }
   ],
   "source": [
    "a = cos(x)**2 - sin(x)**2\n",
    "b = cos(2*x)\n",
    "a.equals(b)"
   ]
  },
  {
   "cell_type": "code",
   "execution_count": 146,
   "id": "e82d8fb7-dfac-4666-8f55-194037192122",
   "metadata": {},
   "outputs": [
    {
     "data": {
      "text/latex": [
       "$\\displaystyle 40$"
      ],
      "text/plain": [
       "40"
      ]
     },
     "execution_count": 146,
     "metadata": {},
     "output_type": "execute_result"
    }
   ],
   "source": [
    "z=0\n",
    "expr = x**3 + 4*x*y - z\n",
    "expr.subs([(x, 2), (y, 4), (z, 0)])"
   ]
  },
  {
   "cell_type": "code",
   "execution_count": 147,
   "id": "b420d6d5-7dd6-438b-9f35-4da79d8fce4b",
   "metadata": {},
   "outputs": [
    {
     "data": {
      "text/latex": [
       "$\\displaystyle \\left[\\begin{matrix}1 & -1\\\\3 & 4\\\\0 & 2\\end{matrix}\\right]$"
      ],
      "text/plain": [
       "Matrix([\n",
       "[1, -1],\n",
       "[3,  4],\n",
       "[0,  2]])"
      ]
     },
     "execution_count": 147,
     "metadata": {},
     "output_type": "execute_result"
    }
   ],
   "source": [
    "Matrix([[1, -1], [3, 4], [0, 2]])"
   ]
  },
  {
   "cell_type": "code",
   "execution_count": 148,
   "id": "b41925b6-0340-402a-9796-49de8a4b242d",
   "metadata": {},
   "outputs": [
    {
     "data": {
      "text/latex": [
       "$\\displaystyle \\left[\\begin{matrix}5\\\\3\\end{matrix}\\right]$"
      ],
      "text/plain": [
       "Matrix([\n",
       "[5],\n",
       "[3]])"
      ]
     },
     "execution_count": 148,
     "metadata": {},
     "output_type": "execute_result"
    }
   ],
   "source": [
    "M = Matrix([[1, 2, 3], [3, 2, 1]])\n",
    "N = Matrix([0, 1, 1])\n",
    "M*N"
   ]
  },
  {
   "cell_type": "code",
   "execution_count": 149,
   "id": "85efa87d-67ff-4466-8bda-c3a1ac7f1f5a",
   "metadata": {},
   "outputs": [
    {
     "data": {
      "text/latex": [
       "$\\displaystyle 2 \\sqrt{7}$"
      ],
      "text/plain": [
       "2*sqrt(7)"
      ]
     },
     "execution_count": 149,
     "metadata": {},
     "output_type": "execute_result"
    }
   ],
   "source": [
    "sqrt(28)"
   ]
  },
  {
   "cell_type": "code",
   "execution_count": 150,
   "id": "de05b748-22a7-4cd8-bc54-ecd6f6d10be1",
   "metadata": {},
   "outputs": [
    {
     "data": {
      "text/latex": [
       "$\\displaystyle x + y$"
      ],
      "text/plain": [
       "x + y"
      ]
     },
     "execution_count": 150,
     "metadata": {},
     "output_type": "execute_result"
    }
   ],
   "source": [
    "x, y = symbols('x y')\n",
    "f = x + y\n",
    "f.subs({x:10, y: 20})\n",
    "f"
   ]
  },
  {
   "cell_type": "code",
   "execution_count": 151,
   "id": "4566c9f3-8bdf-4d2b-89fe-5c6d1d01215f",
   "metadata": {},
   "outputs": [
    {
     "data": {
      "text/latex": [
       "$\\displaystyle \\frac{\\sum_{i=1}^{n} \\left(- y{\\left({x}_{i} \\right)} + {t}_{i}\\right)^{2}}{n}$"
      ],
      "text/plain": [
       "Sum((-y(x[i]) + t[i])**2, (i, 1, n))/n"
      ]
     },
     "execution_count": 151,
     "metadata": {},
     "output_type": "execute_result"
    }
   ],
   "source": [
    "x = IndexedBase('x')\n",
    "t = IndexedBase('t')\n",
    "i, n = symbols('i n', cls=Idx)\n",
    "y = Function('y')\n",
    "f = Sum((-y((x[i]))+t[i])**2, (i, 1, n))/n\n",
    "f"
   ]
  },
  {
   "cell_type": "code",
   "execution_count": 152,
   "id": "1cae9e0a-bb82-4fba-afbb-070a0954006c",
   "metadata": {},
   "outputs": [
    {
     "data": {
      "text/latex": [
       "$\\displaystyle \\frac{\\sum_{i=1}^{n} - 2 \\left(- y{\\left({x}_{i} \\right)} + {t}_{i}\\right) \\frac{\\partial}{\\partial {x}_{i}} y{\\left({x}_{i} \\right)}}{n}$"
      ],
      "text/plain": [
       "Sum(-2*(-y(x[i]) + t[i])*Derivative(y(x[i]), x[i]), (i, 1, n))/n"
      ]
     },
     "execution_count": 152,
     "metadata": {},
     "output_type": "execute_result"
    }
   ],
   "source": [
    "dif = diff(f, x[i])\n",
    "dif"
   ]
  },
  {
   "cell_type": "code",
   "execution_count": 164,
   "id": "65a5ee0d-6595-4ccb-b1b7-e7db6b6f2a30",
   "metadata": {},
   "outputs": [
    {
     "data": {
      "text/plain": [
       "\"Mul(Pow(Idx(Symbol('n', integer=True)), Integer(-1)), Sum(Mul(Integer(-1), Integer(2), Add(Mul(Integer(-1), Function('y')(Indexed(IndexedBase(Symbol('x')), Idx(Symbol('i', integer=True))))), Indexed(IndexedBase(Symbol('t')), Idx(Symbol('i', integer=True)))), Derivative(Function('y')(Indexed(IndexedBase(Symbol('x')), Idx(Symbol('i', integer=True)))), Tuple(Indexed(IndexedBase(Symbol('x')), Idx(Symbol('i', integer=True))), Integer(1)))), Tuple(Idx(Symbol('i', integer=True)), Integer(1), Idx(Symbol('n', integer=True)))))\""
      ]
     },
     "execution_count": 164,
     "metadata": {},
     "output_type": "execute_result"
    }
   ],
   "source": [
    "srepr(dif)"
   ]
  },
  {
   "cell_type": "code",
   "execution_count": 154,
   "id": "622d3f0e-abe9-48c0-8263-d84df775e92f",
   "metadata": {},
   "outputs": [
    {
     "data": {
      "text/plain": [
       "'outputf.gv.pdf'"
      ]
     },
     "execution_count": 154,
     "metadata": {},
     "output_type": "execute_result"
    }
   ],
   "source": [
    "from graphviz import Source\n",
    "\n",
    "src = Source(dotprint(f))\n",
    "\n",
    "src.render('outputf.gv', view=True)"
   ]
  },
  {
   "cell_type": "code",
   "execution_count": 155,
   "id": "59871010-1970-4afb-a1c1-da936d728e2a",
   "metadata": {},
   "outputs": [
    {
     "data": {
      "text/plain": [
       "'output.gv.pdf'"
      ]
     },
     "execution_count": 155,
     "metadata": {},
     "output_type": "execute_result"
    }
   ],
   "source": [
    "from graphviz import Source\n",
    "\n",
    "a, b, c, x= symbols('a b c x')\n",
    "expr = a * b * cos( c * x ) + b\n",
    "\n",
    "src = Source(dotprint(expr))\n",
    "\n",
    "src.render('output.gv', view=True)"
   ]
  },
  {
   "cell_type": "code",
   "execution_count": null,
   "id": "86bcd395-93e6-476c-a653-e65958b09cb0",
   "metadata": {},
   "outputs": [],
   "source": []
  }
 ],
 "metadata": {
  "kernelspec": {
   "display_name": "Python 3 (ipykernel)",
   "language": "python",
   "name": "python3"
  },
  "language_info": {
   "codemirror_mode": {
    "name": "ipython",
    "version": 3
   },
   "file_extension": ".py",
   "mimetype": "text/x-python",
   "name": "python",
   "nbconvert_exporter": "python",
   "pygments_lexer": "ipython3",
   "version": "3.9.12"
  }
 },
 "nbformat": 4,
 "nbformat_minor": 5
}
