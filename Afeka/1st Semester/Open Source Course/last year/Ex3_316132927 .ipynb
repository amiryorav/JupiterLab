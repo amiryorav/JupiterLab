{
 "cells": [
  {
   "cell_type": "markdown",
   "metadata": {
    "id": "L0WKakqghpqy"
   },
   "source": [
    "Brian Rikshpun 316132927\n"
   ]
  },
  {
   "cell_type": "markdown",
   "metadata": {
    "id": "fXMMoX-mhpqz"
   },
   "source": [
    "### Import packages"
   ]
  },
  {
   "cell_type": "code",
   "execution_count": 1,
   "metadata": {
    "id": "VM7U-WP5hpqz"
   },
   "outputs": [],
   "source": [
    "import pandas as pd\n",
    "import seaborn as sns\n",
    "import numpy as np\n",
    "import matplotlib.pyplot as plt\n",
    "from sklearn.datasets import load_breast_cancer\n",
    "from sklearn.model_selection import train_test_split\n",
    "from sklearn.tree import DecisionTreeRegressor, DecisionTreeClassifier, export_graphviz\n",
    "from sklearn import tree\n",
    "import seaborn as sns\n",
    "from sklearn.metrics import mean_squared_error\n",
    "from sklearn.ensemble import RandomForestRegressor\n",
    "\n",
    "\n"
   ]
  },
  {
   "cell_type": "markdown",
   "metadata": {
    "id": "a9eh8APkhpq0"
   },
   "source": [
    "Q1) \n",
    "In this exercise you'll work with the [Wisconsin Breast Cancer](https://www.kaggle.com/uciml/breast-cancer-wisconsin-data) Dataset from the UCI machine learning repository. You'll predict whether a tumor is malignant or benign based on two features: the mean radius of the tumor (`mean radius`) and its mean number of concave points (`mean concave points`).\n",
    "\n",
    "a) \n",
    "- Import `load_breast_cancer` from sklearn.datasets.  \n",
    "- Load breast cancer into `data` variable.\n",
    "- Store data in `X` and target in `y`.  \n",
    "Note class 0 corresponds to a malignant tumor and class 1 corresponds to a benign tumor. \n",
    "- Extract from `X` columns 0 ('mean radius') and 7 ('mean concave points') and store back in `X`."
   ]
  },
  {
   "cell_type": "code",
   "execution_count": 2,
   "metadata": {
    "colab": {
     "base_uri": "https://localhost:8080/"
    },
    "id": "YO8Tm9MDhpq0",
    "outputId": "a70b8542-c169-4f87-a3e9-4b87bb045433"
   },
   "outputs": [
    {
     "name": "stdout",
     "output_type": "stream",
     "text": [
      "(569, 2)\n",
      "     mean radius  mean concave points\n",
      "0          17.99              0.14710\n",
      "1          20.57              0.07017\n",
      "2          19.69              0.12790\n",
      "3          11.42              0.10520\n",
      "4          20.29              0.10430\n",
      "..           ...                  ...\n",
      "564        21.56              0.13890\n",
      "565        20.13              0.09791\n",
      "566        16.60              0.05302\n",
      "567        20.60              0.15200\n",
      "568         7.76              0.00000\n",
      "\n",
      "[569 rows x 2 columns]\n",
      "     tumor\n",
      "0        0\n",
      "1        0\n",
      "2        0\n",
      "3        0\n",
      "4        0\n",
      "..     ...\n",
      "564      0\n",
      "565      0\n",
      "566      0\n",
      "567      0\n",
      "568      1\n",
      "\n",
      "[569 rows x 1 columns]\n"
     ]
    }
   ],
   "source": [
    "data = load_breast_cancer()\n",
    "#print (data)\n",
    "\n",
    "X = data.data\n",
    "X = X[:,[0,7]] #0 - Mean radius , 7 - Mean concave points\n",
    "y = data.target\n",
    "\n",
    "X = pd.DataFrame(X, columns=['mean radius', 'mean concave points'])\n",
    "y = pd.DataFrame(y, columns= ['tumor'])\n",
    "\n",
    "\n",
    "#print (X[:,[0,7]])\n",
    "print (X.shape)\n",
    "print (X)\n",
    "print (y)\n"
   ]
  },
  {
   "cell_type": "markdown",
   "metadata": {
    "id": "FbI6U_EThpq0"
   },
   "source": [
    "Q1)b)  \n",
    "- Plot `mean concave points` vs. `mean radius`.  \n",
    "- Calculate two coolean mask arrays `mask_benign` and `mask_malignant`.\n",
    "- Plot the benign data points as blue squares, and the malignant data points as red triangles.  \n",
    "- Add a figure title, axis labels, and a legend."
   ]
  },
  {
   "cell_type": "code",
   "execution_count": 3,
   "metadata": {
    "colab": {
     "base_uri": "https://localhost:8080/",
     "height": 295
    },
    "id": "WhzZDpflhpq1",
    "outputId": "c050a6a6-2543-44d3-f532-093a6a4e9db7"
   },
   "outputs": [
    {
     "data": {
      "image/png": "[encoded data removed]",
      "text/plain": [
       "<Figure size 432x288 with 1 Axes>"
      ]
     },
     "metadata": {
      "needs_background": "light"
     },
     "output_type": "display_data"
    }
   ],
   "source": [
    "\n",
    "X_0 = X[y['tumor'] == 0]\n",
    "X_1 = X[y['tumor'] == 1]\n",
    "\n",
    "plt.scatter(X_0['mean radius'],X_0['mean concave points'],c = 'r', marker = '^', label = 'malignant' )\n",
    "plt.scatter(X_1['mean radius'],X_1['mean concave points'],c = 'b', marker = 's', label = 'benign')\n",
    "\n",
    "plt.title(\"Breast Cancer Dataset\")\n",
    "plt.xlabel(\"mean radius\")\n",
    "plt.ylabel(\"mean concave points\")\n",
    "plt.legend(loc = \"upper left\")\n",
    "\n",
    "# colormap = np.array(['r','b'])\n",
    "# markermap = np.array(['^','s'])\n",
    "\n",
    "# plt.scatter(X['mean radius'],X['mean concave points'],c =colormap[y['tumor']])\n",
    "\n",
    "\n",
    "plt.show()"
   ]
  },
  {
   "cell_type": "markdown",
   "metadata": {
    "id": "q_bd28h1hpq1"
   },
   "source": [
    "Q1)c)  \n",
    "- Split the data into 80% train and 20% test. The feature matrices are assigned to `X_train` and `X_test`, while the arrays of labels are assigned to `y_train` and `y_test`. Set `stratify` to `y` and in order to obtain reproducible results, set `random_state` to 1.\n",
    "- Instantiate a DecisionTreeClassifier `dt` of maximum depth equal to `2`.\n",
    "- Fit `dt` to the training set.\n",
    "- Predict the test set labels and assign the result to `y_pred`.\n",
    "- Evaluate the test set accuracy score of `dt` by calling `accuracy_score()` and assign the value to `acc`."
   ]
  },
  {
   "cell_type": "code",
   "execution_count": 5,
   "metadata": {
    "colab": {
     "base_uri": "https://localhost:8080/"
    },
    "id": "cXQj1-8ahpq1",
    "outputId": "74269658-5a38-4166-af75-5a4642594bd0"
   },
   "outputs": [
    {
     "name": "stdout",
     "output_type": "stream",
     "text": [
      "Test set accuracy =  0.9210526315789473\n"
     ]
    }
   ],
   "source": [
    "from sklearn.metrics import accuracy_score\n",
    "\n",
    "\n",
    "X_train, X_test, y_train, y_test = train_test_split(X,y,test_size = 0.2, random_state = 1)\n",
    "\n",
    "dt = DecisionTreeClassifier(max_depth=2)\n",
    "dt.fit(X_train, y_train)\n",
    "\n",
    "y_pred = dt.predict(X_test)\n",
    "\n",
    "print(\"Test set accuracy = \" , accuracy_score(y_pred,y_test))\n",
    "\n",
    "#print(y_pred.reshape(-1,1).shape)\n",
    "#print(y_test.shape)\n"
   ]
  },
  {
   "cell_type": "markdown",
   "metadata": {
    "id": "Q95jK6pjhpq1"
   },
   "source": [
    "Q1)d)  \n",
    "Plot the tree using `tree.plot_tree`"
   ]
  },
  {
   "cell_type": "code",
   "execution_count": 6,
   "metadata": {
    "colab": {
     "base_uri": "https://localhost:8080/",
     "height": 587
    },
    "id": "HTTUVgR8hpq1",
    "outputId": "448ec691-3509-4fdc-a45b-8571748bee61"
   },
   "outputs": [
    {
     "data": {
      "text/plain": [
       "[Text(334.8, 362.4, 'mean concave points <= 0.049\\ngini = 0.468\\nsamples = 455\\nvalue = [170, 285]'),\n",
       " Text(167.4, 217.44, 'mean radius <= 15.025\\ngini = 0.091\\nsamples = 273\\nvalue = [13, 260]'),\n",
       " Text(83.7, 72.47999999999996, 'gini = 0.038\\nsamples = 258\\nvalue = [5, 253]'),\n",
       " Text(251.10000000000002, 72.47999999999996, 'gini = 0.498\\nsamples = 15\\nvalue = [8, 7]'),\n",
       " Text(502.20000000000005, 217.44, 'mean radius <= 15.16\\ngini = 0.237\\nsamples = 182\\nvalue = [157, 25]'),\n",
       " Text(418.5, 72.47999999999996, 'gini = 0.477\\nsamples = 56\\nvalue = [34, 22]'),\n",
       " Text(585.9, 72.47999999999996, 'gini = 0.046\\nsamples = 126\\nvalue = [123, 3]')]"
      ]
     },
     "execution_count": 6,
     "metadata": {},
     "output_type": "execute_result"
    },
    {
     "data": {
      "image/png": "[encoded data removed]",
      "text/plain": [
       "<Figure size 864x576 with 1 Axes>"
      ]
     },
     "metadata": {
      "needs_background": "light"
     },
     "output_type": "display_data"
    }
   ],
   "source": [
    "plt.figure(figsize=(12, 8))\n",
    "tree.plot_tree(dt,feature_names=X.columns, filled = True)"
   ]
  },
  {
   "cell_type": "markdown",
   "metadata": {
    "id": "c47M-95Zhpq2"
   },
   "source": [
    "Q1)e)  \n",
    "Plot decision regions:  \n",
    "- Find the minimum and maximum of the two features `'mean radius'` and `'mean concave points'`.  \n",
    "- Create a `50x50` meshgrid of points using `np.meshgrid` and  `np.linspace`.  \n",
    "- Predict the classes for all grid points and store in variable `'Z'`.  \n",
    "- Call `contourf` function with colormap `plt.cm.RdBu` to plot the decision regions\n",
    "- Call `scatter` to plot the data points."
   ]
  },
  {
   "cell_type": "code",
   "execution_count": 8,
   "metadata": {
    "colab": {
     "base_uri": "https://localhost:8080/",
     "height": 269
    },
    "id": "YmxP5sLNhpq2",
    "outputId": "b5284098-0b96-47e6-da3d-60c8101724c3"
   },
   "outputs": [
    {
     "data": {
      "image/png": "[encoded data removed]",
      "text/plain": [
       "<Figure size 432x288 with 1 Axes>"
      ]
     },
     "metadata": {
      "needs_background": "light"
     },
     "output_type": "display_data"
    }
   ],
   "source": [
    "\n",
    "\n",
    "x_min, x_max = X['mean radius'].min() - 1, X['mean radius'].max() + 1\n",
    "y_min, y_max = X['mean concave points'].min() - 1, X['mean concave points'].max() + 1\n",
    "xx, yy = np.meshgrid(np.linspace(x_min, x_max,100),\n",
    "                     np.linspace(y_min, y_max,100))\n",
    "\n",
    "#f, axarr = plt.subplots(2, 2, sharex='col', sharey='row', figsize=(10, 8))\n",
    "\n",
    "\n",
    "Z = dt.predict(np.c_[xx.ravel(), yy.ravel()])\n",
    "Z = Z.reshape(xx.shape)\n",
    "\n",
    "\n",
    "plt.contourf(xx, yy, Z, cmap = plt.cm.RdBu, alpha = 0.5)\n",
    "plt.scatter(X_0['mean radius'],X_0['mean concave points'],c = 'r' )\n",
    "plt.scatter(X_1['mean radius'],X_1['mean concave points'],c = 'b')\n",
    "\n",
    "plt.xlim(5.5,30)\n",
    "plt.ylim(0,0.25)\n",
    "\n",
    "plt.show()\n",
    "\n"
   ]
  },
  {
   "cell_type": "markdown",
   "metadata": {
    "id": "Z-jFf8K_8g-7"
   },
   "source": []
  },
  {
   "cell_type": "markdown",
   "metadata": {
    "id": "pC7Kta8Ehpq2"
   },
   "source": [
    "Q2) \n",
    "In this exercise, you'll train a regression tree to predict the 'mpg' (miles per gallon) consumption of cars in the auto-mpg dataset using the displacement feature 'displ'.\n",
    "\n",
    "a) \n",
    "- Read 'auto.csv' into a dataframe 'df'.  \n",
    "- Store the displacement feature `'disp'` in a column array `X`, and `'mpg'` column in a column array `y`. (You may want to  use pandas `values` attribute and numpy's array `reshape` method.)"
   ]
  },
  {
   "cell_type": "code",
   "execution_count": 9,
   "metadata": {
    "colab": {
     "base_uri": "https://localhost:8080/"
    },
    "id": "vFTKwQLihpq2",
    "outputId": "eeabc6ca-ab01-411d-8e3c-2f8d686c9d1f"
   },
   "outputs": [
    {
     "name": "stdout",
     "output_type": "stream",
     "text": [
      "(392, 1)\n",
      "(392, 1)\n"
     ]
    }
   ],
   "source": [
    "df = pd.read_csv('auto.csv')  \n",
    "\n",
    "X = df['displ'].to_numpy().reshape(-1,1)\n",
    "y = df['mpg'].to_numpy().reshape(-1,1)\n",
    "\n",
    "print(X.shape)\n",
    "print(y.shape)\n",
    "\n",
    "#display(df)\n"
   ]
  },
  {
   "cell_type": "markdown",
   "metadata": {
    "id": "YcVeSxLChpq2"
   },
   "source": [
    "Q2)b)  \n",
    "- Plot 'mpg' vs. 'displ' using seaborn's `scatterplot`.  "
   ]
  },
  {
   "cell_type": "code",
   "execution_count": 10,
   "metadata": {
    "colab": {
     "base_uri": "https://localhost:8080/",
     "height": 297
    },
    "id": "_RsmROWuhpq2",
    "outputId": "d3e1ed94-4438-41e9-c055-eb4220c42c82"
   },
   "outputs": [
    {
     "data": {
      "text/plain": [
       "<matplotlib.axes._subplots.AxesSubplot at 0x7f49dcea7990>"
      ]
     },
     "execution_count": 10,
     "metadata": {},
     "output_type": "execute_result"
    },
    {
     "data": {
      "image/png": "[encoded data removed]",
      "text/plain": [
       "<Figure size 432x288 with 1 Axes>"
      ]
     },
     "metadata": {
      "needs_background": "light"
     },
     "output_type": "display_data"
    }
   ],
   "source": [
    " sns.scatterplot(data = df, x = 'displ', y = 'mpg')\n",
    " \n",
    " #sns.scatterplot(data = df, x = df[df.columns[pos]], y = 'Happiness', hue = 'Region', ax = axes[pos3], legend = False)"
   ]
  },
  {
   "cell_type": "markdown",
   "metadata": {
    "id": "kkqIUcCQhpq3"
   },
   "source": [
    "Q2)c)  \n",
    "- Split the data into 80% train and 20% test. The feature matrices are assigned to X_train and X_test, while the arrays of labels are assigned to y_train and y_test. Set 'random_state' to 3.\n",
    "- Instantiate a DecisionTreeRegresor dt of `'max_depth'` equal to `4`, `'min_samples_leaf'` equal to 10% of training data, and `'random_state'` to `3`.\n",
    "- Fit `dt` to the training set.\n",
    "- Predict the test set labels and assign the result to `y_pred`.\n",
    "- Evaluate the test set MSE of dt by calling `mean_squared_error()` function and assign the value to `mse_dt`. Calculate the root mean squared error RMSE by raising MSE to the power of 1/2, and store it in variable `'rmse_dt'` and print it."
   ]
  },
  {
   "cell_type": "code",
   "execution_count": 11,
   "metadata": {
    "colab": {
     "base_uri": "https://localhost:8080/"
    },
    "id": "OGCB2ifHhpq3",
    "outputId": "d0a89f6b-b2ae-4181-e361-486cf4bb9b1d"
   },
   "outputs": [
    {
     "name": "stdout",
     "output_type": "stream",
     "text": [
      "MSE :  26.033535588548414\n",
      "RMSE :  5.102306888903137\n"
     ]
    }
   ],
   "source": [
    "X_train, X_test, y_train, y_test = train_test_split(X,y,test_size = 0.2, random_state = 3)\n",
    "\n",
    "dt = DecisionTreeRegressor(max_depth= 4 , min_samples_leaf = 0.1 , random_state=3)\n",
    "\n",
    "dt.fit(X_train,y_train)\n",
    "y_pred = dt.predict(X_test)\n",
    "\n",
    "mse_dt = mean_squared_error(y_test,y_pred)\n",
    "\n",
    "rmse_dt = np.power(mse_dt,0.5)\n",
    "\n",
    "print(\"MSE : \" , mse_dt)\n",
    "print(\"RMSE : \" , rmse_dt)\n"
   ]
  },
  {
   "cell_type": "code",
   "execution_count": null,
   "metadata": {
    "id": "AGjP-kJzhpq3"
   },
   "outputs": [],
   "source": []
  },
  {
   "cell_type": "markdown",
   "metadata": {
    "id": "sjOLNE-Khpq3"
   },
   "source": [
    "Q2)d)  \n",
    "Plot regression line:  \n",
    "- Find the minimum and maximum of the `'displ'` feature.  \n",
    "- Create 100 evenly spaced points between min and max `'displ'` feature values using `np.linspace`.  \n",
    "- Predict the values for all points and store in variable `'y1_pred'`.  \n",
    "- Plot `'y1_pred'` line in red with line width of 5.\n",
    "- Call `scatter` to plot the data points.\n",
    "- Add a figure title, axis labels, and a legend."
   ]
  },
  {
   "cell_type": "code",
   "execution_count": 12,
   "metadata": {
    "colab": {
     "base_uri": "https://localhost:8080/",
     "height": 281
    },
    "id": "fzMHQYirhpq4",
    "outputId": "3939d3f0-8701-43e2-d2ef-b3eb0a2db615"
   },
   "outputs": [
    {
     "data": {
      "image/png": "[encoded data removed]",
      "text/plain": [
       "<Figure size 432x288 with 1 Axes>"
      ]
     },
     "metadata": {
      "needs_background": "light"
     },
     "output_type": "display_data"
    }
   ],
   "source": [
    "min_disp = min(df['displ'])\n",
    "max_disp = max(df['displ'])\n",
    "\n",
    "onehp = np.linspace(min_disp,max_disp,100)\n",
    "\n",
    "y1_pred = dt.predict(onehp.reshape(-1,1))\n",
    "\n",
    "\n",
    "plt.scatter(df['displ'], df['mpg'], label = \"data\")\n",
    "plt.plot(onehp, y1_pred, c = 'red', linewidth = 5, label = \"max_depth = 4\")\n",
    "plt.title(\"Decision Tree Regression\")\n",
    "plt.legend()\n",
    "plt.show()\n"
   ]
  },
  {
   "cell_type": "markdown",
   "metadata": {
    "id": "jOZal2sOhpq4"
   },
   "source": [
    "Q3)  \n",
    "In this exercise you'll predict bike rental demand in the Capital Bikeshare program in Washington, D.C using historical weather data from the [Bike Sharing Demand](https://www.kaggle.com/c/bike-sharing-demand) dataset available through Kaggle. For this purpose, you will be using the random forests algorithm. As a first step, you'll define a random forests regressor and fit it to the training set.\n",
    "\n",
    "a) \n",
    "- Read 'bikes.csv' into a dataframe `'df'`.\n",
    "- Store the `'cnt'` column in target `y`, and all other columns in dataframe `X` (drop `'cnt'` column from `'df'`).\n",
    "- Display head of DataFrames `'df'`, `'X'`, and Series `'y'`."
   ]
  },
  {
   "cell_type": "code",
   "execution_count": 14,
   "metadata": {
    "colab": {
     "base_uri": "https://localhost:8080/",
     "height": 241
    },
    "id": "Rh5wDUC2hpq4",
    "outputId": "e548108d-23bb-4711-d835-ea48875978ac"
   },
   "outputs": [
    {
     "data": {
      "text/html": [
       "<div>\n",
       "<style scoped>\n",
       "    .dataframe tbody tr th:only-of-type {\n",
       "        vertical-align: middle;\n",
       "    }\n",
       "\n",
       "    .dataframe tbody tr th {\n",
       "        vertical-align: top;\n",
       "    }\n",
       "\n",
       "    .dataframe thead th {\n",
       "        text-align: right;\n",
       "    }\n",
       "</style>\n",
       "<table border=\"1\" class=\"dataframe\">\n",
       "  <thead>\n",
       "    <tr style=\"text-align: right;\">\n",
       "      <th></th>\n",
       "      <th>hr</th>\n",
       "      <th>holiday</th>\n",
       "      <th>workingday</th>\n",
       "      <th>temp</th>\n",
       "      <th>hum</th>\n",
       "      <th>windspeed</th>\n",
       "      <th>cnt</th>\n",
       "      <th>instant</th>\n",
       "      <th>mnth</th>\n",
       "      <th>yr</th>\n",
       "      <th>Clear to partly cloudy</th>\n",
       "      <th>Light Precipitation</th>\n",
       "      <th>Misty</th>\n",
       "    </tr>\n",
       "  </thead>\n",
       "  <tbody>\n",
       "    <tr>\n",
       "      <th>0</th>\n",
       "      <td>0</td>\n",
       "      <td>0</td>\n",
       "      <td>0</td>\n",
       "      <td>0.76</td>\n",
       "      <td>0.66</td>\n",
       "      <td>0.0000</td>\n",
       "      <td>149</td>\n",
       "      <td>13004</td>\n",
       "      <td>7</td>\n",
       "      <td>1</td>\n",
       "      <td>1</td>\n",
       "      <td>0</td>\n",
       "      <td>0</td>\n",
       "    </tr>\n",
       "    <tr>\n",
       "      <th>1</th>\n",
       "      <td>1</td>\n",
       "      <td>0</td>\n",
       "      <td>0</td>\n",
       "      <td>0.74</td>\n",
       "      <td>0.70</td>\n",
       "      <td>0.1343</td>\n",
       "      <td>93</td>\n",
       "      <td>13005</td>\n",
       "      <td>7</td>\n",
       "      <td>1</td>\n",
       "      <td>1</td>\n",
       "      <td>0</td>\n",
       "      <td>0</td>\n",
       "    </tr>\n",
       "    <tr>\n",
       "      <th>2</th>\n",
       "      <td>2</td>\n",
       "      <td>0</td>\n",
       "      <td>0</td>\n",
       "      <td>0.72</td>\n",
       "      <td>0.74</td>\n",
       "      <td>0.0896</td>\n",
       "      <td>90</td>\n",
       "      <td>13006</td>\n",
       "      <td>7</td>\n",
       "      <td>1</td>\n",
       "      <td>1</td>\n",
       "      <td>0</td>\n",
       "      <td>0</td>\n",
       "    </tr>\n",
       "    <tr>\n",
       "      <th>3</th>\n",
       "      <td>3</td>\n",
       "      <td>0</td>\n",
       "      <td>0</td>\n",
       "      <td>0.72</td>\n",
       "      <td>0.84</td>\n",
       "      <td>0.1343</td>\n",
       "      <td>33</td>\n",
       "      <td>13007</td>\n",
       "      <td>7</td>\n",
       "      <td>1</td>\n",
       "      <td>1</td>\n",
       "      <td>0</td>\n",
       "      <td>0</td>\n",
       "    </tr>\n",
       "    <tr>\n",
       "      <th>4</th>\n",
       "      <td>4</td>\n",
       "      <td>0</td>\n",
       "      <td>0</td>\n",
       "      <td>0.70</td>\n",
       "      <td>0.79</td>\n",
       "      <td>0.1940</td>\n",
       "      <td>4</td>\n",
       "      <td>13008</td>\n",
       "      <td>7</td>\n",
       "      <td>1</td>\n",
       "      <td>1</td>\n",
       "      <td>0</td>\n",
       "      <td>0</td>\n",
       "    </tr>\n",
       "  </tbody>\n",
       "</table>\n",
       "</div>"
      ],
      "text/plain": [
       "   hr  holiday  workingday  ...  Clear to partly cloudy  Light Precipitation  Misty\n",
       "0   0        0           0  ...                       1                    0      0\n",
       "1   1        0           0  ...                       1                    0      0\n",
       "2   2        0           0  ...                       1                    0      0\n",
       "3   3        0           0  ...                       1                    0      0\n",
       "4   4        0           0  ...                       1                    0      0\n",
       "\n",
       "[5 rows x 13 columns]"
      ]
     },
     "execution_count": 14,
     "metadata": {},
     "output_type": "execute_result"
    }
   ],
   "source": [
    "df = pd.read_csv('bikes.csv')  \n",
    "\n",
    "X = df.drop(['cnt'], axis=1)\n",
    "y = df['cnt']\n",
    "\n",
    "X.head()\n",
    "y.head()\n",
    "df.head()\n"
   ]
  },
  {
   "cell_type": "markdown",
   "metadata": {
    "id": "tTc3kVa7hpq5"
   },
   "source": [
    "Q3)c)\n",
    "\n",
    "- Split the data into 80% train and 20% test. The feature matrices are assigned to `X_train` and `X_test`, while the arrays of labels are assigned to `y_train` and `y_test`. Set `'random_state'` to `2`.  \n",
    "- Instantiate the RF regressor with `25` trees, and assign to variable `'rf'`.  \n",
    "- Fit RF regressor to the training set.  \n",
    "- Predict the test set values using `'rf'` and assign the result to `y_pred`.  \n",
    "- Evaluate the test set RMSE of rf by calling `mean_squared_error()` and raising it to the power of 1/2, assign the value to `rmse_test`, and print that value."
   ]
  },
  {
   "cell_type": "code",
   "execution_count": 15,
   "metadata": {
    "colab": {
     "base_uri": "https://localhost:8080/"
    },
    "id": "yCJzXrQyhpq5",
    "outputId": "562f8f11-0c6c-46e0-c0bd-45628e4c1439"
   },
   "outputs": [
    {
     "name": "stdout",
     "output_type": "stream",
     "text": [
      "Test st RMSE of rf :  54.87313930740307\n"
     ]
    }
   ],
   "source": [
    "X_train, X_test, y_train, y_test = train_test_split(X,y,test_size = 0.2, random_state = 2)\n",
    "\n",
    "rf = RandomForestRegressor(n_estimators=25)\n",
    "rf.fit(X_train,y_train)\n",
    "\n",
    "y_pred = rf.predict(X_test)\n",
    "\n",
    "mse_dt = mean_squared_error(y_test,y_pred)\n",
    "rmse_dt = np.power(mse_dt,0.5)\n",
    "\n",
    "print(\"Test st RMSE of rf : \" , rmse_dt)\n"
   ]
  },
  {
   "cell_type": "markdown",
   "metadata": {
    "id": "uJC3Etc7hpq5"
   },
   "source": [
    "Q3)d)  \n",
    "In this exercise, you'll determine which features were the most predictive according to the random forests regressor rf that you trained in part c).  \n",
    "For this purpose, you'll draw a horizontal barplot of the feature importance as assessed by rf.  \n",
    "- Create a `pandas.Series` object called `importances` containing the feature names (`X_train.columns`) as `index` and their importances (`rf.feature_importances_`) as data.\n",
    "- Call the `.sort_values()` method on `importances` and assign the result to `importances_sorted`.\n",
    "- Call the `.plot()` method on `importances_sorted` and set the arguments:\n",
    "  - `kind` to `'barh'`\n",
    "  - `color` to `'lightgreen'`"
   ]
  },
  {
   "cell_type": "code",
   "execution_count": 16,
   "metadata": {
    "colab": {
     "base_uri": "https://localhost:8080/",
     "height": 265
    },
    "id": "2scwWMsohpq6",
    "outputId": "e9bf83f4-1f81-453c-a0cc-31c354a8672e"
   },
   "outputs": [
    {
     "data": {
      "image/png": "[encoded data removed]",
      "text/plain": [
       "<Figure size 432x288 with 1 Axes>"
      ]
     },
     "metadata": {
      "needs_background": "light"
     },
     "output_type": "display_data"
    }
   ],
   "source": [
    "importances = pd.Series(rf.feature_importances_, index = X.columns)\n",
    "sorted_importances = importances.sort_values()\n",
    "sorted_importances.plot(kind = 'barh' , color = 'lightgreen')\n",
    "plt.show()"
   ]
  },
  {
   "cell_type": "code",
   "execution_count": null,
   "metadata": {
    "id": "8l3IWpAthpq6"
   },
   "outputs": [],
   "source": []
  }
 ],
 "metadata": {
  "colab": {
   "collapsed_sections": [],
   "name": "Ex3_316132927.ipynb",
   "provenance": []
  },
  "kernelspec": {
   "display_name": "Python 3 (ipykernel)",
   "language": "python",
   "name": "python3"
  },
  "language_info": {
   "codemirror_mode": {
    "name": "ipython",
    "version": 3
   },
   "file_extension": ".py",
   "mimetype": "text/x-python",
   "name": "python",
   "nbconvert_exporter": "python",
   "pygments_lexer": "ipython3",
   "version": "3.9.12"
  }
 },
 "nbformat": 4,
 "nbformat_minor": 4
}
