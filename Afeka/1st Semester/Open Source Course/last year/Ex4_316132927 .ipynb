{
  "nbformat": 4,
  "nbformat_minor": 0,
  "metadata": {
    "kernelspec": {
      "display_name": "Python 3",
      "language": "python",
      "name": "python3"
    },
    "language_info": {
      "codemirror_mode": {
        "name": "ipython",
        "version": 3
      },
      "file_extension": ".py",
      "mimetype": "text/x-python",
      "name": "python",
      "nbconvert_exporter": "python",
      "pygments_lexer": "ipython3",
      "version": "3.7.6"
    },
    "colab": {
      "name": "Ex4_316132927.ipynb",
      "provenance": [],
      "collapsed_sections": []
    }
  },
  "cells": [
    {
      "cell_type": "markdown",
      "metadata": {
        "id": "Etbh23j862-j"
      },
      "source": [
        "Brian Rikshpun 316132927\n"
      ]
    },
    {
      "cell_type": "markdown",
      "metadata": {
        "id": "lJFvPWL362-l"
      },
      "source": [
        "### Import packages"
      ]
    },
    {
      "cell_type": "code",
      "metadata": {
        "id": "UF6Y4up662-m"
      },
      "source": [
        "import numpy as np\n",
        "import pandas as pd\n",
        "from sklearn.cluster import KMeans\n",
        "import matplotlib.pyplot as plt"
      ],
      "execution_count": 1,
      "outputs": []
    },
    {
      "cell_type": "markdown",
      "metadata": {
        "id": "hZM6j2M762-m"
      },
      "source": [
        "### Q1)a) How many clusters of grain?\n",
        "\n",
        "Read the first 7 columns of file `'seeds.csv'`, which has no header, into a 2D numpy.array named `samples`and the last (8th) column into a 1D numpy.array named `target` of type int.\n",
        "\n",
        "You can achieve this by using either numpy `genfromtxt` function to read a numpy array directly or pandas `read_csv` function to read a DataFrame and then convert the DataFrame ibto the required numpy arrays.\n",
        "\n",
        "This dataset was sourced from the [UCI Machine Learning Repository](https://archive.ics.uci.edu/ml/datasets/seeds), and contains the measurements (such as area, perimeter, length, and several others) of samples of grain.\n",
        "\n",
        "What's a good number of clusters for this dataset?\n",
        "\n",
        "- For each of the values of `ks` from 1 to 6, perform the following steps: \n",
        "- Create a `KMeans` instance called `model` with k clusters.\n",
        "- Fit the model to the grain data `samples`.\n",
        "- Append the value of the `inertia_` attribute of `model` to the list `inertias`.\n",
        "- Plot `ks` vs `inertias`."
      ]
    },
    {
      "cell_type": "code",
      "metadata": {
        "id": "-O8ifnTP62-m",
        "colab": {
          "base_uri": "https://localhost:8080/",
          "height": 312
        },
        "outputId": "6e32139f-9034-492b-e194-bc66db54a058"
      },
      "source": [
        "data = pd.read_csv(\"seeds.csv\", header=None)\n",
        "\n",
        "data = data.to_numpy()\n",
        "\n",
        "#display(data)\n",
        "\n",
        "samples = data[:,:-1]\n",
        "\n",
        "target = data[:,-1].astype(int)\n",
        "\n",
        "\n",
        "\n",
        "display(samples)\n",
        "display(target)"
      ],
      "execution_count": 2,
      "outputs": [
        {
          "output_type": "display_data",
          "data": {
            "text/plain": [
              "array([[15.26  , 14.84  ,  0.871 , ...,  3.312 ,  2.221 ,  5.22  ],\n",
              "       [14.88  , 14.57  ,  0.8811, ...,  3.333 ,  1.018 ,  4.956 ],\n",
              "       [14.29  , 14.09  ,  0.905 , ...,  3.337 ,  2.699 ,  4.825 ],\n",
              "       ...,\n",
              "       [13.2   , 13.66  ,  0.8883, ...,  3.232 ,  8.315 ,  5.056 ],\n",
              "       [11.84  , 13.21  ,  0.8521, ...,  2.836 ,  3.598 ,  5.044 ],\n",
              "       [12.3   , 13.34  ,  0.8684, ...,  2.974 ,  5.637 ,  5.063 ]])"
            ]
          },
          "metadata": {}
        },
        {
          "output_type": "display_data",
          "data": {
            "text/plain": [
              "array([1, 1, 1, 1, 1, 1, 1, 1, 1, 1, 1, 1, 1, 1, 1, 1, 1, 1, 1, 1, 1, 1,\n",
              "       1, 1, 1, 1, 1, 1, 1, 1, 1, 1, 1, 1, 1, 1, 1, 1, 1, 1, 1, 1, 1, 1,\n",
              "       1, 1, 1, 1, 1, 1, 1, 1, 1, 1, 1, 1, 1, 1, 1, 1, 1, 1, 1, 1, 1, 1,\n",
              "       1, 1, 1, 1, 2, 2, 2, 2, 2, 2, 2, 2, 2, 2, 2, 2, 2, 2, 2, 2, 2, 2,\n",
              "       2, 2, 2, 2, 2, 2, 2, 2, 2, 2, 2, 2, 2, 2, 2, 2, 2, 2, 2, 2, 2, 2,\n",
              "       2, 2, 2, 2, 2, 2, 2, 2, 2, 2, 2, 2, 2, 2, 2, 2, 2, 2, 2, 2, 2, 2,\n",
              "       2, 2, 2, 2, 2, 2, 2, 2, 3, 3, 3, 3, 3, 3, 3, 3, 3, 3, 3, 3, 3, 3,\n",
              "       3, 3, 3, 3, 3, 3, 3, 3, 3, 3, 3, 3, 3, 3, 3, 3, 3, 3, 3, 3, 3, 3,\n",
              "       3, 3, 3, 3, 3, 3, 3, 3, 3, 3, 3, 3, 3, 3, 3, 3, 3, 3, 3, 3, 3, 3,\n",
              "       3, 3, 3, 3, 3, 3, 3, 3, 3, 3, 3, 3])"
            ]
          },
          "metadata": {}
        }
      ]
    },
    {
      "cell_type": "code",
      "metadata": {
        "id": "iw9oUsqV62-n",
        "colab": {
          "base_uri": "https://localhost:8080/",
          "height": 279
        },
        "outputId": "90cb44d5-b095-4027-d51f-0d67fdb5bed7"
      },
      "source": [
        "ks = range(1, 6)\n",
        "inertias = []\n",
        "\n",
        "# loop over values of ks\n",
        "for i in ks:\n",
        "    # Create a KMeans instance with k clusters: model\n",
        "    model = KMeans(n_clusters=i)\n",
        "\n",
        "    \n",
        "    # Fit model to samples\n",
        "    model.fit(samples)\n",
        "    \n",
        "    # Append the inertia to the list of inertias\n",
        "    inertias.append(model.inertia_)\n",
        "    \n",
        "# Plot ks vs inertias\n",
        "plt.plot(ks, inertias, '-o')\n",
        "plt.xlabel('number of clusters, k')\n",
        "plt.ylabel('inertia')\n",
        "plt.xticks(ks)\n",
        "plt.show()"
      ],
      "execution_count": 3,
      "outputs": [
        {
          "output_type": "display_data",
          "data": {
            "image/png": "[encoded data removed]",
            "text/plain": [
              "<Figure size 432x288 with 1 Axes>"
            ]
          },
          "metadata": {
            "needs_background": "light"
          }
        }
      ]
    },
    {
      "cell_type": "code",
      "metadata": {
        "id": "7742dArL62-n",
        "colab": {
          "base_uri": "https://localhost:8080/"
        },
        "outputId": "7c1435d5-c196-47f5-f63d-858df00af0ce"
      },
      "source": [
        "varieties_names = ['Kama wheat', 'Rosa wheat', 'Canadian wheat']\n",
        "varieties = (np.array(varieties_names)[target-1]).tolist()\n",
        "varieties"
      ],
      "execution_count": 4,
      "outputs": [
        {
          "output_type": "execute_result",
          "data": {
            "text/plain": [
              "['Kama wheat',\n",
              " 'Kama wheat',\n",
              " 'Kama wheat',\n",
              " 'Kama wheat',\n",
              " 'Kama wheat',\n",
              " 'Kama wheat',\n",
              " 'Kama wheat',\n",
              " 'Kama wheat',\n",
              " 'Kama wheat',\n",
              " 'Kama wheat',\n",
              " 'Kama wheat',\n",
              " 'Kama wheat',\n",
              " 'Kama wheat',\n",
              " 'Kama wheat',\n",
              " 'Kama wheat',\n",
              " 'Kama wheat',\n",
              " 'Kama wheat',\n",
              " 'Kama wheat',\n",
              " 'Kama wheat',\n",
              " 'Kama wheat',\n",
              " 'Kama wheat',\n",
              " 'Kama wheat',\n",
              " 'Kama wheat',\n",
              " 'Kama wheat',\n",
              " 'Kama wheat',\n",
              " 'Kama wheat',\n",
              " 'Kama wheat',\n",
              " 'Kama wheat',\n",
              " 'Kama wheat',\n",
              " 'Kama wheat',\n",
              " 'Kama wheat',\n",
              " 'Kama wheat',\n",
              " 'Kama wheat',\n",
              " 'Kama wheat',\n",
              " 'Kama wheat',\n",
              " 'Kama wheat',\n",
              " 'Kama wheat',\n",
              " 'Kama wheat',\n",
              " 'Kama wheat',\n",
              " 'Kama wheat',\n",
              " 'Kama wheat',\n",
              " 'Kama wheat',\n",
              " 'Kama wheat',\n",
              " 'Kama wheat',\n",
              " 'Kama wheat',\n",
              " 'Kama wheat',\n",
              " 'Kama wheat',\n",
              " 'Kama wheat',\n",
              " 'Kama wheat',\n",
              " 'Kama wheat',\n",
              " 'Kama wheat',\n",
              " 'Kama wheat',\n",
              " 'Kama wheat',\n",
              " 'Kama wheat',\n",
              " 'Kama wheat',\n",
              " 'Kama wheat',\n",
              " 'Kama wheat',\n",
              " 'Kama wheat',\n",
              " 'Kama wheat',\n",
              " 'Kama wheat',\n",
              " 'Kama wheat',\n",
              " 'Kama wheat',\n",
              " 'Kama wheat',\n",
              " 'Kama wheat',\n",
              " 'Kama wheat',\n",
              " 'Kama wheat',\n",
              " 'Kama wheat',\n",
              " 'Kama wheat',\n",
              " 'Kama wheat',\n",
              " 'Kama wheat',\n",
              " 'Rosa wheat',\n",
              " 'Rosa wheat',\n",
              " 'Rosa wheat',\n",
              " 'Rosa wheat',\n",
              " 'Rosa wheat',\n",
              " 'Rosa wheat',\n",
              " 'Rosa wheat',\n",
              " 'Rosa wheat',\n",
              " 'Rosa wheat',\n",
              " 'Rosa wheat',\n",
              " 'Rosa wheat',\n",
              " 'Rosa wheat',\n",
              " 'Rosa wheat',\n",
              " 'Rosa wheat',\n",
              " 'Rosa wheat',\n",
              " 'Rosa wheat',\n",
              " 'Rosa wheat',\n",
              " 'Rosa wheat',\n",
              " 'Rosa wheat',\n",
              " 'Rosa wheat',\n",
              " 'Rosa wheat',\n",
              " 'Rosa wheat',\n",
              " 'Rosa wheat',\n",
              " 'Rosa wheat',\n",
              " 'Rosa wheat',\n",
              " 'Rosa wheat',\n",
              " 'Rosa wheat',\n",
              " 'Rosa wheat',\n",
              " 'Rosa wheat',\n",
              " 'Rosa wheat',\n",
              " 'Rosa wheat',\n",
              " 'Rosa wheat',\n",
              " 'Rosa wheat',\n",
              " 'Rosa wheat',\n",
              " 'Rosa wheat',\n",
              " 'Rosa wheat',\n",
              " 'Rosa wheat',\n",
              " 'Rosa wheat',\n",
              " 'Rosa wheat',\n",
              " 'Rosa wheat',\n",
              " 'Rosa wheat',\n",
              " 'Rosa wheat',\n",
              " 'Rosa wheat',\n",
              " 'Rosa wheat',\n",
              " 'Rosa wheat',\n",
              " 'Rosa wheat',\n",
              " 'Rosa wheat',\n",
              " 'Rosa wheat',\n",
              " 'Rosa wheat',\n",
              " 'Rosa wheat',\n",
              " 'Rosa wheat',\n",
              " 'Rosa wheat',\n",
              " 'Rosa wheat',\n",
              " 'Rosa wheat',\n",
              " 'Rosa wheat',\n",
              " 'Rosa wheat',\n",
              " 'Rosa wheat',\n",
              " 'Rosa wheat',\n",
              " 'Rosa wheat',\n",
              " 'Rosa wheat',\n",
              " 'Rosa wheat',\n",
              " 'Rosa wheat',\n",
              " 'Rosa wheat',\n",
              " 'Rosa wheat',\n",
              " 'Rosa wheat',\n",
              " 'Rosa wheat',\n",
              " 'Rosa wheat',\n",
              " 'Rosa wheat',\n",
              " 'Rosa wheat',\n",
              " 'Rosa wheat',\n",
              " 'Canadian wheat',\n",
              " 'Canadian wheat',\n",
              " 'Canadian wheat',\n",
              " 'Canadian wheat',\n",
              " 'Canadian wheat',\n",
              " 'Canadian wheat',\n",
              " 'Canadian wheat',\n",
              " 'Canadian wheat',\n",
              " 'Canadian wheat',\n",
              " 'Canadian wheat',\n",
              " 'Canadian wheat',\n",
              " 'Canadian wheat',\n",
              " 'Canadian wheat',\n",
              " 'Canadian wheat',\n",
              " 'Canadian wheat',\n",
              " 'Canadian wheat',\n",
              " 'Canadian wheat',\n",
              " 'Canadian wheat',\n",
              " 'Canadian wheat',\n",
              " 'Canadian wheat',\n",
              " 'Canadian wheat',\n",
              " 'Canadian wheat',\n",
              " 'Canadian wheat',\n",
              " 'Canadian wheat',\n",
              " 'Canadian wheat',\n",
              " 'Canadian wheat',\n",
              " 'Canadian wheat',\n",
              " 'Canadian wheat',\n",
              " 'Canadian wheat',\n",
              " 'Canadian wheat',\n",
              " 'Canadian wheat',\n",
              " 'Canadian wheat',\n",
              " 'Canadian wheat',\n",
              " 'Canadian wheat',\n",
              " 'Canadian wheat',\n",
              " 'Canadian wheat',\n",
              " 'Canadian wheat',\n",
              " 'Canadian wheat',\n",
              " 'Canadian wheat',\n",
              " 'Canadian wheat',\n",
              " 'Canadian wheat',\n",
              " 'Canadian wheat',\n",
              " 'Canadian wheat',\n",
              " 'Canadian wheat',\n",
              " 'Canadian wheat',\n",
              " 'Canadian wheat',\n",
              " 'Canadian wheat',\n",
              " 'Canadian wheat',\n",
              " 'Canadian wheat',\n",
              " 'Canadian wheat',\n",
              " 'Canadian wheat',\n",
              " 'Canadian wheat',\n",
              " 'Canadian wheat',\n",
              " 'Canadian wheat',\n",
              " 'Canadian wheat',\n",
              " 'Canadian wheat',\n",
              " 'Canadian wheat',\n",
              " 'Canadian wheat',\n",
              " 'Canadian wheat',\n",
              " 'Canadian wheat',\n",
              " 'Canadian wheat',\n",
              " 'Canadian wheat',\n",
              " 'Canadian wheat',\n",
              " 'Canadian wheat',\n",
              " 'Canadian wheat',\n",
              " 'Canadian wheat',\n",
              " 'Canadian wheat',\n",
              " 'Canadian wheat',\n",
              " 'Canadian wheat',\n",
              " 'Canadian wheat']"
            ]
          },
          "metadata": {},
          "execution_count": 4
        }
      ]
    },
    {
      "cell_type": "markdown",
      "metadata": {
        "id": "QF6Z-ezv62-n"
      },
      "source": [
        "### Q1)b)  Evaluating the grain clustering\n",
        "\n",
        "In Q1)a) you observed from the inertia plot that 3 is a good number of clusters for the grain data. In fact, the grain samples come from a mix of 3 different grain varieties: \"Kama\", \"Rosa\" and \"Canadian\". In this section, cluster the grain samples into three clusters, and compare the clusters to the grain varieties using a cross-tabulation.\n",
        "\n",
        "You have the array `samples` of grain samples, and a list `varieties` giving the grain variety for each sample.\n",
        "\n",
        "- Create a `KMeans` model called `model` with `3` clusters.\n",
        "- Use the `.fit_predict()` method of `model` to fit it to `samples` and derive the cluster labels. Using `.fit_predict()` is the same as using `.fit()` followed by `.predict()`.\n",
        "- Create a DataFrame `df` with two columns named `'labels'` and `'varieties'`, using `labels` and `varieties`, respectively, for the column values. This has been done for you.\n",
        "- Use the `pd.crosstab()` function on `df['labels']` and `df['varieties']` to count the number of times each grain variety coincides with each cluster label. Assign the result to `ct`."
      ]
    },
    {
      "cell_type": "code",
      "metadata": {
        "id": "EBAOKXbE62-o",
        "colab": {
          "base_uri": "https://localhost:8080/",
          "height": 175
        },
        "outputId": "000da0a5-26b5-47ca-85fa-2f402cde327f"
      },
      "source": [
        "# Create a KMeans model with 3 clusters: model\n",
        "model = KMeans(n_clusters=3)\n",
        "\n",
        "# Use fit_predict to fit model and obtain cluster labels: labels\n",
        "labels = model.fit_predict(samples)\n",
        "\n",
        "# Create a DataFrame with labels and varieties as columns: df\n",
        "df = pd.DataFrame()\n",
        "\n",
        "df['labels'] = labels.tolist()\n",
        "df['varieties'] = varieties\n",
        "\n",
        "# Create crosstab: ct\n",
        "ct = pd.crosstab(df['labels'],df['varieties'])\n",
        "\n",
        "# Display ct\n",
        "display(ct)"
      ],
      "execution_count": 5,
      "outputs": [
        {
          "output_type": "display_data",
          "data": {
            "text/html": [
              "<div>\n",
              "<style scoped>\n",
              "    .dataframe tbody tr th:only-of-type {\n",
              "        vertical-align: middle;\n",
              "    }\n",
              "\n",
              "    .dataframe tbody tr th {\n",
              "        vertical-align: top;\n",
              "    }\n",
              "\n",
              "    .dataframe thead th {\n",
              "        text-align: right;\n",
              "    }\n",
              "</style>\n",
              "<table border=\"1\" class=\"dataframe\">\n",
              "  <thead>\n",
              "    <tr style=\"text-align: right;\">\n",
              "      <th>varieties</th>\n",
              "      <th>Canadian wheat</th>\n",
              "      <th>Kama wheat</th>\n",
              "      <th>Rosa wheat</th>\n",
              "    </tr>\n",
              "    <tr>\n",
              "      <th>labels</th>\n",
              "      <th></th>\n",
              "      <th></th>\n",
              "      <th></th>\n",
              "    </tr>\n",
              "  </thead>\n",
              "  <tbody>\n",
              "    <tr>\n",
              "      <th>0</th>\n",
              "      <td>2</td>\n",
              "      <td>60</td>\n",
              "      <td>10</td>\n",
              "    </tr>\n",
              "    <tr>\n",
              "      <th>1</th>\n",
              "      <td>0</td>\n",
              "      <td>1</td>\n",
              "      <td>60</td>\n",
              "    </tr>\n",
              "    <tr>\n",
              "      <th>2</th>\n",
              "      <td>68</td>\n",
              "      <td>9</td>\n",
              "      <td>0</td>\n",
              "    </tr>\n",
              "  </tbody>\n",
              "</table>\n",
              "</div>"
            ],
            "text/plain": [
              "varieties  Canadian wheat  Kama wheat  Rosa wheat\n",
              "labels                                           \n",
              "0                       2          60          10\n",
              "1                       0           1          60\n",
              "2                      68           9           0"
            ]
          },
          "metadata": {}
        }
      ]
    },
    {
      "cell_type": "markdown",
      "metadata": {
        "id": "23DYsTuK62-o"
      },
      "source": [
        "### Q2) a)  Hierarchical clustering of the grain data\n",
        "\n",
        "The SciPy `linkage()` function performs hierarchical clustering on an array of samples. Use the `linkage()` function to obtain a hierarchical clustering of the grain samples, and use `dendrogram()` to visualize the result. A sample of the grain measurements is provided in the array `samples`, while the variety of each grain sample is given by the list `varieties`.\n",
        "\n",
        "- Perform hierarchical clustering on samples using the `linkage()` function with the `method='complete'` keyword argument. Assign the result to `mergings`.  \n",
        "- Set the `figsize` to (20, 10).\n",
        "- Plot a dendrogram using the `dendrogram()` function on `mergings`. Specify the keyword arguments `labels=varieties`, `leaf_rotation=90`, and `leaf_font_size=6`."
      ]
    },
    {
      "cell_type": "code",
      "metadata": {
        "scrolled": true,
        "id": "lbssTTiw62-o",
        "colab": {
          "base_uri": "https://localhost:8080/",
          "height": 474
        },
        "outputId": "50a26717-a82a-43ea-95f2-826af9b27210"
      },
      "source": [
        "# Perform the necessary imports\n",
        "from scipy.cluster.hierarchy import dendrogram, linkage\n",
        "\n",
        "# Calculate the linkage and assign to mergings\n",
        "mergings = linkage(samples, method = 'complete' )\n",
        "\n",
        "\n",
        "plt.figure(figsize=(20,10))\n",
        "\n",
        "# Plot the dendrogram, using varieties as labels\n",
        "\n",
        "dn = dendrogram(mergings, labels = varieties , leaf_rotation = 90, leaf_font_size = 6)\n",
        "\n",
        "\n",
        "plt.show()"
      ],
      "execution_count": 6,
      "outputs": [
        {
          "output_type": "display_data",
          "data": {
            "image/png": "[encoded data removed]",
            "text/plain": [
              "<Figure size 1440x720 with 1 Axes>"
            ]
          },
          "metadata": {
            "needs_background": "light"
          }
        }
      ]
    },
    {
      "cell_type": "markdown",
      "metadata": {
        "id": "WHBsrA3n62-o"
      },
      "source": [
        "### Q2)b) Extracting the cluster labels\n",
        "\n",
        "In the previous exercise, you saw that the intermediate clustering of the grain samples at height 6 has 3 clusters. Now, use the `fcluster()` function to extract the cluster labels for this intermediate clustering, and compare the labels with the grain varieties using a cross-tabulation.\n",
        "\n",
        "The hierarchical clustering has already been performed and `mergings` is the result of the `linkage()` function. The list `varieties` gives the variety of each grain sample.\n",
        "\n",
        "- Perform a flat hierarchical clustering by using the `fcluster()` function on `mergings`. Specify a maximum height of `8` and the keyword argument `criterion='distance'`.\n",
        "- Create a DataFrame `df` with two columns named `'labels'` and `'varieties'`, using `labels` and `varieties`, respectively, for the column values. This has been done for you.\n",
        "- Create a cross-tabulation `ct` between `df['labels']` and `df['varieties']` to count the number of times each grain variety coincides with each cluster label."
      ]
    },
    {
      "cell_type": "code",
      "metadata": {
        "id": "PHC-aeQz62-p",
        "colab": {
          "base_uri": "https://localhost:8080/",
          "height": 175
        },
        "outputId": "cf7832f0-a48b-4502-8f04-c989a1482654"
      },
      "source": [
        "# Perform the necessary imports\n",
        "from scipy.cluster.hierarchy import  fcluster\n",
        "\n",
        "# Use fcluster to extract labels, and assign to labels\n",
        "\n",
        "labels = fcluster(mergings, t = 8, criterion = 'distance')\n",
        "\n",
        "# Create a DataFrame with labels and varieties as columns, and assign to df\n",
        "\n",
        "df = pd.DataFrame()\n",
        "\n",
        "df['labels'] = labels\n",
        "df['varieties'] = varieties\n",
        "\n",
        "# Create crosstab: ct between df['labels'] and df['varieties']\n",
        "\n",
        "ct = pd.crosstab(df['labels'],df['varieties'])\n",
        "\n",
        "\n",
        "# Display ct\n",
        "display(ct)"
      ],
      "execution_count": 7,
      "outputs": [
        {
          "output_type": "display_data",
          "data": {
            "text/html": [
              "<div>\n",
              "<style scoped>\n",
              "    .dataframe tbody tr th:only-of-type {\n",
              "        vertical-align: middle;\n",
              "    }\n",
              "\n",
              "    .dataframe tbody tr th {\n",
              "        vertical-align: top;\n",
              "    }\n",
              "\n",
              "    .dataframe thead th {\n",
              "        text-align: right;\n",
              "    }\n",
              "</style>\n",
              "<table border=\"1\" class=\"dataframe\">\n",
              "  <thead>\n",
              "    <tr style=\"text-align: right;\">\n",
              "      <th>varieties</th>\n",
              "      <th>Canadian wheat</th>\n",
              "      <th>Kama wheat</th>\n",
              "      <th>Rosa wheat</th>\n",
              "    </tr>\n",
              "    <tr>\n",
              "      <th>labels</th>\n",
              "      <th></th>\n",
              "      <th></th>\n",
              "      <th></th>\n",
              "    </tr>\n",
              "  </thead>\n",
              "  <tbody>\n",
              "    <tr>\n",
              "      <th>1</th>\n",
              "      <td>0</td>\n",
              "      <td>0</td>\n",
              "      <td>47</td>\n",
              "    </tr>\n",
              "    <tr>\n",
              "      <th>2</th>\n",
              "      <td>0</td>\n",
              "      <td>52</td>\n",
              "      <td>23</td>\n",
              "    </tr>\n",
              "    <tr>\n",
              "      <th>3</th>\n",
              "      <td>70</td>\n",
              "      <td>18</td>\n",
              "      <td>0</td>\n",
              "    </tr>\n",
              "  </tbody>\n",
              "</table>\n",
              "</div>"
            ],
            "text/plain": [
              "varieties  Canadian wheat  Kama wheat  Rosa wheat\n",
              "labels                                           \n",
              "1                       0           0          47\n",
              "2                       0          52          23\n",
              "3                      70          18           0"
            ]
          },
          "metadata": {}
        }
      ]
    },
    {
      "cell_type": "markdown",
      "metadata": {
        "id": "_gBoEf3p62-p"
      },
      "source": [
        "### Q3)a)  Correlated data\n",
        "\n",
        "You suspect that width and length of seeds will be correlated. To confirm this, make a scatter plot of width vs length and measure their Pearson correlation.\n",
        "\n",
        "- Extract the width (4th) and length (3rd) columns of `samples` in that order and set it to variable `grains`.\n",
        "- Import `pearsonr` from scipy.stats.\n",
        "- Assign column `0` of `grains` to `width` and column `1` of `grains` to `length`.\n",
        "- Make a scatter plot with `width` on the x-axis and `length` on the y-axis.\n",
        "- Use the `pearsonr()` function to calculate the Pearson correlation of `width` and `length`."
      ]
    },
    {
      "cell_type": "code",
      "metadata": {
        "scrolled": true,
        "id": "tVVpMnyS62-p",
        "colab": {
          "base_uri": "https://localhost:8080/",
          "height": 1000
        },
        "outputId": "6fde2242-9852-42b4-d9b2-c552c19d3b30"
      },
      "source": [
        "\n",
        "\n",
        "grains = pd.DataFrame()\n",
        "\n",
        "grains['width'] = data[:,4]\n",
        "grains['length'] = data[:,3]\n",
        "\n",
        "display(grains.to_numpy())"
      ],
      "execution_count": 10,
      "outputs": [
        {
          "output_type": "display_data",
          "data": {
            "text/plain": [
              "array([[3.312, 5.763],\n",
              "       [3.333, 5.554],\n",
              "       [3.337, 5.291],\n",
              "       [3.379, 5.324],\n",
              "       [3.562, 5.658],\n",
              "       [3.312, 5.386],\n",
              "       [3.259, 5.563],\n",
              "       [3.302, 5.42 ],\n",
              "       [3.465, 6.053],\n",
              "       [3.505, 5.884],\n",
              "       [3.242, 5.714],\n",
              "       [3.201, 5.438],\n",
              "       [3.199, 5.439],\n",
              "       [3.156, 5.479],\n",
              "       [3.114, 5.482],\n",
              "       [3.333, 5.351],\n",
              "       [3.383, 5.119],\n",
              "       [3.514, 5.527],\n",
              "       [3.466, 5.205],\n",
              "       [3.049, 5.226],\n",
              "       [3.129, 5.658],\n",
              "       [3.168, 5.52 ],\n",
              "       [3.507, 5.618],\n",
              "       [2.936, 5.099],\n",
              "       [3.245, 5.789],\n",
              "       [3.421, 5.833],\n",
              "       [3.026, 5.395],\n",
              "       [2.956, 5.395],\n",
              "       [3.221, 5.541],\n",
              "       [3.065, 5.516],\n",
              "       [2.975, 5.454],\n",
              "       [3.371, 5.757],\n",
              "       [3.186, 5.717],\n",
              "       [3.15 , 5.585],\n",
              "       [3.328, 5.712],\n",
              "       [3.485, 5.709],\n",
              "       [3.464, 5.826],\n",
              "       [3.683, 5.832],\n",
              "       [3.288, 5.656],\n",
              "       [3.298, 5.397],\n",
              "       [3.156, 5.348],\n",
              "       [3.158, 5.351],\n",
              "       [3.201, 5.138],\n",
              "       [3.396, 5.877],\n",
              "       [3.462, 5.579],\n",
              "       [3.155, 5.376],\n",
              "       [3.393, 5.701],\n",
              "       [3.377, 5.57 ],\n",
              "       [3.291, 5.545],\n",
              "       [3.258, 5.678],\n",
              "       [3.272, 5.585],\n",
              "       [3.434, 5.674],\n",
              "       [3.113, 5.715],\n",
              "       [3.199, 5.504],\n",
              "       [3.113, 5.741],\n",
              "       [3.212, 5.702],\n",
              "       [3.377, 5.388],\n",
              "       [3.412, 5.384],\n",
              "       [3.419, 5.662],\n",
              "       [3.032, 5.159],\n",
              "       [2.85 , 5.008],\n",
              "       [2.879, 4.902],\n",
              "       [3.042, 5.076],\n",
              "       [3.07 , 5.395],\n",
              "       [3.026, 5.262],\n",
              "       [3.119, 5.139],\n",
              "       [3.19 , 5.63 ],\n",
              "       [3.158, 5.609],\n",
              "       [3.153, 5.569],\n",
              "       [2.882, 5.412],\n",
              "       [3.561, 6.191],\n",
              "       [3.484, 5.998],\n",
              "       [3.594, 5.978],\n",
              "       [3.93 , 6.154],\n",
              "       [3.486, 6.017],\n",
              "       [3.438, 5.927],\n",
              "       [3.403, 6.064],\n",
              "       [3.814, 6.579],\n",
              "       [3.639, 6.445],\n",
              "       [3.566, 5.85 ],\n",
              "       [3.467, 5.875],\n",
              "       [3.857, 6.006],\n",
              "       [3.864, 6.285],\n",
              "       [3.772, 6.384],\n",
              "       [3.801, 6.366],\n",
              "       [3.651, 6.173],\n",
              "       [3.764, 6.084],\n",
              "       [3.67 , 6.549],\n",
              "       [4.033, 6.573],\n",
              "       [4.032, 6.45 ],\n",
              "       [3.785, 6.581],\n",
              "       [3.796, 6.172],\n",
              "       [3.693, 6.272],\n",
              "       [3.86 , 6.037],\n",
              "       [3.485, 6.666],\n",
              "       [3.463, 6.139],\n",
              "       [3.81 , 6.341],\n",
              "       [3.552, 6.449],\n",
              "       [3.512, 6.271],\n",
              "       [3.684, 6.219],\n",
              "       [3.525, 5.718],\n",
              "       [3.694, 5.89 ],\n",
              "       [3.892, 6.113],\n",
              "       [3.681, 6.369],\n",
              "       [3.755, 6.248],\n",
              "       [3.786, 6.037],\n",
              "       [3.806, 6.152],\n",
              "       [3.573, 6.033],\n",
              "       [3.763, 6.675],\n",
              "       [3.674, 6.153],\n",
              "       [3.769, 6.107],\n",
              "       [3.791, 6.303],\n",
              "       [3.902, 6.183],\n",
              "       [3.737, 6.259],\n",
              "       [3.991, 6.563],\n",
              "       [3.719, 6.416],\n",
              "       [3.897, 6.051],\n",
              "       [3.815, 6.245],\n",
              "       [3.769, 6.227],\n",
              "       [3.857, 6.493],\n",
              "       [3.962, 6.315],\n",
              "       [3.563, 6.059],\n",
              "       [3.387, 5.762],\n",
              "       [3.771, 5.98 ],\n",
              "       [3.582, 5.363],\n",
              "       [3.869, 6.111],\n",
              "       [3.594, 6.285],\n",
              "       [3.687, 5.979],\n",
              "       [3.773, 6.513],\n",
              "       [3.69 , 5.791],\n",
              "       [3.755, 5.979],\n",
              "       [3.825, 6.144],\n",
              "       [3.268, 5.884],\n",
              "       [3.395, 5.845],\n",
              "       [3.408, 5.776],\n",
              "       [3.465, 5.477],\n",
              "       [3.574, 6.145],\n",
              "       [3.231, 5.92 ],\n",
              "       [3.286, 5.832],\n",
              "       [3.472, 5.872],\n",
              "       [2.994, 5.472],\n",
              "       [3.073, 5.541],\n",
              "       [3.074, 5.389],\n",
              "       [2.967, 5.224],\n",
              "       [2.777, 5.314],\n",
              "       [2.687, 5.279],\n",
              "       [2.719, 5.176],\n",
              "       [2.967, 5.267],\n",
              "       [2.911, 5.386],\n",
              "       [2.648, 5.317],\n",
              "       [2.84 , 5.263],\n",
              "       [2.776, 5.405],\n",
              "       [2.833, 5.408],\n",
              "       [2.693, 5.22 ],\n",
              "       [2.755, 5.175],\n",
              "       [2.675, 5.25 ],\n",
              "       [2.849, 5.053],\n",
              "       [2.745, 5.394],\n",
              "       [2.678, 5.444],\n",
              "       [2.695, 5.304],\n",
              "       [2.879, 5.451],\n",
              "       [2.81 , 5.35 ],\n",
              "       [2.847, 5.267],\n",
              "       [2.968, 5.333],\n",
              "       [2.794, 5.011],\n",
              "       [2.941, 5.105],\n",
              "       [2.897, 5.319],\n",
              "       [2.837, 5.417],\n",
              "       [2.668, 5.176],\n",
              "       [2.715, 5.09 ],\n",
              "       [2.701, 5.325],\n",
              "       [2.845, 5.167],\n",
              "       [2.763, 5.088],\n",
              "       [2.763, 5.136],\n",
              "       [2.641, 5.278],\n",
              "       [2.821, 4.981],\n",
              "       [2.71 , 5.186],\n",
              "       [2.642, 5.145],\n",
              "       [2.758, 5.18 ],\n",
              "       [2.893, 5.357],\n",
              "       [2.775, 5.09 ],\n",
              "       [3.017, 5.236],\n",
              "       [2.909, 5.24 ],\n",
              "       [2.85 , 5.108],\n",
              "       [3.026, 5.495],\n",
              "       [2.683, 5.363],\n",
              "       [2.716, 5.413],\n",
              "       [2.675, 5.088],\n",
              "       [2.821, 5.089],\n",
              "       [2.787, 4.899],\n",
              "       [2.717, 5.046],\n",
              "       [2.804, 5.091],\n",
              "       [2.953, 5.132],\n",
              "       [2.63 , 5.18 ],\n",
              "       [2.975, 5.236],\n",
              "       [3.126, 5.16 ],\n",
              "       [3.054, 5.224],\n",
              "       [3.128, 5.32 ],\n",
              "       [2.911, 5.41 ],\n",
              "       [3.155, 5.073],\n",
              "       [2.989, 5.219],\n",
              "       [3.135, 4.984],\n",
              "       [2.81 , 5.009],\n",
              "       [3.091, 5.183],\n",
              "       [2.96 , 5.204],\n",
              "       [2.981, 5.137],\n",
              "       [2.795, 5.14 ],\n",
              "       [3.232, 5.236],\n",
              "       [2.836, 5.175],\n",
              "       [2.974, 5.243]])"
            ]
          },
          "metadata": {}
        }
      ]
    },
    {
      "cell_type": "code",
      "metadata": {
        "id": "X0zqHfuW62-q",
        "colab": {
          "base_uri": "https://localhost:8080/",
          "height": 285
        },
        "outputId": "e59a5049-dd4e-4d4e-b83d-9cdc476005a6"
      },
      "source": [
        "# Perform the necessary imports\n",
        "from scipy import stats\n",
        "\n",
        "# Assign the 0th column of grains to width\n",
        "width = grains['width']\n",
        "\n",
        "# Assign the 1st column of grains to length\n",
        "length = grains['length']\n",
        "\n",
        "# Scatter plot width vs length\n",
        "plt.scatter(width, length)\n",
        "plt.axis('equal')\n",
        "plt.show()\n",
        "\n",
        "# Calculate the Pearson correlation\n",
        "print(stats.pearsonr(width,length)[0])\n",
        "\n",
        "# Display the correlation\n"
      ],
      "execution_count": 11,
      "outputs": [
        {
          "output_type": "display_data",
          "data": {
            "image/png": "[encoded data removed]",
            "text/plain": [
              "<Figure size 432x288 with 1 Axes>"
            ]
          },
          "metadata": {
            "needs_background": "light"
          }
        },
        {
          "output_type": "stream",
          "name": "stdout",
          "text": [
            "0.8604149377143466\n"
          ]
        }
      ]
    },
    {
      "cell_type": "markdown",
      "metadata": {
        "id": "PWRGwwYO62-q"
      },
      "source": [
        "### Q3)b) Decorrelating the grain measurements with PCA\n",
        "\n",
        "You observed in the previous exercise that the width and length measurements of the grain are correlated. Now, you'll use PCA to decorrelate these measurements, then plot the decorrelated points and measure their Pearson correlation.\n",
        "\n",
        "- Import `PCA` from `sklearn.decomposition`.\n",
        "- Create an instance of `PCA` called `model`.\n",
        "- Use the `.fit_transform()` method of `model` to apply the PCA transformation to `grains`. Assign the result to `pca_features`.\n",
        "- The subsequent code to extract, plot, and compute the Pearson correlation of the first two columns `pca_features` has been written for you."
      ]
    },
    {
      "cell_type": "code",
      "metadata": {
        "id": "Q_QDMXIO62-q",
        "colab": {
          "base_uri": "https://localhost:8080/",
          "height": 283
        },
        "outputId": "400a6e32-6b30-4d37-8428-4660fa77ca5a"
      },
      "source": [
        "# Import PCA\n",
        "from sklearn.decomposition import PCA\n",
        "\n",
        "# Create PCA instance: model\n",
        "model = PCA()\n",
        "\n",
        "# Apply the fit_transform method of model to grains, and assign to pca_features\n",
        "pca_features = model.fit_transform(grains)\n",
        "\n",
        "# Assign 0th column of pca_features to xs\n",
        "xs = pca_features[:,0]\n",
        "\n",
        "\n",
        "# Assign 1st column of pca_features to ys\n",
        "ys = pca_features[:,1]\n",
        "\n",
        "\n",
        "# Scatter plot xs vs ys\n",
        "plt.scatter(xs, ys)\n",
        "plt.axis('equal')\n",
        "plt.show()\n",
        "\n",
        "# Calculate the Pearson correlation of xs and ys\n",
        "print(stats.pearsonr(xs,ys)[0])\n",
        "\n",
        "# Display the correlation\n"
      ],
      "execution_count": 12,
      "outputs": [
        {
          "output_type": "display_data",
          "data": {
            "image/png": "[encoded data removed]",
            "text/plain": [
              "<Figure size 432x288 with 1 Axes>"
            ]
          },
          "metadata": {
            "needs_background": "light"
          }
        },
        {
          "output_type": "stream",
          "name": "stdout",
          "text": [
            "2.5496075358378932e-17\n"
          ]
        }
      ]
    },
    {
      "cell_type": "markdown",
      "metadata": {
        "id": "XHVz_8r262-r"
      },
      "source": [
        "### Q3)c) The first principal component\n",
        "\n",
        "The first principal component of the data is the direction in which the data varies the most. In this exercise, your job is to use PCA to find the first principal component of the length and width measurements of the grain samples, and represent it as an arrow on the scatter plot.\n",
        "\n",
        "The array `grains` gives the length and width of the grain samples. \n",
        "\n",
        "- Make a scatter plot of the grain measurements. This has been done for you.\n",
        "- Create a `PCA` instance called `model`.\n",
        "- Fit the model to the `grains` data.\n",
        "- Extract the coordinates of the mean of the data using the `.mean_` attribute of `model`.\n",
        "- Get the first principal component of `model` using the `.components_[0,:]` attribute.\n",
        "- Plot the first principal component as an arrow on the scatter plot, using the `plt.arrow()` function. You have to specify the first two arguments - `mean[0]` and `mean[1]`."
      ]
    },
    {
      "cell_type": "code",
      "metadata": {
        "id": "tfR3lWLG62-r",
        "colab": {
          "base_uri": "https://localhost:8080/",
          "height": 268
        },
        "outputId": "fe9c7b8f-336f-4041-98cd-0403ec27fecc"
      },
      "source": [
        "# Make a scatter plot of the untransformed points\n",
        "plt.scatter(width, length)\n",
        "\n",
        "# Create a PCA instance: model\n",
        "model = PCA(n_components=2)\n",
        "\n",
        "# Fit model to points\n",
        "pca_features = model.fit(grains)\n",
        "\n",
        "\n",
        "# Get the mean of the grain samples, and assign to mean\n",
        "mean = np.mean(grains)\n",
        "\n",
        "# Get the first principal component, and assign to first_pc\n",
        "first_pc = pca_features.components_[0,:]\n",
        "\n",
        "\n",
        "# Plot first_pc as an arrow, starting at mean\n",
        "plt.arrow(mean[0], mean[1], first_pc[0], first_pc[1], color='red', width=0.01)\n",
        "\n",
        "#Keep axes on same scale\n",
        "plt.axis('equal')\n",
        "plt.show()"
      ],
      "execution_count": 13,
      "outputs": [
        {
          "output_type": "display_data",
          "data": {
            "image/png": "[encoded data removed]",
            "text/plain": [
              "<Figure size 432x288 with 1 Axes>"
            ]
          },
          "metadata": {
            "needs_background": "light"
          }
        }
      ]
    }
  ]
}