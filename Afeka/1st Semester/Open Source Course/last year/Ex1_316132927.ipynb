{
 "cells": [
  {
   "cell_type": "markdown",
   "metadata": {},
   "source": [
    "### Name and Id"
   ]
  },
  {
   "cell_type": "markdown",
   "metadata": {},
   "source": [
    "### Import packages"
   ]
  },
  {
   "cell_type": "code",
   "execution_count": 1,
   "metadata": {},
   "outputs": [],
   "source": []
  },
  {
   "cell_type": "markdown",
   "metadata": {},
   "source": [
    "Q1) a) Implement a function named `mat_mul`, which takes two matrices $A$ and $B$ as parameters and returns the result of matrix multiplication $C = A * B$.  \n",
    "Your function should assert that the number of dimensions of each of the two matrices $A$ and $B$ is exactly 2.  \n",
    "In addition, your function should assert that $A$ number of columns is equal to $B$ number of rows, in order for the matrix multiplication operation to be well defined.  \n",
    "The function should take a third parameter `method` of type `str`, which can take on one of only three values:\n",
    "- 'for loop'\n",
    "- 'sum product'\n",
    "- 'numpy dot'  \n",
    "  \n",
    "Let the matrices shapes be $A_{mxn}$, $B_{nxp}$, and $C_{mxp}$.  \n",
    "In the first **'for loop'** method, you will have three nested for loops $i \\in \\{0, m-1\\}$, $j \\in \\{0, p-1\\}$, and $k \\in \\{0, n-1\\}$, such that $C(i,j) = \\sum_{k=1}^n{A(i,k) \\cdot B(k,j)}$.  \n",
    "In the second **'sum product'** method you will get rid of the $k$ for loop, and implement the sum of products with the numpy functions `np.sum` and `np.multiply`.  \n",
    "Finally, in the third **'numpy dot'** method you will simply call numpy's `np.dot` function."
   ]
  },
  {
   "cell_type": "code",
   "execution_count": 2,
   "metadata": {},
   "outputs": [],
   "source": [
    "# Task: implement the function mat_mul\n"
   ]
  },
  {
   "cell_type": "markdown",
   "metadata": {},
   "source": [
    "b) Test the correctness of your function on small matrices:  \n",
    "if your implementation is correct then you should obtain the same results, using the three different methods.  \n",
    "Create a matrix A of shape(2,4) filled with numbers from 1 to 8.  \n",
    "Create a matrix B of shape(4,2) filled with numbers from 9 to 16.  \n",
    "Call the `mat_mul` function 3 times, each time using a different method.  \n",
    "Print the input matrices $A$ and $B$, and the resulting matrices $C1$, $C2$, and $C3$."
   ]
  },
  {
   "cell_type": "code",
   "execution_count": 3,
   "metadata": {},
   "outputs": [
    {
     "name": "stdout",
     "output_type": "stream",
     "text": [
      "A =\n",
      " [[1. 2. 3. 4.]\n",
      " [5. 6. 7. 8.]]\n",
      "B =\n",
      " [[ 9. 10.]\n",
      " [11. 12.]\n",
      " [13. 14.]\n",
      " [15. 16.]]\n",
      "C (for loop) =\n",
      " [[130. 140.]\n",
      " [322. 348.]]\n",
      "C (sum product) =\n",
      " [[130. 140.]\n",
      " [322. 348.]]\n",
      "C (numpy.dot) =\n",
      " [[130. 140.]\n",
      " [322. 348.]]\n"
     ]
    }
   ],
   "source": [
    "# Create a matrix A of shape(2,4) filled with numbers from 1 to 8\n",
    "\n",
    "# Create a matrix B of shape(4,2) filled with numbers from 9 to 16\n",
    "\n",
    "# Call the mat_mul function using the method 'for loop' and store the result in C1.\n",
    "\n",
    "# Call the mat_mul function using the method 'sum product' and store the result in C2.\n",
    "\n",
    "# Call the mat_mul function using the method 'numpy dot' and store the result in C3.\n",
    "\n",
    "print('A =\\n', A)\n",
    "print('B =\\n', B)\n",
    "print('C (for loop) =\\n', C1)\n",
    "print('C (sum product) =\\n', C2)\n",
    "print('C (numpy.dot) =\\n', C3)"
   ]
  },
  {
   "cell_type": "markdown",
   "metadata": {},
   "source": [
    "c) Now compare the performance or running time of your function's three different methods.  \n",
    "For this prurpose you will generate random square matrices $A_{nxn}$ and $B_{nxn}$, with increasing size $n$: $n = [10, 50, ..., 100]$.  \n",
    "Read the documentation about the magic fuction `%timeit`, and inside the loop over $n$ measure and compare the running-times of the 3 different methods for increasing matrix size $n$.  \n",
    "Describe and explain your results.  \n",
    "Note: the output you obtain does not have to perfectly match the ouput below."
   ]
  },
  {
   "cell_type": "code",
   "execution_count": 4,
   "metadata": {},
   "outputs": [
    {
     "name": "stdout",
     "output_type": "stream",
     "text": [
      "\n",
      "n = 10\n",
      "for loop:\n",
      "1.09 ms ± 487 µs per loop (mean ± std. dev. of 3 runs, 100 loops each)\n",
      "sum product:\n",
      "754 µs ± 36.4 µs per loop (mean ± std. dev. of 3 runs, 1000 loops each)\n",
      "numpy dot:\n",
      "3.25 µs ± 217 ns per loop (mean ± std. dev. of 3 runs, 100000 loops each)\n",
      "\n",
      "n = 50\n",
      "for loop:\n",
      "87.4 ms ± 1.6 ms per loop (mean ± std. dev. of 3 runs, 10 loops each)\n",
      "sum product:\n",
      "21.3 ms ± 2.45 ms per loop (mean ± std. dev. of 3 runs, 100 loops each)\n",
      "numpy dot:\n",
      "13.3 µs ± 136 ns per loop (mean ± std. dev. of 3 runs, 100000 loops each)\n",
      "\n",
      "n = 100\n",
      "for loop:\n",
      "648 ms ± 21.7 ms per loop (mean ± std. dev. of 3 runs, 1 loop each)\n",
      "sum product:\n",
      "73.5 ms ± 1.41 ms per loop (mean ± std. dev. of 3 runs, 10 loops each)\n",
      "numpy dot:\n",
      "36.4 µs ± 1.54 µs per loop (mean ± std. dev. of 3 runs, 10000 loops each)\n"
     ]
    }
   ],
   "source": [
    "np.random.seed(123)\n",
    "for n in [10, 50, 100]:\n",
    "    \n",
    "    print('\\nn =', n)\n",
    "    \n",
    "    # create matrix A of shape (n,n) with numbers randomly sampled from a normal distribution\n",
    "   \n",
    "    # create matrix B of shape (n,n) with numbers randomly sampled from a normal distribution\n",
    "    \n",
    "    \n",
    "    print('for loop:')\n",
    "    # measure the running-time of mat_mul function with 'for loop' method, using the %timeit function\n",
    "    \n",
    "    \n",
    "    print('sum product:')\n",
    "    # measure the running-time of mat_mul function with 'sum product' method, using the %timeit function\n",
    "    \n",
    "   \n",
    "    print('numpy dot:')\n",
    "    # measure the running-time of mat_mul function with 'numpy dot' method, using the %timeit function\n",
    "    "
   ]
  },
  {
   "cell_type": "markdown",
   "metadata": {},
   "source": [
    "Q2) a) Implement a function named `describe_num`, which takes a 1D numpy array $x$, and returns a dictionary $d$ of decriptive statistics: **count**, **min**, **mean**, **std** (standard deviation), **25%**, **50%** (same as median), and **75%** percentile, and **max**, using the appropriate `numpy` functions / methods. "
   ]
  },
  {
   "cell_type": "code",
   "execution_count": 5,
   "metadata": {},
   "outputs": [],
   "source": [
    "# Task: implement the function describe_num\n"
   ]
  },
  {
   "cell_type": "markdown",
   "metadata": {},
   "source": [
    "b) Test the correctness of your function"
   ]
  },
  {
   "cell_type": "code",
   "execution_count": 6,
   "metadata": {},
   "outputs": [
    {
     "name": "stdout",
     "output_type": "stream",
     "text": [
      "count\t101\n",
      "min\t0\n",
      "mean\t3350.0\n",
      "std\t3012.943743251772\n",
      "25%\t625.0\n",
      "50%\t2500.0\n",
      "75%\t5625.0\n",
      "max\t10000\n"
     ]
    }
   ],
   "source": [
    "x = np.arange(0, 101) ** 2\n",
    "d = describe_num(x)\n",
    "[print(f'{key}\\t{value}') for key, value in d.items()];"
   ]
  },
  {
   "cell_type": "markdown",
   "metadata": {},
   "source": [
    "c) Implement a function named `describe_cat`, which takes a 1D numpy array $x$ of categorical values, and returns a dictionary $d$ of decriptive statistics: **count**, **unique**, **top**, and **freq**, using the appropriate `numpy` functions / methods.   \n",
    "**unique** is the number of unique categories.  \n",
    "**top** is the most frequent category.  \n",
    "**freq** is the number of occurrences of the most frequent category."
   ]
  },
  {
   "cell_type": "code",
   "execution_count": 7,
   "metadata": {},
   "outputs": [],
   "source": [
    "# Task: implement the function describe_cat\n"
   ]
  },
  {
   "cell_type": "markdown",
   "metadata": {},
   "source": [
    "d) Test the correctness of your function"
   ]
  },
  {
   "cell_type": "code",
   "execution_count": 8,
   "metadata": {},
   "outputs": [
    {
     "name": "stdout",
     "output_type": "stream",
     "text": [
      "count\t10\n",
      "unique\t3\n",
      "top\tA\n",
      "freq\t5\n"
     ]
    }
   ],
   "source": [
    "x = np.array(['A', 'B', 'B', 'C', 'A', 'A', 'A', 'C', 'A', 'C'])\n",
    "# call the function describe_cat with argument x\n",
    "\n",
    "# print the result\n"
   ]
  },
  {
   "cell_type": "code",
   "execution_count": null,
   "metadata": {},
   "outputs": [],
   "source": []
  }
 ],
 "metadata": {
  "kernelspec": {
   "display_name": "Python 3",
   "language": "python",
   "name": "python3"
  },
  "language_info": {
   "codemirror_mode": {
    "name": "ipython",
    "version": 3
   },
   "file_extension": ".py",
   "mimetype": "text/x-python",
   "name": "python",
   "nbconvert_exporter": "python",
   "pygments_lexer": "ipython3",
   "version": "3.7.6"
  }
 },
 "nbformat": 4,
 "nbformat_minor": 2
}
