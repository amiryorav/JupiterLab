{
 "cells": [
  {
   "cell_type": "code",
   "execution_count": 2,
   "id": "b87b7ec2-9087-40db-a8a2-4ecf1eefaf83",
   "metadata": {},
   "outputs": [],
   "source": [
    "import matplotlib.pyplot as plt\n",
    "from sklearn import linear_model\n",
    "import numpy as np\n",
    "from sklearn.metrics import mean_squared_error, r2_score"
   ]
  },
  {
   "cell_type": "code",
   "execution_count": 27,
   "id": "114c6cd5-f95d-4215-8e83-f3f755b81dc0",
   "metadata": {},
   "outputs": [],
   "source": [
    "ar = np.array([[[1],[2],[3]], [[2.01],[4.03],[6.04]]])\n",
    "y_train = ar[1,:]\n",
    "x_train = ar[0,:]"
   ]
  },
  {
   "cell_type": "code",
   "execution_count": 28,
   "id": "05cd7740-6f40-4ded-b8e0-d9babb5fb9c9",
   "metadata": {},
   "outputs": [
    {
     "data": {
      "text/plain": [
       "LinearRegression()"
      ]
     },
     "execution_count": 28,
     "metadata": {},
     "output_type": "execute_result"
    }
   ],
   "source": [
    "reg = linear_model.LinearRegression()\n",
    "reg.fit(x_train,y_train)"
   ]
  },
  {
   "cell_type": "code",
   "execution_count": 29,
   "id": "b75af555-83b6-49d6-a8c6-56dc11cf8685",
   "metadata": {},
   "outputs": [],
   "source": [
    "x_test = np.array([[4],[5],[6]])\n",
    "y_test =  np.array([[9],[8.5],[14]])"
   ]
  },
  {
   "cell_type": "code",
   "execution_count": 30,
   "id": "654ec1aa-00c0-41d9-8126-1662e9376a48",
   "metadata": {},
   "outputs": [],
   "source": [
    "pred_train = reg.predict(x_train)\n",
    "pred_test = reg.predict(x_test)"
   ]
  },
  {
   "cell_type": "code",
   "execution_count": 34,
   "id": "ee8a1b4c-cd21-4bba-a54f-a886cb8b8405",
   "metadata": {},
   "outputs": [
    {
     "data": {
      "image/png": "[encoded data removed]",
      "text/plain": [
       "<Figure size 432x288 with 1 Axes>"
      ]
     },
     "metadata": {
      "needs_background": "light"
     },
     "output_type": "display_data"
    }
   ],
   "source": [
    "plt.plot(x_train, y_train, 'o',x_train, pred_train, '*')\n",
    "plt.show()"
   ]
  },
  {
   "cell_type": "code",
   "execution_count": 33,
   "id": "43251f72-5117-4568-957e-a0aaa692c01f",
   "metadata": {},
   "outputs": [
    {
     "data": {
      "image/png": "[encoded data removed]",
      "text/plain": [
       "<Figure size 432x288 with 1 Axes>"
      ]
     },
     "metadata": {
      "needs_background": "light"
     },
     "output_type": "display_data"
    }
   ],
   "source": [
    "plt.plot(x_test, y_test,'o', x_test, pred_test, '*')\n",
    "plt.show()"
   ]
  },
  {
   "cell_type": "code",
   "execution_count": 35,
   "id": "a2474800-1582-44ed-9fd6-1ddd00195717",
   "metadata": {},
   "outputs": [
    {
     "name": "stdout",
     "output_type": "stream",
     "text": [
      "Coefficients: \n",
      " [[2.015]]\n",
      "R2 score : 0.62\n",
      "Mean squared error: 2.34\n"
     ]
    }
   ],
   "source": [
    "print('Coefficients: \\n', reg.coef_)\n",
    "print(\"R2 score : %.2f\" % r2_score(y_test,pred_test))\n",
    "print(\"Mean squared error: %.2f\" % mean_squared_error(y_test,pred_test))"
   ]
  },
  {
   "cell_type": "code",
   "execution_count": 36,
   "id": "ded32ef8-35fd-43c0-a843-bb9afd73afc1",
   "metadata": {},
   "outputs": [
    {
     "name": "stdout",
     "output_type": "stream",
     "text": [
      "actual= [9.]  observed= [8.05666667]\n",
      "actual= [8.5]  observed= [10.07166667]\n",
      "actual= [14.]  observed= [12.08666667]\n",
      "MSE 2.34\n",
      "variance of errors 1.29\n",
      "average of errors 2.34\n",
      "total sum of squares [18.5]\n",
      "ẗotal sum of residuals  [7.02085833]\n",
      "r2 calculated [0.62049414]\n"
     ]
    }
   ],
   "source": [
    "er = []\n",
    "g = 0\n",
    "for i in range(len(ytest)):\n",
    "    print( \"actual=\", ytest[i], \" observed=\", pred_test[i])\n",
    "    x = (ytest[i] - pred_test[i]) **2\n",
    "    er.append(x)\n",
    "    g = g + x\n",
    "\n",
    "x = 0\n",
    "for i in range(len(er)):\n",
    "    x = x + er[i]\n",
    "\n",
    "print (\"MSE {:.2f}\".format((x / len(er))[0]))\n",
    "print (\"variance of errors {:.2f}\".format(np.var(er)))\n",
    "print (\"average of errors {:.2f}\".format(np.mean(er)))\n",
    "\n",
    "y = 0\n",
    "for i in range(len(ytest)):\n",
    "    y = y + ((ytest[i] - m) ** 2)\n",
    "print (\"total sum of squares\", y)\n",
    "print (\"ẗotal sum of residuals \", g)\n",
    "print (\"r2 calculated\", 1 - (g / y))"
   ]
  },
  {
   "cell_type": "code",
   "execution_count": null,
   "id": "d0931fa4-e92f-471a-a0f4-103f863872af",
   "metadata": {},
   "outputs": [],
   "source": []
  }
 ],
 "metadata": {
  "kernelspec": {
   "display_name": "Python 3 (ipykernel)",
   "language": "python",
   "name": "python3"
  },
  "language_info": {
   "codemirror_mode": {
    "name": "ipython",
    "version": 3
   },
   "file_extension": ".py",
   "mimetype": "text/x-python",
   "name": "python",
   "nbconvert_exporter": "python",
   "pygments_lexer": "ipython3",
   "version": "3.9.12"
  }
 },
 "nbformat": 4,
 "nbformat_minor": 5
}
