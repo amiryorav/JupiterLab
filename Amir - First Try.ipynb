{
 "cells": [
  {
   "cell_type": "code",
   "execution_count": null,
   "id": "833a3d24-2f4b-496a-990f-6679132b1ce3",
   "metadata": {},
   "outputs": [],
   "source": []
  },
  {
   "cell_type": "code",
   "execution_count": 1,
   "id": "db443737",
   "metadata": {},
   "outputs": [],
   "source": [
    "%matplotlib inline\n",
    "import numpy as np, scipy as sp, matplotlib.pyplot as plt"
   ]
  },
  {
   "cell_type": "code",
   "execution_count": 2,
   "id": "b3335f20",
   "metadata": {},
   "outputs": [],
   "source": [
    "def transform_unit_square(A):\n",
    "    nxp=20\n",
    "    nxq=20\n",
    "    p = np.linspace(-1.0,1.0,nxp)\n",
    "    q = np.linspace(-1.0,1.0,nxq)\n",
    "    m=np.meshgrid(p,q)        # Create grid for plotting\n",
    "    xx=m[0]\n",
    "    yy=m[1]\n",
    "\n",
    "    # Apply transform to every point in grid.\n",
    "    for i in range(nxp):\n",
    "          for j in range(nxq):\n",
    "            x = np.array([xx[i][j], yy[i][j]])\n",
    "            y = np.dot(A,x)         \n",
    "            plt.plot(x[0], x[1], '.b', y[0], y[1], '.r')\n",
    "\n",
    "    plt.suptitle('Using the transform y=Ax on a grid of points')\n",
    "    plt.axis('equal')\n",
    "    plt.show()"
   ]
  },
  {
   "cell_type": "code",
   "execution_count": 3,
   "id": "6ec271fd",
   "metadata": {},
   "outputs": [
    {
     "name": "stdout",
     "output_type": "stream",
     "text": [
      "[[0 0 1]\n",
      " [1 1 0]\n",
      " [1 1 1]]\n",
      "int32\n",
      "6\n",
      "[2 2 2]\n",
      "[1 2 3]\n"
     ]
    }
   ],
   "source": [
    "# Specify each row of the matrix as a Python list\n",
    "A=np.array([[0,0,1],[1,1,0],[1,1,1]])\n",
    "print (A)\n",
    "print (A.dtype)\n",
    "\n",
    "print (np.sum(A))\n",
    "print (np.sum(A,axis=0))\n",
    "print (np.sum(A,axis=1))"
   ]
  },
  {
   "cell_type": "code",
   "execution_count": 4,
   "id": "4d6c6112",
   "metadata": {},
   "outputs": [
    {
     "name": "stdout",
     "output_type": "stream",
     "text": [
      "[[0. 0. 0. 0.]\n",
      " [0. 0. 0. 0.]\n",
      " [0. 0. 0. 0.]]\n"
     ]
    }
   ],
   "source": [
    "print (np.zeros((3,4)))"
   ]
  },
  {
   "cell_type": "code",
   "execution_count": 5,
   "id": "97acf3c2",
   "metadata": {},
   "outputs": [
    {
     "name": "stdout",
     "output_type": "stream",
     "text": [
      "[[1. 1. 1. 1.]\n",
      " [1. 1. 1. 1.]\n",
      " [1. 1. 1. 1.]]\n"
     ]
    }
   ],
   "source": [
    "print (np.ones((3,4)))"
   ]
  },
  {
   "cell_type": "code",
   "execution_count": 6,
   "id": "1c9cdb32",
   "metadata": {},
   "outputs": [
    {
     "name": "stdout",
     "output_type": "stream",
     "text": [
      "[1. 1. 1. 1. 1. 1. 1. 1. 1. 1.]\n",
      "Size:10\n"
     ]
    }
   ],
   "source": [
    "print (np.ones(10))\n",
    "print (\"Size:\"+ str(np.ones(10).size))"
   ]
  },
  {
   "cell_type": "code",
   "execution_count": 7,
   "id": "b4a98655",
   "metadata": {},
   "outputs": [
    {
     "name": "stdout",
     "output_type": "stream",
     "text": [
      "[[1 2 2]\n",
      " [1 0 2]\n",
      " [1 2 2]]\n"
     ]
    }
   ],
   "source": [
    "A=np.array([0,1,1,0,0,1,1,1,1]).reshape((3,3))\n",
    "B=np.array([1,1,1,1,0,1,0,1,1]).reshape((3,3))\n",
    "print (str(A + B))"
   ]
  },
  {
   "cell_type": "code",
   "execution_count": 8,
   "id": "8e420fd2",
   "metadata": {},
   "outputs": [
    {
     "name": "stdout",
     "output_type": "stream",
     "text": [
      "[[8.1 8.1 8.1]\n",
      " [8.1 8.1 8.1]]\n"
     ]
    }
   ],
   "source": [
    "a=8.1\n",
    "B=np.ones((2,3))\n",
    "print (a*B)"
   ]
  },
  {
   "cell_type": "code",
   "execution_count": 9,
   "id": "45d11560",
   "metadata": {},
   "outputs": [
    {
     "name": "stdout",
     "output_type": "stream",
     "text": [
      "[[1 2 1]\n",
      " [0 1 1]\n",
      " [0 1 1]\n",
      " [0 0 0]]\n",
      "[[2 1]\n",
      " [1 1]\n",
      " [0 0]]\n"
     ]
    }
   ],
   "source": [
    "A=np.array([1,2,1,0,1,1,0,1,1,0,0,0]).reshape(4,3)\n",
    "print (A)\n",
    "B=np.array([[2,1],[1,1],[0,0]])\n",
    "print (B)"
   ]
  },
  {
   "cell_type": "code",
   "execution_count": 10,
   "id": "e4a786a1",
   "metadata": {},
   "outputs": [
    {
     "name": "stdout",
     "output_type": "stream",
     "text": [
      "[[4 3]\n",
      " [1 1]\n",
      " [1 1]\n",
      " [0 0]]\n"
     ]
    }
   ],
   "source": [
    "print (A.dot(B) )"
   ]
  },
  {
   "cell_type": "code",
   "execution_count": 11,
   "id": "1c0f6dfb",
   "metadata": {},
   "outputs": [
    {
     "name": "stdout",
     "output_type": "stream",
     "text": [
      "Shape of A:(4, 3)\n",
      "[1 2 1]\n",
      "[0 1 1]\n",
      "[0 1 1]\n",
      "[0 0 0]\n",
      "[2 1]\n",
      "[1 1]\n",
      "[0 0]\n",
      "[4 3]\n",
      "[1 1]\n",
      "[1 1]\n",
      "[0 0]\n"
     ]
    }
   ],
   "source": [
    "print (\"Shape of A:\"+ str(A.shape))\n",
    "for i in range(A.shape[0]):\n",
    "    print ((A[i]))\n",
    "    #print (np.dot(A[i],B))\n",
    "    \n",
    "for i in range(B.shape[0]):\n",
    "    print ((B[i]))\n",
    "    \n",
    "for i in range(A.shape[0]):\n",
    "    print (np.dot(A[i],B))    "
   ]
  },
  {
   "cell_type": "code",
   "execution_count": 12,
   "id": "ae376c1d",
   "metadata": {},
   "outputs": [
    {
     "name": "stdout",
     "output_type": "stream",
     "text": [
      "[[1 2 1]\n",
      " [0 1 1]\n",
      " [0 1 1]\n",
      " [0 0 0]]\n",
      "[[1 0 0 0]\n",
      " [2 1 1 0]\n",
      " [1 1 1 0]]\n"
     ]
    }
   ],
   "source": [
    "print (A)\n",
    "print (np.transpose(A))"
   ]
  },
  {
   "cell_type": "code",
   "execution_count": 13,
   "id": "416b88c1",
   "metadata": {},
   "outputs": [
    {
     "data": {
      "text/html": [
       "<img src=\"http://upload.wikimedia.org/wikipedia/commons/a/ad/Area_parallellogram_as_determinant.svg\" width=\"350\"/>"
      ],
      "text/plain": [
       "<IPython.core.display.Image object>"
      ]
     },
     "execution_count": 13,
     "metadata": {},
     "output_type": "execute_result"
    }
   ],
   "source": [
    "from IPython.display import Image\n",
    "Image(url='http://upload.wikimedia.org/wikipedia/commons/a/ad/Area_parallellogram_as_determinant.svg',width=350)"
   ]
  },
  {
   "cell_type": "code",
   "execution_count": 14,
   "id": "e73f5bb6",
   "metadata": {},
   "outputs": [
    {
     "name": "stdout",
     "output_type": "stream",
     "text": [
      "[3 2]\n"
     ]
    }
   ],
   "source": [
    "Ex=np.array([[1,1],[2,1]])\n",
    "print (np.dot([1,1],Ex)) # [1+2,1+1]"
   ]
  },
  {
   "cell_type": "code",
   "execution_count": 15,
   "id": "90a7147b",
   "metadata": {},
   "outputs": [],
   "source": [
    "def transform_unit_square(A):\n",
    "    nxp=20\n",
    "    nxq=20\n",
    "    p = np.linspace(-1.0,1.0,nxp)\n",
    "    q = np.linspace(-1.0,1.0,nxq)\n",
    "    m=np.meshgrid(p,q)        # Create grid for plotting\n",
    "    xx=m[0]\n",
    "    yy=m[1]\n",
    "\n",
    "    # Apply transform to every point in grid.\n",
    "    for i in range(nxp):\n",
    "          for j in range(nxq):\n",
    "            x = np.array([xx[i][j], yy[i][j]])\n",
    "            y = np.dot(A,x)         \n",
    "            plt.plot(x[0], x[1], '.b', y[0], y[1], '.r')\n",
    "\n",
    "    plt.suptitle('Using the transform y=Ax on a grid of points')\n",
    "    plt.axis('equal')\n",
    "    plt.show()"
   ]
  },
  {
   "cell_type": "code",
   "execution_count": 16,
   "id": "905d8c12",
   "metadata": {},
   "outputs": [
    {
     "data": {
      "image/png": "[encoded data removed]",
      "text/plain": [
       "<Figure size 432x288 with 1 Axes>"
      ]
     },
     "metadata": {
      "needs_background": "light"
     },
     "output_type": "display_data"
    }
   ],
   "source": [
    "transform_unit_square(Ex)"
   ]
  },
  {
   "cell_type": "code",
   "execution_count": 17,
   "id": "5703ea9d",
   "metadata": {},
   "outputs": [
    {
     "data": {
      "image/png": "[encoded data removed]",
      "text/plain": [
       "<Figure size 432x288 with 1 Axes>"
      ]
     },
     "metadata": {
      "needs_background": "light"
     },
     "output_type": "display_data"
    }
   ],
   "source": [
    "def transform_unit_circle(A):\n",
    "    nrp=50\n",
    "    t = np.linspace(0,np.pi*2,nrp)\n",
    "\n",
    "    p = np.linspace(-1.0,1.0,nrp)\n",
    "    for i in range(100):\n",
    "        x=[np.cos(t),np.sin(t)]\n",
    "        y=np.dot(A,x)\n",
    "        plt.plot(x[0], x[1], '.b', y[0], y[1], '.r')\n",
    "    \n",
    "    plt.suptitle('Using the transform y=Ax on the unit circle')\n",
    "    plt.axis('equal')\n",
    "    plt.show()\n",
    "\n",
    "transform_unit_circle(Ex)"
   ]
  },
  {
   "cell_type": "code",
   "execution_count": 22,
   "id": "ce9ac97c",
   "metadata": {},
   "outputs": [
    {
     "data": {
      "image/png": "[encoded data removed]",
      "text/plain": [
       "<Figure size 432x288 with 1 Axes>"
      ]
     },
     "metadata": {
      "needs_background": "light"
     },
     "output_type": "display_data"
    },
    {
     "data": {
      "image/png": "[encoded data removed]",
      "text/plain": [
       "<Figure size 432x288 with 1 Axes>"
      ]
     },
     "metadata": {
      "needs_background": "light"
     },
     "output_type": "display_data"
    }
   ],
   "source": [
    "transform_unit_square([[1,1],[1,1]])\n",
    "transform_unit_circle([[1,1],[1,1]])"
   ]
  },
  {
   "cell_type": "markdown",
   "id": "19f6f6da",
   "metadata": {},
   "source": [
    "$ \\lVert x \\rVert _2 = \\sqrt{\\sum_{i=1}^n{x_i^2}}$"
   ]
  },
  {
   "cell_type": "code",
   "execution_count": null,
   "id": "54333714",
   "metadata": {},
   "outputs": [],
   "source": [
    "%matplotlib inline\n",
    "from matplotlib import pyplot as plt\n",
    "\n",
    "# Get the extremes for number of chips\n",
    "chipsAll10s = [16, 0]\n",
    "chipsAll25s = [0, 16]\n",
    "\n",
    "# Get the extremes for values\n",
    "valueAll10s = [25,0]\n",
    "valueAll25s = [0,10]\n",
    "\n",
    "# Plot the lines\n",
    "plt.plot(chipsAll10s,chipsAll25s, color='blue')\n",
    "plt.plot(valueAll10s, valueAll25s, color=\"orange\")\n",
    "plt.xlabel('x (£10 chips)')\n",
    "plt.ylabel('y (£25 chips)')\n",
    "plt.grid()\n",
    "\n",
    "plt.show()"
   ]
  }
 ],
 "metadata": {
  "kernelspec": {
   "display_name": "Python 3 (ipykernel)",
   "language": "python",
   "name": "python3"
  },
  "language_info": {
   "codemirror_mode": {
    "name": "ipython",
    "version": 3
   },
   "file_extension": ".py",
   "mimetype": "text/x-python",
   "name": "python",
   "nbconvert_exporter": "python",
   "pygments_lexer": "ipython3",
   "version": "3.9.12"
  },
  "toc-autonumbering": false,
  "toc-showcode": false,
  "toc-showmarkdowntxt": true,
  "toc-showtags": false
 },
 "nbformat": 4,
 "nbformat_minor": 5
}
