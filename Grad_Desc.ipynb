{
 "cells": [
  {
   "cell_type": "code",
   "execution_count": 3,
   "id": "ab65e31e-465d-455e-ad14-adfe05b91a9e",
   "metadata": {},
   "outputs": [],
   "source": [
    "import numpy as np, scipy as sp, matplotlib.pyplot as plt\n",
    "import random"
   ]
  },
  {
   "cell_type": "code",
   "execution_count": 4,
   "id": "34993a7f-2fa0-4409-a6aa-d82852c164d0",
   "metadata": {},
   "outputs": [
    {
     "data": {
      "image/png": "[encoded data removed]",
      "text/plain": [
       "<Figure size 432x288 with 1 Axes>"
      ]
     },
     "metadata": {
      "needs_background": "light"
     },
     "output_type": "display_data"
    }
   ],
   "source": [
    "X = np.linspace(0,10,10)\n",
    "\n",
    "for i in range 10\n",
    "Y = X + random.uniform(-0.5, 0.5)\n",
    "\n",
    "plt.plot(X, Y, '.b')\n",
    "plt.axis('equal')\n",
    "plt.show()"
   ]
  },
  {
   "cell_type": "code",
   "execution_count": null,
   "id": "e85403df-83aa-45d8-a420-bf4b5687a08a",
   "metadata": {},
   "outputs": [],
   "source": []
  }
 ],
 "metadata": {
  "kernelspec": {
   "display_name": "Python 3 (ipykernel)",
   "language": "python",
   "name": "python3"
  },
  "language_info": {
   "codemirror_mode": {
    "name": "ipython",
    "version": 3
   },
   "file_extension": ".py",
   "mimetype": "text/x-python",
   "name": "python",
   "nbconvert_exporter": "python",
   "pygments_lexer": "ipython3",
   "version": "3.9.12"
  }
 },
 "nbformat": 4,
 "nbformat_minor": 5
}
